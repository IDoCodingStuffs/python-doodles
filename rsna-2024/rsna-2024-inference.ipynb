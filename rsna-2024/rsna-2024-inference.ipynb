{
 "cells": [
  {
   "metadata": {
    "ExecuteTime": {
     "end_time": "2024-06-17T16:59:42.137252Z",
     "start_time": "2024-06-17T16:59:38.384966Z"
    }
   },
   "cell_type": "code",
   "source": [
    "import time\n",
    "\n",
    "import matplotlib.pyplot as plt\n",
    "import torch\n",
    "import torch.nn as nn\n",
    "import torchvision.models as models\n",
    "from torchvision import transforms\n",
    "from torchvision.transforms import v2\n",
    "from torch.utils.data import DataLoader\n",
    "from sklearn.model_selection import train_test_split\n",
    "from sklearn.metrics import confusion_matrix\n",
    "import pandas as pd\n",
    "from tqdm import tqdm\n",
    "import logging\n",
    "import seaborn as sn\n",
    "\n",
    "from rsna_dataloader import *\n"
   ],
   "id": "86f01bab9611e788",
   "outputs": [],
   "execution_count": 1
  },
  {
   "metadata": {
    "ExecuteTime": {
     "end_time": "2024-06-17T16:59:42.146608Z",
     "start_time": "2024-06-17T16:59:42.138259Z"
    }
   },
   "cell_type": "code",
   "source": [
    "class CustomResNet(nn.Module):\n",
    "    def __init__(self, out_features=512, pretrained_weights=None):\n",
    "        super(CustomResNet, self).__init__()\n",
    "        self.model = models.resnet18(weights=models.ResNet18_Weights.DEFAULT)\n",
    "        if pretrained_weights:\n",
    "            self.model.load_state_dict(torch.load(pretrained_weights))\n",
    "        num_ftrs = self.model.fc.in_features\n",
    "        self.model.fc = nn.Linear(in_features=num_ftrs, out_features=out_features)\n",
    "\n",
    "    def forward(self, x):\n",
    "        return self.model(x)\n",
    "\n",
    "\n",
    "class CustomLSTM(nn.Module):\n",
    "    hidden_size = 256\n",
    "    num_layers = 2\n",
    "\n",
    "    def __init__(self, num_classes=5, drop_rate=0.2, resnet_weights=None):\n",
    "        super(CustomLSTM, self).__init__()\n",
    "        self.cnn = CustomResNet(pretrained_weights=resnet_weights)\n",
    "        self.lstm = nn.LSTM(input_size=512, hidden_size=self.hidden_size, num_layers=self.num_layers, batch_first=True, bidirectional=True)\n",
    "        self.head = nn.Sequential(\n",
    "            nn.Linear(256, 128),\n",
    "            # nn.BatchNorm1d(256),\n",
    "            nn.Dropout(drop_rate),\n",
    "            nn.LeakyReLU(0.1),\n",
    "            nn.Linear(128, num_classes),\n",
    "        )\n",
    "    def forward(self, x_3d):\n",
    "        hidden = None\n",
    "\n",
    "        # Iterate over each frame of a video in a video of batch * frames * channels * height * width\n",
    "        for t in range(x_3d.size(1)):\n",
    "            x = self.cnn(x_3d[:, t])\n",
    "            # Pass latent representation of frame through lstm and update hidden state\n",
    "            out, hidden = self.lstm(x.unsqueeze(0), hidden)\n",
    "\n",
    "            # Get the last hidden state (hidden is a tuple with both hidden and cell state in it)\n",
    "        x = self.head(hidden[0][-1])\n",
    "\n",
    "        return x\n"
   ],
   "id": "87ec21f781d15dfa",
   "outputs": [],
   "execution_count": 2
  },
  {
   "metadata": {
    "ExecuteTime": {
     "end_time": "2024-06-17T16:59:42.454Z",
     "start_time": "2024-06-17T16:59:42.147619Z"
    }
   },
   "cell_type": "code",
   "source": "model = torch.load(\"../models/resnet18_lstm_t2stir.pt\")",
   "id": "3b6810f7fbc79359",
   "outputs": [],
   "execution_count": 3
  },
  {
   "metadata": {
    "ExecuteTime": {
     "end_time": "2024-06-17T16:59:42.459337Z",
     "start_time": "2024-06-17T16:59:42.455007Z"
    }
   },
   "cell_type": "code",
   "source": [
    "transform_val = transforms.Compose([\n",
    "    transforms.Lambda(lambda x: (x * 255).astype(np.uint8)),  # Convert back to uint8 for PIL\n",
    "    transforms.ToPILImage(),\n",
    "    transforms.Resize((224, 224)),\n",
    "    transforms.Grayscale(num_output_channels=3),\n",
    "    transforms.ToTensor(),\n",
    "])"
   ],
   "id": "479174f3c0cd8f11",
   "outputs": [],
   "execution_count": 4
  },
  {
   "metadata": {
    "ExecuteTime": {
     "end_time": "2024-06-17T17:00:32.822961Z",
     "start_time": "2024-06-17T17:00:31.708587Z"
    }
   },
   "cell_type": "code",
   "source": [
    "data_basepath = \"../data/rsna-2024-lumbar-spine-degenerative-classification/\"\n",
    "training_data = retrieve_training_data(data_basepath)"
   ],
   "id": "cd57daab1829b51f",
   "outputs": [],
   "execution_count": 5
  },
  {
   "metadata": {
    "ExecuteTime": {
     "end_time": "2024-06-17T17:01:13.831245Z",
     "start_time": "2024-06-17T17:01:13.249693Z"
    }
   },
   "cell_type": "code",
   "source": "test_loader = create_series_level_test_datasets_and_loaders(training_data, \"Sagittal T2/STIR\", transform_val, data_basepath + \"train_images\")",
   "id": "b030f04198ee87d5",
   "outputs": [],
   "execution_count": 6
  },
  {
   "metadata": {
    "ExecuteTime": {
     "end_time": "2024-06-17T17:02:05.316818Z",
     "start_time": "2024-06-17T17:02:05.312492Z"
    }
   },
   "cell_type": "code",
   "source": [
    "label_map = {'normal_mild': 0, 'moderate': 1, 'severe': 2}\n",
    "def get_output_class(val):\n",
    "    if val <= 0.33:\n",
    "        return 0\n",
    "    elif val <= 0.66:\n",
    "        return 1\n",
    "    else:\n",
    "        return 2"
   ],
   "id": "84d76fc03da77b18",
   "outputs": [],
   "execution_count": 9
  },
  {
   "metadata": {
    "ExecuteTime": {
     "end_time": "2024-06-17T17:03:29.904627Z",
     "start_time": "2024-06-17T17:03:29.820491Z"
    }
   },
   "cell_type": "code",
   "source": [
    "device = torch.device(\"cuda\" if torch.cuda.is_available() else \"cpu\")\n",
    "model.to(device)"
   ],
   "id": "f8d245a818a4050",
   "outputs": [
    {
     "data": {
      "text/plain": [
       "CustomLSTM(\n",
       "  (cnn): CustomResNet(\n",
       "    (model): ResNet(\n",
       "      (conv1): Conv2d(3, 64, kernel_size=(7, 7), stride=(2, 2), padding=(3, 3), bias=False)\n",
       "      (bn1): BatchNorm2d(64, eps=1e-05, momentum=0.1, affine=True, track_running_stats=True)\n",
       "      (relu): ReLU(inplace=True)\n",
       "      (maxpool): MaxPool2d(kernel_size=3, stride=2, padding=1, dilation=1, ceil_mode=False)\n",
       "      (layer1): Sequential(\n",
       "        (0): BasicBlock(\n",
       "          (conv1): Conv2d(64, 64, kernel_size=(3, 3), stride=(1, 1), padding=(1, 1), bias=False)\n",
       "          (bn1): BatchNorm2d(64, eps=1e-05, momentum=0.1, affine=True, track_running_stats=True)\n",
       "          (relu): ReLU(inplace=True)\n",
       "          (conv2): Conv2d(64, 64, kernel_size=(3, 3), stride=(1, 1), padding=(1, 1), bias=False)\n",
       "          (bn2): BatchNorm2d(64, eps=1e-05, momentum=0.1, affine=True, track_running_stats=True)\n",
       "        )\n",
       "        (1): BasicBlock(\n",
       "          (conv1): Conv2d(64, 64, kernel_size=(3, 3), stride=(1, 1), padding=(1, 1), bias=False)\n",
       "          (bn1): BatchNorm2d(64, eps=1e-05, momentum=0.1, affine=True, track_running_stats=True)\n",
       "          (relu): ReLU(inplace=True)\n",
       "          (conv2): Conv2d(64, 64, kernel_size=(3, 3), stride=(1, 1), padding=(1, 1), bias=False)\n",
       "          (bn2): BatchNorm2d(64, eps=1e-05, momentum=0.1, affine=True, track_running_stats=True)\n",
       "        )\n",
       "      )\n",
       "      (layer2): Sequential(\n",
       "        (0): BasicBlock(\n",
       "          (conv1): Conv2d(64, 128, kernel_size=(3, 3), stride=(2, 2), padding=(1, 1), bias=False)\n",
       "          (bn1): BatchNorm2d(128, eps=1e-05, momentum=0.1, affine=True, track_running_stats=True)\n",
       "          (relu): ReLU(inplace=True)\n",
       "          (conv2): Conv2d(128, 128, kernel_size=(3, 3), stride=(1, 1), padding=(1, 1), bias=False)\n",
       "          (bn2): BatchNorm2d(128, eps=1e-05, momentum=0.1, affine=True, track_running_stats=True)\n",
       "          (downsample): Sequential(\n",
       "            (0): Conv2d(64, 128, kernel_size=(1, 1), stride=(2, 2), bias=False)\n",
       "            (1): BatchNorm2d(128, eps=1e-05, momentum=0.1, affine=True, track_running_stats=True)\n",
       "          )\n",
       "        )\n",
       "        (1): BasicBlock(\n",
       "          (conv1): Conv2d(128, 128, kernel_size=(3, 3), stride=(1, 1), padding=(1, 1), bias=False)\n",
       "          (bn1): BatchNorm2d(128, eps=1e-05, momentum=0.1, affine=True, track_running_stats=True)\n",
       "          (relu): ReLU(inplace=True)\n",
       "          (conv2): Conv2d(128, 128, kernel_size=(3, 3), stride=(1, 1), padding=(1, 1), bias=False)\n",
       "          (bn2): BatchNorm2d(128, eps=1e-05, momentum=0.1, affine=True, track_running_stats=True)\n",
       "        )\n",
       "      )\n",
       "      (layer3): Sequential(\n",
       "        (0): BasicBlock(\n",
       "          (conv1): Conv2d(128, 256, kernel_size=(3, 3), stride=(2, 2), padding=(1, 1), bias=False)\n",
       "          (bn1): BatchNorm2d(256, eps=1e-05, momentum=0.1, affine=True, track_running_stats=True)\n",
       "          (relu): ReLU(inplace=True)\n",
       "          (conv2): Conv2d(256, 256, kernel_size=(3, 3), stride=(1, 1), padding=(1, 1), bias=False)\n",
       "          (bn2): BatchNorm2d(256, eps=1e-05, momentum=0.1, affine=True, track_running_stats=True)\n",
       "          (downsample): Sequential(\n",
       "            (0): Conv2d(128, 256, kernel_size=(1, 1), stride=(2, 2), bias=False)\n",
       "            (1): BatchNorm2d(256, eps=1e-05, momentum=0.1, affine=True, track_running_stats=True)\n",
       "          )\n",
       "        )\n",
       "        (1): BasicBlock(\n",
       "          (conv1): Conv2d(256, 256, kernel_size=(3, 3), stride=(1, 1), padding=(1, 1), bias=False)\n",
       "          (bn1): BatchNorm2d(256, eps=1e-05, momentum=0.1, affine=True, track_running_stats=True)\n",
       "          (relu): ReLU(inplace=True)\n",
       "          (conv2): Conv2d(256, 256, kernel_size=(3, 3), stride=(1, 1), padding=(1, 1), bias=False)\n",
       "          (bn2): BatchNorm2d(256, eps=1e-05, momentum=0.1, affine=True, track_running_stats=True)\n",
       "        )\n",
       "      )\n",
       "      (layer4): Sequential(\n",
       "        (0): BasicBlock(\n",
       "          (conv1): Conv2d(256, 512, kernel_size=(3, 3), stride=(2, 2), padding=(1, 1), bias=False)\n",
       "          (bn1): BatchNorm2d(512, eps=1e-05, momentum=0.1, affine=True, track_running_stats=True)\n",
       "          (relu): ReLU(inplace=True)\n",
       "          (conv2): Conv2d(512, 512, kernel_size=(3, 3), stride=(1, 1), padding=(1, 1), bias=False)\n",
       "          (bn2): BatchNorm2d(512, eps=1e-05, momentum=0.1, affine=True, track_running_stats=True)\n",
       "          (downsample): Sequential(\n",
       "            (0): Conv2d(256, 512, kernel_size=(1, 1), stride=(2, 2), bias=False)\n",
       "            (1): BatchNorm2d(512, eps=1e-05, momentum=0.1, affine=True, track_running_stats=True)\n",
       "          )\n",
       "        )\n",
       "        (1): BasicBlock(\n",
       "          (conv1): Conv2d(512, 512, kernel_size=(3, 3), stride=(1, 1), padding=(1, 1), bias=False)\n",
       "          (bn1): BatchNorm2d(512, eps=1e-05, momentum=0.1, affine=True, track_running_stats=True)\n",
       "          (relu): ReLU(inplace=True)\n",
       "          (conv2): Conv2d(512, 512, kernel_size=(3, 3), stride=(1, 1), padding=(1, 1), bias=False)\n",
       "          (bn2): BatchNorm2d(512, eps=1e-05, momentum=0.1, affine=True, track_running_stats=True)\n",
       "        )\n",
       "      )\n",
       "      (avgpool): AdaptiveAvgPool2d(output_size=(1, 1))\n",
       "      (fc): Linear(in_features=512, out_features=512, bias=True)\n",
       "    )\n",
       "  )\n",
       "  (lstm): LSTM(512, 256, num_layers=2, batch_first=True, bidirectional=True)\n",
       "  (head): Sequential(\n",
       "    (0): Linear(in_features=256, out_features=128, bias=True)\n",
       "    (1): Dropout(p=0.2, inplace=False)\n",
       "    (2): LeakyReLU(negative_slope=0.1)\n",
       "    (3): Linear(in_features=128, out_features=5, bias=True)\n",
       "  )\n",
       ")"
      ]
     },
     "execution_count": 10,
     "metadata": {},
     "output_type": "execute_result"
    }
   ],
   "execution_count": 10
  },
  {
   "metadata": {
    "ExecuteTime": {
     "end_time": "2024-06-17T17:35:07.122467Z",
     "start_time": "2024-06-17T17:17:36.594673Z"
    }
   },
   "cell_type": "code",
   "source": [
    "preds = []\n",
    "for image, label in tqdm(test_loader):\n",
    "    image = image.to(device)\n",
    "    preds.append((model(image).detach().cpu().numpy(), label.numpy()))"
   ],
   "id": "9658c61197216c3",
   "outputs": [
    {
     "name": "stderr",
     "output_type": "stream",
     "text": [
      "100%|██████████| 1973/1973 [17:30<00:00,  1.88it/s]\n"
     ]
    }
   ],
   "execution_count": 50
  },
  {
   "metadata": {
    "ExecuteTime": {
     "end_time": "2024-06-17T17:35:07.130256Z",
     "start_time": "2024-06-17T17:35:07.125472Z"
    }
   },
   "cell_type": "code",
   "source": [
    "def scores_to_classes(arr):\n",
    "    return [get_output_class(e) for e in arr]"
   ],
   "id": "c3b284d1e9e1d0a0",
   "outputs": [],
   "execution_count": 51
  },
  {
   "metadata": {
    "ExecuteTime": {
     "end_time": "2024-06-17T17:35:07.180785Z",
     "start_time": "2024-06-17T17:35:07.132261Z"
    }
   },
   "cell_type": "code",
   "source": "pred_classes = [(scores_to_classes(e[0][0]), scores_to_classes(e[1][0])) for e in preds]",
   "id": "40bc07ba792bc59b",
   "outputs": [],
   "execution_count": 52
  },
  {
   "metadata": {
    "ExecuteTime": {
     "end_time": "2024-06-17T17:35:07.187977Z",
     "start_time": "2024-06-17T17:35:07.182791Z"
    }
   },
   "cell_type": "code",
   "source": [
    "pred_classes_0 = [e[0][0] for e in pred_classes]\n",
    "pred_classes_0_ = [e[1][0] for e in pred_classes]"
   ],
   "id": "306d3f738316bf58",
   "outputs": [],
   "execution_count": 53
  },
  {
   "metadata": {
    "ExecuteTime": {
     "end_time": "2024-06-17T17:35:07.526541Z",
     "start_time": "2024-06-17T17:35:07.232561Z"
    }
   },
   "cell_type": "code",
   "source": [
    "cf_matrix = confusion_matrix(pred_classes_0, pred_classes_0_)\n",
    "df_cm = pd.DataFrame(cf_matrix)\n",
    "plt.figure(figsize=(12, 7))\n",
    "sn.heatmap(df_cm, annot=True)\n",
    "plt.show()\n"
   ],
   "id": "ecd41874315f7e19",
   "outputs": [
    {
     "data": {
      "text/plain": [
       "<Figure size 1200x700 with 2 Axes>"
      ],
      "image/png": "[encoded data removed]"
     },
     "metadata": {},
     "output_type": "display_data"
    }
   ],
   "execution_count": 55
  },
  {
   "metadata": {
    "ExecuteTime": {
     "end_time": "2024-06-17T17:42:11.683496Z",
     "start_time": "2024-06-17T17:42:11.660441Z"
    }
   },
   "cell_type": "code",
   "source": "training_data",
   "id": "a1b3650bfe7fca9b",
   "outputs": [
    {
     "data": {
      "text/plain": [
       "         study_id                    condition  level     severity  \\\n",
       "0         4003253        Spinal Canal Stenosis  L1/L2  normal_mild   \n",
       "1         4003253        Spinal Canal Stenosis  L2/L3  normal_mild   \n",
       "2         4003253        Spinal Canal Stenosis  L3/L4  normal_mild   \n",
       "3         4003253        Spinal Canal Stenosis  L4/L5  normal_mild   \n",
       "4         4003253        Spinal Canal Stenosis  L5/S1  normal_mild   \n",
       "...           ...                          ...    ...          ...   \n",
       "48687  4290709089  Right Subarticular Stenosis  L1/L2  normal_mild   \n",
       "48688  4290709089  Right Subarticular Stenosis  L2/L3  normal_mild   \n",
       "48689  4290709089  Right Subarticular Stenosis  L3/L4  normal_mild   \n",
       "48690  4290709089  Right Subarticular Stenosis  L4/L5  normal_mild   \n",
       "48691  4290709089  Right Subarticular Stenosis  L5/S1  normal_mild   \n",
       "\n",
       "        series_id  instance_number           x           y series_description  \\\n",
       "0       702807833                8  322.831858  227.964602   Sagittal T2/STIR   \n",
       "1       702807833                8  320.571429  295.714286   Sagittal T2/STIR   \n",
       "2       702807833                8  323.030303  371.818182   Sagittal T2/STIR   \n",
       "3       702807833                8  335.292035  427.327434   Sagittal T2/STIR   \n",
       "4       702807833                8  353.415929  483.964602   Sagittal T2/STIR   \n",
       "...           ...              ...         ...         ...                ...   \n",
       "48687  3390218084                2  307.180844  354.869960           Axial T2   \n",
       "48688  3390218084                6  301.440933  362.044847           Axial T2   \n",
       "48689  3390218084               10  302.875911  356.304937           Axial T2   \n",
       "48690  3390218084               15  305.745866  340.520184           Axial T2   \n",
       "48691  3390218084               21  302.875911  364.627811           Axial T2   \n",
       "\n",
       "                                             row_id  \\\n",
       "0               4003253_spinal_canal_stenosis_l1_l2   \n",
       "1               4003253_spinal_canal_stenosis_l2_l3   \n",
       "2               4003253_spinal_canal_stenosis_l3_l4   \n",
       "3               4003253_spinal_canal_stenosis_l4_l5   \n",
       "4               4003253_spinal_canal_stenosis_l5_s1   \n",
       "...                                             ...   \n",
       "48687  4290709089_right_subarticular_stenosis_l1_l2   \n",
       "48688  4290709089_right_subarticular_stenosis_l2_l3   \n",
       "48689  4290709089_right_subarticular_stenosis_l3_l4   \n",
       "48690  4290709089_right_subarticular_stenosis_l4_l5   \n",
       "48691  4290709089_right_subarticular_stenosis_l5_s1   \n",
       "\n",
       "                                              image_path  \n",
       "0      ../data/rsna-2024-lumbar-spine-degenerative-cl...  \n",
       "1      ../data/rsna-2024-lumbar-spine-degenerative-cl...  \n",
       "2      ../data/rsna-2024-lumbar-spine-degenerative-cl...  \n",
       "3      ../data/rsna-2024-lumbar-spine-degenerative-cl...  \n",
       "4      ../data/rsna-2024-lumbar-spine-degenerative-cl...  \n",
       "...                                                  ...  \n",
       "48687  ../data/rsna-2024-lumbar-spine-degenerative-cl...  \n",
       "48688  ../data/rsna-2024-lumbar-spine-degenerative-cl...  \n",
       "48689  ../data/rsna-2024-lumbar-spine-degenerative-cl...  \n",
       "48690  ../data/rsna-2024-lumbar-spine-degenerative-cl...  \n",
       "48691  ../data/rsna-2024-lumbar-spine-degenerative-cl...  \n",
       "\n",
       "[48692 rows x 11 columns]"
      ],
      "text/html": [
       "<div>\n",
       "<style scoped>\n",
       "    .dataframe tbody tr th:only-of-type {\n",
       "        vertical-align: middle;\n",
       "    }\n",
       "\n",
       "    .dataframe tbody tr th {\n",
       "        vertical-align: top;\n",
       "    }\n",
       "\n",
       "    .dataframe thead th {\n",
       "        text-align: right;\n",
       "    }\n",
       "</style>\n",
       "<table border=\"1\" class=\"dataframe\">\n",
       "  <thead>\n",
       "    <tr style=\"text-align: right;\">\n",
       "      <th></th>\n",
       "      <th>study_id</th>\n",
       "      <th>condition</th>\n",
       "      <th>level</th>\n",
       "      <th>severity</th>\n",
       "      <th>series_id</th>\n",
       "      <th>instance_number</th>\n",
       "      <th>x</th>\n",
       "      <th>y</th>\n",
       "      <th>series_description</th>\n",
       "      <th>row_id</th>\n",
       "      <th>image_path</th>\n",
       "    </tr>\n",
       "  </thead>\n",
       "  <tbody>\n",
       "    <tr>\n",
       "      <th>0</th>\n",
       "      <td>4003253</td>\n",
       "      <td>Spinal Canal Stenosis</td>\n",
       "      <td>L1/L2</td>\n",
       "      <td>normal_mild</td>\n",
       "      <td>702807833</td>\n",
       "      <td>8</td>\n",
       "      <td>322.831858</td>\n",
       "      <td>227.964602</td>\n",
       "      <td>Sagittal T2/STIR</td>\n",
       "      <td>4003253_spinal_canal_stenosis_l1_l2</td>\n",
       "      <td>../data/rsna-2024-lumbar-spine-degenerative-cl...</td>\n",
       "    </tr>\n",
       "    <tr>\n",
       "      <th>1</th>\n",
       "      <td>4003253</td>\n",
       "      <td>Spinal Canal Stenosis</td>\n",
       "      <td>L2/L3</td>\n",
       "      <td>normal_mild</td>\n",
       "      <td>702807833</td>\n",
       "      <td>8</td>\n",
       "      <td>320.571429</td>\n",
       "      <td>295.714286</td>\n",
       "      <td>Sagittal T2/STIR</td>\n",
       "      <td>4003253_spinal_canal_stenosis_l2_l3</td>\n",
       "      <td>../data/rsna-2024-lumbar-spine-degenerative-cl...</td>\n",
       "    </tr>\n",
       "    <tr>\n",
       "      <th>2</th>\n",
       "      <td>4003253</td>\n",
       "      <td>Spinal Canal Stenosis</td>\n",
       "      <td>L3/L4</td>\n",
       "      <td>normal_mild</td>\n",
       "      <td>702807833</td>\n",
       "      <td>8</td>\n",
       "      <td>323.030303</td>\n",
       "      <td>371.818182</td>\n",
       "      <td>Sagittal T2/STIR</td>\n",
       "      <td>4003253_spinal_canal_stenosis_l3_l4</td>\n",
       "      <td>../data/rsna-2024-lumbar-spine-degenerative-cl...</td>\n",
       "    </tr>\n",
       "    <tr>\n",
       "      <th>3</th>\n",
       "      <td>4003253</td>\n",
       "      <td>Spinal Canal Stenosis</td>\n",
       "      <td>L4/L5</td>\n",
       "      <td>normal_mild</td>\n",
       "      <td>702807833</td>\n",
       "      <td>8</td>\n",
       "      <td>335.292035</td>\n",
       "      <td>427.327434</td>\n",
       "      <td>Sagittal T2/STIR</td>\n",
       "      <td>4003253_spinal_canal_stenosis_l4_l5</td>\n",
       "      <td>../data/rsna-2024-lumbar-spine-degenerative-cl...</td>\n",
       "    </tr>\n",
       "    <tr>\n",
       "      <th>4</th>\n",
       "      <td>4003253</td>\n",
       "      <td>Spinal Canal Stenosis</td>\n",
       "      <td>L5/S1</td>\n",
       "      <td>normal_mild</td>\n",
       "      <td>702807833</td>\n",
       "      <td>8</td>\n",
       "      <td>353.415929</td>\n",
       "      <td>483.964602</td>\n",
       "      <td>Sagittal T2/STIR</td>\n",
       "      <td>4003253_spinal_canal_stenosis_l5_s1</td>\n",
       "      <td>../data/rsna-2024-lumbar-spine-degenerative-cl...</td>\n",
       "    </tr>\n",
       "    <tr>\n",
       "      <th>...</th>\n",
       "      <td>...</td>\n",
       "      <td>...</td>\n",
       "      <td>...</td>\n",
       "      <td>...</td>\n",
       "      <td>...</td>\n",
       "      <td>...</td>\n",
       "      <td>...</td>\n",
       "      <td>...</td>\n",
       "      <td>...</td>\n",
       "      <td>...</td>\n",
       "      <td>...</td>\n",
       "    </tr>\n",
       "    <tr>\n",
       "      <th>48687</th>\n",
       "      <td>4290709089</td>\n",
       "      <td>Right Subarticular Stenosis</td>\n",
       "      <td>L1/L2</td>\n",
       "      <td>normal_mild</td>\n",
       "      <td>3390218084</td>\n",
       "      <td>2</td>\n",
       "      <td>307.180844</td>\n",
       "      <td>354.869960</td>\n",
       "      <td>Axial T2</td>\n",
       "      <td>4290709089_right_subarticular_stenosis_l1_l2</td>\n",
       "      <td>../data/rsna-2024-lumbar-spine-degenerative-cl...</td>\n",
       "    </tr>\n",
       "    <tr>\n",
       "      <th>48688</th>\n",
       "      <td>4290709089</td>\n",
       "      <td>Right Subarticular Stenosis</td>\n",
       "      <td>L2/L3</td>\n",
       "      <td>normal_mild</td>\n",
       "      <td>3390218084</td>\n",
       "      <td>6</td>\n",
       "      <td>301.440933</td>\n",
       "      <td>362.044847</td>\n",
       "      <td>Axial T2</td>\n",
       "      <td>4290709089_right_subarticular_stenosis_l2_l3</td>\n",
       "      <td>../data/rsna-2024-lumbar-spine-degenerative-cl...</td>\n",
       "    </tr>\n",
       "    <tr>\n",
       "      <th>48689</th>\n",
       "      <td>4290709089</td>\n",
       "      <td>Right Subarticular Stenosis</td>\n",
       "      <td>L3/L4</td>\n",
       "      <td>normal_mild</td>\n",
       "      <td>3390218084</td>\n",
       "      <td>10</td>\n",
       "      <td>302.875911</td>\n",
       "      <td>356.304937</td>\n",
       "      <td>Axial T2</td>\n",
       "      <td>4290709089_right_subarticular_stenosis_l3_l4</td>\n",
       "      <td>../data/rsna-2024-lumbar-spine-degenerative-cl...</td>\n",
       "    </tr>\n",
       "    <tr>\n",
       "      <th>48690</th>\n",
       "      <td>4290709089</td>\n",
       "      <td>Right Subarticular Stenosis</td>\n",
       "      <td>L4/L5</td>\n",
       "      <td>normal_mild</td>\n",
       "      <td>3390218084</td>\n",
       "      <td>15</td>\n",
       "      <td>305.745866</td>\n",
       "      <td>340.520184</td>\n",
       "      <td>Axial T2</td>\n",
       "      <td>4290709089_right_subarticular_stenosis_l4_l5</td>\n",
       "      <td>../data/rsna-2024-lumbar-spine-degenerative-cl...</td>\n",
       "    </tr>\n",
       "    <tr>\n",
       "      <th>48691</th>\n",
       "      <td>4290709089</td>\n",
       "      <td>Right Subarticular Stenosis</td>\n",
       "      <td>L5/S1</td>\n",
       "      <td>normal_mild</td>\n",
       "      <td>3390218084</td>\n",
       "      <td>21</td>\n",
       "      <td>302.875911</td>\n",
       "      <td>364.627811</td>\n",
       "      <td>Axial T2</td>\n",
       "      <td>4290709089_right_subarticular_stenosis_l5_s1</td>\n",
       "      <td>../data/rsna-2024-lumbar-spine-degenerative-cl...</td>\n",
       "    </tr>\n",
       "  </tbody>\n",
       "</table>\n",
       "<p>48692 rows × 11 columns</p>\n",
       "</div>"
      ]
     },
     "execution_count": 63,
     "metadata": {},
     "output_type": "execute_result"
    }
   ],
   "execution_count": 63
  },
  {
   "metadata": {
    "ExecuteTime": {
     "end_time": "2024-06-17T17:41:58.196697Z",
     "start_time": "2024-06-17T17:41:58.168986Z"
    }
   },
   "cell_type": "code",
   "source": "training_data[training_data[\"condition\"] == \"Spinal Canal Stenosis\"].groupby([\"severity\"]).count()",
   "id": "862cd2422c3412e5",
   "outputs": [
    {
     "data": {
      "text/plain": [
       "             study_id  condition  level  series_id  instance_number     x  \\\n",
       "severity                                                                    \n",
       "moderate          732        732    732        732              732   732   \n",
       "normal_mild      8552       8552   8552       8552             8552  8552   \n",
       "severe            469        469    469        469              469   469   \n",
       "\n",
       "                y  series_description  row_id  image_path  \n",
       "severity                                                   \n",
       "moderate      732                 732     732         732  \n",
       "normal_mild  8552                8552    8552        8552  \n",
       "severe        469                 469     469         469  "
      ],
      "text/html": [
       "<div>\n",
       "<style scoped>\n",
       "    .dataframe tbody tr th:only-of-type {\n",
       "        vertical-align: middle;\n",
       "    }\n",
       "\n",
       "    .dataframe tbody tr th {\n",
       "        vertical-align: top;\n",
       "    }\n",
       "\n",
       "    .dataframe thead th {\n",
       "        text-align: right;\n",
       "    }\n",
       "</style>\n",
       "<table border=\"1\" class=\"dataframe\">\n",
       "  <thead>\n",
       "    <tr style=\"text-align: right;\">\n",
       "      <th></th>\n",
       "      <th>study_id</th>\n",
       "      <th>condition</th>\n",
       "      <th>level</th>\n",
       "      <th>series_id</th>\n",
       "      <th>instance_number</th>\n",
       "      <th>x</th>\n",
       "      <th>y</th>\n",
       "      <th>series_description</th>\n",
       "      <th>row_id</th>\n",
       "      <th>image_path</th>\n",
       "    </tr>\n",
       "    <tr>\n",
       "      <th>severity</th>\n",
       "      <th></th>\n",
       "      <th></th>\n",
       "      <th></th>\n",
       "      <th></th>\n",
       "      <th></th>\n",
       "      <th></th>\n",
       "      <th></th>\n",
       "      <th></th>\n",
       "      <th></th>\n",
       "      <th></th>\n",
       "    </tr>\n",
       "  </thead>\n",
       "  <tbody>\n",
       "    <tr>\n",
       "      <th>moderate</th>\n",
       "      <td>732</td>\n",
       "      <td>732</td>\n",
       "      <td>732</td>\n",
       "      <td>732</td>\n",
       "      <td>732</td>\n",
       "      <td>732</td>\n",
       "      <td>732</td>\n",
       "      <td>732</td>\n",
       "      <td>732</td>\n",
       "      <td>732</td>\n",
       "    </tr>\n",
       "    <tr>\n",
       "      <th>normal_mild</th>\n",
       "      <td>8552</td>\n",
       "      <td>8552</td>\n",
       "      <td>8552</td>\n",
       "      <td>8552</td>\n",
       "      <td>8552</td>\n",
       "      <td>8552</td>\n",
       "      <td>8552</td>\n",
       "      <td>8552</td>\n",
       "      <td>8552</td>\n",
       "      <td>8552</td>\n",
       "    </tr>\n",
       "    <tr>\n",
       "      <th>severe</th>\n",
       "      <td>469</td>\n",
       "      <td>469</td>\n",
       "      <td>469</td>\n",
       "      <td>469</td>\n",
       "      <td>469</td>\n",
       "      <td>469</td>\n",
       "      <td>469</td>\n",
       "      <td>469</td>\n",
       "      <td>469</td>\n",
       "      <td>469</td>\n",
       "    </tr>\n",
       "  </tbody>\n",
       "</table>\n",
       "</div>"
      ]
     },
     "execution_count": 62,
     "metadata": {},
     "output_type": "execute_result"
    }
   ],
   "execution_count": 62
  }
 ],
 "metadata": {
  "kernelspec": {
   "display_name": "Python 3",
   "language": "python",
   "name": "python3"
  },
  "language_info": {
   "codemirror_mode": {
    "name": "ipython",
    "version": 2
   },
   "file_extension": ".py",
   "mimetype": "text/x-python",
   "name": "python",
   "nbconvert_exporter": "python",
   "pygments_lexer": "ipython2",
   "version": "2.7.6"
  }
 },
 "nbformat": 4,
 "nbformat_minor": 5
}
