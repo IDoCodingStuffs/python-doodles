{
 "cells": [
  {
   "metadata": {},
   "cell_type": "code",
   "source": [
    "import os\n",
    "import time\n",
    "\n",
    "import matplotlib.pyplot as plt\n",
    "import torch\n",
    "import torch.nn as nn\n",
    "import torchvision.models as models\n",
    "from torchvision import transforms\n",
    "from torchvision.transforms import v2\n",
    "from torch.utils.data import DataLoader\n",
    "from sklearn.model_selection import train_test_split\n",
    "from sklearn.metrics import confusion_matrix\n",
    "import pandas as pd\n",
    "from tqdm import tqdm\n",
    "import logging\n",
    "import seaborn as sn\n",
    "\n",
    "from rsna_dataloader import *\n"
   ],
   "id": "86f01bab9611e788",
   "outputs": [],
   "execution_count": null
  },
  {
   "metadata": {
    "ExecuteTime": {
     "end_time": "2024-07-09T02:58:07.825264Z",
     "start_time": "2024-07-09T02:58:07.789331Z"
    }
   },
   "cell_type": "code",
   "source": [
    "CONFIG = dict(\n",
    "    n_levels=5,\n",
    "    backbone=\"tf_efficientnetv2_b0\",\n",
    "    img_size=(128, 128),\n",
    "    in_chans=1,\n",
    "    drop_rate=0.05,\n",
    "    drop_rate_last=0.3,\n",
    "    drop_path_rate=0.,\n",
    "    aug_prob=0.7,\n",
    "    out_dim=3,\n",
    "    epochs=200,\n",
    "    batch_size=8,\n",
    "    device=torch.device(\"cuda\") if torch.cuda.is_available() else \"cpu\",\n",
    "    seed=2024\n",
    ")\n"
   ],
   "id": "fe374a8dd1afe8ff",
   "outputs": [],
   "execution_count": 13
  },
  {
   "cell_type": "code",
   "source": [
    "from rsna_dataloader import *\n",
    "import albumentations\n",
    "import torchvision.transforms as transforms\n",
    "\n",
    "data_basepath = \"../data/rsna-2024-lumbar-spine-degenerative-classification/\"\n",
    "training_data = retrieve_training_data(data_basepath)\n",
    "\n",
    "transform_train = albumentations.Compose([\n",
    "    albumentations.RandomBrightnessContrast(brightness_limit=(-0.2, 0.2), contrast_limit=(-0.2, 0.2),\n",
    "                                            p=CONFIG[\"aug_prob\"]),\n",
    "    albumentations.OneOf([\n",
    "        albumentations.MotionBlur(blur_limit=5),\n",
    "        albumentations.MedianBlur(blur_limit=5),\n",
    "        albumentations.GaussianBlur(blur_limit=5),\n",
    "        albumentations.GaussNoise(var_limit=(5.0, 30.0)),\n",
    "    ], p=CONFIG[\"aug_prob\"]),\n",
    "\n",
    "    albumentations.OneOf([\n",
    "        albumentations.OpticalDistortion(distort_limit=1.0),\n",
    "        albumentations.GridDistortion(num_steps=5, distort_limit=1.),\n",
    "        albumentations.ElasticTransform(alpha=3),\n",
    "    ], p=CONFIG[\"aug_prob\"]),\n",
    "\n",
    "    albumentations.ShiftScaleRotate(shift_limit=0.1, scale_limit=0.1, rotate_limit=15, border_mode=0,\n",
    "                                    p=CONFIG[\"aug_prob\"]),\n",
    "    albumentations.Resize(*CONFIG[\"img_size\"]),\n",
    "    albumentations.CoarseDropout(max_holes=16, max_height=64, max_width=64, min_holes=1, min_height=8, min_width=8,\n",
    "                                 p=CONFIG[\"aug_prob\"]),\n",
    "    albumentations.Normalize(mean=0.5, std=0.5),\n",
    "])\n",
    "\n",
    "transform_val = albumentations.Compose([\n",
    "    albumentations.Resize(*CONFIG[\"img_size\"]),\n",
    "    albumentations.Normalize(mean=0.5, std=0.5),\n",
    "])\n",
    "\n"
   ],
   "metadata": {
    "collapsed": false,
    "ExecuteTime": {
     "end_time": "2024-07-09T02:58:11.724579Z",
     "start_time": "2024-07-09T02:58:08.388612Z"
    }
   },
   "id": "50f64e7ade1e9c29",
   "outputs": [
    {
     "name": "stderr",
     "output_type": "stream",
     "text": [
      "C:\\Users\\Victor\\anaconda3\\envs\\python-doodles\\Lib\\site-packages\\pydantic\\main.py:176: UserWarning: blur_limit and sigma_limit minimum value can not be both equal to 0. blur_limit minimum value changed to 3.\n",
      "  self.__pydantic_validator__.validate_python(data, self_instance=self)\n"
     ]
    }
   ],
   "execution_count": 14
  },
  {
   "metadata": {
    "ExecuteTime": {
     "end_time": "2024-07-03T03:19:13.194931Z",
     "start_time": "2024-07-03T03:18:36.178961Z"
    }
   },
   "cell_type": "code",
   "source": [
    "import timm\n",
    "\n",
    "efficientnets = {name: '{:,}'.format(sum(param.numel() for param in timm.create_model(name).parameters())) for name in\n",
    "                 timm.list_models(\"*efficientnet*\")}\n",
    "\n",
    "efficientnets"
   ],
   "id": "72480894c7051d75",
   "outputs": [
    {
     "data": {
      "text/plain": [
       "{'efficientnet_b0': '5,288,548',\n",
       " 'efficientnet_b0_g8_gn': '6,562,660',\n",
       " 'efficientnet_b0_g16_evos': '8,107,756',\n",
       " 'efficientnet_b0_gn': '5,288,548',\n",
       " 'efficientnet_b1': '7,794,184',\n",
       " 'efficientnet_b1_pruned': '6,331,916',\n",
       " 'efficientnet_b2': '9,109,994',\n",
       " 'efficientnet_b2_pruned': '8,309,737',\n",
       " 'efficientnet_b3': '12,233,232',\n",
       " 'efficientnet_b3_g8_gn': '14,251,432',\n",
       " 'efficientnet_b3_gn': '11,733,784',\n",
       " 'efficientnet_b3_pruned': '9,855,020',\n",
       " 'efficientnet_b4': '19,341,616',\n",
       " 'efficientnet_b5': '30,389,784',\n",
       " 'efficientnet_b6': '43,040,704',\n",
       " 'efficientnet_b7': '66,347,960',\n",
       " 'efficientnet_b8': '87,413,142',\n",
       " 'efficientnet_blur_b0': '5,288,548',\n",
       " 'efficientnet_cc_b0_4e': '13,314,116',\n",
       " 'efficientnet_cc_b0_8e': '24,013,284',\n",
       " 'efficientnet_cc_b1_8e': '39,715,968',\n",
       " 'efficientnet_el': '10,589,712',\n",
       " 'efficientnet_el_pruned': '10,589,712',\n",
       " 'efficientnet_em': '6,899,496',\n",
       " 'efficientnet_es': '5,438,392',\n",
       " 'efficientnet_es_pruned': '5,438,392',\n",
       " 'efficientnet_h_b5': '45,884,172',\n",
       " 'efficientnet_l2': '480,309,308',\n",
       " 'efficientnet_lite0': '4,652,008',\n",
       " 'efficientnet_lite1': '5,416,680',\n",
       " 'efficientnet_lite2': '6,092,072',\n",
       " 'efficientnet_lite3': '8,197,096',\n",
       " 'efficientnet_lite4': '13,006,568',\n",
       " 'efficientnet_x_b3': '13,299,652',\n",
       " 'efficientnet_x_b5': '33,439,614',\n",
       " 'efficientnetv2_l': '118,515,272',\n",
       " 'efficientnetv2_m': '54,139,356',\n",
       " 'efficientnetv2_rw_m': '53,236,442',\n",
       " 'efficientnetv2_rw_s': '23,941,296',\n",
       " 'efficientnetv2_rw_t': '13,649,388',\n",
       " 'efficientnetv2_s': '21,458,488',\n",
       " 'efficientnetv2_xl': '208,119,808',\n",
       " 'gc_efficientnetv2_rw_t': '13,677,713',\n",
       " 'tf_efficientnet_b0': '5,288,548',\n",
       " 'tf_efficientnet_b1': '7,794,184',\n",
       " 'tf_efficientnet_b2': '9,109,994',\n",
       " 'tf_efficientnet_b3': '12,233,232',\n",
       " 'tf_efficientnet_b4': '19,341,616',\n",
       " 'tf_efficientnet_b5': '30,389,784',\n",
       " 'tf_efficientnet_b6': '43,040,704',\n",
       " 'tf_efficientnet_b7': '66,347,960',\n",
       " 'tf_efficientnet_b8': '87,413,142',\n",
       " 'tf_efficientnet_cc_b0_4e': '13,314,116',\n",
       " 'tf_efficientnet_cc_b0_8e': '24,013,284',\n",
       " 'tf_efficientnet_cc_b1_8e': '39,715,968',\n",
       " 'tf_efficientnet_el': '10,589,712',\n",
       " 'tf_efficientnet_em': '6,899,496',\n",
       " 'tf_efficientnet_es': '5,438,392',\n",
       " 'tf_efficientnet_l2': '480,309,308',\n",
       " 'tf_efficientnet_lite0': '4,652,008',\n",
       " 'tf_efficientnet_lite1': '5,416,680',\n",
       " 'tf_efficientnet_lite2': '6,092,072',\n",
       " 'tf_efficientnet_lite3': '8,197,096',\n",
       " 'tf_efficientnet_lite4': '13,006,568',\n",
       " 'tf_efficientnetv2_b0': '7,139,704',\n",
       " 'tf_efficientnetv2_b1': '8,141,052',\n",
       " 'tf_efficientnetv2_b2': '10,096,086',\n",
       " 'tf_efficientnetv2_b3': '14,358,406',\n",
       " 'tf_efficientnetv2_l': '118,515,272',\n",
       " 'tf_efficientnetv2_m': '54,139,356',\n",
       " 'tf_efficientnetv2_s': '21,458,488',\n",
       " 'tf_efficientnetv2_xl': '208,119,808'}"
      ]
     },
     "execution_count": 47,
     "metadata": {},
     "output_type": "execute_result"
    }
   ],
   "execution_count": 47
  },
  {
   "metadata": {
    "ExecuteTime": {
     "end_time": "2024-07-04T02:22:14.322211Z",
     "start_time": "2024-07-04T02:22:14.313430Z"
    }
   },
   "cell_type": "code",
   "source": [
    "import timm\n",
    "\n",
    "support_512 = {name: '{:,}'.format(sum(param.numel() for param in timm.create_model(name).parameters())) for name in\n",
    "               timm.list_models(\"*512*\")}\n",
    "\n",
    "support_512"
   ],
   "id": "de61bac21395a3b2",
   "outputs": [
    {
     "data": {
      "text/plain": [
       "{'beit_large_patch16_512': '305,674,728',\n",
       " 'levit_512': '95,173,700',\n",
       " 'levit_512_s8': '74,046,696',\n",
       " 'levit_512d': '92,497,538',\n",
       " 'levit_conv_512': '95,173,700',\n",
       " 'levit_conv_512_s8': '74,046,696',\n",
       " 'levit_conv_512d': '92,497,538',\n",
       " 'maxvit_base_tf_512': '119,876,380',\n",
       " 'maxvit_large_tf_512': '212,330,456',\n",
       " 'maxvit_small_tf_512': '69,127,540',\n",
       " 'maxvit_tiny_tf_512': '31,049,584',\n",
       " 'maxvit_xlarge_tf_512': '475,769,296',\n",
       " 'tiny_vit_21m_512': '21,268,120',\n",
       " 'vit_base_patch16_siglip_512': '93,520,128',\n",
       " 'vit_base_patch16_siglip_gap_512': '86,433,024',\n",
       " 'volo_d5_512': '296,091,488'}"
      ]
     },
     "execution_count": 26,
     "metadata": {},
     "output_type": "execute_result"
    }
   ],
   "execution_count": 26
  },
  {
   "metadata": {
    "ExecuteTime": {
     "end_time": "2024-07-03T00:52:11.754851Z",
     "start_time": "2024-07-03T00:50:38.014131Z"
    }
   },
   "cell_type": "code",
   "source": [
    "import timm\n",
    "\n",
    "efficientvits = {name: '{:,}'.format(sum(param.numel() for param in timm.create_model(name).parameters())) for name in\n",
    "                 timm.list_models(\"*efficientvit*\")}\n",
    "deits = {name: '{:,}'.format(sum(param.numel() for param in timm.create_model(name).parameters())) for name in\n",
    "                 timm.list_models(\"*deit*\")}\n",
    "beits = {name: '{:,}'.format(sum(param.numel() for param in timm.create_model(name).parameters())) for name in\n",
    "                 timm.list_models(\"*beit*\")}\n",
    "dinos = {name: '{:,}'.format(sum(param.numel() for param in timm.create_model(name).parameters())) for name in\n",
    "                 timm.list_models(\"*dino*\")}\n",
    "maes = {name: '{:,}'.format(sum(param.numel() for param in timm.create_model(name).parameters())) for name in\n",
    "                 timm.list_models(\"*mae*\")}\n",
    "\n",
    "\n",
    "efficientvits, deits, beits, dinos, maes"
   ],
   "id": "1df79410787e6764",
   "outputs": [
    {
     "data": {
      "text/plain": "({'efficientvit_b0': '3,410,008',\n  'efficientvit_b1': '9,102,024',\n  'efficientvit_b2': '24,330,712',\n  'efficientvit_b3': '48,646,056',\n  'efficientvit_l1': '52,654,088',\n  'efficientvit_l2': '63,707,016',\n  'efficientvit_l3': '246,037,288',\n  'efficientvit_m0': '2,349,436',\n  'efficientvit_m1': '2,980,560',\n  'efficientvit_m2': '4,187,554',\n  'efficientvit_m3': '6,900,722',\n  'efficientvit_m4': '8,804,228',\n  'efficientvit_m5': '12,473,772'},\n {'deit3_base_patch16_224': '86,585,320',\n  'deit3_base_patch16_384': '86,877,160',\n  'deit3_huge_patch14_224': '632,126,440',\n  'deit3_large_patch16_224': '304,374,760',\n  'deit3_large_patch16_384': '304,763,880',\n  'deit3_medium_patch16_224': '38,849,512',\n  'deit3_small_patch16_224': '22,059,496',\n  'deit3_small_patch16_384': '22,205,416',\n  'deit_base_distilled_patch16_224': '87,338,192',\n  'deit_base_distilled_patch16_384': '87,630,032',\n  'deit_base_patch16_224': '86,567,656',\n  'deit_base_patch16_384': '86,859,496',\n  'deit_small_distilled_patch16_224': '22,436,432',\n  'deit_small_patch16_224': '22,050,664',\n  'deit_tiny_distilled_patch16_224': '5,910,800',\n  'deit_tiny_patch16_224': '5,717,416'},\n {'beit_base_patch16_224': '86,530,984',\n  'beit_base_patch16_384': '86,744,104',\n  'beit_large_patch16_224': '304,430,568',\n  'beit_large_patch16_384': '304,998,888',\n  'beit_large_patch16_512': '305,674,728',\n  'beitv2_base_patch16_224': '86,530,984',\n  'beitv2_large_patch16_224': '304,430,568'},\n {'vit_base_patch14_dinov2': '86,579,712',\n  'vit_base_patch14_reg4_dinov2': '86,582,016',\n  'vit_giant_patch14_dinov2': '1,136,479,232',\n  'vit_giant_patch14_reg4_dinov2': '1,136,483,840',\n  'vit_large_patch14_dinov2': '304,367,616',\n  'vit_large_patch14_reg4_dinov2': '304,370,688',\n  'vit_small_patch14_dinov2': '22,056,192',\n  'vit_small_patch14_reg4_dinov2': '22,057,344'},\n {})"
     },
     "execution_count": 5,
     "metadata": {},
     "output_type": "execute_result"
    }
   ],
   "execution_count": 5
  },
  {
   "metadata": {
    "ExecuteTime": {
     "end_time": "2024-07-04T03:11:56.158079Z",
     "start_time": "2024-07-04T03:09:50.639570Z"
    }
   },
   "cell_type": "code",
   "source": [
    "import timm\n",
    "\n",
    "densenets = {name: '{:,}'.format(sum(param.numel() for param in timm.create_model(name).parameters())) for name in\n",
    "                 timm.list_models(\"*dense*\")}\n",
    "inceptions = {name: '{:,}'.format(sum(param.numel() for param in timm.create_model(name).parameters())) for name in\n",
    "                 timm.list_models(\"*inception*\")}\n",
    "resnets = {name: '{:,}'.format(sum(param.numel() for param in timm.create_model(name).parameters())) for name in\n",
    "                 timm.list_models(\"*resnet*\")}\n",
    "resnexts = {name: '{:,}'.format(sum(param.numel() for param in timm.create_model(name).parameters())) for name in\n",
    "                 timm.list_models(\"*resnext*\")}\n",
    "\n",
    "densenets, inceptions, resnets, resnexts"
   ],
   "id": "8223b28d9d4bba4b",
   "outputs": [
    {
     "data": {
      "text/plain": [
       "({'densenet121': '7,978,856',\n",
       "  'densenet161': '28,681,000',\n",
       "  'densenet169': '14,149,480',\n",
       "  'densenet201': '20,013,928',\n",
       "  'densenet264d': '72,736,216',\n",
       "  'densenetblur121d': '7,998,088'},\n",
       " {'inception_next_base': '86,672,136',\n",
       "  'inception_next_small': '49,374,016',\n",
       "  'inception_next_tiny': '28,055,680',\n",
       "  'inception_resnet_v2': '55,843,464',\n",
       "  'inception_v3': '23,834,568',\n",
       "  'inception_v4': '42,679,816'},\n",
       " {'cspresnet50': '21,616,168',\n",
       "  'cspresnet50d': '21,635,400',\n",
       "  'cspresnet50w': '28,118,216',\n",
       "  'eca_resnet33ts': '19,676,302',\n",
       "  'ecaresnet26t': '16,011,916',\n",
       "  'ecaresnet50d': '25,576,350',\n",
       "  'ecaresnet50d_pruned': '19,939,713',\n",
       "  'ecaresnet50t': '25,573,814',\n",
       "  'ecaresnet101d': '44,568,563',\n",
       "  'ecaresnet101d_pruned': '24,876,040',\n",
       "  'ecaresnet200d': '64,693,400',\n",
       "  'ecaresnet269d': '102,093,077',\n",
       "  'ecaresnetlight': '30,162,046',\n",
       "  'gcresnet33ts': '19,880,698',\n",
       "  'gcresnet50t': '25,897,080',\n",
       "  'inception_resnet_v2': '55,843,464',\n",
       "  'lambda_resnet26rpt_256': '10,988,688',\n",
       "  'lambda_resnet26t': '10,958,272',\n",
       "  'lambda_resnet50ts': '21,536,832',\n",
       "  'legacy_seresnet18': '11,778,592',\n",
       "  'legacy_seresnet34': '21,958,868',\n",
       "  'legacy_seresnet50': '28,088,024',\n",
       "  'legacy_seresnet101': '49,326,872',\n",
       "  'legacy_seresnet152': '66,821,848',\n",
       "  'nf_ecaresnet26': '15,995,220',\n",
       "  'nf_ecaresnet50': '25,557,118',\n",
       "  'nf_ecaresnet101': '44,549,331',\n",
       "  'nf_resnet26': '15,995,176',\n",
       "  'nf_resnet50': '25,557,032',\n",
       "  'nf_resnet101': '44,549,160',\n",
       "  'nf_seresnet26': '17,395,976',\n",
       "  'nf_seresnet50': '28,088,024',\n",
       "  'nf_seresnet101': '49,326,872',\n",
       "  'resnet10t': '5,435,488',\n",
       "  'resnet14t': '10,081,632',\n",
       "  'resnet18': '11,689,512',\n",
       "  'resnet18d': '11,708,744',\n",
       "  'resnet26': '15,995,176',\n",
       "  'resnet26d': '16,014,408',\n",
       "  'resnet26t': '16,011,872',\n",
       "  'resnet32ts': '17,963,616',\n",
       "  'resnet33ts': '19,676,256',\n",
       "  'resnet34': '21,797,672',\n",
       "  'resnet34d': '21,816,904',\n",
       "  'resnet50': '25,557,032',\n",
       "  'resnet50_clip': '38,316,896',\n",
       "  'resnet50_clip_gap': '23,527,264',\n",
       "  'resnet50_gn': '25,557,032',\n",
       "  'resnet50_mlp': '26,654,536',\n",
       "  'resnet50c': '25,576,264',\n",
       "  'resnet50d': '25,576,264',\n",
       "  'resnet50s': '25,680,808',\n",
       "  'resnet50t': '25,573,728',\n",
       "  'resnet50x4_clip': '87,137,080',\n",
       "  'resnet50x4_clip_gap': '65,619,640',\n",
       "  'resnet50x16_clip': '167,328,912',\n",
       "  'resnet50x16_clip_gap': '136,202,640',\n",
       "  'resnet50x64_clip': '420,380,352',\n",
       "  'resnet50x64_clip_gap': '365,034,176',\n",
       "  'resnet51q': '35,696,920',\n",
       "  'resnet61q': '36,846,968',\n",
       "  'resnet101': '44,549,160',\n",
       "  'resnet101_clip': '56,259,936',\n",
       "  'resnet101_clip_gap': '42,519,392',\n",
       "  'resnet101c': '44,568,392',\n",
       "  'resnet101d': '44,568,392',\n",
       "  'resnet101s': '44,672,936',\n",
       "  'resnet152': '60,192,808',\n",
       "  'resnet152c': '60,212,040',\n",
       "  'resnet152d': '60,212,040',\n",
       "  'resnet152s': '60,316,584',\n",
       "  'resnet200': '64,673,832',\n",
       "  'resnet200d': '64,693,064',\n",
       "  'resnetaa34d': '21,816,904',\n",
       "  'resnetaa50': '25,557,032',\n",
       "  'resnetaa50d': '25,576,264',\n",
       "  'resnetaa101d': '44,568,392',\n",
       "  'resnetblur18': '11,689,512',\n",
       "  'resnetblur50': '25,557,032',\n",
       "  'resnetblur50d': '25,576,264',\n",
       "  'resnetblur101d': '44,568,392',\n",
       "  'resnetrs50': '35,691,912',\n",
       "  'resnetrs101': '63,618,696',\n",
       "  'resnetrs152': '86,621,576',\n",
       "  'resnetrs200': '93,209,992',\n",
       "  'resnetrs270': '129,861,448',\n",
       "  'resnetrs350': '163,956,168',\n",
       "  'resnetrs420': '191,891,656',\n",
       "  'resnetv2_50': '25,549,352',\n",
       "  'resnetv2_50d': '25,568,584',\n",
       "  'resnetv2_50d_evos': '25,591,368',\n",
       "  'resnetv2_50d_frn': '25,591,368',\n",
       "  'resnetv2_50d_gn': '25,568,584',\n",
       "  'resnetv2_50t': '25,566,048',\n",
       "  'resnetv2_50x1_bit': '25,549,352',\n",
       "  'resnetv2_50x3_bit': '217,319,080',\n",
       "  'resnetv2_101': '44,541,480',\n",
       "  'resnetv2_101d': '44,560,712',\n",
       "  'resnetv2_101x1_bit': '44,541,480',\n",
       "  'resnetv2_101x3_bit': '387,934,888',\n",
       "  'resnetv2_152': '60,185,128',\n",
       "  'resnetv2_152d': '60,204,360',\n",
       "  'resnetv2_152x2_bit': '236,335,208',\n",
       "  'resnetv2_152x4_bit': '936,533,224',\n",
       "  'seresnet18': '11,779,624',\n",
       "  'seresnet33ts': '19,779,200',\n",
       "  'seresnet34': '21,960,416',\n",
       "  'seresnet50': '28,088,024',\n",
       "  'seresnet50t': '28,104,720',\n",
       "  'seresnet101': '49,326,872',\n",
       "  'seresnet152': '66,821,848',\n",
       "  'seresnet152d': '66,841,080',\n",
       "  'seresnet200d': '71,855,096',\n",
       "  'seresnet269d': '113,672,760',\n",
       "  'seresnetaa50d': '28,107,256',\n",
       "  'skresnet18': '11,958,056',\n",
       "  'skresnet34': '22,282,376',\n",
       "  'skresnet50': '25,803,160',\n",
       "  'skresnet50d': '25,822,392',\n",
       "  'tresnet_l': '55,989,256',\n",
       "  'tresnet_m': '31,389,032',\n",
       "  'tresnet_v2_l': '46,174,824',\n",
       "  'tresnet_xl': '78,436,244',\n",
       "  'vit_base_resnet26d_224': '101,403,208',\n",
       "  'vit_base_resnet50d_224': '110,965,064',\n",
       "  'vit_small_resnet26d_224': '63,608,392',\n",
       "  'vit_small_resnet50d_s16_224': '57,531,976',\n",
       "  'wide_resnet50_2': '68,883,240',\n",
       "  'wide_resnet101_2': '126,886,696'},\n",
       " {'bat_resnext26ts': '10,731,200',\n",
       "  'cspresnext50': '20,569,896',\n",
       "  'eca_resnext26ts': '10,297,988',\n",
       "  'ecaresnext26t_32x4d': '15,406,220',\n",
       "  'ecaresnext50t_32x4d': '15,406,220',\n",
       "  'gcresnext26ts': '10,476,600',\n",
       "  'gcresnext50ts': '15,667,320',\n",
       "  'legacy_seresnext26_32x4d': '16,790,280',\n",
       "  'legacy_seresnext50_32x4d': '27,559,896',\n",
       "  'legacy_seresnext101_32x4d': '48,955,416',\n",
       "  'resnext26ts': '10,297,952',\n",
       "  'resnext50_32x4d': '25,028,904',\n",
       "  'resnext50d_32x4d': '25,048,136',\n",
       "  'resnext101_32x4d': '44,177,704',\n",
       "  'resnext101_32x8d': '88,791,336',\n",
       "  'resnext101_32x16d': '194,026,792',\n",
       "  'resnext101_32x32d': '468,530,472',\n",
       "  'resnext101_64x4d': '83,455,272',\n",
       "  'seresnext26d_32x4d': '16,809,512',\n",
       "  'seresnext26t_32x4d': '16,806,976',\n",
       "  'seresnext26ts': '10,388,064',\n",
       "  'seresnext50_32x4d': '27,559,896',\n",
       "  'seresnext101_32x4d': '48,955,416',\n",
       "  'seresnext101_32x8d': '93,569,048',\n",
       "  'seresnext101_64x4d': '88,232,984',\n",
       "  'seresnext101d_32x8d': '93,588,280',\n",
       "  'seresnextaa101d_32x8d': '93,588,280',\n",
       "  'seresnextaa201d_32x8d': '149,394,904',\n",
       "  'skresnext50_32x4d': '27,479,784'})"
      ]
     },
     "execution_count": 38,
     "metadata": {},
     "output_type": "execute_result"
    }
   ],
   "execution_count": 38
  },
  {
   "cell_type": "code",
   "source": [
    "import timm_3d\n",
    "\n",
    "efficientnets_ = {name: '{:,}'.format(sum(param.numel() for param in timm_3d.create_model(name).parameters())) for name\n",
    "                 in timm_3d.list_models(\"*efficientnet*\") if \"pruned\" not in name}\n",
    "vits_ = {name: '{:,}'.format(sum(param.numel() for param in timm_3d.create_model(name).parameters())) for name in\n",
    "        timm_3d.list_models(\"*vit*\")}\n",
    "deits_ = {name: '{:,}'.format(sum(param.numel() for param in timm_3d.create_model(name).parameters())) for name in\n",
    "        timm_3d.list_models(\"*deit*\")}\n",
    "maes_ = {name: '{:,}'.format(sum(param.numel() for param in timm_3d.create_model(name).parameters())) for name in\n",
    "        timm_3d.list_models(\"*mae*\")}\n",
    "beits_ = {name: '{:,}'.format(sum(param.numel() for param in timm_3d.create_model(name).parameters())) for name in\n",
    "        timm_3d.list_models(\"*beit*\")}\n",
    "dinos_ = {name: '{:,}'.format(sum(param.numel() for param in timm_3d.create_model(name).parameters())) for name in\n",
    "        timm_3d.list_models(\"*dino*\")}\n",
    "\n",
    "efficientnets_, vits_, deits_, beits_, dinos_, maes_"
   ],
   "metadata": {
    "collapsed": false,
    "is_executing": true,
    "ExecuteTime": {
     "end_time": "2024-07-05T18:59:54.889258Z",
     "start_time": "2024-07-05T18:58:31.248987Z"
    }
   },
   "id": "de9199937d39c444",
   "outputs": [
    {
     "name": "stderr",
     "output_type": "stream",
     "text": [
      "C:\\Users\\Victor\\anaconda3\\envs\\python-doodles\\Lib\\site-packages\\torch\\functional.py:512: UserWarning: torch.meshgrid: in an upcoming release, it will be required to pass the indexing argument. (Triggered internally at ..\\aten\\src\\ATen\\native\\TensorShape.cpp:3588.)\n",
      "  return _VF.meshgrid(tensors, **kwargs)  # type: ignore[attr-defined]\n"
     ]
    },
    {
     "data": {
      "text/plain": [
       "({'efficientnet_b0': '5,971,108',\n",
       "  'efficientnet_b0_g8_gn': '12,011,044',\n",
       "  'efficientnet_b0_g16_evos': '19,184,044',\n",
       "  'efficientnet_b0_gn': '5,971,108',\n",
       "  'efficientnet_b1': '8,729,224',\n",
       "  'efficientnet_b2': '10,125,674',\n",
       "  'efficientnet_b3': '13,597,632',\n",
       "  'efficientnet_b3_g8_gn': '24,770,248',\n",
       "  'efficientnet_b3_gn': '13,050,904',\n",
       "  'efficientnet_b4': '21,408,352',\n",
       "  'efficientnet_b5': '33,100,056',\n",
       "  'efficientnet_b6': '46,699,552',\n",
       "  'efficientnet_b7': '71,323,448',\n",
       "  'efficientnet_b8': '93,646,518',\n",
       "  'efficientnet_cc_b0_4e': '15,844,484',\n",
       "  'efficientnet_cc_b0_8e': '29,007,396',\n",
       "  'efficientnet_cc_b1_8e': '46,481,280',\n",
       "  'efficientnet_el': '15,742,336',\n",
       "  'efficientnet_em': '10,232,808',\n",
       "  'efficientnet_es': '7,905,400',\n",
       "  'efficientnet_l2': '498,169,196',\n",
       "  'efficientnet_lite0': '5,334,568',\n",
       "  'efficientnet_lite1': '6,316,872',\n",
       "  'efficientnet_lite2': '7,069,448',\n",
       "  'efficientnet_lite3': '9,519,016',\n",
       "  'efficientnet_lite4': '15,023,336',\n",
       "  'efficientnetv2_l': '126,773,384',\n",
       "  'efficientnetv2_m': '58,056,300',\n",
       "  'efficientnetv2_rw_m': '57,563,930',\n",
       "  'efficientnetv2_rw_s': '26,184,384',\n",
       "  'efficientnetv2_rw_t': '15,139,932',\n",
       "  'efficientnetv2_s': '23,677,384',\n",
       "  'efficientnetv2_xl': '218,425,024',\n",
       "  'gc_efficientnetv2_rw_t': '15,168,257',\n",
       "  'tf_efficientnet_b0': '5,971,108',\n",
       "  'tf_efficientnet_b1': '8,729,224',\n",
       "  'tf_efficientnet_b2': '10,125,674',\n",
       "  'tf_efficientnet_b3': '13,597,632',\n",
       "  'tf_efficientnet_b4': '21,408,352',\n",
       "  'tf_efficientnet_b5': '33,100,056',\n",
       "  'tf_efficientnet_b6': '46,699,552',\n",
       "  'tf_efficientnet_b7': '71,323,448',\n",
       "  'tf_efficientnet_b8': '93,646,518',\n",
       "  'tf_efficientnet_cc_b0_4e': '15,844,484',\n",
       "  'tf_efficientnet_cc_b0_8e': '29,007,396',\n",
       "  'tf_efficientnet_cc_b1_8e': '46,481,280',\n",
       "  'tf_efficientnet_el': '15,742,336',\n",
       "  'tf_efficientnet_em': '10,232,808',\n",
       "  'tf_efficientnet_es': '7,905,400',\n",
       "  'tf_efficientnet_l2': '498,169,196',\n",
       "  'tf_efficientnet_lite0': '5,334,568',\n",
       "  'tf_efficientnet_lite1': '6,316,872',\n",
       "  'tf_efficientnet_lite2': '7,069,448',\n",
       "  'tf_efficientnet_lite3': '9,519,016',\n",
       "  'tf_efficientnet_lite4': '15,023,336',\n",
       "  'tf_efficientnetv2_b0': '7,715,704',\n",
       "  'tf_efficientnetv2_b1': '9,001,020',\n",
       "  'tf_efficientnetv2_b2': '11,120,502',\n",
       "  'tf_efficientnetv2_b3': '15,619,126',\n",
       "  'tf_efficientnetv2_l': '126,773,384',\n",
       "  'tf_efficientnetv2_m': '58,056,300',\n",
       "  'tf_efficientnetv2_s': '23,677,384',\n",
       "  'tf_efficientnetv2_xl': '218,425,024'},\n",
       " {'maxvit_base_tf_224': '120,066,052',\n",
       "  'maxvit_base_tf_384': '120,116,620',\n",
       "  'maxvit_base_tf_512': '120,229,108',\n",
       "  'maxvit_large_tf_224': '212,782,264',\n",
       "  'maxvit_large_tf_384': '212,849,688',\n",
       "  'maxvit_large_tf_512': '212,999,672',\n",
       "  'maxvit_nano_rw_256': '15,887,684',\n",
       "  'maxvit_pico_rw_256': '7,818,356',\n",
       "  'maxvit_rmlp_base_rw_224': '116,742,700',\n",
       "  'maxvit_rmlp_base_rw_384': '116,742,700',\n",
       "  'maxvit_rmlp_nano_rw_256': '15,630,156',\n",
       "  'maxvit_rmlp_pico_rw_256': '7,623,004',\n",
       "  'maxvit_rmlp_small_rw_224': '65,184,516',\n",
       "  'maxvit_rmlp_small_rw_256': '65,184,516',\n",
       "  'maxvit_rmlp_tiny_rw_256': '29,360,032',\n",
       "  'maxvit_small_tf_224': '69,259,660',\n",
       "  'maxvit_small_tf_384': '69,284,356',\n",
       "  'maxvit_small_tf_512': '69,339,292',\n",
       "  'maxvit_tiny_pm_256': '31,011,952',\n",
       "  'maxvit_tiny_rw_224': '29,286,416',\n",
       "  'maxvit_tiny_rw_256': '29,795,792',\n",
       "  'maxvit_tiny_tf_224': '31,163,392',\n",
       "  'maxvit_tiny_tf_384': '31,179,856',\n",
       "  'maxvit_tiny_tf_512': '31,216,480',\n",
       "  'maxvit_xlarge_tf_224': '508,703,883',\n",
       "  'maxvit_xlarge_tf_384': '476,769,328',\n",
       "  'maxvit_xlarge_tf_512': '476,994,304',\n",
       "  'maxxvit_rmlp_nano_rw_256': '17,295,788',\n",
       "  'maxxvit_rmlp_small_rw_256': '67,292,724',\n",
       "  'maxxvit_rmlp_tiny_rw_256': '30,476,656',\n",
       "  'maxxvitv2_nano_rw_256': '24,723,997',\n",
       "  'maxxvitv2_rmlp_base_rw_224': '119,189,984',\n",
       "  'maxxvitv2_rmlp_base_rw_384': '119,189,984',\n",
       "  'maxxvitv2_rmlp_large_rw_224': '220,086,958'},\n",
       " {},\n",
       " {},\n",
       " {},\n",
       " {})"
      ]
     },
     "execution_count": 32,
     "metadata": {},
     "output_type": "execute_result"
    }
   ],
   "execution_count": 32
  },
  {
   "cell_type": "code",
   "execution_count": 2,
   "outputs": [
    {
     "data": {
      "text/plain": "({'densenet121': '12,311,528',\n  'densenet161': '41,704,936',\n  'densenet169': '20,251,624',\n  'densenet201': '27,295,720',\n  'densenet264d': '94,428,664',\n  'densenetblur121d': '12,331,336'},\n {})"
     },
     "execution_count": 2,
     "metadata": {},
     "output_type": "execute_result"
    }
   ],
   "source": [
    "import timm_3d\n",
    "\n",
    "densenets = {name: '{:,}'.format(sum(param.numel() for param in timm_3d.create_model(name).parameters())) for name\n",
    "                 in timm_3d.list_models(\"*densenet*\") if \"pruned\" not in name}\n",
    "inceptions = {name: '{:,}'.format(sum(param.numel() for param in timm_3d.create_model(name).parameters())) for name\n",
    "                 in timm_3d.list_models(\"*inception*\") if \"pruned\" not in name}\n",
    "\n",
    "densenets, inceptions"
   ],
   "metadata": {
    "collapsed": false,
    "ExecuteTime": {
     "end_time": "2024-07-14T03:22:59.447303Z",
     "start_time": "2024-07-14T03:22:56.486880Z"
    }
   },
   "id": "9b3124a8f9870de8"
  },
  {
   "metadata": {
    "jupyter": {
     "is_executing": true
    },
    "ExecuteTime": {
     "start_time": "2024-07-16T04:23:42.499786Z"
    }
   },
   "cell_type": "code",
   "source": [
    "import timm_3d\n",
    "\n",
    "timm_3d.list_models()"
   ],
   "id": "1c298e003fd2f67d",
   "outputs": [],
   "execution_count": null
  },
  {
   "metadata": {
    "jupyter": {
     "is_executing": true
    },
    "ExecuteTime": {
     "start_time": "2024-07-10T04:59:19.047037Z"
    }
   },
   "cell_type": "code",
   "source": [
    "import timm_3d\n",
    "\n",
    "maes_3d = {name: '{:,}'.format(sum(param.numel() for param in timm_3d.create_model(name).parameters())) for name in timm_3d.list_models(\"*mae*\")}\n",
    "\n",
    "maes_3d"
   ],
   "id": "abdfc5df2bcbd656",
   "outputs": [],
   "execution_count": null
  },
  {
   "cell_type": "code",
   "source": [
    "from torchvision.transforms import Resize, Compose, ToPILImage\n",
    "from rsna_dataloader import *\n",
    "\n",
    "data_basepath = \"../data/rsna-2024-lumbar-spine-degenerative-classification/\"\n",
    "training_data = retrieve_training_data(data_basepath)\n",
    "\n",
    "trainloader, valloader, testloader, trainset, valset, testset = create_series_level_datasets_and_loaders(training_data,\n",
    "                                                                                                         \"Sagittal T2/STIR\",\n",
    "                                                                                                         transform_train,\n",
    "                                                                                                         transform_val,\n",
    "                                                                                                         base_path=os.path.join(\n",
    "                                                                                                             data_basepath,\n",
    "                                                                                                             \"train_images\"),\n",
    "                                                                                                         split_factor=0.3,\n",
    "                                                                                                         num_workers=0,\n",
    "                                                                                                         batch_size=1,\n",
    "                                                                                                         data_type=SeriesDataType.SEQUENTIAL_VARIABLE_LENGTH_WITH_CLS)"
   ],
   "metadata": {
    "collapsed": false,
    "ExecuteTime": {
     "end_time": "2024-07-07T01:49:26.761989Z",
     "start_time": "2024-07-07T01:49:22.863360Z"
    }
   },
   "id": "38b2e0b77b59504d",
   "outputs": [],
   "execution_count": 3
  },
  {
   "cell_type": "code",
   "source": [
    "trainset[0][0].shape"
   ],
   "metadata": {
    "collapsed": false,
    "ExecuteTime": {
     "end_time": "2024-07-04T17:06:57.613945Z",
     "start_time": "2024-07-04T17:06:56.772571Z"
    }
   },
   "id": "5c4750df856c6b2",
   "outputs": [
    {
     "data": {
      "text/plain": [
       "(38, 384, 384)"
      ]
     },
     "execution_count": 8,
     "metadata": {},
     "output_type": "execute_result"
    }
   ],
   "execution_count": 8
  },
  {
   "metadata": {
    "ExecuteTime": {
     "end_time": "2024-07-08T15:24:42.675165Z",
     "start_time": "2024-07-08T15:24:42.654611Z"
    }
   },
   "cell_type": "code",
   "source": [
    "import torch\n",
    "from torch import nn\n",
    "\n",
    "class CNN_Model(nn.Module):\n",
    "    def __init__(self, backbone=\"tf_efficientnetv2_b3\", pretrained=False):\n",
    "        super(CNN_Model, self).__init__()\n",
    "\n",
    "        self.encoder = timm.create_model(\n",
    "            backbone,\n",
    "            num_classes=CONFIG[\"out_dim\"] * CONFIG[\"n_levels\"],\n",
    "            features_only=False,\n",
    "            drop_rate=CONFIG[\"drop_rate\"],\n",
    "            drop_path_rate=CONFIG[\"drop_path_rate\"],\n",
    "            pretrained=pretrained,\n",
    "            in_chans=CONFIG[\"in_chans\"],\n",
    "        )\n",
    "\n",
    "    def forward(self, x):\n",
    "        return self.encoder(x).reshape((-1, 5, 3))\n",
    "\n",
    "\n",
    "class PositionalEncoding(nn.Module):\n",
    "    def __init__(self, d_model, dropout=0.1, max_len=100):\n",
    "        super(PositionalEncoding, self).__init__()\n",
    "        self.dropout = nn.Dropout(p=dropout)\n",
    "        self.d_model = d_model\n",
    "\n",
    "        pe = torch.zeros(max_len, d_model)\n",
    "        position = torch.arange(0, max_len, dtype=torch.float).unsqueeze(1)\n",
    "        div_term = torch.exp(torch.arange(0, d_model, 2).float() * (-math.log(10000.0) / d_model))\n",
    "        pe[:, 0::2] = torch.sin(position * div_term)\n",
    "        pe[:, 1::2] = torch.cos(position * div_term)\n",
    "        pe = pe.unsqueeze(0).transpose(0, 1)\n",
    "        self.register_buffer('pe', pe)\n",
    "\n",
    "    def forward(self, x):\n",
    "        pos_emb = self.pe[:x.size(0)]\n",
    "        x = x + pos_emb\n",
    "        return self.dropout(x)\n",
    "\n",
    "\n",
    "class EfficientNetModel_Series(nn.Module):\n",
    "    def __init__(self, backbone: CNN_Model, num_inter_layers=4):\n",
    "        super(EfficientNetModel_Series, self).__init__()\n",
    "\n",
    "        self.backbone = backbone\n",
    "        self.backbone.encoder.classifier = nn.Identity()\n",
    "        self.backbone.forward = self._backbone_forward\n",
    "        self.num_inter_layers = num_inter_layers\n",
    "\n",
    "        hdim = self.backbone.encoder.conv_head.out_channels\n",
    "        self.pos_emb = PositionalEncoding(d_model=hdim, dropout=CONFIG[\"drop_rate\"])\n",
    "        self.attention_layer = nn.TransformerEncoder(\n",
    "            nn.TransformerEncoderLayer(hdim, nhead=8, dropout=CONFIG[\"drop_rate\"]),\n",
    "            num_layers=self.num_inter_layers,\n",
    "            norm=nn.LayerNorm(hdim, eps=1e-05, elementwise_affine=True)\n",
    "        )\n",
    "        self.head = NormMLPClassifierHead(hdim, CONFIG[\"n_levels\"] * CONFIG[\"out_dim\"])\n",
    "\n",
    "    def _backbone_forward(self, x):\n",
    "        return self.backbone.encoder(x)\n",
    "\n",
    "    def forward(self, x):\n",
    "        feat = self.backbone(x.squeeze(0).unsqueeze(1))\n",
    "        feat = feat.unsqueeze(0)\n",
    "\n",
    "        feat = self.pos_emb(feat)\n",
    "        feat = self.attention_layer(feat)\n",
    "\n",
    "        feat = self.head(feat[:, 0])\n",
    "\n",
    "        return feat.reshape((-1, CONFIG[\"n_levels\"], CONFIG[\"out_dim\"]))\n",
    "\n",
    "class NormMLPClassifierHead(nn.Module):\n",
    "    def __init__(self, in_dim, out_dim):\n",
    "        super(NormMLPClassifierHead, self).__init__()\n",
    "\n",
    "        self.out_dim = out_dim\n",
    "        self.head = nn.Sequential(\n",
    "            nn.LayerNorm(in_dim, eps=1e-05, elementwise_affine=True),\n",
    "            # nn.Flatten(start_dim=1, end_dim=-1),\n",
    "            nn.Dropout(p=CONFIG[\"drop_rate_last\"], inplace=True),\n",
    "            nn.Linear(in_features=in_dim, out_features=out_dim, bias=True),\n",
    "            # nn.Softmax()\n",
    "        )\n",
    "\n",
    "    def forward(self, x):\n",
    "        return self.head(x)"
   ],
   "id": "c35c1a45a0fb16ab",
   "outputs": [],
   "execution_count": 5
  },
  {
   "metadata": {
    "ExecuteTime": {
     "end_time": "2024-07-06T08:30:18.855411Z",
     "start_time": "2024-07-06T08:30:18.847840Z"
    }
   },
   "cell_type": "code",
   "source": [
    "class CNN_Model_Multichannel(nn.Module):\n",
    "    def __init__(self, backbone=\"tf_efficientnetv2_b3\", pretrained=False):\n",
    "        super(CNN_Model_Multichannel, self).__init__()\n",
    "\n",
    "        self.encoder = timm.create_model(\n",
    "            backbone,\n",
    "            num_classes=CONFIG[\"out_dim\"] * CONFIG[\"n_levels\"],\n",
    "            features_only=False,\n",
    "            drop_rate=CONFIG[\"drop_rate\"],\n",
    "            drop_path_rate=CONFIG[\"drop_path_rate\"],\n",
    "            pretrained=pretrained,\n",
    "            # !TODO: Refactor\n",
    "            in_chans=CONFIG[\"in_chans\"] * 38,\n",
    "        )\n",
    "\n",
    "    def forward(self, x):\n",
    "        return self.encoder(x).reshape((-1, 5, 3))"
   ],
   "id": "8329c70ff2552537",
   "outputs": [],
   "execution_count": 11
  },
  {
   "metadata": {
    "ExecuteTime": {
     "end_time": "2024-07-09T02:58:50.315231Z",
     "start_time": "2024-07-09T02:58:50.305357Z"
    }
   },
   "cell_type": "code",
   "source": [
    "class CNN_Model_3D(nn.Module):\n",
    "    def __init__(self, backbone=\"efficientnet_lite0\", in_chans=1, out_classes=5, pretrained=True):\n",
    "        super(CNN_Model_3D, self).__init__()\n",
    "        self.out_classes = out_classes\n",
    "\n",
    "        self.encoder = timm_3d.create_model(\n",
    "            backbone,\n",
    "            num_classes=out_classes * CONFIG[\"out_dim\"],\n",
    "            features_only=False,\n",
    "            drop_rate=CONFIG[\"drop_rate\"],\n",
    "            drop_path_rate=CONFIG[\"drop_path_rate\"],\n",
    "            pretrained=pretrained,\n",
    "            in_chans=in_chans,\n",
    "        ).to(CONFIG[\"device\"])\n",
    "\n",
    "    def forward(self, x):\n",
    "        # return self.encoder(x).reshape((-1, self.out_classes, 3))\n",
    "        return self.encoder(x)"
   ],
   "id": "2cc252041a77087",
   "outputs": [],
   "execution_count": 18
  },
  {
   "metadata": {
    "ExecuteTime": {
     "end_time": "2024-07-09T02:58:52.282686Z",
     "start_time": "2024-07-09T02:58:50.825612Z"
    }
   },
   "cell_type": "code",
   "source": [
    "import torch\n",
    "\n",
    "series_inference_model = torch.load(\"../models\\\\efficientnet_b0_128_3d_neg_vs_pos_weighted_bce\\\\efficientnet_b0_128_3d_neg_vs_pos_weighted_bce_10.pt\")\n",
    "series_inference_model.eval()"
   ],
   "id": "368debd0dfcdaf13",
   "outputs": [
    {
     "data": {
      "text/plain": [
       "CNN_Model_3D(\n",
       "  (encoder): EfficientNet(\n",
       "    (conv_stem): Conv3d(3, 32, kernel_size=(3, 3, 3), stride=(2, 2, 2), padding=(1, 1, 1), bias=False)\n",
       "    (bn1): BatchNormAct3d(\n",
       "      32, eps=1e-05, momentum=0.1, affine=True, track_running_stats=True\n",
       "      (drop): Identity()\n",
       "      (act): SiLU(inplace=True)\n",
       "    )\n",
       "    (blocks): Sequential(\n",
       "      (0): Sequential(\n",
       "        (0): DepthwiseSeparableConv(\n",
       "          (conv_dw): Conv3d(32, 32, kernel_size=(3, 3, 3), stride=(1, 1, 1), padding=(1, 1, 1), groups=32, bias=False)\n",
       "          (bn1): BatchNormAct3d(\n",
       "            32, eps=1e-05, momentum=0.1, affine=True, track_running_stats=True\n",
       "            (drop): Identity()\n",
       "            (act): SiLU(inplace=True)\n",
       "          )\n",
       "          (se): SqueezeExcite(\n",
       "            (conv_reduce): Conv3d(32, 8, kernel_size=(1, 1, 1), stride=(1, 1, 1))\n",
       "            (act1): SiLU(inplace=True)\n",
       "            (conv_expand): Conv3d(8, 32, kernel_size=(1, 1, 1), stride=(1, 1, 1))\n",
       "            (gate): Sigmoid()\n",
       "          )\n",
       "          (conv_pw): Conv3d(32, 16, kernel_size=(1, 1, 1), stride=(1, 1, 1), bias=False)\n",
       "          (bn2): BatchNormAct3d(\n",
       "            16, eps=1e-05, momentum=0.1, affine=True, track_running_stats=True\n",
       "            (drop): Identity()\n",
       "            (act): Identity()\n",
       "          )\n",
       "          (drop_path): Identity()\n",
       "        )\n",
       "      )\n",
       "      (1): Sequential(\n",
       "        (0): InvertedResidual(\n",
       "          (conv_pw): Conv3d(16, 96, kernel_size=(1, 1, 1), stride=(1, 1, 1), bias=False)\n",
       "          (bn1): BatchNormAct3d(\n",
       "            96, eps=1e-05, momentum=0.1, affine=True, track_running_stats=True\n",
       "            (drop): Identity()\n",
       "            (act): SiLU(inplace=True)\n",
       "          )\n",
       "          (conv_dw): Conv3d(96, 96, kernel_size=(3, 3, 3), stride=(2, 2, 2), padding=(1, 1, 1), groups=96, bias=False)\n",
       "          (bn2): BatchNormAct3d(\n",
       "            96, eps=1e-05, momentum=0.1, affine=True, track_running_stats=True\n",
       "            (drop): Identity()\n",
       "            (act): SiLU(inplace=True)\n",
       "          )\n",
       "          (se): SqueezeExcite(\n",
       "            (conv_reduce): Conv3d(96, 4, kernel_size=(1, 1, 1), stride=(1, 1, 1))\n",
       "            (act1): SiLU(inplace=True)\n",
       "            (conv_expand): Conv3d(4, 96, kernel_size=(1, 1, 1), stride=(1, 1, 1))\n",
       "            (gate): Sigmoid()\n",
       "          )\n",
       "          (conv_pwl): Conv3d(96, 24, kernel_size=(1, 1, 1), stride=(1, 1, 1), bias=False)\n",
       "          (bn3): BatchNormAct3d(\n",
       "            24, eps=1e-05, momentum=0.1, affine=True, track_running_stats=True\n",
       "            (drop): Identity()\n",
       "            (act): Identity()\n",
       "          )\n",
       "          (drop_path): Identity()\n",
       "        )\n",
       "        (1): InvertedResidual(\n",
       "          (conv_pw): Conv3d(24, 144, kernel_size=(1, 1, 1), stride=(1, 1, 1), bias=False)\n",
       "          (bn1): BatchNormAct3d(\n",
       "            144, eps=1e-05, momentum=0.1, affine=True, track_running_stats=True\n",
       "            (drop): Identity()\n",
       "            (act): SiLU(inplace=True)\n",
       "          )\n",
       "          (conv_dw): Conv3d(144, 144, kernel_size=(3, 3, 3), stride=(1, 1, 1), padding=(1, 1, 1), groups=144, bias=False)\n",
       "          (bn2): BatchNormAct3d(\n",
       "            144, eps=1e-05, momentum=0.1, affine=True, track_running_stats=True\n",
       "            (drop): Identity()\n",
       "            (act): SiLU(inplace=True)\n",
       "          )\n",
       "          (se): SqueezeExcite(\n",
       "            (conv_reduce): Conv3d(144, 6, kernel_size=(1, 1, 1), stride=(1, 1, 1))\n",
       "            (act1): SiLU(inplace=True)\n",
       "            (conv_expand): Conv3d(6, 144, kernel_size=(1, 1, 1), stride=(1, 1, 1))\n",
       "            (gate): Sigmoid()\n",
       "          )\n",
       "          (conv_pwl): Conv3d(144, 24, kernel_size=(1, 1, 1), stride=(1, 1, 1), bias=False)\n",
       "          (bn3): BatchNormAct3d(\n",
       "            24, eps=1e-05, momentum=0.1, affine=True, track_running_stats=True\n",
       "            (drop): Identity()\n",
       "            (act): Identity()\n",
       "          )\n",
       "          (drop_path): Identity()\n",
       "        )\n",
       "      )\n",
       "      (2): Sequential(\n",
       "        (0): InvertedResidual(\n",
       "          (conv_pw): Conv3d(24, 144, kernel_size=(1, 1, 1), stride=(1, 1, 1), bias=False)\n",
       "          (bn1): BatchNormAct3d(\n",
       "            144, eps=1e-05, momentum=0.1, affine=True, track_running_stats=True\n",
       "            (drop): Identity()\n",
       "            (act): SiLU(inplace=True)\n",
       "          )\n",
       "          (conv_dw): Conv3d(144, 144, kernel_size=(5, 5, 5), stride=(2, 2, 2), padding=(2, 2, 2), groups=144, bias=False)\n",
       "          (bn2): BatchNormAct3d(\n",
       "            144, eps=1e-05, momentum=0.1, affine=True, track_running_stats=True\n",
       "            (drop): Identity()\n",
       "            (act): SiLU(inplace=True)\n",
       "          )\n",
       "          (se): SqueezeExcite(\n",
       "            (conv_reduce): Conv3d(144, 6, kernel_size=(1, 1, 1), stride=(1, 1, 1))\n",
       "            (act1): SiLU(inplace=True)\n",
       "            (conv_expand): Conv3d(6, 144, kernel_size=(1, 1, 1), stride=(1, 1, 1))\n",
       "            (gate): Sigmoid()\n",
       "          )\n",
       "          (conv_pwl): Conv3d(144, 40, kernel_size=(1, 1, 1), stride=(1, 1, 1), bias=False)\n",
       "          (bn3): BatchNormAct3d(\n",
       "            40, eps=1e-05, momentum=0.1, affine=True, track_running_stats=True\n",
       "            (drop): Identity()\n",
       "            (act): Identity()\n",
       "          )\n",
       "          (drop_path): Identity()\n",
       "        )\n",
       "        (1): InvertedResidual(\n",
       "          (conv_pw): Conv3d(40, 240, kernel_size=(1, 1, 1), stride=(1, 1, 1), bias=False)\n",
       "          (bn1): BatchNormAct3d(\n",
       "            240, eps=1e-05, momentum=0.1, affine=True, track_running_stats=True\n",
       "            (drop): Identity()\n",
       "            (act): SiLU(inplace=True)\n",
       "          )\n",
       "          (conv_dw): Conv3d(240, 240, kernel_size=(5, 5, 5), stride=(1, 1, 1), padding=(2, 2, 2), groups=240, bias=False)\n",
       "          (bn2): BatchNormAct3d(\n",
       "            240, eps=1e-05, momentum=0.1, affine=True, track_running_stats=True\n",
       "            (drop): Identity()\n",
       "            (act): SiLU(inplace=True)\n",
       "          )\n",
       "          (se): SqueezeExcite(\n",
       "            (conv_reduce): Conv3d(240, 10, kernel_size=(1, 1, 1), stride=(1, 1, 1))\n",
       "            (act1): SiLU(inplace=True)\n",
       "            (conv_expand): Conv3d(10, 240, kernel_size=(1, 1, 1), stride=(1, 1, 1))\n",
       "            (gate): Sigmoid()\n",
       "          )\n",
       "          (conv_pwl): Conv3d(240, 40, kernel_size=(1, 1, 1), stride=(1, 1, 1), bias=False)\n",
       "          (bn3): BatchNormAct3d(\n",
       "            40, eps=1e-05, momentum=0.1, affine=True, track_running_stats=True\n",
       "            (drop): Identity()\n",
       "            (act): Identity()\n",
       "          )\n",
       "          (drop_path): Identity()\n",
       "        )\n",
       "      )\n",
       "      (3): Sequential(\n",
       "        (0): InvertedResidual(\n",
       "          (conv_pw): Conv3d(40, 240, kernel_size=(1, 1, 1), stride=(1, 1, 1), bias=False)\n",
       "          (bn1): BatchNormAct3d(\n",
       "            240, eps=1e-05, momentum=0.1, affine=True, track_running_stats=True\n",
       "            (drop): Identity()\n",
       "            (act): SiLU(inplace=True)\n",
       "          )\n",
       "          (conv_dw): Conv3d(240, 240, kernel_size=(3, 3, 3), stride=(2, 2, 2), padding=(1, 1, 1), groups=240, bias=False)\n",
       "          (bn2): BatchNormAct3d(\n",
       "            240, eps=1e-05, momentum=0.1, affine=True, track_running_stats=True\n",
       "            (drop): Identity()\n",
       "            (act): SiLU(inplace=True)\n",
       "          )\n",
       "          (se): SqueezeExcite(\n",
       "            (conv_reduce): Conv3d(240, 10, kernel_size=(1, 1, 1), stride=(1, 1, 1))\n",
       "            (act1): SiLU(inplace=True)\n",
       "            (conv_expand): Conv3d(10, 240, kernel_size=(1, 1, 1), stride=(1, 1, 1))\n",
       "            (gate): Sigmoid()\n",
       "          )\n",
       "          (conv_pwl): Conv3d(240, 80, kernel_size=(1, 1, 1), stride=(1, 1, 1), bias=False)\n",
       "          (bn3): BatchNormAct3d(\n",
       "            80, eps=1e-05, momentum=0.1, affine=True, track_running_stats=True\n",
       "            (drop): Identity()\n",
       "            (act): Identity()\n",
       "          )\n",
       "          (drop_path): Identity()\n",
       "        )\n",
       "        (1): InvertedResidual(\n",
       "          (conv_pw): Conv3d(80, 480, kernel_size=(1, 1, 1), stride=(1, 1, 1), bias=False)\n",
       "          (bn1): BatchNormAct3d(\n",
       "            480, eps=1e-05, momentum=0.1, affine=True, track_running_stats=True\n",
       "            (drop): Identity()\n",
       "            (act): SiLU(inplace=True)\n",
       "          )\n",
       "          (conv_dw): Conv3d(480, 480, kernel_size=(3, 3, 3), stride=(1, 1, 1), padding=(1, 1, 1), groups=480, bias=False)\n",
       "          (bn2): BatchNormAct3d(\n",
       "            480, eps=1e-05, momentum=0.1, affine=True, track_running_stats=True\n",
       "            (drop): Identity()\n",
       "            (act): SiLU(inplace=True)\n",
       "          )\n",
       "          (se): SqueezeExcite(\n",
       "            (conv_reduce): Conv3d(480, 20, kernel_size=(1, 1, 1), stride=(1, 1, 1))\n",
       "            (act1): SiLU(inplace=True)\n",
       "            (conv_expand): Conv3d(20, 480, kernel_size=(1, 1, 1), stride=(1, 1, 1))\n",
       "            (gate): Sigmoid()\n",
       "          )\n",
       "          (conv_pwl): Conv3d(480, 80, kernel_size=(1, 1, 1), stride=(1, 1, 1), bias=False)\n",
       "          (bn3): BatchNormAct3d(\n",
       "            80, eps=1e-05, momentum=0.1, affine=True, track_running_stats=True\n",
       "            (drop): Identity()\n",
       "            (act): Identity()\n",
       "          )\n",
       "          (drop_path): Identity()\n",
       "        )\n",
       "        (2): InvertedResidual(\n",
       "          (conv_pw): Conv3d(80, 480, kernel_size=(1, 1, 1), stride=(1, 1, 1), bias=False)\n",
       "          (bn1): BatchNormAct3d(\n",
       "            480, eps=1e-05, momentum=0.1, affine=True, track_running_stats=True\n",
       "            (drop): Identity()\n",
       "            (act): SiLU(inplace=True)\n",
       "          )\n",
       "          (conv_dw): Conv3d(480, 480, kernel_size=(3, 3, 3), stride=(1, 1, 1), padding=(1, 1, 1), groups=480, bias=False)\n",
       "          (bn2): BatchNormAct3d(\n",
       "            480, eps=1e-05, momentum=0.1, affine=True, track_running_stats=True\n",
       "            (drop): Identity()\n",
       "            (act): SiLU(inplace=True)\n",
       "          )\n",
       "          (se): SqueezeExcite(\n",
       "            (conv_reduce): Conv3d(480, 20, kernel_size=(1, 1, 1), stride=(1, 1, 1))\n",
       "            (act1): SiLU(inplace=True)\n",
       "            (conv_expand): Conv3d(20, 480, kernel_size=(1, 1, 1), stride=(1, 1, 1))\n",
       "            (gate): Sigmoid()\n",
       "          )\n",
       "          (conv_pwl): Conv3d(480, 80, kernel_size=(1, 1, 1), stride=(1, 1, 1), bias=False)\n",
       "          (bn3): BatchNormAct3d(\n",
       "            80, eps=1e-05, momentum=0.1, affine=True, track_running_stats=True\n",
       "            (drop): Identity()\n",
       "            (act): Identity()\n",
       "          )\n",
       "          (drop_path): Identity()\n",
       "        )\n",
       "      )\n",
       "      (4): Sequential(\n",
       "        (0): InvertedResidual(\n",
       "          (conv_pw): Conv3d(80, 480, kernel_size=(1, 1, 1), stride=(1, 1, 1), bias=False)\n",
       "          (bn1): BatchNormAct3d(\n",
       "            480, eps=1e-05, momentum=0.1, affine=True, track_running_stats=True\n",
       "            (drop): Identity()\n",
       "            (act): SiLU(inplace=True)\n",
       "          )\n",
       "          (conv_dw): Conv3d(480, 480, kernel_size=(5, 5, 5), stride=(1, 1, 1), padding=(2, 2, 2), groups=480, bias=False)\n",
       "          (bn2): BatchNormAct3d(\n",
       "            480, eps=1e-05, momentum=0.1, affine=True, track_running_stats=True\n",
       "            (drop): Identity()\n",
       "            (act): SiLU(inplace=True)\n",
       "          )\n",
       "          (se): SqueezeExcite(\n",
       "            (conv_reduce): Conv3d(480, 20, kernel_size=(1, 1, 1), stride=(1, 1, 1))\n",
       "            (act1): SiLU(inplace=True)\n",
       "            (conv_expand): Conv3d(20, 480, kernel_size=(1, 1, 1), stride=(1, 1, 1))\n",
       "            (gate): Sigmoid()\n",
       "          )\n",
       "          (conv_pwl): Conv3d(480, 112, kernel_size=(1, 1, 1), stride=(1, 1, 1), bias=False)\n",
       "          (bn3): BatchNormAct3d(\n",
       "            112, eps=1e-05, momentum=0.1, affine=True, track_running_stats=True\n",
       "            (drop): Identity()\n",
       "            (act): Identity()\n",
       "          )\n",
       "          (drop_path): Identity()\n",
       "        )\n",
       "        (1): InvertedResidual(\n",
       "          (conv_pw): Conv3d(112, 672, kernel_size=(1, 1, 1), stride=(1, 1, 1), bias=False)\n",
       "          (bn1): BatchNormAct3d(\n",
       "            672, eps=1e-05, momentum=0.1, affine=True, track_running_stats=True\n",
       "            (drop): Identity()\n",
       "            (act): SiLU(inplace=True)\n",
       "          )\n",
       "          (conv_dw): Conv3d(672, 672, kernel_size=(5, 5, 5), stride=(1, 1, 1), padding=(2, 2, 2), groups=672, bias=False)\n",
       "          (bn2): BatchNormAct3d(\n",
       "            672, eps=1e-05, momentum=0.1, affine=True, track_running_stats=True\n",
       "            (drop): Identity()\n",
       "            (act): SiLU(inplace=True)\n",
       "          )\n",
       "          (se): SqueezeExcite(\n",
       "            (conv_reduce): Conv3d(672, 28, kernel_size=(1, 1, 1), stride=(1, 1, 1))\n",
       "            (act1): SiLU(inplace=True)\n",
       "            (conv_expand): Conv3d(28, 672, kernel_size=(1, 1, 1), stride=(1, 1, 1))\n",
       "            (gate): Sigmoid()\n",
       "          )\n",
       "          (conv_pwl): Conv3d(672, 112, kernel_size=(1, 1, 1), stride=(1, 1, 1), bias=False)\n",
       "          (bn3): BatchNormAct3d(\n",
       "            112, eps=1e-05, momentum=0.1, affine=True, track_running_stats=True\n",
       "            (drop): Identity()\n",
       "            (act): Identity()\n",
       "          )\n",
       "          (drop_path): Identity()\n",
       "        )\n",
       "        (2): InvertedResidual(\n",
       "          (conv_pw): Conv3d(112, 672, kernel_size=(1, 1, 1), stride=(1, 1, 1), bias=False)\n",
       "          (bn1): BatchNormAct3d(\n",
       "            672, eps=1e-05, momentum=0.1, affine=True, track_running_stats=True\n",
       "            (drop): Identity()\n",
       "            (act): SiLU(inplace=True)\n",
       "          )\n",
       "          (conv_dw): Conv3d(672, 672, kernel_size=(5, 5, 5), stride=(1, 1, 1), padding=(2, 2, 2), groups=672, bias=False)\n",
       "          (bn2): BatchNormAct3d(\n",
       "            672, eps=1e-05, momentum=0.1, affine=True, track_running_stats=True\n",
       "            (drop): Identity()\n",
       "            (act): SiLU(inplace=True)\n",
       "          )\n",
       "          (se): SqueezeExcite(\n",
       "            (conv_reduce): Conv3d(672, 28, kernel_size=(1, 1, 1), stride=(1, 1, 1))\n",
       "            (act1): SiLU(inplace=True)\n",
       "            (conv_expand): Conv3d(28, 672, kernel_size=(1, 1, 1), stride=(1, 1, 1))\n",
       "            (gate): Sigmoid()\n",
       "          )\n",
       "          (conv_pwl): Conv3d(672, 112, kernel_size=(1, 1, 1), stride=(1, 1, 1), bias=False)\n",
       "          (bn3): BatchNormAct3d(\n",
       "            112, eps=1e-05, momentum=0.1, affine=True, track_running_stats=True\n",
       "            (drop): Identity()\n",
       "            (act): Identity()\n",
       "          )\n",
       "          (drop_path): Identity()\n",
       "        )\n",
       "      )\n",
       "      (5): Sequential(\n",
       "        (0): InvertedResidual(\n",
       "          (conv_pw): Conv3d(112, 672, kernel_size=(1, 1, 1), stride=(1, 1, 1), bias=False)\n",
       "          (bn1): BatchNormAct3d(\n",
       "            672, eps=1e-05, momentum=0.1, affine=True, track_running_stats=True\n",
       "            (drop): Identity()\n",
       "            (act): SiLU(inplace=True)\n",
       "          )\n",
       "          (conv_dw): Conv3d(672, 672, kernel_size=(5, 5, 5), stride=(2, 2, 2), padding=(2, 2, 2), groups=672, bias=False)\n",
       "          (bn2): BatchNormAct3d(\n",
       "            672, eps=1e-05, momentum=0.1, affine=True, track_running_stats=True\n",
       "            (drop): Identity()\n",
       "            (act): SiLU(inplace=True)\n",
       "          )\n",
       "          (se): SqueezeExcite(\n",
       "            (conv_reduce): Conv3d(672, 28, kernel_size=(1, 1, 1), stride=(1, 1, 1))\n",
       "            (act1): SiLU(inplace=True)\n",
       "            (conv_expand): Conv3d(28, 672, kernel_size=(1, 1, 1), stride=(1, 1, 1))\n",
       "            (gate): Sigmoid()\n",
       "          )\n",
       "          (conv_pwl): Conv3d(672, 192, kernel_size=(1, 1, 1), stride=(1, 1, 1), bias=False)\n",
       "          (bn3): BatchNormAct3d(\n",
       "            192, eps=1e-05, momentum=0.1, affine=True, track_running_stats=True\n",
       "            (drop): Identity()\n",
       "            (act): Identity()\n",
       "          )\n",
       "          (drop_path): Identity()\n",
       "        )\n",
       "        (1): InvertedResidual(\n",
       "          (conv_pw): Conv3d(192, 1152, kernel_size=(1, 1, 1), stride=(1, 1, 1), bias=False)\n",
       "          (bn1): BatchNormAct3d(\n",
       "            1152, eps=1e-05, momentum=0.1, affine=True, track_running_stats=True\n",
       "            (drop): Identity()\n",
       "            (act): SiLU(inplace=True)\n",
       "          )\n",
       "          (conv_dw): Conv3d(1152, 1152, kernel_size=(5, 5, 5), stride=(1, 1, 1), padding=(2, 2, 2), groups=1152, bias=False)\n",
       "          (bn2): BatchNormAct3d(\n",
       "            1152, eps=1e-05, momentum=0.1, affine=True, track_running_stats=True\n",
       "            (drop): Identity()\n",
       "            (act): SiLU(inplace=True)\n",
       "          )\n",
       "          (se): SqueezeExcite(\n",
       "            (conv_reduce): Conv3d(1152, 48, kernel_size=(1, 1, 1), stride=(1, 1, 1))\n",
       "            (act1): SiLU(inplace=True)\n",
       "            (conv_expand): Conv3d(48, 1152, kernel_size=(1, 1, 1), stride=(1, 1, 1))\n",
       "            (gate): Sigmoid()\n",
       "          )\n",
       "          (conv_pwl): Conv3d(1152, 192, kernel_size=(1, 1, 1), stride=(1, 1, 1), bias=False)\n",
       "          (bn3): BatchNormAct3d(\n",
       "            192, eps=1e-05, momentum=0.1, affine=True, track_running_stats=True\n",
       "            (drop): Identity()\n",
       "            (act): Identity()\n",
       "          )\n",
       "          (drop_path): Identity()\n",
       "        )\n",
       "        (2): InvertedResidual(\n",
       "          (conv_pw): Conv3d(192, 1152, kernel_size=(1, 1, 1), stride=(1, 1, 1), bias=False)\n",
       "          (bn1): BatchNormAct3d(\n",
       "            1152, eps=1e-05, momentum=0.1, affine=True, track_running_stats=True\n",
       "            (drop): Identity()\n",
       "            (act): SiLU(inplace=True)\n",
       "          )\n",
       "          (conv_dw): Conv3d(1152, 1152, kernel_size=(5, 5, 5), stride=(1, 1, 1), padding=(2, 2, 2), groups=1152, bias=False)\n",
       "          (bn2): BatchNormAct3d(\n",
       "            1152, eps=1e-05, momentum=0.1, affine=True, track_running_stats=True\n",
       "            (drop): Identity()\n",
       "            (act): SiLU(inplace=True)\n",
       "          )\n",
       "          (se): SqueezeExcite(\n",
       "            (conv_reduce): Conv3d(1152, 48, kernel_size=(1, 1, 1), stride=(1, 1, 1))\n",
       "            (act1): SiLU(inplace=True)\n",
       "            (conv_expand): Conv3d(48, 1152, kernel_size=(1, 1, 1), stride=(1, 1, 1))\n",
       "            (gate): Sigmoid()\n",
       "          )\n",
       "          (conv_pwl): Conv3d(1152, 192, kernel_size=(1, 1, 1), stride=(1, 1, 1), bias=False)\n",
       "          (bn3): BatchNormAct3d(\n",
       "            192, eps=1e-05, momentum=0.1, affine=True, track_running_stats=True\n",
       "            (drop): Identity()\n",
       "            (act): Identity()\n",
       "          )\n",
       "          (drop_path): Identity()\n",
       "        )\n",
       "        (3): InvertedResidual(\n",
       "          (conv_pw): Conv3d(192, 1152, kernel_size=(1, 1, 1), stride=(1, 1, 1), bias=False)\n",
       "          (bn1): BatchNormAct3d(\n",
       "            1152, eps=1e-05, momentum=0.1, affine=True, track_running_stats=True\n",
       "            (drop): Identity()\n",
       "            (act): SiLU(inplace=True)\n",
       "          )\n",
       "          (conv_dw): Conv3d(1152, 1152, kernel_size=(5, 5, 5), stride=(1, 1, 1), padding=(2, 2, 2), groups=1152, bias=False)\n",
       "          (bn2): BatchNormAct3d(\n",
       "            1152, eps=1e-05, momentum=0.1, affine=True, track_running_stats=True\n",
       "            (drop): Identity()\n",
       "            (act): SiLU(inplace=True)\n",
       "          )\n",
       "          (se): SqueezeExcite(\n",
       "            (conv_reduce): Conv3d(1152, 48, kernel_size=(1, 1, 1), stride=(1, 1, 1))\n",
       "            (act1): SiLU(inplace=True)\n",
       "            (conv_expand): Conv3d(48, 1152, kernel_size=(1, 1, 1), stride=(1, 1, 1))\n",
       "            (gate): Sigmoid()\n",
       "          )\n",
       "          (conv_pwl): Conv3d(1152, 192, kernel_size=(1, 1, 1), stride=(1, 1, 1), bias=False)\n",
       "          (bn3): BatchNormAct3d(\n",
       "            192, eps=1e-05, momentum=0.1, affine=True, track_running_stats=True\n",
       "            (drop): Identity()\n",
       "            (act): Identity()\n",
       "          )\n",
       "          (drop_path): Identity()\n",
       "        )\n",
       "      )\n",
       "      (6): Sequential(\n",
       "        (0): InvertedResidual(\n",
       "          (conv_pw): Conv3d(192, 1152, kernel_size=(1, 1, 1), stride=(1, 1, 1), bias=False)\n",
       "          (bn1): BatchNormAct3d(\n",
       "            1152, eps=1e-05, momentum=0.1, affine=True, track_running_stats=True\n",
       "            (drop): Identity()\n",
       "            (act): SiLU(inplace=True)\n",
       "          )\n",
       "          (conv_dw): Conv3d(1152, 1152, kernel_size=(3, 3, 3), stride=(1, 1, 1), padding=(1, 1, 1), groups=1152, bias=False)\n",
       "          (bn2): BatchNormAct3d(\n",
       "            1152, eps=1e-05, momentum=0.1, affine=True, track_running_stats=True\n",
       "            (drop): Identity()\n",
       "            (act): SiLU(inplace=True)\n",
       "          )\n",
       "          (se): SqueezeExcite(\n",
       "            (conv_reduce): Conv3d(1152, 48, kernel_size=(1, 1, 1), stride=(1, 1, 1))\n",
       "            (act1): SiLU(inplace=True)\n",
       "            (conv_expand): Conv3d(48, 1152, kernel_size=(1, 1, 1), stride=(1, 1, 1))\n",
       "            (gate): Sigmoid()\n",
       "          )\n",
       "          (conv_pwl): Conv3d(1152, 320, kernel_size=(1, 1, 1), stride=(1, 1, 1), bias=False)\n",
       "          (bn3): BatchNormAct3d(\n",
       "            320, eps=1e-05, momentum=0.1, affine=True, track_running_stats=True\n",
       "            (drop): Identity()\n",
       "            (act): Identity()\n",
       "          )\n",
       "          (drop_path): Identity()\n",
       "        )\n",
       "      )\n",
       "    )\n",
       "    (conv_head): Conv3d(320, 1280, kernel_size=(1, 1, 1), stride=(1, 1, 1), bias=False)\n",
       "    (bn2): BatchNormAct3d(\n",
       "      1280, eps=1e-05, momentum=0.1, affine=True, track_running_stats=True\n",
       "      (drop): Identity()\n",
       "      (act): SiLU(inplace=True)\n",
       "    )\n",
       "    (global_pool): SelectAdaptivePool3d(pool_type=avg, flatten=Flatten(start_dim=1, end_dim=-1))\n",
       "    (classifier): Linear(in_features=1280, out_features=75, bias=True)\n",
       "  )\n",
       ")"
      ]
     },
     "execution_count": 19,
     "metadata": {},
     "output_type": "execute_result"
    }
   ],
   "execution_count": 19
  },
  {
   "metadata": {
    "ExecuteTime": {
     "end_time": "2024-07-09T02:58:33.259317Z",
     "start_time": "2024-07-09T02:58:25.766152Z"
    }
   },
   "cell_type": "code",
   "source": [
    "DATA_BASEPATH = \"../data/rsna-2024-lumbar-spine-degenerative-classification/\"\n",
    "TRAINING_DATA = retrieve_coordinate_training_data(DATA_BASEPATH)\n",
    "\n",
    "(trainloader, valloader, test_loader,\n",
    " trainset, valset, testset) = create_subject_level_datasets_and_loaders(TRAINING_DATA,\n",
    "                                                                        transform_train,\n",
    "                                                                        transform_val,\n",
    "                                                                        transform_3d_train=None,\n",
    "                                                                        base_path=os.path.join(\n",
    "                                                                           DATA_BASEPATH,\n",
    "                                                                           \"train_images\"),\n",
    "                                                                        num_workers=0,\n",
    "                                                                        split_factor=0.3,\n",
    "                                                                        batch_size=8,\n",
    "                                                                        data_type=SeriesDataType.CUBE_3D_DOWNSAMPLED_PADDED)\n"
   ],
   "id": "454f9741cff61eda",
   "outputs": [
    {
     "name": "stderr",
     "output_type": "stream",
     "text": [
      "C:\\Users\\Victor\\Documents\\python-doodles\\rsna-2024\\rsna_dataloader.py:775: FutureWarning: The behavior of DataFrame concatenation with empty or all-NA entries is deprecated. In a future version, this will no longer exclude empty or all-NA columns when determining the result dtypes. To retain the old behavior, exclude the relevant entries before the concat operation.\n",
      "  filtered_df = pd.concat([filtered_df, subset])\n"
     ]
    }
   ],
   "execution_count": 15
  },
  {
   "metadata": {
    "ExecuteTime": {
     "end_time": "2024-07-09T02:58:33.762706Z",
     "start_time": "2024-07-09T02:58:33.261832Z"
    }
   },
   "cell_type": "code",
   "source": [
    "testset[0][0].shape"
   ],
   "id": "73e9602f869f23a7",
   "outputs": [
    {
     "data": {
      "text/plain": [
       "torch.Size([3, 128, 128, 128])"
      ]
     },
     "execution_count": 16,
     "metadata": {},
     "output_type": "execute_result"
    }
   ],
   "execution_count": 16
  },
  {
   "metadata": {
    "ExecuteTime": {
     "end_time": "2024-07-09T03:00:41.836644Z",
     "start_time": "2024-07-09T02:58:56.379185Z"
    }
   },
   "cell_type": "code",
   "source": [
    "from tqdm import tqdm\n",
    "\n",
    "inferred = []\n",
    "target = []\n",
    "\n",
    "with torch.no_grad():\n",
    "    for image, label in tqdm(test_loader):\n",
    "        target.append(label.detach())\n",
    "        inferred.append(series_inference_model(image.to(\"cuda\")).detach())\n"
   ],
   "id": "29abf8512d2665f",
   "outputs": [
    {
     "name": "stderr",
     "output_type": "stream",
     "text": [
      "100%|██████████| 17/17 [01:45<00:00,  6.20s/it]\n"
     ]
    }
   ],
   "execution_count": 20
  },
  {
   "metadata": {
    "ExecuteTime": {
     "end_time": "2024-07-09T03:00:52.828540Z",
     "start_time": "2024-07-09T03:00:52.762507Z"
    }
   },
   "cell_type": "code",
   "source": [
    "import torch.nn as nn\n",
    "\n",
    "inferred_new = []\n",
    "target_new = []\n",
    "for e in inferred:\n",
    "    for elem in e:\n",
    "        inferred_new.append(elem.reshape((-1, 25, 3)))\n",
    "for e in target:\n",
    "    for elem in e:\n",
    "        target_new.append(elem.reshape((-1, 25, 3)))\n",
    "        \n",
    "        \n",
    "nn.Softmax(dim=2)(inferred_new[1]), target_new[1]"
   ],
   "id": "9ada889dc67cd91d",
   "outputs": [
    {
     "data": {
      "text/plain": [
       "(tensor([[[0.2013, 0.6179, 0.1808],\n",
       "          [0.1267, 0.4096, 0.4637],\n",
       "          [0.2322, 0.3921, 0.3756],\n",
       "          [0.2461, 0.3455, 0.4084],\n",
       "          [0.2092, 0.4555, 0.3353],\n",
       "          [0.1592, 0.5171, 0.3237],\n",
       "          [0.1959, 0.3798, 0.4243],\n",
       "          [0.2152, 0.3622, 0.4226],\n",
       "          [0.2311, 0.3381, 0.4308],\n",
       "          [0.2479, 0.3493, 0.4027],\n",
       "          [0.1245, 0.3894, 0.4861],\n",
       "          [0.1711, 0.4632, 0.3657],\n",
       "          [0.2238, 0.4505, 0.3257],\n",
       "          [0.2343, 0.4241, 0.3416],\n",
       "          [0.2057, 0.4175, 0.3767],\n",
       "          [0.1254, 0.5057, 0.3689],\n",
       "          [0.1450, 0.4555, 0.3995],\n",
       "          [0.2036, 0.3573, 0.4391],\n",
       "          [0.1975, 0.3995, 0.4030],\n",
       "          [0.2438, 0.3514, 0.4047],\n",
       "          [0.1605, 0.3370, 0.5026],\n",
       "          [0.1845, 0.4077, 0.4077],\n",
       "          [0.1854, 0.4621, 0.3525],\n",
       "          [0.2245, 0.3975, 0.3781],\n",
       "          [0.2761, 0.4779, 0.2460]]], device='cuda:0'),\n",
       " tensor([[[1., 0., 0.],\n",
       "          [0., 1., 0.],\n",
       "          [0., 1., 0.],\n",
       "          [0., 1., 0.],\n",
       "          [1., 0., 0.],\n",
       "          [1., 0., 0.],\n",
       "          [0., 1., 0.],\n",
       "          [1., 0., 0.],\n",
       "          [0., 0., 1.],\n",
       "          [1., 0., 0.],\n",
       "          [1., 0., 0.],\n",
       "          [1., 0., 0.],\n",
       "          [0., 1., 0.],\n",
       "          [0., 1., 0.],\n",
       "          [0., 0., 1.],\n",
       "          [1., 0., 0.],\n",
       "          [0., 1., 0.],\n",
       "          [0., 0., 1.],\n",
       "          [0., 1., 0.],\n",
       "          [0., 1., 0.],\n",
       "          [1., 0., 0.],\n",
       "          [0., 0., 1.],\n",
       "          [1., 0., 0.],\n",
       "          [1., 0., 0.],\n",
       "          [1., 0., 0.]]]))"
      ]
     },
     "execution_count": 21,
     "metadata": {},
     "output_type": "execute_result"
    }
   ],
   "execution_count": 21
  },
  {
   "metadata": {
    "ExecuteTime": {
     "end_time": "2024-07-09T03:01:07.680753Z",
     "start_time": "2024-07-09T03:01:07.147802Z"
    }
   },
   "cell_type": "code",
   "source": [
    "inferred_l = [[np.argmax(e_) for e_ in e.detach().cpu()[0]] for e in inferred_new]\n",
    "target_l = [[np.argmax(e_) for e_ in e.detach().cpu()[0]] for e in target_new]"
   ],
   "id": "be6a86696016b5c",
   "outputs": [],
   "execution_count": 22
  },
  {
   "metadata": {
    "ExecuteTime": {
     "end_time": "2024-07-09T03:01:08.359481Z",
     "start_time": "2024-07-09T03:01:08.352363Z"
    }
   },
   "cell_type": "code",
   "source": [
    "len(inferred_l[1]), len(target_l[1])"
   ],
   "id": "316e15417a70bf9d",
   "outputs": [
    {
     "data": {
      "text/plain": [
       "(25, 25)"
      ]
     },
     "execution_count": 23,
     "metadata": {},
     "output_type": "execute_result"
    }
   ],
   "execution_count": 23
  },
  {
   "metadata": {
    "ExecuteTime": {
     "end_time": "2024-07-09T01:29:39.796517Z",
     "start_time": "2024-07-09T01:29:39.788130Z"
    }
   },
   "cell_type": "code",
   "source": [
    "train_labels = list(trainset.labels.values())\n",
    "train_labels = [e.reshape(-1, 25, 3)[0] for e in train_labels]\n",
    "train_labels[0]"
   ],
   "id": "a05dbf72d9738866",
   "outputs": [
    {
     "data": {
      "text/plain": [
       "array([[1, 0, 0],\n",
       "       [1, 0, 0],\n",
       "       [1, 0, 0],\n",
       "       [0, 1, 0],\n",
       "       [1, 0, 0],\n",
       "       [1, 0, 0],\n",
       "       [1, 0, 0],\n",
       "       [1, 0, 0],\n",
       "       [0, 1, 0],\n",
       "       [1, 0, 0],\n",
       "       [1, 0, 0],\n",
       "       [1, 0, 0],\n",
       "       [0, 1, 0],\n",
       "       [0, 1, 0],\n",
       "       [1, 0, 0],\n",
       "       [1, 0, 0],\n",
       "       [1, 0, 0],\n",
       "       [1, 0, 0],\n",
       "       [1, 0, 0],\n",
       "       [1, 0, 0],\n",
       "       [1, 0, 0],\n",
       "       [1, 0, 0],\n",
       "       [1, 0, 0],\n",
       "       [1, 0, 0],\n",
       "       [1, 0, 0]])"
      ]
     },
     "execution_count": 7,
     "metadata": {},
     "output_type": "execute_result"
    }
   ],
   "execution_count": 7
  },
  {
   "metadata": {
    "ExecuteTime": {
     "end_time": "2024-07-09T01:39:43.934815Z",
     "start_time": "2024-07-09T01:39:43.746014Z"
    }
   },
   "cell_type": "code",
   "source": [
    "train_df = pd.DataFrame([np.argmax(e, axis=1) for e in train_labels])\n",
    "relative_weights = []\n",
    "for i in range(25):\n",
    "    curr_gr = train_df.groupby(i).count().values[:,0]\n",
    "    curr_gr = (sum(curr_gr) - curr_gr) / curr_gr\n",
    "    relative_weights.append(list(curr_gr))\n",
    "relative_weights = np.array(relative_weights)\n",
    "list(relative_weights)"
   ],
   "id": "5632c91f755e67e5",
   "outputs": [
    {
     "data": {
      "text/plain": [
       "[array([  1.03574397,  30.3902439 , 623.        ]),\n",
       " array([  1.10265487,  11.53703704, 155.75      ]),\n",
       " array([ 1.29656608,  4.73764259, 56.63636364]),\n",
       " array([ 1.65033113,  3.12280702, 13.54347826]),\n",
       " array([1.60981912, 3.73053892, 9.02898551]),\n",
       " array([ 1.06678082, 20.76666667, 69.22222222]),\n",
       " array([ 1.21206226,  7.64417178, 22.65454545]),\n",
       " array([ 1.47630332,  4.31141869, 11.02654867]),\n",
       " array([2.15944541, 3.27034121, 4.32638889]),\n",
       " array([ 1.39686099,  4.79230769, 13.25531915]),\n",
       " array([  1.04442582,  28.31818182, 138.44444444]),\n",
       " array([  1.09876543,  11.53703704, 311.5       ]),\n",
       " array([ 1.30198537,  4.75572519, 46.14814815]),\n",
       " array([ 1.60154242,  3.28759894, 14.        ]),\n",
       " array([ 1.50847458,  4.15333333, 10.38333333]),\n",
       " array([ 1.08065915, 15.7721519 , 89.        ]),\n",
       " array([ 1.20038536,  7.59756098, 28.31818182]),\n",
       " array([ 1.48333333,  4.1952862 , 11.43119266]),\n",
       " array([2.21708185, 3.17857143, 4.26712329]),\n",
       " array([ 1.4       ,  5.00401606, 11.64485981]),\n",
       " array([ 1.04617968, 30.3902439 , 89.        ]),\n",
       " array([ 1.12353472, 12.71428571, 31.94871795]),\n",
       " array([ 1.21679688,  8.71328671, 15.7721519 ]),\n",
       " array([1.34557235, 8.41891892, 7.24418605]),\n",
       " array([ 1.0331675 , 46.14814815, 95.84615385])]"
      ]
     },
     "execution_count": 12,
     "metadata": {},
     "output_type": "execute_result"
    }
   ],
   "execution_count": 12
  },
  {
   "metadata": {
    "ExecuteTime": {
     "end_time": "2024-07-08T22:23:02.092040Z",
     "start_time": "2024-07-08T22:23:02.084559Z"
    }
   },
   "cell_type": "code",
   "source": [
    "train_df.groupby(1).count()"
   ],
   "id": "819dbbbe5ed351e",
   "outputs": [
    {
     "data": {
      "text/plain": [
       "array([1130,  108,    8], dtype=int64)"
      ]
     },
     "execution_count": 87,
     "metadata": {},
     "output_type": "execute_result"
    }
   ],
   "execution_count": 87
  },
  {
   "metadata": {
    "ExecuteTime": {
     "end_time": "2024-07-03T08:04:23.931167Z",
     "start_time": "2024-07-03T08:04:23.918815Z"
    }
   },
   "cell_type": "code",
   "source": [
    "train_df.groupby(1).count()"
   ],
   "id": "1c42f8203bcd6575",
   "outputs": [
    {
     "data": {
      "text/plain": [
       "     0    2    3    4\n",
       "1                    \n",
       "0  888  888  888  888\n",
       "1  199  199  199  199\n",
       "2  294  294  294  294"
      ],
      "text/html": [
       "<div>\n",
       "<style scoped>\n",
       "    .dataframe tbody tr th:only-of-type {\n",
       "        vertical-align: middle;\n",
       "    }\n",
       "\n",
       "    .dataframe tbody tr th {\n",
       "        vertical-align: top;\n",
       "    }\n",
       "\n",
       "    .dataframe thead th {\n",
       "        text-align: right;\n",
       "    }\n",
       "</style>\n",
       "<table border=\"1\" class=\"dataframe\">\n",
       "  <thead>\n",
       "    <tr style=\"text-align: right;\">\n",
       "      <th></th>\n",
       "      <th>0</th>\n",
       "      <th>2</th>\n",
       "      <th>3</th>\n",
       "      <th>4</th>\n",
       "    </tr>\n",
       "    <tr>\n",
       "      <th>1</th>\n",
       "      <th></th>\n",
       "      <th></th>\n",
       "      <th></th>\n",
       "      <th></th>\n",
       "    </tr>\n",
       "  </thead>\n",
       "  <tbody>\n",
       "    <tr>\n",
       "      <th>0</th>\n",
       "      <td>888</td>\n",
       "      <td>888</td>\n",
       "      <td>888</td>\n",
       "      <td>888</td>\n",
       "    </tr>\n",
       "    <tr>\n",
       "      <th>1</th>\n",
       "      <td>199</td>\n",
       "      <td>199</td>\n",
       "      <td>199</td>\n",
       "      <td>199</td>\n",
       "    </tr>\n",
       "    <tr>\n",
       "      <th>2</th>\n",
       "      <td>294</td>\n",
       "      <td>294</td>\n",
       "      <td>294</td>\n",
       "      <td>294</td>\n",
       "    </tr>\n",
       "  </tbody>\n",
       "</table>\n",
       "</div>"
      ]
     },
     "execution_count": 67,
     "metadata": {},
     "output_type": "execute_result"
    }
   ],
   "execution_count": 67
  },
  {
   "metadata": {
    "ExecuteTime": {
     "end_time": "2024-07-03T08:04:33.515060Z",
     "start_time": "2024-07-03T08:04:33.502757Z"
    }
   },
   "cell_type": "code",
   "source": [
    "train_df.groupby(2).count()"
   ],
   "id": "5dbf496e66caeb8f",
   "outputs": [
    {
     "data": {
      "text/plain": [
       "     0    1    3    4\n",
       "2                    \n",
       "0  719  719  719  719\n",
       "1  383  383  383  383\n",
       "2  279  279  279  279"
      ],
      "text/html": [
       "<div>\n",
       "<style scoped>\n",
       "    .dataframe tbody tr th:only-of-type {\n",
       "        vertical-align: middle;\n",
       "    }\n",
       "\n",
       "    .dataframe tbody tr th {\n",
       "        vertical-align: top;\n",
       "    }\n",
       "\n",
       "    .dataframe thead th {\n",
       "        text-align: right;\n",
       "    }\n",
       "</style>\n",
       "<table border=\"1\" class=\"dataframe\">\n",
       "  <thead>\n",
       "    <tr style=\"text-align: right;\">\n",
       "      <th></th>\n",
       "      <th>0</th>\n",
       "      <th>1</th>\n",
       "      <th>3</th>\n",
       "      <th>4</th>\n",
       "    </tr>\n",
       "    <tr>\n",
       "      <th>2</th>\n",
       "      <th></th>\n",
       "      <th></th>\n",
       "      <th></th>\n",
       "      <th></th>\n",
       "    </tr>\n",
       "  </thead>\n",
       "  <tbody>\n",
       "    <tr>\n",
       "      <th>0</th>\n",
       "      <td>719</td>\n",
       "      <td>719</td>\n",
       "      <td>719</td>\n",
       "      <td>719</td>\n",
       "    </tr>\n",
       "    <tr>\n",
       "      <th>1</th>\n",
       "      <td>383</td>\n",
       "      <td>383</td>\n",
       "      <td>383</td>\n",
       "      <td>383</td>\n",
       "    </tr>\n",
       "    <tr>\n",
       "      <th>2</th>\n",
       "      <td>279</td>\n",
       "      <td>279</td>\n",
       "      <td>279</td>\n",
       "      <td>279</td>\n",
       "    </tr>\n",
       "  </tbody>\n",
       "</table>\n",
       "</div>"
      ]
     },
     "execution_count": 68,
     "metadata": {},
     "output_type": "execute_result"
    }
   ],
   "execution_count": 68
  },
  {
   "metadata": {
    "ExecuteTime": {
     "end_time": "2024-07-03T08:04:45.967109Z",
     "start_time": "2024-07-03T08:04:45.957610Z"
    }
   },
   "cell_type": "code",
   "source": [
    "train_df.groupby(3).count()\n"
   ],
   "id": "1f59be4c1cb6df67",
   "outputs": [
    {
     "data": {
      "text/plain": [
       "     0    1    2    4\n",
       "3                    \n",
       "0  603  603  603  603\n",
       "1  323  323  323  323\n",
       "2  455  455  455  455"
      ],
      "text/html": [
       "<div>\n",
       "<style scoped>\n",
       "    .dataframe tbody tr th:only-of-type {\n",
       "        vertical-align: middle;\n",
       "    }\n",
       "\n",
       "    .dataframe tbody tr th {\n",
       "        vertical-align: top;\n",
       "    }\n",
       "\n",
       "    .dataframe thead th {\n",
       "        text-align: right;\n",
       "    }\n",
       "</style>\n",
       "<table border=\"1\" class=\"dataframe\">\n",
       "  <thead>\n",
       "    <tr style=\"text-align: right;\">\n",
       "      <th></th>\n",
       "      <th>0</th>\n",
       "      <th>1</th>\n",
       "      <th>2</th>\n",
       "      <th>4</th>\n",
       "    </tr>\n",
       "    <tr>\n",
       "      <th>3</th>\n",
       "      <th></th>\n",
       "      <th></th>\n",
       "      <th></th>\n",
       "      <th></th>\n",
       "    </tr>\n",
       "  </thead>\n",
       "  <tbody>\n",
       "    <tr>\n",
       "      <th>0</th>\n",
       "      <td>603</td>\n",
       "      <td>603</td>\n",
       "      <td>603</td>\n",
       "      <td>603</td>\n",
       "    </tr>\n",
       "    <tr>\n",
       "      <th>1</th>\n",
       "      <td>323</td>\n",
       "      <td>323</td>\n",
       "      <td>323</td>\n",
       "      <td>323</td>\n",
       "    </tr>\n",
       "    <tr>\n",
       "      <th>2</th>\n",
       "      <td>455</td>\n",
       "      <td>455</td>\n",
       "      <td>455</td>\n",
       "      <td>455</td>\n",
       "    </tr>\n",
       "  </tbody>\n",
       "</table>\n",
       "</div>"
      ]
     },
     "execution_count": 69,
     "metadata": {},
     "output_type": "execute_result"
    }
   ],
   "execution_count": 69
  },
  {
   "metadata": {
    "ExecuteTime": {
     "end_time": "2024-07-03T08:05:03.081875Z",
     "start_time": "2024-07-03T08:05:03.070796Z"
    }
   },
   "cell_type": "code",
   "source": [
    "train_df.groupby(4).count()\n"
   ],
   "id": "2bae8872b9d923b3",
   "outputs": [
    {
     "data": {
      "text/plain": [
       "     0    1    2    3\n",
       "4                    \n",
       "0  969  969  969  969\n",
       "1  202  202  202  202\n",
       "2  210  210  210  210"
      ],
      "text/html": [
       "<div>\n",
       "<style scoped>\n",
       "    .dataframe tbody tr th:only-of-type {\n",
       "        vertical-align: middle;\n",
       "    }\n",
       "\n",
       "    .dataframe tbody tr th {\n",
       "        vertical-align: top;\n",
       "    }\n",
       "\n",
       "    .dataframe thead th {\n",
       "        text-align: right;\n",
       "    }\n",
       "</style>\n",
       "<table border=\"1\" class=\"dataframe\">\n",
       "  <thead>\n",
       "    <tr style=\"text-align: right;\">\n",
       "      <th></th>\n",
       "      <th>0</th>\n",
       "      <th>1</th>\n",
       "      <th>2</th>\n",
       "      <th>3</th>\n",
       "    </tr>\n",
       "    <tr>\n",
       "      <th>4</th>\n",
       "      <th></th>\n",
       "      <th></th>\n",
       "      <th></th>\n",
       "      <th></th>\n",
       "    </tr>\n",
       "  </thead>\n",
       "  <tbody>\n",
       "    <tr>\n",
       "      <th>0</th>\n",
       "      <td>969</td>\n",
       "      <td>969</td>\n",
       "      <td>969</td>\n",
       "      <td>969</td>\n",
       "    </tr>\n",
       "    <tr>\n",
       "      <th>1</th>\n",
       "      <td>202</td>\n",
       "      <td>202</td>\n",
       "      <td>202</td>\n",
       "      <td>202</td>\n",
       "    </tr>\n",
       "    <tr>\n",
       "      <th>2</th>\n",
       "      <td>210</td>\n",
       "      <td>210</td>\n",
       "      <td>210</td>\n",
       "      <td>210</td>\n",
       "    </tr>\n",
       "  </tbody>\n",
       "</table>\n",
       "</div>"
      ]
     },
     "execution_count": 70,
     "metadata": {},
     "output_type": "execute_result"
    }
   ],
   "execution_count": 70
  },
  {
   "metadata": {
    "ExecuteTime": {
     "end_time": "2024-07-09T03:01:19.590647Z",
     "start_time": "2024-07-09T03:01:15.215750Z"
    }
   },
   "cell_type": "code",
   "source": [
    "import numpy as np\n",
    "import seaborn as sn\n",
    "from sklearn.metrics import confusion_matrix\n",
    "from operator import truediv\n",
    "\n",
    "precisions_l = []\n",
    "recalls_l = []\n",
    "\n",
    "precisions_r = []\n",
    "recalls_r = []\n",
    "\n",
    "# !TODO: Refactor\n",
    "fig, ax = plt.subplots(nrows=5, ncols=2)\n",
    "for i in range(5):\n",
    "    target_ = [e[i + 5] for e in target_l]\n",
    "    inferred_ = [e[i + 5] for e in inferred_l]\n",
    "\n",
    "    cf_matrix = confusion_matrix(target_, inferred_)\n",
    "    sn.heatmap(cf_matrix / (np.sum(cf_matrix) + 1e-7), ax=ax[i][0], annot=True, fmt='.3%')\n",
    "\n",
    "    true_pos = np.diag(cf_matrix)\n",
    "    prec = list(map(truediv, true_pos, np.sum(cf_matrix, axis=0) + 1e-7))\n",
    "    rec = list(map(truediv, true_pos, np.sum(cf_matrix, axis=1) + 1e-7))\n",
    "    \n",
    "    precisions_l.append(prec)\n",
    "    recalls_l.append(rec)\n",
    "\n",
    "    target_ = [e[i + 15] for e in target_l]\n",
    "    inferred_ = [e[i + 15] for e in inferred_l]\n",
    "\n",
    "    cf_matrix = confusion_matrix(target_, inferred_)\n",
    "    sn.heatmap(cf_matrix / (np.sum(cf_matrix) + 1e-7), ax=ax[i][1], annot=True, fmt='.3%')\n",
    "\n",
    "    true_pos = np.diag(cf_matrix)\n",
    "    prec = list(map(truediv, true_pos, np.sum(cf_matrix, axis=0) + 1e-7))\n",
    "    rec = list(map(truediv, true_pos, np.sum(cf_matrix, axis=1) + 1e-7))\n",
    "    \n",
    "    precisions_r.append(prec)\n",
    "    recalls_r.append(rec)\n",
    "\n",
    "plt.show()\n"
   ],
   "id": "355146541594ea3d",
   "outputs": [
    {
     "data": {
      "text/plain": [
       "<Figure size 640x480 with 20 Axes>"
      ],
      "image/png": "[encoded data removed]"
     },
     "metadata": {},
     "output_type": "display_data"
    }
   ],
   "execution_count": 24
  },
  {
   "metadata": {
    "ExecuteTime": {
     "end_time": "2024-07-09T03:01:43.090029Z",
     "start_time": "2024-07-09T03:01:40.850865Z"
    }
   },
   "cell_type": "code",
   "source": [
    "fig, ax = plt.subplots(nrows=5, ncols=2)\n",
    "plt.set_loglevel('WARNING')\n",
    "for i in range(5):\n",
    "    ax[i][0].set(ylim=(0, 1))\n",
    "    sn.barplot(x=range(3), y=precisions_l[i], ax=ax[i][0])\n",
    "    sn.barplot(x=range(3, 6), y=recalls_l[i], ax=ax[i][0])\n",
    "    sn.barplot(x=range(6, 9), y=2 / (1 / (np.array(recalls_l[i]) + 1e-7) + 1 / (np.array(precisions_l[i]) + 1e-7)), ax=ax[i][0])\n",
    "\n",
    "    ax[i][1].set(ylim=(0, 1))\n",
    "    sn.barplot(x=range(3), y=precisions_r[i], ax=ax[i][1])\n",
    "    sn.barplot(x=range(3, 6), y=recalls_r[i], ax=ax[i][1])\n",
    "    sn.barplot(x=range(6, 9), y=2 / (1 / (np.array(recalls_r[i]) + 1e-7) + 1 / (np.array(precisions_r[i]) + 1e-7)), ax=ax[i][1])\n",
    "\n",
    "plt.show()\n"
   ],
   "id": "7286d2b72415efd9",
   "outputs": [
    {
     "data": {
      "text/plain": [
       "<Figure size 640x480 with 10 Axes>"
      ],
      "image/png": "[encoded data removed]"
     },
     "metadata": {},
     "output_type": "display_data"
    }
   ],
   "execution_count": 26
  },
  {
   "cell_type": "code",
   "source": [
    "resized_example = np.array([[Resize((256,256))(ToPILImage()(img)) for img in trainset[i][0]][:16] * 16 for i in range(2)])\n",
    "resized_example = resized_example.swapaxes(1, 3).swapaxes(1, 2)"
   ],
   "metadata": {
    "collapsed": false,
    "ExecuteTime": {
     "end_time": "2024-07-03T15:48:19.518567Z",
     "start_time": "2024-07-03T15:48:16.721683Z"
    }
   },
   "id": "75dfbb32f3e2a670",
   "outputs": [],
   "execution_count": 4
  },
  {
   "cell_type": "code",
   "source": [
    "# B, C, H, W, D\n",
    "torch.Tensor(resized_example).unsqueeze(1).shape"
   ],
   "metadata": {
    "collapsed": false,
    "ExecuteTime": {
     "end_time": "2024-07-03T15:45:21.614087Z",
     "start_time": "2024-07-03T15:45:21.601481Z"
    }
   },
   "id": "5d903e1d30e8e649",
   "outputs": [
    {
     "data": {
      "text/plain": [
       "torch.Size([2, 1, 256, 256, 16])"
      ]
     },
     "execution_count": 6,
     "metadata": {},
     "output_type": "execute_result"
    }
   ],
   "execution_count": 6
  },
  {
   "cell_type": "code",
   "source": [
    "import timm_3d\n",
    "\n",
    "test_3d_model = timm_3d.create_model(\"maxvit_nano_rw_256\", in_chans=1).to(\"cuda\")\n",
    "\n",
    "out = test_3d_model(torch.Tensor(resized_example).unsqueeze(1).to(\"cuda\"))\n",
    "out"
   ],
   "metadata": {
    "collapsed": false,
    "ExecuteTime": {
     "end_time": "2024-07-03T15:46:04.490983Z",
     "start_time": "2024-07-03T15:45:57.354789Z"
    }
   },
   "id": "a2c0e8c3730fc077",
   "outputs": [
    {
     "name": "stderr",
     "output_type": "stream",
     "text": [
      "C:\\Users\\Victor\\anaconda3\\envs\\python-doodles\\Lib\\site-packages\\timm_3d\\models\\maxxvit.py:275: UserWarning: 1Torch was not compiled with flash attention. (Triggered internally at ..\\aten\\src\\ATen\\native\\transformers\\cuda\\sdp_utils.cpp:455.)\n",
      "  x = torch.nn.functional.scaled_dot_product_attention(\n"
     ]
    },
    {
     "data": {
      "text/plain": [
       "tensor([[-0.2116,  0.4472, -0.2582,  ...,  0.0735,  0.1997,  0.1392],\n",
       "        [-0.5368, -0.3499, -0.0473,  ..., -0.1650,  0.2508, -0.4454]],\n",
       "       device='cuda:0', grad_fn=<AddmmBackward0>)"
      ]
     },
     "execution_count": 9,
     "metadata": {},
     "output_type": "execute_result"
    }
   ],
   "execution_count": 9
  },
  {
   "metadata": {
    "ExecuteTime": {
     "end_time": "2024-07-03T15:46:07.955513Z",
     "start_time": "2024-07-03T15:46:07.951947Z"
    }
   },
   "cell_type": "code",
   "source": [
    "del out\n",
    "torch.cuda.empty_cache()"
   ],
   "id": "4507dcdc81d09532",
   "outputs": [],
   "execution_count": 10
  },
  {
   "cell_type": "code",
   "source": [
    "import timm_3d\n",
    "\n",
    "test_3d_model_2 = timm_3d.create_model(\"tf_efficientnet_b0\", in_chans=1).to(\"cuda\")\n",
    "\n",
    "test_3d_model_2(torch.Tensor(resized_example).unsqueeze(1).to(\"cuda\"))"
   ],
   "metadata": {
    "collapsed": false,
    "ExecuteTime": {
     "end_time": "2024-07-03T15:48:25.730155Z",
     "start_time": "2024-07-03T15:48:24.087268Z"
    }
   },
   "id": "b7e8615319e35fe2",
   "outputs": [
    {
     "data": {
      "text/plain": [
       "tensor([[-0.0668, -0.0082,  0.0799,  ...,  0.2645,  0.2260, -0.1619],\n",
       "        [ 0.0260,  0.0702, -0.0215,  ..., -0.0607,  0.0993, -0.0696]],\n",
       "       device='cuda:0', grad_fn=<AddmmBackward0>)"
      ]
     },
     "execution_count": 5,
     "metadata": {},
     "output_type": "execute_result"
    }
   ],
   "execution_count": 5
  },
  {
   "cell_type": "code",
   "source": [
    "import albumentations as A\n",
    "from rsna_dataloader import *\n",
    "\n",
    "data_basepath = \"../data/rsna-2024-lumbar-spine-degenerative-classification/\"\n",
    "training_data = retrieve_training_data(data_basepath)\n",
    "\n",
    "training_data = training_data.dropna()\n",
    "\n",
    "training_data = training_data[training_data.groupby([\"study_id\", \"series_description\"]).transform('size') == 25]\n",
    "testset = PatientLevelDataset(os.path.join(data_basepath, \"train_images\"), training_data, transform=A.Resize(128,128))\n",
    "testset[1][0].shape, testset[1][1].shape"
   ],
   "metadata": {
    "collapsed": false,
    "ExecuteTime": {
     "end_time": "2024-07-08T06:49:00.712548Z",
     "start_time": "2024-07-08T06:48:47.017289Z"
    }
   },
   "id": "5af5f865e10ecbe6",
   "outputs": [
    {
     "data": {
      "text/plain": [
       "(torch.Size([3, 128, 128, 128]), torch.Size([75]))"
      ]
     },
     "execution_count": 2,
     "metadata": {},
     "output_type": "execute_result"
    }
   ],
   "execution_count": 2
  },
  {
   "metadata": {
    "ExecuteTime": {
     "end_time": "2024-07-08T06:48:09.190708Z",
     "start_time": "2024-07-08T06:48:08.961840Z"
    }
   },
   "cell_type": "code",
   "source": [
    "testset[2][0].shape"
   ],
   "id": "ccca858c2759dcd1",
   "outputs": [
    {
     "ename": "NameError",
     "evalue": "name 'testset' is not defined",
     "output_type": "error",
     "traceback": [
      "\u001B[1;31m---------------------------------------------------------------------------\u001B[0m",
      "\u001B[1;31mNameError\u001B[0m                                 Traceback (most recent call last)",
      "Cell \u001B[1;32mIn[3], line 1\u001B[0m\n\u001B[1;32m----> 1\u001B[0m testset[\u001B[38;5;241m2\u001B[39m][\u001B[38;5;241m0\u001B[39m]\u001B[38;5;241m.\u001B[39mshape\n",
      "\u001B[1;31mNameError\u001B[0m: name 'testset' is not defined"
     ]
    }
   ],
   "execution_count": 3
  },
  {
   "metadata": {},
   "cell_type": "code",
   "outputs": [],
   "execution_count": null,
   "source": [],
   "id": "a0d93b8399cb07dd"
  }
 ],
 "metadata": {
  "kernelspec": {
   "display_name": "Python 3",
   "language": "python",
   "name": "python3"
  },
  "language_info": {
   "codemirror_mode": {
    "name": "ipython",
    "version": 2
   },
   "file_extension": ".py",
   "mimetype": "text/x-python",
   "name": "python",
   "nbconvert_exporter": "python",
   "pygments_lexer": "ipython2",
   "version": "2.7.6"
  }
 },
 "nbformat": 4,
 "nbformat_minor": 5
}
