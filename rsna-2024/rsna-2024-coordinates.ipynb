{
 "cells": [
  {
   "cell_type": "code",
   "execution_count": 6,
   "id": "initial_id",
   "metadata": {
    "collapsed": true,
    "ExecuteTime": {
     "end_time": "2024-07-24T22:34:06.642681Z",
     "start_time": "2024-07-24T22:34:06.640163Z"
    }
   },
   "outputs": [],
   "source": [
    "import pandas as pd\n",
    "import pydicom\n",
    "import matplotlib.pyplot as plt"
   ]
  },
  {
   "cell_type": "code",
   "execution_count": 7,
   "outputs": [],
   "source": [
    "data = pd.read_csv(\"../data/rsna-2024-lumbar-spine-degenerative-classification/train_label_coordinates.csv\")"
   ],
   "metadata": {
    "collapsed": false,
    "ExecuteTime": {
     "end_time": "2024-07-24T22:34:08.647875Z",
     "start_time": "2024-07-24T22:34:08.608352Z"
    }
   },
   "id": "d8a841c5bf11a20f"
  },
  {
   "cell_type": "code",
   "execution_count": 8,
   "outputs": [
    {
     "data": {
      "text/plain": "         study_id   series_id  instance_number  \\\n0         4003253   702807833                8   \n1         4003253   702807833                8   \n2         4003253   702807833                8   \n3         4003253   702807833                8   \n4         4003253   702807833                8   \n...           ...         ...              ...   \n48687  4290709089  4237840455               11   \n48688  4290709089  4237840455               12   \n48689  4290709089  4237840455               12   \n48690  4290709089  4237840455               12   \n48691  4290709089  4237840455               12   \n\n                             condition  level           x           y  \n0                Spinal Canal Stenosis  L1/L2  322.831858  227.964602  \n1                Spinal Canal Stenosis  L2/L3  320.571429  295.714286  \n2                Spinal Canal Stenosis  L3/L4  323.030303  371.818182  \n3                Spinal Canal Stenosis  L4/L5  335.292035  427.327434  \n4                Spinal Canal Stenosis  L5/S1  353.415929  483.964602  \n...                                ...    ...         ...         ...  \n48687  Left Neural Foraminal Narrowing  L1/L2  219.465940   97.831063  \n48688  Left Neural Foraminal Narrowing  L2/L3  205.340599  140.207084  \n48689  Left Neural Foraminal Narrowing  L3/L4  202.724796  181.013624  \n48690  Left Neural Foraminal Narrowing  L4/L5  202.933333  219.733333  \n48691  Left Neural Foraminal Narrowing  L5/S1  211.813953  259.534884  \n\n[48692 rows x 7 columns]",
      "text/html": "<div>\n<style scoped>\n    .dataframe tbody tr th:only-of-type {\n        vertical-align: middle;\n    }\n\n    .dataframe tbody tr th {\n        vertical-align: top;\n    }\n\n    .dataframe thead th {\n        text-align: right;\n    }\n</style>\n<table border=\"1\" class=\"dataframe\">\n  <thead>\n    <tr style=\"text-align: right;\">\n      <th></th>\n      <th>study_id</th>\n      <th>series_id</th>\n      <th>instance_number</th>\n      <th>condition</th>\n      <th>level</th>\n      <th>x</th>\n      <th>y</th>\n    </tr>\n  </thead>\n  <tbody>\n    <tr>\n      <th>0</th>\n      <td>4003253</td>\n      <td>702807833</td>\n      <td>8</td>\n      <td>Spinal Canal Stenosis</td>\n      <td>L1/L2</td>\n      <td>322.831858</td>\n      <td>227.964602</td>\n    </tr>\n    <tr>\n      <th>1</th>\n      <td>4003253</td>\n      <td>702807833</td>\n      <td>8</td>\n      <td>Spinal Canal Stenosis</td>\n      <td>L2/L3</td>\n      <td>320.571429</td>\n      <td>295.714286</td>\n    </tr>\n    <tr>\n      <th>2</th>\n      <td>4003253</td>\n      <td>702807833</td>\n      <td>8</td>\n      <td>Spinal Canal Stenosis</td>\n      <td>L3/L4</td>\n      <td>323.030303</td>\n      <td>371.818182</td>\n    </tr>\n    <tr>\n      <th>3</th>\n      <td>4003253</td>\n      <td>702807833</td>\n      <td>8</td>\n      <td>Spinal Canal Stenosis</td>\n      <td>L4/L5</td>\n      <td>335.292035</td>\n      <td>427.327434</td>\n    </tr>\n    <tr>\n      <th>4</th>\n      <td>4003253</td>\n      <td>702807833</td>\n      <td>8</td>\n      <td>Spinal Canal Stenosis</td>\n      <td>L5/S1</td>\n      <td>353.415929</td>\n      <td>483.964602</td>\n    </tr>\n    <tr>\n      <th>...</th>\n      <td>...</td>\n      <td>...</td>\n      <td>...</td>\n      <td>...</td>\n      <td>...</td>\n      <td>...</td>\n      <td>...</td>\n    </tr>\n    <tr>\n      <th>48687</th>\n      <td>4290709089</td>\n      <td>4237840455</td>\n      <td>11</td>\n      <td>Left Neural Foraminal Narrowing</td>\n      <td>L1/L2</td>\n      <td>219.465940</td>\n      <td>97.831063</td>\n    </tr>\n    <tr>\n      <th>48688</th>\n      <td>4290709089</td>\n      <td>4237840455</td>\n      <td>12</td>\n      <td>Left Neural Foraminal Narrowing</td>\n      <td>L2/L3</td>\n      <td>205.340599</td>\n      <td>140.207084</td>\n    </tr>\n    <tr>\n      <th>48689</th>\n      <td>4290709089</td>\n      <td>4237840455</td>\n      <td>12</td>\n      <td>Left Neural Foraminal Narrowing</td>\n      <td>L3/L4</td>\n      <td>202.724796</td>\n      <td>181.013624</td>\n    </tr>\n    <tr>\n      <th>48690</th>\n      <td>4290709089</td>\n      <td>4237840455</td>\n      <td>12</td>\n      <td>Left Neural Foraminal Narrowing</td>\n      <td>L4/L5</td>\n      <td>202.933333</td>\n      <td>219.733333</td>\n    </tr>\n    <tr>\n      <th>48691</th>\n      <td>4290709089</td>\n      <td>4237840455</td>\n      <td>12</td>\n      <td>Left Neural Foraminal Narrowing</td>\n      <td>L5/S1</td>\n      <td>211.813953</td>\n      <td>259.534884</td>\n    </tr>\n  </tbody>\n</table>\n<p>48692 rows × 7 columns</p>\n</div>"
     },
     "execution_count": 8,
     "metadata": {},
     "output_type": "execute_result"
    }
   ],
   "source": [
    "data"
   ],
   "metadata": {
    "collapsed": false,
    "ExecuteTime": {
     "end_time": "2024-07-24T22:34:08.777258Z",
     "start_time": "2024-07-24T22:34:08.774707Z"
    }
   },
   "id": "ecca664c637c6e56"
  },
  {
   "cell_type": "code",
   "execution_count": null,
   "outputs": [],
   "source": [
    "# Per study:\n",
    "# 1- Map coords for sagittal (x, y)\n",
    "# 2- Map coords for axial (y, z)\n",
    "# 3 - Extrapolate the z for sagittal and x for axial from the slice metadata\n",
    "# 4 - Add a buffer 20 px from min and max for each, aggregated per joiny"
   ],
   "metadata": {
    "collapsed": false
   },
   "id": "f873ca28424362a4"
  }
 ],
 "metadata": {
  "kernelspec": {
   "display_name": "Python 3",
   "language": "python",
   "name": "python3"
  },
  "language_info": {
   "codemirror_mode": {
    "name": "ipython",
    "version": 2
   },
   "file_extension": ".py",
   "mimetype": "text/x-python",
   "name": "python",
   "nbconvert_exporter": "python",
   "pygments_lexer": "ipython2",
   "version": "2.7.6"
  }
 },
 "nbformat": 4,
 "nbformat_minor": 5
}
