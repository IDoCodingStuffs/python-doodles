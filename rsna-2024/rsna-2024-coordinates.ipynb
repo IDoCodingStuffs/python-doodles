{
 "cells": [
  {
   "cell_type": "code",
   "execution_count": 11,
   "id": "initial_id",
   "metadata": {
    "collapsed": true,
    "ExecuteTime": {
     "end_time": "2024-07-24T22:55:20.163759Z",
     "start_time": "2024-07-24T22:55:20.160027Z"
    }
   },
   "outputs": [],
   "source": [
    "import glob\n",
    "\n",
    "import pandas as pd\n",
    "import pydicom\n",
    "import matplotlib.pyplot as plt\n",
    "import glob"
   ]
  },
  {
   "cell_type": "code",
   "execution_count": 12,
   "outputs": [],
   "source": [
    "data = pd.read_csv(\"../data/rsna-2024-lumbar-spine-degenerative-classification/train_label_coordinates.csv\")"
   ],
   "metadata": {
    "collapsed": false,
    "ExecuteTime": {
     "end_time": "2024-07-24T22:55:20.469272Z",
     "start_time": "2024-07-24T22:55:20.438896Z"
    }
   },
   "id": "d8a841c5bf11a20f"
  },
  {
   "cell_type": "code",
   "execution_count": 13,
   "outputs": [
    {
     "data": {
      "text/plain": "         study_id   series_id  instance_number  \\\n0         4003253   702807833                8   \n1         4003253   702807833                8   \n2         4003253   702807833                8   \n3         4003253   702807833                8   \n4         4003253   702807833                8   \n...           ...         ...              ...   \n48687  4290709089  4237840455               11   \n48688  4290709089  4237840455               12   \n48689  4290709089  4237840455               12   \n48690  4290709089  4237840455               12   \n48691  4290709089  4237840455               12   \n\n                             condition  level           x           y  \n0                Spinal Canal Stenosis  L1/L2  322.831858  227.964602  \n1                Spinal Canal Stenosis  L2/L3  320.571429  295.714286  \n2                Spinal Canal Stenosis  L3/L4  323.030303  371.818182  \n3                Spinal Canal Stenosis  L4/L5  335.292035  427.327434  \n4                Spinal Canal Stenosis  L5/S1  353.415929  483.964602  \n...                                ...    ...         ...         ...  \n48687  Left Neural Foraminal Narrowing  L1/L2  219.465940   97.831063  \n48688  Left Neural Foraminal Narrowing  L2/L3  205.340599  140.207084  \n48689  Left Neural Foraminal Narrowing  L3/L4  202.724796  181.013624  \n48690  Left Neural Foraminal Narrowing  L4/L5  202.933333  219.733333  \n48691  Left Neural Foraminal Narrowing  L5/S1  211.813953  259.534884  \n\n[48692 rows x 7 columns]",
      "text/html": "<div>\n<style scoped>\n    .dataframe tbody tr th:only-of-type {\n        vertical-align: middle;\n    }\n\n    .dataframe tbody tr th {\n        vertical-align: top;\n    }\n\n    .dataframe thead th {\n        text-align: right;\n    }\n</style>\n<table border=\"1\" class=\"dataframe\">\n  <thead>\n    <tr style=\"text-align: right;\">\n      <th></th>\n      <th>study_id</th>\n      <th>series_id</th>\n      <th>instance_number</th>\n      <th>condition</th>\n      <th>level</th>\n      <th>x</th>\n      <th>y</th>\n    </tr>\n  </thead>\n  <tbody>\n    <tr>\n      <th>0</th>\n      <td>4003253</td>\n      <td>702807833</td>\n      <td>8</td>\n      <td>Spinal Canal Stenosis</td>\n      <td>L1/L2</td>\n      <td>322.831858</td>\n      <td>227.964602</td>\n    </tr>\n    <tr>\n      <th>1</th>\n      <td>4003253</td>\n      <td>702807833</td>\n      <td>8</td>\n      <td>Spinal Canal Stenosis</td>\n      <td>L2/L3</td>\n      <td>320.571429</td>\n      <td>295.714286</td>\n    </tr>\n    <tr>\n      <th>2</th>\n      <td>4003253</td>\n      <td>702807833</td>\n      <td>8</td>\n      <td>Spinal Canal Stenosis</td>\n      <td>L3/L4</td>\n      <td>323.030303</td>\n      <td>371.818182</td>\n    </tr>\n    <tr>\n      <th>3</th>\n      <td>4003253</td>\n      <td>702807833</td>\n      <td>8</td>\n      <td>Spinal Canal Stenosis</td>\n      <td>L4/L5</td>\n      <td>335.292035</td>\n      <td>427.327434</td>\n    </tr>\n    <tr>\n      <th>4</th>\n      <td>4003253</td>\n      <td>702807833</td>\n      <td>8</td>\n      <td>Spinal Canal Stenosis</td>\n      <td>L5/S1</td>\n      <td>353.415929</td>\n      <td>483.964602</td>\n    </tr>\n    <tr>\n      <th>...</th>\n      <td>...</td>\n      <td>...</td>\n      <td>...</td>\n      <td>...</td>\n      <td>...</td>\n      <td>...</td>\n      <td>...</td>\n    </tr>\n    <tr>\n      <th>48687</th>\n      <td>4290709089</td>\n      <td>4237840455</td>\n      <td>11</td>\n      <td>Left Neural Foraminal Narrowing</td>\n      <td>L1/L2</td>\n      <td>219.465940</td>\n      <td>97.831063</td>\n    </tr>\n    <tr>\n      <th>48688</th>\n      <td>4290709089</td>\n      <td>4237840455</td>\n      <td>12</td>\n      <td>Left Neural Foraminal Narrowing</td>\n      <td>L2/L3</td>\n      <td>205.340599</td>\n      <td>140.207084</td>\n    </tr>\n    <tr>\n      <th>48689</th>\n      <td>4290709089</td>\n      <td>4237840455</td>\n      <td>12</td>\n      <td>Left Neural Foraminal Narrowing</td>\n      <td>L3/L4</td>\n      <td>202.724796</td>\n      <td>181.013624</td>\n    </tr>\n    <tr>\n      <th>48690</th>\n      <td>4290709089</td>\n      <td>4237840455</td>\n      <td>12</td>\n      <td>Left Neural Foraminal Narrowing</td>\n      <td>L4/L5</td>\n      <td>202.933333</td>\n      <td>219.733333</td>\n    </tr>\n    <tr>\n      <th>48691</th>\n      <td>4290709089</td>\n      <td>4237840455</td>\n      <td>12</td>\n      <td>Left Neural Foraminal Narrowing</td>\n      <td>L5/S1</td>\n      <td>211.813953</td>\n      <td>259.534884</td>\n    </tr>\n  </tbody>\n</table>\n<p>48692 rows × 7 columns</p>\n</div>"
     },
     "execution_count": 13,
     "metadata": {},
     "output_type": "execute_result"
    }
   ],
   "source": [
    "data"
   ],
   "metadata": {
    "collapsed": false,
    "ExecuteTime": {
     "end_time": "2024-07-24T22:55:20.687Z",
     "start_time": "2024-07-24T22:55:20.685024Z"
    }
   },
   "id": "ecca664c637c6e56"
  },
  {
   "cell_type": "code",
   "execution_count": 14,
   "outputs": [],
   "source": [
    "# Per study:\n",
    "# 1- Map coords for sagittal (x, y)\n",
    "# 2- Map coords for axial (y, z)\n",
    "# 3 Extrapolate the y for axial and z for sagittal from the slice metadata\n",
    "# 4 Add a buffer 20 px from min and max for each, aggregated per joint"
   ],
   "metadata": {
    "collapsed": false,
    "ExecuteTime": {
     "end_time": "2024-07-24T22:55:21.316857Z",
     "start_time": "2024-07-24T22:55:21.312580Z"
    }
   },
   "id": "f873ca28424362a4"
  },
  {
   "cell_type": "code",
   "execution_count": 16,
   "outputs": [
    {
     "data": {
      "text/plain": "Dataset.file_meta -------------------------------\n(0002, 0001) File Meta Information Version       OB: b'\\x00\\x01'\n(0002, 0002) Media Storage SOP Class UID         UI: Enhanced MR Image Storage\n(0002, 0003) Media Storage SOP Instance UID      UI: 4003253.1.9\n(0002, 0010) Transfer Syntax UID                 UI: RLE Lossless\n(0002, 0012) Implementation Class UID            UI: 1.2.40.0.13.1.1.1\n(0002, 0013) Implementation Version Name         SH: 'PYDICOM 2.4.2'\n-------------------------------------------------\n(0008, 0018) SOP Instance UID                    UI: 4003253.1.9\n(0008, 0023) Content Date                        DA: '20240503'\n(0008, 0033) Content Time                        TM: '223713.422388'\n(0008, 103e) Series Description                  LO: 'T2'\n(0010, 0020) Patient ID                          LO: '4003253'\n(0018, 0050) Slice Thickness                     DS: '4.0'\n(0018, 0088) Spacing Between Slices              DS: '4.8'\n(0018, 5100) Patient Position                    CS: 'HFS'\n(0020, 000d) Study Instance UID                  UI: 4003253\n(0020, 000e) Series Instance UID                 UI: 4003253.702807833\n(0020, 0013) Instance Number                     IS: '9'\n(0020, 0032) Image Position (Patient)            DS: [6.517758, -76.64142, -282.79034]\n(0020, 0037) Image Orientation (Patient)         DS: [-0.0011862646, 0.9999993, 5.02E-12, 0.0069542686, 8.249613E-6, -0.9999758]\n(0020, 0052) Frame of Reference UID              UI: 1.2.826.0.1.3680043.8.498.96621696614087367611087856818281083595\n(0020, 1041) Slice Location                      DS: '4.460079'\n(0028, 0002) Samples per Pixel                   US: 1\n(0028, 0004) Photometric Interpretation          CS: 'MONOCHROME2'\n(0028, 0010) Rows                                US: 640\n(0028, 0011) Columns                             US: 640\n(0028, 0030) Pixel Spacing                       DS: [0.46875, 0.46875]\n(0028, 0100) Bits Allocated                      US: 16\n(0028, 0101) Bits Stored                         US: 12\n(0028, 0102) High Bit                            US: 11\n(0028, 0103) Pixel Representation                US: 0\n(0028, 1050) Window Center                       DS: '285.0'\n(0028, 1051) Window Width                        DS: '650.0'\n(7fe0, 0010) Pixel Data                          OB: Array of 390226 elements"
     },
     "execution_count": 16,
     "metadata": {},
     "output_type": "execute_result"
    }
   ],
   "source": [
    "base_path = \"../data/rsna-2024-lumbar-spine-degenerative-classification/\"\n",
    "study = 4003253\n",
    "series = 702807833\n",
    "instance = 9\n",
    "file = glob.glob(f\"{base_path}/train_images/{study}/{series}/*{instance}.dcm\")[0]\n",
    "\n",
    "data_slice = pydicom.dcmread(file)\n",
    "data_slice"
   ],
   "metadata": {
    "collapsed": false,
    "ExecuteTime": {
     "end_time": "2024-07-24T22:55:42.621553Z",
     "start_time": "2024-07-24T22:55:42.612147Z"
    }
   },
   "id": "516f11a8a6b09e8a"
  },
  {
   "cell_type": "code",
   "execution_count": 18,
   "outputs": [],
   "source": [
    "#plt.imshow(data_slice.pixel_array)"
   ],
   "metadata": {
    "collapsed": false,
    "ExecuteTime": {
     "end_time": "2024-07-24T23:01:51.871374Z",
     "start_time": "2024-07-24T23:01:51.863757Z"
    }
   },
   "id": "8f7a81b04d28f452"
  },
  {
   "cell_type": "code",
   "execution_count": 21,
   "outputs": [
    {
     "data": {
      "text/plain": "array([8])"
     },
     "execution_count": 21,
     "metadata": {},
     "output_type": "execute_result"
    }
   ],
   "source": [
    "data_for_slice = data[(data[\"study_id\"] == study) & (data[\"series_id\"] == series)]\n",
    "slice_instances = data_for_slice[\"instance_number\"].unique()"
   ],
   "metadata": {
    "collapsed": false,
    "ExecuteTime": {
     "end_time": "2024-07-24T23:04:48.450800Z",
     "start_time": "2024-07-24T23:04:48.445687Z"
    }
   },
   "id": "a7fe6c3dffd97fd0"
  },
  {
   "cell_type": "code",
   "execution_count": 35,
   "outputs": [
    {
     "data": {
      "text/plain": "   level  x           y           z\n0  L1/L2  8  227.964602  322.831858\n1  L2/L3  8  295.714286  320.571429\n2  L3/L4  8  371.818182  323.030303\n3  L4/L5  8  427.327434  335.292035\n4  L5/S1  8  483.964602  353.415929",
      "text/html": "<div>\n<style scoped>\n    .dataframe tbody tr th:only-of-type {\n        vertical-align: middle;\n    }\n\n    .dataframe tbody tr th {\n        vertical-align: top;\n    }\n\n    .dataframe thead th {\n        text-align: right;\n    }\n</style>\n<table border=\"1\" class=\"dataframe\">\n  <thead>\n    <tr style=\"text-align: right;\">\n      <th></th>\n      <th>level</th>\n      <th>x</th>\n      <th>y</th>\n      <th>z</th>\n    </tr>\n  </thead>\n  <tbody>\n    <tr>\n      <th>0</th>\n      <td>L1/L2</td>\n      <td>8</td>\n      <td>227.964602</td>\n      <td>322.831858</td>\n    </tr>\n    <tr>\n      <th>1</th>\n      <td>L2/L3</td>\n      <td>8</td>\n      <td>295.714286</td>\n      <td>320.571429</td>\n    </tr>\n    <tr>\n      <th>2</th>\n      <td>L3/L4</td>\n      <td>8</td>\n      <td>371.818182</td>\n      <td>323.030303</td>\n    </tr>\n    <tr>\n      <th>3</th>\n      <td>L4/L5</td>\n      <td>8</td>\n      <td>427.327434</td>\n      <td>335.292035</td>\n    </tr>\n    <tr>\n      <th>4</th>\n      <td>L5/S1</td>\n      <td>8</td>\n      <td>483.964602</td>\n      <td>353.415929</td>\n    </tr>\n  </tbody>\n</table>\n</div>"
     },
     "execution_count": 35,
     "metadata": {},
     "output_type": "execute_result"
    }
   ],
   "source": [
    "sagittal_coords = []\n",
    "for i in slice_instances:\n",
    "    subset = data_for_slice[data_for_slice[\"instance_number\"] == i].sort_values(by=\"level\")\n",
    "    for index, row in subset.iterrows():\n",
    "        sagittal_coords.append([row[\"level\"], i, row[\"y\"], row[\"x\"]])\n",
    "        \n",
    "sagittal_coords = pd.DataFrame(sagittal_coords, columns=(\"level\",\"x\",\"y\",\"z\"))\n",
    "sagittal_coords"
   ],
   "metadata": {
    "collapsed": false,
    "ExecuteTime": {
     "end_time": "2024-07-24T23:31:00.506328Z",
     "start_time": "2024-07-24T23:31:00.492278Z"
    }
   },
   "id": "8294cb8b3e5bb8cd"
  },
  {
   "cell_type": "code",
   "execution_count": 42,
   "outputs": [
    {
     "data": {
      "text/plain": "   level x_s x_e         y_s         y_e         z_s         z_e\n                                                                \n0  L1/L2   6  10  207.964602  247.964602  302.831858  342.831858\n1  L2/L3   6  10  275.714286  315.714286  300.571429  340.571429\n2  L3/L4   6  10  351.818182  391.818182  303.030303  343.030303\n3  L4/L5   6  10  407.327434  447.327434  315.292035  355.292035\n4  L5/S1   6  10  463.964602  503.964602  333.415929  373.415929",
      "text/html": "<div>\n<style scoped>\n    .dataframe tbody tr th:only-of-type {\n        vertical-align: middle;\n    }\n\n    .dataframe tbody tr th {\n        vertical-align: top;\n    }\n\n    .dataframe thead tr th {\n        text-align: left;\n    }\n</style>\n<table border=\"1\" class=\"dataframe\">\n  <thead>\n    <tr>\n      <th></th>\n      <th>level</th>\n      <th>x_s</th>\n      <th>x_e</th>\n      <th>y_s</th>\n      <th>y_e</th>\n      <th>z_s</th>\n      <th>z_e</th>\n    </tr>\n    <tr>\n      <th></th>\n      <th></th>\n      <th></th>\n      <th></th>\n      <th></th>\n      <th></th>\n      <th></th>\n      <th></th>\n    </tr>\n  </thead>\n  <tbody>\n    <tr>\n      <th>0</th>\n      <td>L1/L2</td>\n      <td>6</td>\n      <td>10</td>\n      <td>207.964602</td>\n      <td>247.964602</td>\n      <td>302.831858</td>\n      <td>342.831858</td>\n    </tr>\n    <tr>\n      <th>1</th>\n      <td>L2/L3</td>\n      <td>6</td>\n      <td>10</td>\n      <td>275.714286</td>\n      <td>315.714286</td>\n      <td>300.571429</td>\n      <td>340.571429</td>\n    </tr>\n    <tr>\n      <th>2</th>\n      <td>L3/L4</td>\n      <td>6</td>\n      <td>10</td>\n      <td>351.818182</td>\n      <td>391.818182</td>\n      <td>303.030303</td>\n      <td>343.030303</td>\n    </tr>\n    <tr>\n      <th>3</th>\n      <td>L4/L5</td>\n      <td>6</td>\n      <td>10</td>\n      <td>407.327434</td>\n      <td>447.327434</td>\n      <td>315.292035</td>\n      <td>355.292035</td>\n    </tr>\n    <tr>\n      <th>4</th>\n      <td>L5/S1</td>\n      <td>6</td>\n      <td>10</td>\n      <td>463.964602</td>\n      <td>503.964602</td>\n      <td>333.415929</td>\n      <td>373.415929</td>\n    </tr>\n  </tbody>\n</table>\n</div>"
     },
     "execution_count": 42,
     "metadata": {},
     "output_type": "execute_result"
    }
   ],
   "source": [
    "sagittal_coords_groups = sagittal_coords.groupby(\"level\").agg((\"min\", \"max\"))\n",
    "\n",
    "# !TODO: Buffer sizes for slices. 1/3 or 1/4 overall maybe\n",
    "sagittal_coords_groups[\"x_s\"] = sagittal_coords_groups[(\"x\", \"min\")].values - 2\n",
    "sagittal_coords_groups[\"x_e\"] = sagittal_coords_groups[(\"x\", \"max\")].values + 2\n",
    "sagittal_coords_groups[\"y_s\"] = sagittal_coords_groups[(\"y\", \"min\")].values - 20\n",
    "sagittal_coords_groups[\"y_e\"] = sagittal_coords_groups[(\"y\", \"max\")].values + 20\n",
    "sagittal_coords_groups[\"z_s\"] = sagittal_coords_groups[(\"z\", \"min\")].values - 20\n",
    "sagittal_coords_groups[\"z_e\"] = sagittal_coords_groups[(\"z\", \"max\")].values + 20\n",
    "sagittal_coords_groups[[\"x_s\", \"x_e\", \"y_s\", \"y_e\", \"z_s\", \"z_e\"]].reset_index()"
   ],
   "metadata": {
    "collapsed": false,
    "ExecuteTime": {
     "end_time": "2024-07-24T23:33:22.508055Z",
     "start_time": "2024-07-24T23:33:22.494877Z"
    }
   },
   "id": "9a85243e30fc2672"
  },
  {
   "cell_type": "code",
   "execution_count": null,
   "outputs": [],
   "source": [
    "# 5. Volume cube detection will be on low definition volumes\n",
    "# 6. And the diagnosis inference will be based on the full res using the coordinates extracted previously"
   ],
   "metadata": {
    "collapsed": false
   },
   "id": "ea2c0b5c55fbdbfe"
  }
 ],
 "metadata": {
  "kernelspec": {
   "display_name": "Python 3",
   "language": "python",
   "name": "python3"
  },
  "language_info": {
   "codemirror_mode": {
    "name": "ipython",
    "version": 2
   },
   "file_extension": ".py",
   "mimetype": "text/x-python",
   "name": "python",
   "nbconvert_exporter": "python",
   "pygments_lexer": "ipython2",
   "version": "2.7.6"
  }
 },
 "nbformat": 4,
 "nbformat_minor": 5
}
