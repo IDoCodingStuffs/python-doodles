{
 "cells": [
  {
   "cell_type": "code",
   "execution_count": 1,
   "id": "7e96e1c4",
   "metadata": {
    "execution": {
     "iopub.execute_input": "2024-07-14T02:55:49.877779Z",
     "iopub.status.busy": "2024-07-14T02:55:49.877398Z",
     "iopub.status.idle": "2024-07-14T02:57:16.282649Z",
     "shell.execute_reply": "2024-07-14T02:57:16.281317Z"
    },
    "papermill": {
     "duration": 86.422197,
     "end_time": "2024-07-14T02:57:16.291266",
     "exception": false,
     "start_time": "2024-07-14T02:55:49.869069",
     "status": "completed"
    },
    "tags": []
   },
   "outputs": [
    {
     "name": "stdout",
     "output_type": "stream",
     "text": [
      "Note: you may need to restart the kernel to use updated packages.\n",
      "Note: you may need to restart the kernel to use updated packages.\n",
      "\u001b[33mWARNING: typer 0.12.3 does not provide the extra 'all'\u001b[0m\u001b[33m\r\n",
      "\u001b[0mNote: you may need to restart the kernel to use updated packages.\n",
      "Note: you may need to restart the kernel to use updated packages.\n"
     ]
    }
   ],
   "source": [
    "%pip install --quiet /kaggle/input/timm_3d_deps/other/initial/3/pydicom/pydicom/pydicom-2.4.4-py3-none-any.whl\n",
    "%pip install timm_3d --no-index --quiet --find-links=/kaggle/input/timm_3d_deps/other/initial/3/timm_3d/timm_3d/\n",
    "%pip install torchio --no-index --quiet --find-links=/kaggle/input/timm_3d_deps/other/initial/3/torchio/torchio/\n",
    "%pip install itk --no-index --quiet --find-links=/kaggle/input/timm_3d_deps/other/initial/3/itk/itk itk"
   ]
  },
  {
   "cell_type": "code",
   "execution_count": 2,
   "id": "a3422060",
   "metadata": {
    "execution": {
     "iopub.execute_input": "2024-07-14T02:57:16.308379Z",
     "iopub.status.busy": "2024-07-14T02:57:16.307406Z",
     "iopub.status.idle": "2024-07-14T02:57:16.312815Z",
     "shell.execute_reply": "2024-07-14T02:57:16.311818Z"
    },
    "papermill": {
     "duration": 0.016393,
     "end_time": "2024-07-14T02:57:16.315089",
     "exception": false,
     "start_time": "2024-07-14T02:57:16.298696",
     "status": "completed"
    },
    "tags": []
   },
   "outputs": [],
   "source": [
    "data_path = \"/kaggle/input/rsna-2024-lumbar-spine-degenerative-classification/\""
   ]
  },
  {
   "cell_type": "code",
   "execution_count": 3,
   "id": "e8bf8b9b",
   "metadata": {
    "_cell_guid": "b1076dfc-b9ad-4769-8c92-a6c4dae69d19",
    "_uuid": "8f2839f25d086af736a60e9eeb907d3b93b6e0e5",
    "execution": {
     "iopub.execute_input": "2024-07-14T02:57:16.331585Z",
     "iopub.status.busy": "2024-07-14T02:57:16.330842Z",
     "iopub.status.idle": "2024-07-14T02:57:17.249357Z",
     "shell.execute_reply": "2024-07-14T02:57:17.248160Z"
    },
    "papermill": {
     "duration": 0.92958,
     "end_time": "2024-07-14T02:57:17.251970",
     "exception": false,
     "start_time": "2024-07-14T02:57:16.322390",
     "status": "completed"
    },
    "tags": []
   },
   "outputs": [
    {
     "data": {
      "text/html": [
       "<div>\n",
       "<style scoped>\n",
       "    .dataframe tbody tr th:only-of-type {\n",
       "        vertical-align: middle;\n",
       "    }\n",
       "\n",
       "    .dataframe tbody tr th {\n",
       "        vertical-align: top;\n",
       "    }\n",
       "\n",
       "    .dataframe thead th {\n",
       "        text-align: right;\n",
       "    }\n",
       "</style>\n",
       "<table border=\"1\" class=\"dataframe\">\n",
       "  <thead>\n",
       "    <tr style=\"text-align: right;\">\n",
       "      <th></th>\n",
       "      <th>study_id</th>\n",
       "      <th>series_id</th>\n",
       "      <th>series_description</th>\n",
       "    </tr>\n",
       "  </thead>\n",
       "  <tbody>\n",
       "    <tr>\n",
       "      <th>0</th>\n",
       "      <td>44036939</td>\n",
       "      <td>2828203845</td>\n",
       "      <td>Sagittal T1</td>\n",
       "    </tr>\n",
       "    <tr>\n",
       "      <th>1</th>\n",
       "      <td>44036939</td>\n",
       "      <td>3481971518</td>\n",
       "      <td>Axial T2</td>\n",
       "    </tr>\n",
       "    <tr>\n",
       "      <th>2</th>\n",
       "      <td>44036939</td>\n",
       "      <td>3844393089</td>\n",
       "      <td>Sagittal T2/STIR</td>\n",
       "    </tr>\n",
       "  </tbody>\n",
       "</table>\n",
       "</div>"
      ],
      "text/plain": [
       "   study_id   series_id series_description\n",
       "0  44036939  2828203845        Sagittal T1\n",
       "1  44036939  3481971518           Axial T2\n",
       "2  44036939  3844393089   Sagittal T2/STIR"
      ]
     },
     "execution_count": 3,
     "metadata": {},
     "output_type": "execute_result"
    }
   ],
   "source": [
    "import pandas as pd\n",
    "\n",
    "def retrieve_test_data(data_path):\n",
    "    test_df = pd.read_csv(data_path + 'test_series_descriptions.csv')\n",
    "\n",
    "    return test_df\n",
    "\n",
    "retrieve_test_data(data_path)"
   ]
  },
  {
   "cell_type": "code",
   "execution_count": 4,
   "id": "d266af16",
   "metadata": {
    "execution": {
     "iopub.execute_input": "2024-07-14T02:57:17.269612Z",
     "iopub.status.busy": "2024-07-14T02:57:17.268783Z",
     "iopub.status.idle": "2024-07-14T02:57:17.275718Z",
     "shell.execute_reply": "2024-07-14T02:57:17.274380Z"
    },
    "papermill": {
     "duration": 0.018323,
     "end_time": "2024-07-14T02:57:17.277995",
     "exception": false,
     "start_time": "2024-07-14T02:57:17.259672",
     "status": "completed"
    },
    "tags": []
   },
   "outputs": [],
   "source": [
    "import os\n",
    "\n",
    "def retrieve_image_paths(base_path, study_id, series_id):\n",
    "    series_dir = os.path.join(base_path, str(study_id), str(series_id))\n",
    "    images = os.listdir(series_dir)\n",
    "    image_paths = [os.path.join(series_dir, img) for img in images]\n",
    "    return image_paths"
   ]
  },
  {
   "cell_type": "code",
   "execution_count": 5,
   "id": "3e75c1ca",
   "metadata": {
    "execution": {
     "iopub.execute_input": "2024-07-14T02:57:17.294659Z",
     "iopub.status.busy": "2024-07-14T02:57:17.294223Z",
     "iopub.status.idle": "2024-07-14T02:57:24.345234Z",
     "shell.execute_reply": "2024-07-14T02:57:24.344172Z"
    },
    "papermill": {
     "duration": 7.06268,
     "end_time": "2024-07-14T02:57:24.348203",
     "exception": false,
     "start_time": "2024-07-14T02:57:17.285523",
     "status": "completed"
    },
    "tags": []
   },
   "outputs": [],
   "source": [
    "import numpy as np\n",
    "from torch.utils.data import Dataset, DataLoader\n",
    "import torchio as tio\n",
    "import albumentations\n",
    "import cv2\n",
    "import pydicom\n",
    "import itk\n",
    "\n",
    "CONDITIONS = {\n",
    "    \"Sagittal T2/STIR\": [\"Spinal Canal Stenosis\"],\n",
    "    \"Axial T2\": [\"Left Subarticular Stenosis\", \"Right Subarticular Stenosis\"],\n",
    "    \"Sagittal T1\": [\"Left Neural Foraminal Narrowing\", \"Right Neural Foraminal Narrowing\"],\n",
    "}\n",
    "\n",
    "\n",
    "def read_series_as_volume(dirName, verbose=False):\n",
    "    PixelType = itk.ctype(\"signed short\")\n",
    "    Dimension = 3\n",
    "\n",
    "    ImageType = itk.Image[PixelType, Dimension]\n",
    "\n",
    "    namesGenerator = itk.GDCMSeriesFileNames.New()\n",
    "    namesGenerator.SetUseSeriesDetails(True)\n",
    "    namesGenerator.AddSeriesRestriction(\"0008|0021\")\n",
    "    namesGenerator.SetGlobalWarningDisplay(False)\n",
    "    namesGenerator.SetDirectory(dirName)\n",
    "\n",
    "    seriesUID = namesGenerator.GetSeriesUIDs()\n",
    "\n",
    "    if verbose:\n",
    "        if len(seriesUID) < 1:\n",
    "            print(\"No DICOMs in: \" + dirName)\n",
    "\n",
    "        print(\"The directory: \" + dirName)\n",
    "        print(\"Contains the following DICOM Series: \")\n",
    "        for uid in seriesUID:\n",
    "            print(uid)\n",
    "\n",
    "    reader = None\n",
    "    dicomIO = None\n",
    "    for i in range(10):\n",
    "        for uid in seriesUID:\n",
    "            seriesIdentifier = uid\n",
    "            if verbose:\n",
    "                print(\"Reading: \" + seriesIdentifier)\n",
    "            fileNames = namesGenerator.GetFileNames(seriesIdentifier)\n",
    "\n",
    "            reader = itk.ImageSeriesReader[ImageType].New()\n",
    "            dicomIO = itk.GDCMImageIO.New()\n",
    "            reader.SetImageIO(dicomIO)\n",
    "            reader.SetFileNames(fileNames)\n",
    "            reader.ForceOrthogonalDirectionOff()\n",
    "        if reader is not None:\n",
    "            break\n",
    "\n",
    "    if reader is None or dicomIO is None:\n",
    "        raise FileNotFoundError(f\"Empty path? {os.path.abspath(dirName)}\")\n",
    "    reader.Update()\n",
    "    data = itk.GetArrayFromImage(reader.GetOutput())\n",
    "\n",
    "    del namesGenerator\n",
    "    del dicomIO\n",
    "    del reader\n",
    "\n",
    "    return data\n",
    "\n",
    "\n",
    "class PatientLevelTestset(Dataset):\n",
    "    def __init__(self,\n",
    "                 base_path: str,\n",
    "                 dataframe: pd.DataFrame,\n",
    "                 transform_3d=None):\n",
    "        self.base_path = base_path\n",
    "\n",
    "        self.dataframe = (dataframe[['study_id', \"series_id\", \"series_description\"]]\n",
    "                          .drop_duplicates())\n",
    "\n",
    "        self.subjects = self.dataframe[['study_id']].drop_duplicates().reset_index(drop=True)\n",
    "\n",
    "        self.transform_3d = transform_3d\n",
    "\n",
    "    def __len__(self):\n",
    "        return len(self.subjects)\n",
    "\n",
    "    def __getitem__(self, index):\n",
    "        curr = self.subjects.iloc[index]\n",
    "        images_basepath = os.path.join(self.base_path, str(curr[\"study_id\"]))\n",
    "        images = []\n",
    "\n",
    "        for series_desc in CONDITIONS.keys():\n",
    "            # !TODO: Multiple matching series\n",
    "            series = self.dataframe.loc[\n",
    "                (self.dataframe[\"study_id\"] == curr[\"study_id\"]) &\n",
    "                (self.dataframe[\"series_description\"] == series_desc)].sort_values(\"series_id\")['series_id'].iloc[0]\n",
    "\n",
    "            series_path = os.path.join(images_basepath, str(series))\n",
    "            series_images = read_series_as_volume(series_path)\n",
    "\n",
    "            if self.transform_3d is not None:\n",
    "                series_images = self.transform_3d(np.expand_dims(series_images, 0)) #.data\n",
    "\n",
    "            images.append(torch.Tensor(series_images).squeeze(0))\n",
    "\n",
    "        return torch.stack(images), curr[\"study_id\"]"
   ]
  },
  {
   "cell_type": "code",
   "execution_count": 6,
   "id": "b6d4e1e2",
   "metadata": {
    "execution": {
     "iopub.execute_input": "2024-07-14T02:57:24.364879Z",
     "iopub.status.busy": "2024-07-14T02:57:24.364274Z",
     "iopub.status.idle": "2024-07-14T02:57:24.370349Z",
     "shell.execute_reply": "2024-07-14T02:57:24.369321Z"
    },
    "papermill": {
     "duration": 0.017043,
     "end_time": "2024-07-14T02:57:24.372857",
     "exception": false,
     "start_time": "2024-07-14T02:57:24.355814",
     "status": "completed"
    },
    "tags": []
   },
   "outputs": [],
   "source": [
    "transform_3d = tio.Compose([\n",
    "    tio.Resize((128, 128, 128), image_interpolation=\"bspline\"),\n",
    "    tio.RescaleIntensity(out_min_max=(0, 1)),\n",
    "])\n"
   ]
  },
  {
   "cell_type": "code",
   "execution_count": 7,
   "id": "c1ab6084",
   "metadata": {
    "execution": {
     "iopub.execute_input": "2024-07-14T02:57:24.389957Z",
     "iopub.status.busy": "2024-07-14T02:57:24.388948Z",
     "iopub.status.idle": "2024-07-14T02:57:24.395679Z",
     "shell.execute_reply": "2024-07-14T02:57:24.394617Z"
    },
    "papermill": {
     "duration": 0.01775,
     "end_time": "2024-07-14T02:57:24.398158",
     "exception": false,
     "start_time": "2024-07-14T02:57:24.380408",
     "status": "completed"
    },
    "tags": []
   },
   "outputs": [],
   "source": [
    "def create_subject_level_testset_and_loader(df: pd.DataFrame,\n",
    "                                             transform_3d,\n",
    "                                             base_path: str,\n",
    "                                             batch_size=1,\n",
    "                                             num_workers=4):\n",
    "    testset = PatientLevelTestset(base_path, df, transform_3d=transform_3d)\n",
    "    test_loader = DataLoader(testset, batch_size=batch_size, shuffle=False, num_workers=num_workers)\n",
    "\n",
    "    return testset, test_loader"
   ]
  },
  {
   "cell_type": "code",
   "execution_count": 8,
   "id": "537b93b1",
   "metadata": {
    "execution": {
     "iopub.execute_input": "2024-07-14T02:57:24.414785Z",
     "iopub.status.busy": "2024-07-14T02:57:24.414339Z",
     "iopub.status.idle": "2024-07-14T02:57:24.434238Z",
     "shell.execute_reply": "2024-07-14T02:57:24.433003Z"
    },
    "papermill": {
     "duration": 0.031391,
     "end_time": "2024-07-14T02:57:24.437093",
     "exception": false,
     "start_time": "2024-07-14T02:57:24.405702",
     "status": "completed"
    },
    "tags": []
   },
   "outputs": [],
   "source": [
    "import os\n",
    "\n",
    "data = retrieve_test_data(data_path)\n",
    "dataset, dataloader = create_subject_level_testset_and_loader(data, transform_3d, os.path.join(data_path, \"test_images\"))"
   ]
  },
  {
   "cell_type": "code",
   "execution_count": 9,
   "id": "86b235b6",
   "metadata": {
    "execution": {
     "iopub.execute_input": "2024-07-14T02:57:24.454261Z",
     "iopub.status.busy": "2024-07-14T02:57:24.453596Z",
     "iopub.status.idle": "2024-07-14T02:57:24.521674Z",
     "shell.execute_reply": "2024-07-14T02:57:24.520545Z"
    },
    "papermill": {
     "duration": 0.07944,
     "end_time": "2024-07-14T02:57:24.524068",
     "exception": false,
     "start_time": "2024-07-14T02:57:24.444628",
     "status": "completed"
    },
    "tags": []
   },
   "outputs": [],
   "source": [
    "import torch\n",
    "device = torch.device(\"cuda\") if torch.cuda.is_available() else \"cpu\""
   ]
  },
  {
   "cell_type": "code",
   "execution_count": 10,
   "id": "a5a4217d",
   "metadata": {
    "execution": {
     "iopub.execute_input": "2024-07-14T02:57:24.541361Z",
     "iopub.status.busy": "2024-07-14T02:57:24.540336Z",
     "iopub.status.idle": "2024-07-14T02:57:27.765557Z",
     "shell.execute_reply": "2024-07-14T02:57:27.764607Z"
    },
    "papermill": {
     "duration": 3.236629,
     "end_time": "2024-07-14T02:57:27.768268",
     "exception": false,
     "start_time": "2024-07-14T02:57:24.531639",
     "status": "completed"
    },
    "tags": []
   },
   "outputs": [],
   "source": [
    "import torch.nn as nn\n",
    "import timm_3d\n",
    "\n",
    "class CNN_Model_3D(nn.Module):\n",
    "    def __init__(self, backbone=\"efficientnet_lite0\", in_chans=3, out_classes=75, pretrained=True):\n",
    "        super(CNN_Model_3D, self).__init__()\n",
    "        self.out_classes = out_classes\n",
    "\n",
    "        self.encoder = timm_3d.create_model(\n",
    "            backbone,\n",
    "            num_classes=out_classes,\n",
    "            features_only=False,\n",
    "            drop_rate=0,\n",
    "            drop_path_rate=0,\n",
    "            pretrained=pretrained,\n",
    "            in_chans=in_chans,\n",
    "        ).to(device)\n",
    "\n",
    "    def forward(self, x):\n",
    "        # return self.encoder(x).reshape((-1, self.out_classes, 3))\n",
    "        return self.encoder(x)\n"
   ]
  },
  {
   "cell_type": "code",
   "execution_count": 11,
   "id": "003ebb15",
   "metadata": {
    "execution": {
     "iopub.execute_input": "2024-07-14T02:57:27.786070Z",
     "iopub.status.busy": "2024-07-14T02:57:27.785649Z",
     "iopub.status.idle": "2024-07-14T02:57:29.097389Z",
     "shell.execute_reply": "2024-07-14T02:57:29.096228Z"
    },
    "papermill": {
     "duration": 1.324165,
     "end_time": "2024-07-14T02:57:29.099979",
     "exception": false,
     "start_time": "2024-07-14T02:57:27.775814",
     "status": "completed"
    },
    "tags": []
   },
   "outputs": [],
   "source": [
    "model = torch.load(\"/kaggle/input/rsna-2024/pytorch/efficientnet_b4_3d/2/efficientnet_b4_128_3d_less_aug_comp_oversampling_6.pt\").to(device)"
   ]
  },
  {
   "cell_type": "code",
   "execution_count": 12,
   "id": "17ac90c4",
   "metadata": {
    "execution": {
     "iopub.execute_input": "2024-07-14T02:57:29.117449Z",
     "iopub.status.busy": "2024-07-14T02:57:29.116463Z",
     "iopub.status.idle": "2024-07-14T02:57:29.126507Z",
     "shell.execute_reply": "2024-07-14T02:57:29.125528Z"
    },
    "papermill": {
     "duration": 0.021371,
     "end_time": "2024-07-14T02:57:29.128991",
     "exception": false,
     "start_time": "2024-07-14T02:57:29.107620",
     "status": "completed"
    },
    "tags": []
   },
   "outputs": [
    {
     "data": {
      "text/plain": [
       "['left_neural_foraminal_narrowing',\n",
       " 'left_subarticular_stenosis',\n",
       " 'right_neural_foraminal_narrowing',\n",
       " 'right_subarticular_stenosis',\n",
       " 'spinal_canal_stenosis']"
      ]
     },
     "execution_count": 12,
     "metadata": {},
     "output_type": "execute_result"
    }
   ],
   "source": [
    "CONDITIONS = {\n",
    "    \"Sagittal T2/STIR\": [\"spinal_canal_stenosis\"],\n",
    "    \"Axial T2\": [\"left_subarticular_stenosis\", \"right_subarticular_stenosis\"],\n",
    "    \"Sagittal T1\": [\"left_neural_foraminal_narrowing\", \"right_neural_foraminal_narrowing\"],\n",
    "}\n",
    "\n",
    "ALL_CONDITIONS = sorted([\"spinal_canal_stenosis\", \"left_subarticular_stenosis\", \"right_subarticular_stenosis\", \"left_neural_foraminal_narrowing\", \"right_neural_foraminal_narrowing\"])\n",
    "LEVELS = [\"l1_l2\", \"l2_l3\", \"l3_l4\", \"l4_l5\", \"l5_s1\"]\n",
    "\n",
    "results_df = pd.DataFrame({\"row_id\":[], \"normal_mild\": [], \"moderate\": [], \"severe\": []})\n",
    "\n",
    "ALL_CONDITIONS"
   ]
  },
  {
   "cell_type": "code",
   "execution_count": 13,
   "id": "81c45b3f",
   "metadata": {
    "execution": {
     "iopub.execute_input": "2024-07-14T02:57:29.146436Z",
     "iopub.status.busy": "2024-07-14T02:57:29.145366Z",
     "iopub.status.idle": "2024-07-14T02:57:29.183168Z",
     "shell.execute_reply": "2024-07-14T02:57:29.182040Z"
    },
    "papermill": {
     "duration": 0.049311,
     "end_time": "2024-07-14T02:57:29.185912",
     "exception": false,
     "start_time": "2024-07-14T02:57:29.136601",
     "status": "completed"
    },
    "tags": []
   },
   "outputs": [],
   "source": [
    "# Pre-populate results df\n",
    "import glob\n",
    "import os\n",
    "\n",
    "study_ids = glob.glob(\"/kaggle/input/rsna-2024-lumbar-spine-degenerative-classification/test_images/*\")\n",
    "study_ids = [os.path.basename(e) for e in study_ids]\n",
    "\n",
    "results_df = pd.DataFrame({\"row_id\":[], \"normal_mild\": [], \"moderate\": [], \"severe\": []})\n",
    "for study_id in study_ids:\n",
    "    for condition in ALL_CONDITIONS:\n",
    "        for level in LEVELS:\n",
    "            row_id = f\"{study_id}_{condition}_{level}\"\n",
    "            results_df = results_df._append({\"row_id\": row_id, \"normal_mild\": 1/3, \"moderate\": 1/3, \"severe\": 1/3}, ignore_index=True)"
   ]
  },
  {
   "cell_type": "code",
   "execution_count": 14,
   "id": "5f599cdd",
   "metadata": {
    "execution": {
     "iopub.execute_input": "2024-07-14T02:57:29.203217Z",
     "iopub.status.busy": "2024-07-14T02:57:29.202280Z",
     "iopub.status.idle": "2024-07-14T02:57:29.207374Z",
     "shell.execute_reply": "2024-07-14T02:57:29.206302Z"
    },
    "papermill": {
     "duration": 0.016223,
     "end_time": "2024-07-14T02:57:29.209838",
     "exception": false,
     "start_time": "2024-07-14T02:57:29.193615",
     "status": "completed"
    },
    "tags": []
   },
   "outputs": [],
   "source": [
    "softmax = nn.Softmax(dim=2)"
   ]
  },
  {
   "cell_type": "code",
   "execution_count": 15,
   "id": "17a1216e",
   "metadata": {
    "execution": {
     "iopub.execute_input": "2024-07-14T02:57:29.227386Z",
     "iopub.status.busy": "2024-07-14T02:57:29.226452Z",
     "iopub.status.idle": "2024-07-14T02:57:29.237382Z",
     "shell.execute_reply": "2024-07-14T02:57:29.236224Z"
    },
    "papermill": {
     "duration": 0.022289,
     "end_time": "2024-07-14T02:57:29.239694",
     "exception": false,
     "start_time": "2024-07-14T02:57:29.217405",
     "status": "completed"
    },
    "tags": []
   },
   "outputs": [
    {
     "data": {
      "text/html": [
       "<div>\n",
       "<style scoped>\n",
       "    .dataframe tbody tr th:only-of-type {\n",
       "        vertical-align: middle;\n",
       "    }\n",
       "\n",
       "    .dataframe tbody tr th {\n",
       "        vertical-align: top;\n",
       "    }\n",
       "\n",
       "    .dataframe thead th {\n",
       "        text-align: right;\n",
       "    }\n",
       "</style>\n",
       "<table border=\"1\" class=\"dataframe\">\n",
       "  <thead>\n",
       "    <tr style=\"text-align: right;\">\n",
       "      <th></th>\n",
       "      <th>study_id</th>\n",
       "      <th>series_id</th>\n",
       "      <th>series_description</th>\n",
       "    </tr>\n",
       "  </thead>\n",
       "  <tbody>\n",
       "    <tr>\n",
       "      <th>0</th>\n",
       "      <td>44036939</td>\n",
       "      <td>2828203845</td>\n",
       "      <td>Sagittal T1</td>\n",
       "    </tr>\n",
       "    <tr>\n",
       "      <th>1</th>\n",
       "      <td>44036939</td>\n",
       "      <td>3481971518</td>\n",
       "      <td>Axial T2</td>\n",
       "    </tr>\n",
       "    <tr>\n",
       "      <th>2</th>\n",
       "      <td>44036939</td>\n",
       "      <td>3844393089</td>\n",
       "      <td>Sagittal T2/STIR</td>\n",
       "    </tr>\n",
       "  </tbody>\n",
       "</table>\n",
       "</div>"
      ],
      "text/plain": [
       "   study_id   series_id series_description\n",
       "0  44036939  2828203845        Sagittal T1\n",
       "1  44036939  3481971518           Axial T2\n",
       "2  44036939  3844393089   Sagittal T2/STIR"
      ]
     },
     "execution_count": 15,
     "metadata": {},
     "output_type": "execute_result"
    }
   ],
   "source": [
    "dataset.dataframe"
   ]
  },
  {
   "cell_type": "code",
   "execution_count": 16,
   "id": "b86c78e3",
   "metadata": {
    "execution": {
     "iopub.execute_input": "2024-07-14T02:57:29.257225Z",
     "iopub.status.busy": "2024-07-14T02:57:29.256834Z",
     "iopub.status.idle": "2024-07-14T02:57:49.232729Z",
     "shell.execute_reply": "2024-07-14T02:57:49.231132Z"
    },
    "papermill": {
     "duration": 19.988261,
     "end_time": "2024-07-14T02:57:49.235693",
     "exception": false,
     "start_time": "2024-07-14T02:57:29.247432",
     "status": "completed"
    },
    "tags": []
   },
   "outputs": [],
   "source": [
    "with torch.no_grad():\n",
    "    model.eval()\n",
    "\n",
    "    for images, study_id in dataloader:\n",
    "        output = model(images.to(device))\n",
    "        output = output.reshape((-1, 25, 3))\n",
    "        output = softmax(output)\n",
    "        output = output.detach().cpu().numpy()[0]\n",
    "        for index, level in enumerate(output):\n",
    "            row_id = f\"{study_id.item()}_{ALL_CONDITIONS[index // 5]}_{LEVELS[index % 5]}\"\n",
    "            results_df.loc[results_df.row_id == row_id,'normal_mild'] = level[0]\n",
    "            results_df.loc[results_df.row_id == row_id,'moderate'] = level[1]\n",
    "            results_df.loc[results_df.row_id == row_id,'severe'] = level[2]"
   ]
  },
  {
   "cell_type": "code",
   "execution_count": 17,
   "id": "5b5a16dd",
   "metadata": {
    "execution": {
     "iopub.execute_input": "2024-07-14T02:57:49.255628Z",
     "iopub.status.busy": "2024-07-14T02:57:49.255147Z",
     "iopub.status.idle": "2024-07-14T02:57:49.275033Z",
     "shell.execute_reply": "2024-07-14T02:57:49.273963Z"
    },
    "papermill": {
     "duration": 0.032616,
     "end_time": "2024-07-14T02:57:49.277443",
     "exception": false,
     "start_time": "2024-07-14T02:57:49.244827",
     "status": "completed"
    },
    "tags": []
   },
   "outputs": [
    {
     "data": {
      "text/html": [
       "<div>\n",
       "<style scoped>\n",
       "    .dataframe tbody tr th:only-of-type {\n",
       "        vertical-align: middle;\n",
       "    }\n",
       "\n",
       "    .dataframe tbody tr th {\n",
       "        vertical-align: top;\n",
       "    }\n",
       "\n",
       "    .dataframe thead th {\n",
       "        text-align: right;\n",
       "    }\n",
       "</style>\n",
       "<table border=\"1\" class=\"dataframe\">\n",
       "  <thead>\n",
       "    <tr style=\"text-align: right;\">\n",
       "      <th></th>\n",
       "      <th>row_id</th>\n",
       "      <th>normal_mild</th>\n",
       "      <th>moderate</th>\n",
       "      <th>severe</th>\n",
       "    </tr>\n",
       "  </thead>\n",
       "  <tbody>\n",
       "    <tr>\n",
       "      <th>0</th>\n",
       "      <td>44036939_left_neural_foraminal_narrowing_l1_l2</td>\n",
       "      <td>0.557235</td>\n",
       "      <td>0.434837</td>\n",
       "      <td>0.007928</td>\n",
       "    </tr>\n",
       "    <tr>\n",
       "      <th>1</th>\n",
       "      <td>44036939_left_neural_foraminal_narrowing_l2_l3</td>\n",
       "      <td>0.533406</td>\n",
       "      <td>0.408533</td>\n",
       "      <td>0.058061</td>\n",
       "    </tr>\n",
       "    <tr>\n",
       "      <th>2</th>\n",
       "      <td>44036939_left_neural_foraminal_narrowing_l3_l4</td>\n",
       "      <td>0.117707</td>\n",
       "      <td>0.744620</td>\n",
       "      <td>0.137673</td>\n",
       "    </tr>\n",
       "    <tr>\n",
       "      <th>3</th>\n",
       "      <td>44036939_left_neural_foraminal_narrowing_l4_l5</td>\n",
       "      <td>0.184277</td>\n",
       "      <td>0.350706</td>\n",
       "      <td>0.465017</td>\n",
       "    </tr>\n",
       "    <tr>\n",
       "      <th>4</th>\n",
       "      <td>44036939_left_neural_foraminal_narrowing_l5_s1</td>\n",
       "      <td>0.422382</td>\n",
       "      <td>0.360538</td>\n",
       "      <td>0.217081</td>\n",
       "    </tr>\n",
       "    <tr>\n",
       "      <th>5</th>\n",
       "      <td>44036939_left_subarticular_stenosis_l1_l2</td>\n",
       "      <td>0.664757</td>\n",
       "      <td>0.240503</td>\n",
       "      <td>0.094740</td>\n",
       "    </tr>\n",
       "    <tr>\n",
       "      <th>6</th>\n",
       "      <td>44036939_left_subarticular_stenosis_l2_l3</td>\n",
       "      <td>0.234729</td>\n",
       "      <td>0.315088</td>\n",
       "      <td>0.450183</td>\n",
       "    </tr>\n",
       "    <tr>\n",
       "      <th>7</th>\n",
       "      <td>44036939_left_subarticular_stenosis_l3_l4</td>\n",
       "      <td>0.036450</td>\n",
       "      <td>0.265583</td>\n",
       "      <td>0.697967</td>\n",
       "    </tr>\n",
       "    <tr>\n",
       "      <th>8</th>\n",
       "      <td>44036939_left_subarticular_stenosis_l4_l5</td>\n",
       "      <td>0.025503</td>\n",
       "      <td>0.277932</td>\n",
       "      <td>0.696565</td>\n",
       "    </tr>\n",
       "    <tr>\n",
       "      <th>9</th>\n",
       "      <td>44036939_left_subarticular_stenosis_l5_s1</td>\n",
       "      <td>0.534981</td>\n",
       "      <td>0.369676</td>\n",
       "      <td>0.095343</td>\n",
       "    </tr>\n",
       "    <tr>\n",
       "      <th>10</th>\n",
       "      <td>44036939_right_neural_foraminal_narrowing_l1_l2</td>\n",
       "      <td>0.811370</td>\n",
       "      <td>0.136826</td>\n",
       "      <td>0.051804</td>\n",
       "    </tr>\n",
       "    <tr>\n",
       "      <th>11</th>\n",
       "      <td>44036939_right_neural_foraminal_narrowing_l2_l3</td>\n",
       "      <td>0.487310</td>\n",
       "      <td>0.497582</td>\n",
       "      <td>0.015109</td>\n",
       "    </tr>\n",
       "    <tr>\n",
       "      <th>12</th>\n",
       "      <td>44036939_right_neural_foraminal_narrowing_l3_l4</td>\n",
       "      <td>0.305617</td>\n",
       "      <td>0.479018</td>\n",
       "      <td>0.215365</td>\n",
       "    </tr>\n",
       "    <tr>\n",
       "      <th>13</th>\n",
       "      <td>44036939_right_neural_foraminal_narrowing_l4_l5</td>\n",
       "      <td>0.140618</td>\n",
       "      <td>0.595893</td>\n",
       "      <td>0.263489</td>\n",
       "    </tr>\n",
       "    <tr>\n",
       "      <th>14</th>\n",
       "      <td>44036939_right_neural_foraminal_narrowing_l5_s1</td>\n",
       "      <td>0.254366</td>\n",
       "      <td>0.429037</td>\n",
       "      <td>0.316598</td>\n",
       "    </tr>\n",
       "    <tr>\n",
       "      <th>15</th>\n",
       "      <td>44036939_right_subarticular_stenosis_l1_l2</td>\n",
       "      <td>0.439547</td>\n",
       "      <td>0.405435</td>\n",
       "      <td>0.155018</td>\n",
       "    </tr>\n",
       "    <tr>\n",
       "      <th>16</th>\n",
       "      <td>44036939_right_subarticular_stenosis_l2_l3</td>\n",
       "      <td>0.237405</td>\n",
       "      <td>0.534598</td>\n",
       "      <td>0.227998</td>\n",
       "    </tr>\n",
       "    <tr>\n",
       "      <th>17</th>\n",
       "      <td>44036939_right_subarticular_stenosis_l3_l4</td>\n",
       "      <td>0.032247</td>\n",
       "      <td>0.156217</td>\n",
       "      <td>0.811535</td>\n",
       "    </tr>\n",
       "    <tr>\n",
       "      <th>18</th>\n",
       "      <td>44036939_right_subarticular_stenosis_l4_l5</td>\n",
       "      <td>0.040098</td>\n",
       "      <td>0.062759</td>\n",
       "      <td>0.897143</td>\n",
       "    </tr>\n",
       "    <tr>\n",
       "      <th>19</th>\n",
       "      <td>44036939_right_subarticular_stenosis_l5_s1</td>\n",
       "      <td>0.566996</td>\n",
       "      <td>0.242942</td>\n",
       "      <td>0.190062</td>\n",
       "    </tr>\n",
       "    <tr>\n",
       "      <th>20</th>\n",
       "      <td>44036939_spinal_canal_stenosis_l1_l2</td>\n",
       "      <td>0.677211</td>\n",
       "      <td>0.140830</td>\n",
       "      <td>0.181959</td>\n",
       "    </tr>\n",
       "    <tr>\n",
       "      <th>21</th>\n",
       "      <td>44036939_spinal_canal_stenosis_l2_l3</td>\n",
       "      <td>0.390391</td>\n",
       "      <td>0.250747</td>\n",
       "      <td>0.358862</td>\n",
       "    </tr>\n",
       "    <tr>\n",
       "      <th>22</th>\n",
       "      <td>44036939_spinal_canal_stenosis_l3_l4</td>\n",
       "      <td>0.136139</td>\n",
       "      <td>0.239783</td>\n",
       "      <td>0.624077</td>\n",
       "    </tr>\n",
       "    <tr>\n",
       "      <th>23</th>\n",
       "      <td>44036939_spinal_canal_stenosis_l4_l5</td>\n",
       "      <td>0.203685</td>\n",
       "      <td>0.130900</td>\n",
       "      <td>0.665416</td>\n",
       "    </tr>\n",
       "    <tr>\n",
       "      <th>24</th>\n",
       "      <td>44036939_spinal_canal_stenosis_l5_s1</td>\n",
       "      <td>0.980960</td>\n",
       "      <td>0.010537</td>\n",
       "      <td>0.008502</td>\n",
       "    </tr>\n",
       "  </tbody>\n",
       "</table>\n",
       "</div>"
      ],
      "text/plain": [
       "                                             row_id  normal_mild  moderate  \\\n",
       "0    44036939_left_neural_foraminal_narrowing_l1_l2     0.557235  0.434837   \n",
       "1    44036939_left_neural_foraminal_narrowing_l2_l3     0.533406  0.408533   \n",
       "2    44036939_left_neural_foraminal_narrowing_l3_l4     0.117707  0.744620   \n",
       "3    44036939_left_neural_foraminal_narrowing_l4_l5     0.184277  0.350706   \n",
       "4    44036939_left_neural_foraminal_narrowing_l5_s1     0.422382  0.360538   \n",
       "5         44036939_left_subarticular_stenosis_l1_l2     0.664757  0.240503   \n",
       "6         44036939_left_subarticular_stenosis_l2_l3     0.234729  0.315088   \n",
       "7         44036939_left_subarticular_stenosis_l3_l4     0.036450  0.265583   \n",
       "8         44036939_left_subarticular_stenosis_l4_l5     0.025503  0.277932   \n",
       "9         44036939_left_subarticular_stenosis_l5_s1     0.534981  0.369676   \n",
       "10  44036939_right_neural_foraminal_narrowing_l1_l2     0.811370  0.136826   \n",
       "11  44036939_right_neural_foraminal_narrowing_l2_l3     0.487310  0.497582   \n",
       "12  44036939_right_neural_foraminal_narrowing_l3_l4     0.305617  0.479018   \n",
       "13  44036939_right_neural_foraminal_narrowing_l4_l5     0.140618  0.595893   \n",
       "14  44036939_right_neural_foraminal_narrowing_l5_s1     0.254366  0.429037   \n",
       "15       44036939_right_subarticular_stenosis_l1_l2     0.439547  0.405435   \n",
       "16       44036939_right_subarticular_stenosis_l2_l3     0.237405  0.534598   \n",
       "17       44036939_right_subarticular_stenosis_l3_l4     0.032247  0.156217   \n",
       "18       44036939_right_subarticular_stenosis_l4_l5     0.040098  0.062759   \n",
       "19       44036939_right_subarticular_stenosis_l5_s1     0.566996  0.242942   \n",
       "20             44036939_spinal_canal_stenosis_l1_l2     0.677211  0.140830   \n",
       "21             44036939_spinal_canal_stenosis_l2_l3     0.390391  0.250747   \n",
       "22             44036939_spinal_canal_stenosis_l3_l4     0.136139  0.239783   \n",
       "23             44036939_spinal_canal_stenosis_l4_l5     0.203685  0.130900   \n",
       "24             44036939_spinal_canal_stenosis_l5_s1     0.980960  0.010537   \n",
       "\n",
       "      severe  \n",
       "0   0.007928  \n",
       "1   0.058061  \n",
       "2   0.137673  \n",
       "3   0.465017  \n",
       "4   0.217081  \n",
       "5   0.094740  \n",
       "6   0.450183  \n",
       "7   0.697967  \n",
       "8   0.696565  \n",
       "9   0.095343  \n",
       "10  0.051804  \n",
       "11  0.015109  \n",
       "12  0.215365  \n",
       "13  0.263489  \n",
       "14  0.316598  \n",
       "15  0.155018  \n",
       "16  0.227998  \n",
       "17  0.811535  \n",
       "18  0.897143  \n",
       "19  0.190062  \n",
       "20  0.181959  \n",
       "21  0.358862  \n",
       "22  0.624077  \n",
       "23  0.665416  \n",
       "24  0.008502  "
      ]
     },
     "execution_count": 17,
     "metadata": {},
     "output_type": "execute_result"
    }
   ],
   "source": [
    "results_df"
   ]
  },
  {
   "cell_type": "code",
   "execution_count": 18,
   "id": "39e1ac40",
   "metadata": {
    "execution": {
     "iopub.execute_input": "2024-07-14T02:57:49.296257Z",
     "iopub.status.busy": "2024-07-14T02:57:49.295233Z",
     "iopub.status.idle": "2024-07-14T02:57:49.305348Z",
     "shell.execute_reply": "2024-07-14T02:57:49.304222Z"
    },
    "papermill": {
     "duration": 0.022387,
     "end_time": "2024-07-14T02:57:49.307984",
     "exception": false,
     "start_time": "2024-07-14T02:57:49.285597",
     "status": "completed"
    },
    "tags": []
   },
   "outputs": [],
   "source": [
    "results_df.to_csv('submission.csv', index=False)"
   ]
  }
 ],
 "metadata": {
  "kaggle": {
   "accelerator": "gpu",
   "dataSources": [
    {
     "databundleVersionId": 8561470,
     "sourceId": 71549,
     "sourceType": "competition"
    },
    {
     "modelInstanceId": 64271,
     "sourceId": 77199,
     "sourceType": "modelInstanceVersion"
    },
    {
     "modelInstanceId": 64905,
     "sourceId": 77213,
     "sourceType": "modelInstanceVersion"
    }
   ],
   "isGpuEnabled": true,
   "isInternetEnabled": false,
   "language": "python",
   "sourceType": "notebook"
  },
  "kernelspec": {
   "display_name": "Python 3",
   "language": "python",
   "name": "python3"
  },
  "language_info": {
   "codemirror_mode": {
    "name": "ipython",
    "version": 3
   },
   "file_extension": ".py",
   "mimetype": "text/x-python",
   "name": "python",
   "nbconvert_exporter": "python",
   "pygments_lexer": "ipython3",
   "version": "3.10.13"
  },
  "papermill": {
   "default_parameters": {},
   "duration": 125.382344,
   "end_time": "2024-07-14T02:57:52.077559",
   "environment_variables": {},
   "exception": null,
   "input_path": "__notebook__.ipynb",
   "output_path": "__notebook__.ipynb",
   "parameters": {},
   "start_time": "2024-07-14T02:55:46.695215",
   "version": "2.5.0"
  }
 },
 "nbformat": 4,
 "nbformat_minor": 5
}
