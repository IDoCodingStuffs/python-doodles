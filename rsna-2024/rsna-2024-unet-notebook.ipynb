{
 "cells": [
  {
   "cell_type": "code",
   "execution_count": 6,
   "outputs": [],
   "source": [
    "from tqdm import tqdm\n",
    "import pandas as pd\n",
    "import numpy as np\n",
    "import os\n",
    "import glob\n",
    "import pydicom\n",
    "import matplotlib.pyplot as plt\n",
    "from time import time_ns\n",
    "import sys\n",
    "sys.path.append(os.getcwd())\n",
    "sys.path.append(os.getcwd() + \"/rsna-2024/\")\n",
    "from rsna_dataloader import create_datasets_and_loaders, clean_training_data, retrieve_training_data\n",
    "import torch"
   ],
   "metadata": {
    "collapsed": false,
    "ExecuteTime": {
     "end_time": "2024-06-11T18:49:47.280281Z",
     "start_time": "2024-06-11T18:49:47.273039Z"
    }
   },
   "id": "864c4fd02c824c3c"
  },
  {
   "cell_type": "code",
   "execution_count": 27,
   "outputs": [],
   "source": [
    "import torchvision.transforms as transforms\n",
    "\n",
    "transform = transforms.Compose([\n",
    "    transforms.Lambda(lambda x: (x * 255).astype(np.uint8)),  # Convert back to uint8 for PIL\n",
    "    transforms.ToPILImage(),\n",
    "    transforms.Resize((512, 512)),\n",
    "    transforms.Grayscale(num_output_channels=1),\n",
    "    transforms.ToTensor(),\n",
    "])\n"
   ],
   "metadata": {
    "collapsed": false,
    "ExecuteTime": {
     "end_time": "2024-06-11T19:02:52.087038Z",
     "start_time": "2024-06-11T19:02:52.084927Z"
    }
   },
   "id": "85c3c4e8e2003fbf"
  },
  {
   "cell_type": "code",
   "execution_count": 28,
   "outputs": [
    {
     "data": {
      "text/plain": "{'Sagittal T1': (<torch.utils.data.dataloader.DataLoader at 0x2a6300f10>,\n  <torch.utils.data.dataloader.DataLoader at 0x2a2d92610>,\n  15779,\n  3945),\n 'Axial T2': (<torch.utils.data.dataloader.DataLoader at 0x2a6184c50>,\n  <torch.utils.data.dataloader.DataLoader at 0x2a619fc50>,\n  15376,\n  3844),\n 'Sagittal T2/STIR': (<torch.utils.data.dataloader.DataLoader at 0x2a5d42350>,\n  <torch.utils.data.dataloader.DataLoader at 0x2a5db52d0>,\n  7798,\n  1950)}"
     },
     "execution_count": 28,
     "metadata": {},
     "output_type": "execute_result"
    }
   ],
   "source": [
    "label_map = {'normal_mild': 0, 'moderate': 1, 'severe': 2}\n",
    "series_desc = ('Sagittal T1', 'Axial T2', 'Sagittal T2/STIR')\n",
    "data = retrieve_training_data(\"/Users/victorsahin/PycharmProjects/pythonProject/data/rsna-2024-lumbar-spine-degenerative-classification/\")\n",
    "data = clean_training_data(data, \"/Users/victorsahin/PycharmProjects/pythonProject/data/rsna-2024-lumbar-spine-degenerative-classification/\")\n",
    "\n",
    "loaders = {e : create_datasets_and_loaders(data, e, transform) for e in series_desc}\n",
    "loaders "
   ],
   "metadata": {
    "collapsed": false,
    "ExecuteTime": {
     "end_time": "2024-06-11T19:02:56.274635Z",
     "start_time": "2024-06-11T19:02:52.987245Z"
    }
   },
   "id": "912171899dda8dbd"
  },
  {
   "cell_type": "code",
   "execution_count": 36,
   "outputs": [],
   "source": [
    "import importlib\n",
    "import unet\n",
    "import train_unet\n",
    "importlib.reload(unet)\n",
    "importlib.reload(train_unet)\n",
    "from train_unet import train\n",
    "from unet import UNet\n",
    "models = {e : UNet(1, 3) for e in loaders}"
   ],
   "metadata": {
    "collapsed": false,
    "ExecuteTime": {
     "end_time": "2024-06-11T19:17:24.127372Z",
     "start_time": "2024-06-11T19:17:23.740602Z"
    }
   },
   "id": "5fb48ddc79a1fa41"
  },
  {
   "cell_type": "code",
   "execution_count": 39,
   "outputs": [
    {
     "name": "stdout",
     "output_type": "stream",
     "text": [
      "Number of parameters: [('Sagittal T1', 31070724), ('Axial T2', 31070724), ('Sagittal T2/STIR', 31070724)]\n"
     ]
    }
   ],
   "source": [
    "def trainable_params(model):\n",
    "    return sum(p.numel() for p in model.parameters() if p.requires_grad)\n",
    "print(f\"Number of parameters: {[(e, trainable_params(models[e])) for e in models]}\")"
   ],
   "metadata": {
    "collapsed": false,
    "ExecuteTime": {
     "end_time": "2024-06-11T19:19:48.448128Z",
     "start_time": "2024-06-11T19:19:48.443032Z"
    }
   },
   "id": "3fd1de9c7671c177"
  },
  {
   "cell_type": "code",
   "execution_count": null,
   "outputs": [],
   "source": [
    "train(loaders[e][0], loaders[e][1], label_map)"
   ],
   "metadata": {
    "collapsed": false
   },
   "id": "f81a0e625edfda15"
  }
 ],
 "metadata": {
  "kernelspec": {
   "display_name": "Python 3",
   "language": "python",
   "name": "python3"
  },
  "language_info": {
   "codemirror_mode": {
    "name": "ipython",
    "version": 2
   },
   "file_extension": ".py",
   "mimetype": "text/x-python",
   "name": "python",
   "nbconvert_exporter": "python",
   "pygments_lexer": "ipython2",
   "version": "2.7.6"
  }
 },
 "nbformat": 4,
 "nbformat_minor": 5
}
