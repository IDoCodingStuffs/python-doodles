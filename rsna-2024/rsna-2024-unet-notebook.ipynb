{
 "cells": [
  {
   "cell_type": "code",
   "source": [
    "from tqdm import tqdm\n",
    "import pandas as pd\n",
    "import numpy as np\n",
    "import os\n",
    "import glob\n",
    "import pydicom\n",
    "import matplotlib.pyplot as plt\n",
    "from time import time_ns\n",
    "import sys\n",
    "sys.path.append(os.getcwd())\n",
    "sys.path.append(os.getcwd() + \"/rsna-2024/\")\n",
    "from rsna_dataloader import create_datasets_and_loaders, clean_training_data, retrieve_training_data\n",
    "import torch"
   ],
   "metadata": {
    "collapsed": false,
    "ExecuteTime": {
     "end_time": "2024-06-12T05:10:16.178160Z",
     "start_time": "2024-06-12T05:10:10.566650Z"
    }
   },
   "id": "864c4fd02c824c3c",
   "outputs": [],
   "execution_count": 1
  },
  {
   "cell_type": "code",
   "source": [
    "import torchvision.transforms as transforms\n",
    "\n",
    "transform = transforms.Compose([\n",
    "    transforms.Lambda(lambda x: (x * 255).astype(np.uint8)),  # Convert back to uint8 for PIL\n",
    "    transforms.ToPILImage(),\n",
    "    transforms.Resize((512, 512)),\n",
    "    transforms.Grayscale(num_output_channels=1),\n",
    "    transforms.ToTensor(),\n",
    "])\n"
   ],
   "metadata": {
    "collapsed": false,
    "ExecuteTime": {
     "end_time": "2024-06-12T05:10:16.184461Z",
     "start_time": "2024-06-12T05:10:16.179687Z"
    }
   },
   "id": "85c3c4e8e2003fbf",
   "outputs": [],
   "execution_count": 2
  },
  {
   "cell_type": "code",
   "source": [
    "label_map = {'normal_mild': 0, 'moderate': 1, 'severe': 2}\n",
    "series_desc = ('Sagittal T1', 'Axial T2', 'Sagittal T2/STIR')\n",
    "data = retrieve_training_data(\"C:/Users/Victor/Documents/python-doodles/data/rsna-2024-lumbar-spine-degenerative-classification/\")\n",
    "data = clean_training_data(data, \"C:/Users/Victor/Documents/python-doodles/data/rsna-2024-lumbar-spine-degenerative-classification/\")\n",
    "data = data.dropna()\n",
    "\n",
    "loaders = {e : create_datasets_and_loaders(data, e, transform, batch_size=4) for e in series_desc}\n",
    "loaders "
   ],
   "metadata": {
    "collapsed": false,
    "ExecuteTime": {
     "end_time": "2024-06-12T05:17:34.606366Z",
     "start_time": "2024-06-12T05:17:28.474851Z"
    }
   },
   "id": "912171899dda8dbd",
   "outputs": [
    {
     "data": {
      "text/plain": [
       "{'Sagittal T1': (<torch.utils.data.dataloader.DataLoader at 0x284b7a42890>,\n",
       "  <torch.utils.data.dataloader.DataLoader at 0x286f0125510>,\n",
       "  15755,\n",
       "  3939),\n",
       " 'Axial T2': (<torch.utils.data.dataloader.DataLoader at 0x284b7b49390>,\n",
       "  <torch.utils.data.dataloader.DataLoader at 0x284b7b5d210>,\n",
       "  15372,\n",
       "  3843),\n",
       " 'Sagittal T2/STIR': (<torch.utils.data.dataloader.DataLoader at 0x286eda87410>,\n",
       "  <torch.utils.data.dataloader.DataLoader at 0x286edaa6b90>,\n",
       "  7798,\n",
       "  1950)}"
      ]
     },
     "execution_count": 13,
     "metadata": {},
     "output_type": "execute_result"
    }
   ],
   "execution_count": 13
  },
  {
   "cell_type": "code",
   "source": [
    "# import importlib\n",
    "# import unet\n",
    "# import train_unet\n",
    "# importlib.reload(unet)\n",
    "# importlib.reload(train_unet)\n",
    "# from train_unet import train\n",
    "# from unet import UNet\n",
    "# models = {e : UNet(1, 3) for e in loaders}"
   ],
   "metadata": {
    "collapsed": false
   },
   "id": "5fb48ddc79a1fa41",
   "outputs": [],
   "execution_count": null
  },
  {
   "cell_type": "code",
   "source": [
    "def trainable_params(model):\n",
    "    return sum(p.numel() for p in model.parameters() if p.requires_grad)"
   ],
   "metadata": {
    "collapsed": false,
    "ExecuteTime": {
     "end_time": "2024-06-12T05:15:21.943543Z",
     "start_time": "2024-06-12T05:15:21.939572Z"
    }
   },
   "id": "3fd1de9c7671c177",
   "outputs": [],
   "execution_count": 11
  },
  {
   "cell_type": "code",
   "source": [
    "# train(loaders[e][0], loaders[e][1], label_map)"
   ],
   "metadata": {
    "collapsed": false,
    "ExecuteTime": {
     "end_time": "2024-06-12T00:18:36.229429Z",
     "start_time": "2024-06-12T00:18:36.225670Z"
    }
   },
   "id": "f81a0e625edfda15",
   "outputs": [],
   "execution_count": 7
  },
  {
   "cell_type": "code",
   "source": [
    "from fastmri.models.unet import Unet"
   ],
   "metadata": {
    "collapsed": false,
    "ExecuteTime": {
     "end_time": "2024-06-12T05:10:25.331270Z",
     "start_time": "2024-06-12T05:10:25.192359Z"
    }
   },
   "id": "e689ae52467e249c",
   "outputs": [],
   "execution_count": 5
  },
  {
   "cell_type": "code",
   "source": [
    "model = Unet(num_pool_layers=4, drop_prob=0.05, in_chans=1, out_chans=1)\n",
    "print(trainable_params(model))\n",
    "#model.load_weights('/Users/victorsahin/PycharmProjects/pythonProject/models/unet_model_weights.h5')"
   ],
   "metadata": {
    "collapsed": false,
    "ExecuteTime": {
     "end_time": "2024-06-12T05:10:25.390925Z",
     "start_time": "2024-06-12T05:10:25.332276Z"
    }
   },
   "id": "a2ac9da48ff54de",
   "outputs": [
    {
     "name": "stdout",
     "output_type": "stream",
     "text": [
      "7756097\n"
     ]
    }
   ],
   "execution_count": 6
  },
  {
   "cell_type": "code",
   "source": [
    "import torch.nn as nn\n",
    "\n",
    "class ConvToFC(nn.Module):\n",
    "    def __init__(self, in_channels, in_dims, out_dims):\n",
    "        super(ConvToFC, self).__init__()\n",
    "        self.conv = nn.Conv2d(in_channels, 1, kernel_size=(in_dims, 1))\n",
    "        self.relu = nn.ReLU(inplace=True)\n",
    "        self.fc = nn.Linear(in_dims, out_dims)\n",
    "    def forward(self, x):\n",
    "        return self.fc(self.relu(self.conv(x)))\n",
    "\n",
    "class UNetClassifier(Unet):\n",
    "    def __init__(self):\n",
    "        super().__init__(1, 64)\n",
    "        self.conv_to_fc = ConvToFC(64, 512, 3)\n",
    "    \n",
    "    def forward(self, x):\n",
    "        return self.conv_to_fc(super().forward(x))"
   ],
   "metadata": {
    "collapsed": false,
    "ExecuteTime": {
     "end_time": "2024-06-12T05:10:25.397546Z",
     "start_time": "2024-06-12T05:10:25.391933Z"
    }
   },
   "id": "a9ddadb332c82e2",
   "outputs": [],
   "execution_count": 7
  },
  {
   "metadata": {},
   "cell_type": "markdown",
   "source": "",
   "id": "ca0d4bf9c2f73507"
  },
  {
   "cell_type": "code",
   "source": [
    "models = {e: UNetClassifier().to(\"cuda\") for e in series_desc}\n",
    "models"
   ],
   "metadata": {
    "collapsed": false,
    "ExecuteTime": {
     "end_time": "2024-06-12T05:10:27.355573Z",
     "start_time": "2024-06-12T05:10:27.001794Z"
    }
   },
   "id": "9f1ff53198dff0d2",
   "outputs": [
    {
     "data": {
      "text/plain": [
       "{'Sagittal T1': UNetClassifier(\n",
       "   (down_sample_layers): ModuleList(\n",
       "     (0): ConvBlock(\n",
       "       (layers): Sequential(\n",
       "         (0): Conv2d(1, 32, kernel_size=(3, 3), stride=(1, 1), padding=(1, 1), bias=False)\n",
       "         (1): InstanceNorm2d(32, eps=1e-05, momentum=0.1, affine=False, track_running_stats=False)\n",
       "         (2): LeakyReLU(negative_slope=0.2, inplace=True)\n",
       "         (3): Dropout2d(p=0.0, inplace=False)\n",
       "         (4): Conv2d(32, 32, kernel_size=(3, 3), stride=(1, 1), padding=(1, 1), bias=False)\n",
       "         (5): InstanceNorm2d(32, eps=1e-05, momentum=0.1, affine=False, track_running_stats=False)\n",
       "         (6): LeakyReLU(negative_slope=0.2, inplace=True)\n",
       "         (7): Dropout2d(p=0.0, inplace=False)\n",
       "       )\n",
       "     )\n",
       "     (1): ConvBlock(\n",
       "       (layers): Sequential(\n",
       "         (0): Conv2d(32, 64, kernel_size=(3, 3), stride=(1, 1), padding=(1, 1), bias=False)\n",
       "         (1): InstanceNorm2d(64, eps=1e-05, momentum=0.1, affine=False, track_running_stats=False)\n",
       "         (2): LeakyReLU(negative_slope=0.2, inplace=True)\n",
       "         (3): Dropout2d(p=0.0, inplace=False)\n",
       "         (4): Conv2d(64, 64, kernel_size=(3, 3), stride=(1, 1), padding=(1, 1), bias=False)\n",
       "         (5): InstanceNorm2d(64, eps=1e-05, momentum=0.1, affine=False, track_running_stats=False)\n",
       "         (6): LeakyReLU(negative_slope=0.2, inplace=True)\n",
       "         (7): Dropout2d(p=0.0, inplace=False)\n",
       "       )\n",
       "     )\n",
       "     (2): ConvBlock(\n",
       "       (layers): Sequential(\n",
       "         (0): Conv2d(64, 128, kernel_size=(3, 3), stride=(1, 1), padding=(1, 1), bias=False)\n",
       "         (1): InstanceNorm2d(128, eps=1e-05, momentum=0.1, affine=False, track_running_stats=False)\n",
       "         (2): LeakyReLU(negative_slope=0.2, inplace=True)\n",
       "         (3): Dropout2d(p=0.0, inplace=False)\n",
       "         (4): Conv2d(128, 128, kernel_size=(3, 3), stride=(1, 1), padding=(1, 1), bias=False)\n",
       "         (5): InstanceNorm2d(128, eps=1e-05, momentum=0.1, affine=False, track_running_stats=False)\n",
       "         (6): LeakyReLU(negative_slope=0.2, inplace=True)\n",
       "         (7): Dropout2d(p=0.0, inplace=False)\n",
       "       )\n",
       "     )\n",
       "     (3): ConvBlock(\n",
       "       (layers): Sequential(\n",
       "         (0): Conv2d(128, 256, kernel_size=(3, 3), stride=(1, 1), padding=(1, 1), bias=False)\n",
       "         (1): InstanceNorm2d(256, eps=1e-05, momentum=0.1, affine=False, track_running_stats=False)\n",
       "         (2): LeakyReLU(negative_slope=0.2, inplace=True)\n",
       "         (3): Dropout2d(p=0.0, inplace=False)\n",
       "         (4): Conv2d(256, 256, kernel_size=(3, 3), stride=(1, 1), padding=(1, 1), bias=False)\n",
       "         (5): InstanceNorm2d(256, eps=1e-05, momentum=0.1, affine=False, track_running_stats=False)\n",
       "         (6): LeakyReLU(negative_slope=0.2, inplace=True)\n",
       "         (7): Dropout2d(p=0.0, inplace=False)\n",
       "       )\n",
       "     )\n",
       "   )\n",
       "   (conv): ConvBlock(\n",
       "     (layers): Sequential(\n",
       "       (0): Conv2d(256, 512, kernel_size=(3, 3), stride=(1, 1), padding=(1, 1), bias=False)\n",
       "       (1): InstanceNorm2d(512, eps=1e-05, momentum=0.1, affine=False, track_running_stats=False)\n",
       "       (2): LeakyReLU(negative_slope=0.2, inplace=True)\n",
       "       (3): Dropout2d(p=0.0, inplace=False)\n",
       "       (4): Conv2d(512, 512, kernel_size=(3, 3), stride=(1, 1), padding=(1, 1), bias=False)\n",
       "       (5): InstanceNorm2d(512, eps=1e-05, momentum=0.1, affine=False, track_running_stats=False)\n",
       "       (6): LeakyReLU(negative_slope=0.2, inplace=True)\n",
       "       (7): Dropout2d(p=0.0, inplace=False)\n",
       "     )\n",
       "   )\n",
       "   (up_conv): ModuleList(\n",
       "     (0): ConvBlock(\n",
       "       (layers): Sequential(\n",
       "         (0): Conv2d(512, 256, kernel_size=(3, 3), stride=(1, 1), padding=(1, 1), bias=False)\n",
       "         (1): InstanceNorm2d(256, eps=1e-05, momentum=0.1, affine=False, track_running_stats=False)\n",
       "         (2): LeakyReLU(negative_slope=0.2, inplace=True)\n",
       "         (3): Dropout2d(p=0.0, inplace=False)\n",
       "         (4): Conv2d(256, 256, kernel_size=(3, 3), stride=(1, 1), padding=(1, 1), bias=False)\n",
       "         (5): InstanceNorm2d(256, eps=1e-05, momentum=0.1, affine=False, track_running_stats=False)\n",
       "         (6): LeakyReLU(negative_slope=0.2, inplace=True)\n",
       "         (7): Dropout2d(p=0.0, inplace=False)\n",
       "       )\n",
       "     )\n",
       "     (1): ConvBlock(\n",
       "       (layers): Sequential(\n",
       "         (0): Conv2d(256, 128, kernel_size=(3, 3), stride=(1, 1), padding=(1, 1), bias=False)\n",
       "         (1): InstanceNorm2d(128, eps=1e-05, momentum=0.1, affine=False, track_running_stats=False)\n",
       "         (2): LeakyReLU(negative_slope=0.2, inplace=True)\n",
       "         (3): Dropout2d(p=0.0, inplace=False)\n",
       "         (4): Conv2d(128, 128, kernel_size=(3, 3), stride=(1, 1), padding=(1, 1), bias=False)\n",
       "         (5): InstanceNorm2d(128, eps=1e-05, momentum=0.1, affine=False, track_running_stats=False)\n",
       "         (6): LeakyReLU(negative_slope=0.2, inplace=True)\n",
       "         (7): Dropout2d(p=0.0, inplace=False)\n",
       "       )\n",
       "     )\n",
       "     (2): ConvBlock(\n",
       "       (layers): Sequential(\n",
       "         (0): Conv2d(128, 64, kernel_size=(3, 3), stride=(1, 1), padding=(1, 1), bias=False)\n",
       "         (1): InstanceNorm2d(64, eps=1e-05, momentum=0.1, affine=False, track_running_stats=False)\n",
       "         (2): LeakyReLU(negative_slope=0.2, inplace=True)\n",
       "         (3): Dropout2d(p=0.0, inplace=False)\n",
       "         (4): Conv2d(64, 64, kernel_size=(3, 3), stride=(1, 1), padding=(1, 1), bias=False)\n",
       "         (5): InstanceNorm2d(64, eps=1e-05, momentum=0.1, affine=False, track_running_stats=False)\n",
       "         (6): LeakyReLU(negative_slope=0.2, inplace=True)\n",
       "         (7): Dropout2d(p=0.0, inplace=False)\n",
       "       )\n",
       "     )\n",
       "     (3): Sequential(\n",
       "       (0): ConvBlock(\n",
       "         (layers): Sequential(\n",
       "           (0): Conv2d(64, 32, kernel_size=(3, 3), stride=(1, 1), padding=(1, 1), bias=False)\n",
       "           (1): InstanceNorm2d(32, eps=1e-05, momentum=0.1, affine=False, track_running_stats=False)\n",
       "           (2): LeakyReLU(negative_slope=0.2, inplace=True)\n",
       "           (3): Dropout2d(p=0.0, inplace=False)\n",
       "           (4): Conv2d(32, 32, kernel_size=(3, 3), stride=(1, 1), padding=(1, 1), bias=False)\n",
       "           (5): InstanceNorm2d(32, eps=1e-05, momentum=0.1, affine=False, track_running_stats=False)\n",
       "           (6): LeakyReLU(negative_slope=0.2, inplace=True)\n",
       "           (7): Dropout2d(p=0.0, inplace=False)\n",
       "         )\n",
       "       )\n",
       "       (1): Conv2d(32, 64, kernel_size=(1, 1), stride=(1, 1))\n",
       "     )\n",
       "   )\n",
       "   (up_transpose_conv): ModuleList(\n",
       "     (0): TransposeConvBlock(\n",
       "       (layers): Sequential(\n",
       "         (0): ConvTranspose2d(512, 256, kernel_size=(2, 2), stride=(2, 2), bias=False)\n",
       "         (1): InstanceNorm2d(256, eps=1e-05, momentum=0.1, affine=False, track_running_stats=False)\n",
       "         (2): LeakyReLU(negative_slope=0.2, inplace=True)\n",
       "       )\n",
       "     )\n",
       "     (1): TransposeConvBlock(\n",
       "       (layers): Sequential(\n",
       "         (0): ConvTranspose2d(256, 128, kernel_size=(2, 2), stride=(2, 2), bias=False)\n",
       "         (1): InstanceNorm2d(128, eps=1e-05, momentum=0.1, affine=False, track_running_stats=False)\n",
       "         (2): LeakyReLU(negative_slope=0.2, inplace=True)\n",
       "       )\n",
       "     )\n",
       "     (2): TransposeConvBlock(\n",
       "       (layers): Sequential(\n",
       "         (0): ConvTranspose2d(128, 64, kernel_size=(2, 2), stride=(2, 2), bias=False)\n",
       "         (1): InstanceNorm2d(64, eps=1e-05, momentum=0.1, affine=False, track_running_stats=False)\n",
       "         (2): LeakyReLU(negative_slope=0.2, inplace=True)\n",
       "       )\n",
       "     )\n",
       "     (3): TransposeConvBlock(\n",
       "       (layers): Sequential(\n",
       "         (0): ConvTranspose2d(64, 32, kernel_size=(2, 2), stride=(2, 2), bias=False)\n",
       "         (1): InstanceNorm2d(32, eps=1e-05, momentum=0.1, affine=False, track_running_stats=False)\n",
       "         (2): LeakyReLU(negative_slope=0.2, inplace=True)\n",
       "       )\n",
       "     )\n",
       "   )\n",
       "   (conv_to_fc): ConvToFC(\n",
       "     (conv): Conv2d(64, 1, kernel_size=(512, 1), stride=(1, 1))\n",
       "     (relu): ReLU(inplace=True)\n",
       "     (fc): Linear(in_features=512, out_features=3, bias=True)\n",
       "   )\n",
       " ),\n",
       " 'Axial T2': UNetClassifier(\n",
       "   (down_sample_layers): ModuleList(\n",
       "     (0): ConvBlock(\n",
       "       (layers): Sequential(\n",
       "         (0): Conv2d(1, 32, kernel_size=(3, 3), stride=(1, 1), padding=(1, 1), bias=False)\n",
       "         (1): InstanceNorm2d(32, eps=1e-05, momentum=0.1, affine=False, track_running_stats=False)\n",
       "         (2): LeakyReLU(negative_slope=0.2, inplace=True)\n",
       "         (3): Dropout2d(p=0.0, inplace=False)\n",
       "         (4): Conv2d(32, 32, kernel_size=(3, 3), stride=(1, 1), padding=(1, 1), bias=False)\n",
       "         (5): InstanceNorm2d(32, eps=1e-05, momentum=0.1, affine=False, track_running_stats=False)\n",
       "         (6): LeakyReLU(negative_slope=0.2, inplace=True)\n",
       "         (7): Dropout2d(p=0.0, inplace=False)\n",
       "       )\n",
       "     )\n",
       "     (1): ConvBlock(\n",
       "       (layers): Sequential(\n",
       "         (0): Conv2d(32, 64, kernel_size=(3, 3), stride=(1, 1), padding=(1, 1), bias=False)\n",
       "         (1): InstanceNorm2d(64, eps=1e-05, momentum=0.1, affine=False, track_running_stats=False)\n",
       "         (2): LeakyReLU(negative_slope=0.2, inplace=True)\n",
       "         (3): Dropout2d(p=0.0, inplace=False)\n",
       "         (4): Conv2d(64, 64, kernel_size=(3, 3), stride=(1, 1), padding=(1, 1), bias=False)\n",
       "         (5): InstanceNorm2d(64, eps=1e-05, momentum=0.1, affine=False, track_running_stats=False)\n",
       "         (6): LeakyReLU(negative_slope=0.2, inplace=True)\n",
       "         (7): Dropout2d(p=0.0, inplace=False)\n",
       "       )\n",
       "     )\n",
       "     (2): ConvBlock(\n",
       "       (layers): Sequential(\n",
       "         (0): Conv2d(64, 128, kernel_size=(3, 3), stride=(1, 1), padding=(1, 1), bias=False)\n",
       "         (1): InstanceNorm2d(128, eps=1e-05, momentum=0.1, affine=False, track_running_stats=False)\n",
       "         (2): LeakyReLU(negative_slope=0.2, inplace=True)\n",
       "         (3): Dropout2d(p=0.0, inplace=False)\n",
       "         (4): Conv2d(128, 128, kernel_size=(3, 3), stride=(1, 1), padding=(1, 1), bias=False)\n",
       "         (5): InstanceNorm2d(128, eps=1e-05, momentum=0.1, affine=False, track_running_stats=False)\n",
       "         (6): LeakyReLU(negative_slope=0.2, inplace=True)\n",
       "         (7): Dropout2d(p=0.0, inplace=False)\n",
       "       )\n",
       "     )\n",
       "     (3): ConvBlock(\n",
       "       (layers): Sequential(\n",
       "         (0): Conv2d(128, 256, kernel_size=(3, 3), stride=(1, 1), padding=(1, 1), bias=False)\n",
       "         (1): InstanceNorm2d(256, eps=1e-05, momentum=0.1, affine=False, track_running_stats=False)\n",
       "         (2): LeakyReLU(negative_slope=0.2, inplace=True)\n",
       "         (3): Dropout2d(p=0.0, inplace=False)\n",
       "         (4): Conv2d(256, 256, kernel_size=(3, 3), stride=(1, 1), padding=(1, 1), bias=False)\n",
       "         (5): InstanceNorm2d(256, eps=1e-05, momentum=0.1, affine=False, track_running_stats=False)\n",
       "         (6): LeakyReLU(negative_slope=0.2, inplace=True)\n",
       "         (7): Dropout2d(p=0.0, inplace=False)\n",
       "       )\n",
       "     )\n",
       "   )\n",
       "   (conv): ConvBlock(\n",
       "     (layers): Sequential(\n",
       "       (0): Conv2d(256, 512, kernel_size=(3, 3), stride=(1, 1), padding=(1, 1), bias=False)\n",
       "       (1): InstanceNorm2d(512, eps=1e-05, momentum=0.1, affine=False, track_running_stats=False)\n",
       "       (2): LeakyReLU(negative_slope=0.2, inplace=True)\n",
       "       (3): Dropout2d(p=0.0, inplace=False)\n",
       "       (4): Conv2d(512, 512, kernel_size=(3, 3), stride=(1, 1), padding=(1, 1), bias=False)\n",
       "       (5): InstanceNorm2d(512, eps=1e-05, momentum=0.1, affine=False, track_running_stats=False)\n",
       "       (6): LeakyReLU(negative_slope=0.2, inplace=True)\n",
       "       (7): Dropout2d(p=0.0, inplace=False)\n",
       "     )\n",
       "   )\n",
       "   (up_conv): ModuleList(\n",
       "     (0): ConvBlock(\n",
       "       (layers): Sequential(\n",
       "         (0): Conv2d(512, 256, kernel_size=(3, 3), stride=(1, 1), padding=(1, 1), bias=False)\n",
       "         (1): InstanceNorm2d(256, eps=1e-05, momentum=0.1, affine=False, track_running_stats=False)\n",
       "         (2): LeakyReLU(negative_slope=0.2, inplace=True)\n",
       "         (3): Dropout2d(p=0.0, inplace=False)\n",
       "         (4): Conv2d(256, 256, kernel_size=(3, 3), stride=(1, 1), padding=(1, 1), bias=False)\n",
       "         (5): InstanceNorm2d(256, eps=1e-05, momentum=0.1, affine=False, track_running_stats=False)\n",
       "         (6): LeakyReLU(negative_slope=0.2, inplace=True)\n",
       "         (7): Dropout2d(p=0.0, inplace=False)\n",
       "       )\n",
       "     )\n",
       "     (1): ConvBlock(\n",
       "       (layers): Sequential(\n",
       "         (0): Conv2d(256, 128, kernel_size=(3, 3), stride=(1, 1), padding=(1, 1), bias=False)\n",
       "         (1): InstanceNorm2d(128, eps=1e-05, momentum=0.1, affine=False, track_running_stats=False)\n",
       "         (2): LeakyReLU(negative_slope=0.2, inplace=True)\n",
       "         (3): Dropout2d(p=0.0, inplace=False)\n",
       "         (4): Conv2d(128, 128, kernel_size=(3, 3), stride=(1, 1), padding=(1, 1), bias=False)\n",
       "         (5): InstanceNorm2d(128, eps=1e-05, momentum=0.1, affine=False, track_running_stats=False)\n",
       "         (6): LeakyReLU(negative_slope=0.2, inplace=True)\n",
       "         (7): Dropout2d(p=0.0, inplace=False)\n",
       "       )\n",
       "     )\n",
       "     (2): ConvBlock(\n",
       "       (layers): Sequential(\n",
       "         (0): Conv2d(128, 64, kernel_size=(3, 3), stride=(1, 1), padding=(1, 1), bias=False)\n",
       "         (1): InstanceNorm2d(64, eps=1e-05, momentum=0.1, affine=False, track_running_stats=False)\n",
       "         (2): LeakyReLU(negative_slope=0.2, inplace=True)\n",
       "         (3): Dropout2d(p=0.0, inplace=False)\n",
       "         (4): Conv2d(64, 64, kernel_size=(3, 3), stride=(1, 1), padding=(1, 1), bias=False)\n",
       "         (5): InstanceNorm2d(64, eps=1e-05, momentum=0.1, affine=False, track_running_stats=False)\n",
       "         (6): LeakyReLU(negative_slope=0.2, inplace=True)\n",
       "         (7): Dropout2d(p=0.0, inplace=False)\n",
       "       )\n",
       "     )\n",
       "     (3): Sequential(\n",
       "       (0): ConvBlock(\n",
       "         (layers): Sequential(\n",
       "           (0): Conv2d(64, 32, kernel_size=(3, 3), stride=(1, 1), padding=(1, 1), bias=False)\n",
       "           (1): InstanceNorm2d(32, eps=1e-05, momentum=0.1, affine=False, track_running_stats=False)\n",
       "           (2): LeakyReLU(negative_slope=0.2, inplace=True)\n",
       "           (3): Dropout2d(p=0.0, inplace=False)\n",
       "           (4): Conv2d(32, 32, kernel_size=(3, 3), stride=(1, 1), padding=(1, 1), bias=False)\n",
       "           (5): InstanceNorm2d(32, eps=1e-05, momentum=0.1, affine=False, track_running_stats=False)\n",
       "           (6): LeakyReLU(negative_slope=0.2, inplace=True)\n",
       "           (7): Dropout2d(p=0.0, inplace=False)\n",
       "         )\n",
       "       )\n",
       "       (1): Conv2d(32, 64, kernel_size=(1, 1), stride=(1, 1))\n",
       "     )\n",
       "   )\n",
       "   (up_transpose_conv): ModuleList(\n",
       "     (0): TransposeConvBlock(\n",
       "       (layers): Sequential(\n",
       "         (0): ConvTranspose2d(512, 256, kernel_size=(2, 2), stride=(2, 2), bias=False)\n",
       "         (1): InstanceNorm2d(256, eps=1e-05, momentum=0.1, affine=False, track_running_stats=False)\n",
       "         (2): LeakyReLU(negative_slope=0.2, inplace=True)\n",
       "       )\n",
       "     )\n",
       "     (1): TransposeConvBlock(\n",
       "       (layers): Sequential(\n",
       "         (0): ConvTranspose2d(256, 128, kernel_size=(2, 2), stride=(2, 2), bias=False)\n",
       "         (1): InstanceNorm2d(128, eps=1e-05, momentum=0.1, affine=False, track_running_stats=False)\n",
       "         (2): LeakyReLU(negative_slope=0.2, inplace=True)\n",
       "       )\n",
       "     )\n",
       "     (2): TransposeConvBlock(\n",
       "       (layers): Sequential(\n",
       "         (0): ConvTranspose2d(128, 64, kernel_size=(2, 2), stride=(2, 2), bias=False)\n",
       "         (1): InstanceNorm2d(64, eps=1e-05, momentum=0.1, affine=False, track_running_stats=False)\n",
       "         (2): LeakyReLU(negative_slope=0.2, inplace=True)\n",
       "       )\n",
       "     )\n",
       "     (3): TransposeConvBlock(\n",
       "       (layers): Sequential(\n",
       "         (0): ConvTranspose2d(64, 32, kernel_size=(2, 2), stride=(2, 2), bias=False)\n",
       "         (1): InstanceNorm2d(32, eps=1e-05, momentum=0.1, affine=False, track_running_stats=False)\n",
       "         (2): LeakyReLU(negative_slope=0.2, inplace=True)\n",
       "       )\n",
       "     )\n",
       "   )\n",
       "   (conv_to_fc): ConvToFC(\n",
       "     (conv): Conv2d(64, 1, kernel_size=(512, 1), stride=(1, 1))\n",
       "     (relu): ReLU(inplace=True)\n",
       "     (fc): Linear(in_features=512, out_features=3, bias=True)\n",
       "   )\n",
       " ),\n",
       " 'Sagittal T2/STIR': UNetClassifier(\n",
       "   (down_sample_layers): ModuleList(\n",
       "     (0): ConvBlock(\n",
       "       (layers): Sequential(\n",
       "         (0): Conv2d(1, 32, kernel_size=(3, 3), stride=(1, 1), padding=(1, 1), bias=False)\n",
       "         (1): InstanceNorm2d(32, eps=1e-05, momentum=0.1, affine=False, track_running_stats=False)\n",
       "         (2): LeakyReLU(negative_slope=0.2, inplace=True)\n",
       "         (3): Dropout2d(p=0.0, inplace=False)\n",
       "         (4): Conv2d(32, 32, kernel_size=(3, 3), stride=(1, 1), padding=(1, 1), bias=False)\n",
       "         (5): InstanceNorm2d(32, eps=1e-05, momentum=0.1, affine=False, track_running_stats=False)\n",
       "         (6): LeakyReLU(negative_slope=0.2, inplace=True)\n",
       "         (7): Dropout2d(p=0.0, inplace=False)\n",
       "       )\n",
       "     )\n",
       "     (1): ConvBlock(\n",
       "       (layers): Sequential(\n",
       "         (0): Conv2d(32, 64, kernel_size=(3, 3), stride=(1, 1), padding=(1, 1), bias=False)\n",
       "         (1): InstanceNorm2d(64, eps=1e-05, momentum=0.1, affine=False, track_running_stats=False)\n",
       "         (2): LeakyReLU(negative_slope=0.2, inplace=True)\n",
       "         (3): Dropout2d(p=0.0, inplace=False)\n",
       "         (4): Conv2d(64, 64, kernel_size=(3, 3), stride=(1, 1), padding=(1, 1), bias=False)\n",
       "         (5): InstanceNorm2d(64, eps=1e-05, momentum=0.1, affine=False, track_running_stats=False)\n",
       "         (6): LeakyReLU(negative_slope=0.2, inplace=True)\n",
       "         (7): Dropout2d(p=0.0, inplace=False)\n",
       "       )\n",
       "     )\n",
       "     (2): ConvBlock(\n",
       "       (layers): Sequential(\n",
       "         (0): Conv2d(64, 128, kernel_size=(3, 3), stride=(1, 1), padding=(1, 1), bias=False)\n",
       "         (1): InstanceNorm2d(128, eps=1e-05, momentum=0.1, affine=False, track_running_stats=False)\n",
       "         (2): LeakyReLU(negative_slope=0.2, inplace=True)\n",
       "         (3): Dropout2d(p=0.0, inplace=False)\n",
       "         (4): Conv2d(128, 128, kernel_size=(3, 3), stride=(1, 1), padding=(1, 1), bias=False)\n",
       "         (5): InstanceNorm2d(128, eps=1e-05, momentum=0.1, affine=False, track_running_stats=False)\n",
       "         (6): LeakyReLU(negative_slope=0.2, inplace=True)\n",
       "         (7): Dropout2d(p=0.0, inplace=False)\n",
       "       )\n",
       "     )\n",
       "     (3): ConvBlock(\n",
       "       (layers): Sequential(\n",
       "         (0): Conv2d(128, 256, kernel_size=(3, 3), stride=(1, 1), padding=(1, 1), bias=False)\n",
       "         (1): InstanceNorm2d(256, eps=1e-05, momentum=0.1, affine=False, track_running_stats=False)\n",
       "         (2): LeakyReLU(negative_slope=0.2, inplace=True)\n",
       "         (3): Dropout2d(p=0.0, inplace=False)\n",
       "         (4): Conv2d(256, 256, kernel_size=(3, 3), stride=(1, 1), padding=(1, 1), bias=False)\n",
       "         (5): InstanceNorm2d(256, eps=1e-05, momentum=0.1, affine=False, track_running_stats=False)\n",
       "         (6): LeakyReLU(negative_slope=0.2, inplace=True)\n",
       "         (7): Dropout2d(p=0.0, inplace=False)\n",
       "       )\n",
       "     )\n",
       "   )\n",
       "   (conv): ConvBlock(\n",
       "     (layers): Sequential(\n",
       "       (0): Conv2d(256, 512, kernel_size=(3, 3), stride=(1, 1), padding=(1, 1), bias=False)\n",
       "       (1): InstanceNorm2d(512, eps=1e-05, momentum=0.1, affine=False, track_running_stats=False)\n",
       "       (2): LeakyReLU(negative_slope=0.2, inplace=True)\n",
       "       (3): Dropout2d(p=0.0, inplace=False)\n",
       "       (4): Conv2d(512, 512, kernel_size=(3, 3), stride=(1, 1), padding=(1, 1), bias=False)\n",
       "       (5): InstanceNorm2d(512, eps=1e-05, momentum=0.1, affine=False, track_running_stats=False)\n",
       "       (6): LeakyReLU(negative_slope=0.2, inplace=True)\n",
       "       (7): Dropout2d(p=0.0, inplace=False)\n",
       "     )\n",
       "   )\n",
       "   (up_conv): ModuleList(\n",
       "     (0): ConvBlock(\n",
       "       (layers): Sequential(\n",
       "         (0): Conv2d(512, 256, kernel_size=(3, 3), stride=(1, 1), padding=(1, 1), bias=False)\n",
       "         (1): InstanceNorm2d(256, eps=1e-05, momentum=0.1, affine=False, track_running_stats=False)\n",
       "         (2): LeakyReLU(negative_slope=0.2, inplace=True)\n",
       "         (3): Dropout2d(p=0.0, inplace=False)\n",
       "         (4): Conv2d(256, 256, kernel_size=(3, 3), stride=(1, 1), padding=(1, 1), bias=False)\n",
       "         (5): InstanceNorm2d(256, eps=1e-05, momentum=0.1, affine=False, track_running_stats=False)\n",
       "         (6): LeakyReLU(negative_slope=0.2, inplace=True)\n",
       "         (7): Dropout2d(p=0.0, inplace=False)\n",
       "       )\n",
       "     )\n",
       "     (1): ConvBlock(\n",
       "       (layers): Sequential(\n",
       "         (0): Conv2d(256, 128, kernel_size=(3, 3), stride=(1, 1), padding=(1, 1), bias=False)\n",
       "         (1): InstanceNorm2d(128, eps=1e-05, momentum=0.1, affine=False, track_running_stats=False)\n",
       "         (2): LeakyReLU(negative_slope=0.2, inplace=True)\n",
       "         (3): Dropout2d(p=0.0, inplace=False)\n",
       "         (4): Conv2d(128, 128, kernel_size=(3, 3), stride=(1, 1), padding=(1, 1), bias=False)\n",
       "         (5): InstanceNorm2d(128, eps=1e-05, momentum=0.1, affine=False, track_running_stats=False)\n",
       "         (6): LeakyReLU(negative_slope=0.2, inplace=True)\n",
       "         (7): Dropout2d(p=0.0, inplace=False)\n",
       "       )\n",
       "     )\n",
       "     (2): ConvBlock(\n",
       "       (layers): Sequential(\n",
       "         (0): Conv2d(128, 64, kernel_size=(3, 3), stride=(1, 1), padding=(1, 1), bias=False)\n",
       "         (1): InstanceNorm2d(64, eps=1e-05, momentum=0.1, affine=False, track_running_stats=False)\n",
       "         (2): LeakyReLU(negative_slope=0.2, inplace=True)\n",
       "         (3): Dropout2d(p=0.0, inplace=False)\n",
       "         (4): Conv2d(64, 64, kernel_size=(3, 3), stride=(1, 1), padding=(1, 1), bias=False)\n",
       "         (5): InstanceNorm2d(64, eps=1e-05, momentum=0.1, affine=False, track_running_stats=False)\n",
       "         (6): LeakyReLU(negative_slope=0.2, inplace=True)\n",
       "         (7): Dropout2d(p=0.0, inplace=False)\n",
       "       )\n",
       "     )\n",
       "     (3): Sequential(\n",
       "       (0): ConvBlock(\n",
       "         (layers): Sequential(\n",
       "           (0): Conv2d(64, 32, kernel_size=(3, 3), stride=(1, 1), padding=(1, 1), bias=False)\n",
       "           (1): InstanceNorm2d(32, eps=1e-05, momentum=0.1, affine=False, track_running_stats=False)\n",
       "           (2): LeakyReLU(negative_slope=0.2, inplace=True)\n",
       "           (3): Dropout2d(p=0.0, inplace=False)\n",
       "           (4): Conv2d(32, 32, kernel_size=(3, 3), stride=(1, 1), padding=(1, 1), bias=False)\n",
       "           (5): InstanceNorm2d(32, eps=1e-05, momentum=0.1, affine=False, track_running_stats=False)\n",
       "           (6): LeakyReLU(negative_slope=0.2, inplace=True)\n",
       "           (7): Dropout2d(p=0.0, inplace=False)\n",
       "         )\n",
       "       )\n",
       "       (1): Conv2d(32, 64, kernel_size=(1, 1), stride=(1, 1))\n",
       "     )\n",
       "   )\n",
       "   (up_transpose_conv): ModuleList(\n",
       "     (0): TransposeConvBlock(\n",
       "       (layers): Sequential(\n",
       "         (0): ConvTranspose2d(512, 256, kernel_size=(2, 2), stride=(2, 2), bias=False)\n",
       "         (1): InstanceNorm2d(256, eps=1e-05, momentum=0.1, affine=False, track_running_stats=False)\n",
       "         (2): LeakyReLU(negative_slope=0.2, inplace=True)\n",
       "       )\n",
       "     )\n",
       "     (1): TransposeConvBlock(\n",
       "       (layers): Sequential(\n",
       "         (0): ConvTranspose2d(256, 128, kernel_size=(2, 2), stride=(2, 2), bias=False)\n",
       "         (1): InstanceNorm2d(128, eps=1e-05, momentum=0.1, affine=False, track_running_stats=False)\n",
       "         (2): LeakyReLU(negative_slope=0.2, inplace=True)\n",
       "       )\n",
       "     )\n",
       "     (2): TransposeConvBlock(\n",
       "       (layers): Sequential(\n",
       "         (0): ConvTranspose2d(128, 64, kernel_size=(2, 2), stride=(2, 2), bias=False)\n",
       "         (1): InstanceNorm2d(64, eps=1e-05, momentum=0.1, affine=False, track_running_stats=False)\n",
       "         (2): LeakyReLU(negative_slope=0.2, inplace=True)\n",
       "       )\n",
       "     )\n",
       "     (3): TransposeConvBlock(\n",
       "       (layers): Sequential(\n",
       "         (0): ConvTranspose2d(64, 32, kernel_size=(2, 2), stride=(2, 2), bias=False)\n",
       "         (1): InstanceNorm2d(32, eps=1e-05, momentum=0.1, affine=False, track_running_stats=False)\n",
       "         (2): LeakyReLU(negative_slope=0.2, inplace=True)\n",
       "       )\n",
       "     )\n",
       "   )\n",
       "   (conv_to_fc): ConvToFC(\n",
       "     (conv): Conv2d(64, 1, kernel_size=(512, 1), stride=(1, 1))\n",
       "     (relu): ReLU(inplace=True)\n",
       "     (fc): Linear(in_features=512, out_features=3, bias=True)\n",
       "   )\n",
       " )}"
      ]
     },
     "execution_count": 8,
     "metadata": {},
     "output_type": "execute_result"
    }
   ],
   "execution_count": 8
  },
  {
   "cell_type": "code",
   "source": [
    "import importlib\n",
    "import train_unet\n",
    "importlib.reload(train_unet)\n",
    "from train_unet import train\n",
    "res = {e: train(loaders[e][0], loaders[e][1], label_map, model=models[e], model_desc=\"unet_\" + e.replace(\" \", \"\").replace(\"/\", \"\"), epoch_count=12) for e in series_desc}\n",
    "res"
   ],
   "metadata": {
    "collapsed": false,
    "jupyter": {
     "is_executing": true
    },
    "ExecuteTime": {
     "start_time": "2024-06-12T05:33:45.250238Z"
    }
   },
   "id": "43dfe24e77f2e41a",
   "outputs": [
    {
     "name": "stderr",
     "output_type": "stream",
     "text": [
      "  0%|          | 2/3939 [00:01<41:56,  1.56it/s]"
     ]
    }
   ],
   "execution_count": null
  },
  {
   "cell_type": "code",
   "execution_count": 67,
   "outputs": [
    {
     "data": {
      "text/plain": "UNetClassifier(\n  (down_sample_layers): ModuleList(\n    (0): ConvBlock(\n      (layers): Sequential(\n        (0): Conv2d(1, 32, kernel_size=(3, 3), stride=(1, 1), padding=(1, 1), bias=False)\n        (1): InstanceNorm2d(32, eps=1e-05, momentum=0.1, affine=False, track_running_stats=False)\n        (2): LeakyReLU(negative_slope=0.2, inplace=True)\n        (3): Dropout2d(p=0.0, inplace=False)\n        (4): Conv2d(32, 32, kernel_size=(3, 3), stride=(1, 1), padding=(1, 1), bias=False)\n        (5): InstanceNorm2d(32, eps=1e-05, momentum=0.1, affine=False, track_running_stats=False)\n        (6): LeakyReLU(negative_slope=0.2, inplace=True)\n        (7): Dropout2d(p=0.0, inplace=False)\n      )\n    )\n    (1): ConvBlock(\n      (layers): Sequential(\n        (0): Conv2d(32, 64, kernel_size=(3, 3), stride=(1, 1), padding=(1, 1), bias=False)\n        (1): InstanceNorm2d(64, eps=1e-05, momentum=0.1, affine=False, track_running_stats=False)\n        (2): LeakyReLU(negative_slope=0.2, inplace=True)\n        (3): Dropout2d(p=0.0, inplace=False)\n        (4): Conv2d(64, 64, kernel_size=(3, 3), stride=(1, 1), padding=(1, 1), bias=False)\n        (5): InstanceNorm2d(64, eps=1e-05, momentum=0.1, affine=False, track_running_stats=False)\n        (6): LeakyReLU(negative_slope=0.2, inplace=True)\n        (7): Dropout2d(p=0.0, inplace=False)\n      )\n    )\n    (2): ConvBlock(\n      (layers): Sequential(\n        (0): Conv2d(64, 128, kernel_size=(3, 3), stride=(1, 1), padding=(1, 1), bias=False)\n        (1): InstanceNorm2d(128, eps=1e-05, momentum=0.1, affine=False, track_running_stats=False)\n        (2): LeakyReLU(negative_slope=0.2, inplace=True)\n        (3): Dropout2d(p=0.0, inplace=False)\n        (4): Conv2d(128, 128, kernel_size=(3, 3), stride=(1, 1), padding=(1, 1), bias=False)\n        (5): InstanceNorm2d(128, eps=1e-05, momentum=0.1, affine=False, track_running_stats=False)\n        (6): LeakyReLU(negative_slope=0.2, inplace=True)\n        (7): Dropout2d(p=0.0, inplace=False)\n      )\n    )\n    (3): ConvBlock(\n      (layers): Sequential(\n        (0): Conv2d(128, 256, kernel_size=(3, 3), stride=(1, 1), padding=(1, 1), bias=False)\n        (1): InstanceNorm2d(256, eps=1e-05, momentum=0.1, affine=False, track_running_stats=False)\n        (2): LeakyReLU(negative_slope=0.2, inplace=True)\n        (3): Dropout2d(p=0.0, inplace=False)\n        (4): Conv2d(256, 256, kernel_size=(3, 3), stride=(1, 1), padding=(1, 1), bias=False)\n        (5): InstanceNorm2d(256, eps=1e-05, momentum=0.1, affine=False, track_running_stats=False)\n        (6): LeakyReLU(negative_slope=0.2, inplace=True)\n        (7): Dropout2d(p=0.0, inplace=False)\n      )\n    )\n  )\n  (conv): ConvBlock(\n    (layers): Sequential(\n      (0): Conv2d(256, 512, kernel_size=(3, 3), stride=(1, 1), padding=(1, 1), bias=False)\n      (1): InstanceNorm2d(512, eps=1e-05, momentum=0.1, affine=False, track_running_stats=False)\n      (2): LeakyReLU(negative_slope=0.2, inplace=True)\n      (3): Dropout2d(p=0.0, inplace=False)\n      (4): Conv2d(512, 512, kernel_size=(3, 3), stride=(1, 1), padding=(1, 1), bias=False)\n      (5): InstanceNorm2d(512, eps=1e-05, momentum=0.1, affine=False, track_running_stats=False)\n      (6): LeakyReLU(negative_slope=0.2, inplace=True)\n      (7): Dropout2d(p=0.0, inplace=False)\n    )\n  )\n  (up_conv): ModuleList(\n    (0): ConvBlock(\n      (layers): Sequential(\n        (0): Conv2d(512, 256, kernel_size=(3, 3), stride=(1, 1), padding=(1, 1), bias=False)\n        (1): InstanceNorm2d(256, eps=1e-05, momentum=0.1, affine=False, track_running_stats=False)\n        (2): LeakyReLU(negative_slope=0.2, inplace=True)\n        (3): Dropout2d(p=0.0, inplace=False)\n        (4): Conv2d(256, 256, kernel_size=(3, 3), stride=(1, 1), padding=(1, 1), bias=False)\n        (5): InstanceNorm2d(256, eps=1e-05, momentum=0.1, affine=False, track_running_stats=False)\n        (6): LeakyReLU(negative_slope=0.2, inplace=True)\n        (7): Dropout2d(p=0.0, inplace=False)\n      )\n    )\n    (1): ConvBlock(\n      (layers): Sequential(\n        (0): Conv2d(256, 128, kernel_size=(3, 3), stride=(1, 1), padding=(1, 1), bias=False)\n        (1): InstanceNorm2d(128, eps=1e-05, momentum=0.1, affine=False, track_running_stats=False)\n        (2): LeakyReLU(negative_slope=0.2, inplace=True)\n        (3): Dropout2d(p=0.0, inplace=False)\n        (4): Conv2d(128, 128, kernel_size=(3, 3), stride=(1, 1), padding=(1, 1), bias=False)\n        (5): InstanceNorm2d(128, eps=1e-05, momentum=0.1, affine=False, track_running_stats=False)\n        (6): LeakyReLU(negative_slope=0.2, inplace=True)\n        (7): Dropout2d(p=0.0, inplace=False)\n      )\n    )\n    (2): ConvBlock(\n      (layers): Sequential(\n        (0): Conv2d(128, 64, kernel_size=(3, 3), stride=(1, 1), padding=(1, 1), bias=False)\n        (1): InstanceNorm2d(64, eps=1e-05, momentum=0.1, affine=False, track_running_stats=False)\n        (2): LeakyReLU(negative_slope=0.2, inplace=True)\n        (3): Dropout2d(p=0.0, inplace=False)\n        (4): Conv2d(64, 64, kernel_size=(3, 3), stride=(1, 1), padding=(1, 1), bias=False)\n        (5): InstanceNorm2d(64, eps=1e-05, momentum=0.1, affine=False, track_running_stats=False)\n        (6): LeakyReLU(negative_slope=0.2, inplace=True)\n        (7): Dropout2d(p=0.0, inplace=False)\n      )\n    )\n    (3): Sequential(\n      (0): ConvBlock(\n        (layers): Sequential(\n          (0): Conv2d(64, 32, kernel_size=(3, 3), stride=(1, 1), padding=(1, 1), bias=False)\n          (1): InstanceNorm2d(32, eps=1e-05, momentum=0.1, affine=False, track_running_stats=False)\n          (2): LeakyReLU(negative_slope=0.2, inplace=True)\n          (3): Dropout2d(p=0.0, inplace=False)\n          (4): Conv2d(32, 32, kernel_size=(3, 3), stride=(1, 1), padding=(1, 1), bias=False)\n          (5): InstanceNorm2d(32, eps=1e-05, momentum=0.1, affine=False, track_running_stats=False)\n          (6): LeakyReLU(negative_slope=0.2, inplace=True)\n          (7): Dropout2d(p=0.0, inplace=False)\n        )\n      )\n      (1): Conv2d(32, 64, kernel_size=(1, 1), stride=(1, 1))\n    )\n  )\n  (up_transpose_conv): ModuleList(\n    (0): TransposeConvBlock(\n      (layers): Sequential(\n        (0): ConvTranspose2d(512, 256, kernel_size=(2, 2), stride=(2, 2), bias=False)\n        (1): InstanceNorm2d(256, eps=1e-05, momentum=0.1, affine=False, track_running_stats=False)\n        (2): LeakyReLU(negative_slope=0.2, inplace=True)\n      )\n    )\n    (1): TransposeConvBlock(\n      (layers): Sequential(\n        (0): ConvTranspose2d(256, 128, kernel_size=(2, 2), stride=(2, 2), bias=False)\n        (1): InstanceNorm2d(128, eps=1e-05, momentum=0.1, affine=False, track_running_stats=False)\n        (2): LeakyReLU(negative_slope=0.2, inplace=True)\n      )\n    )\n    (2): TransposeConvBlock(\n      (layers): Sequential(\n        (0): ConvTranspose2d(128, 64, kernel_size=(2, 2), stride=(2, 2), bias=False)\n        (1): InstanceNorm2d(64, eps=1e-05, momentum=0.1, affine=False, track_running_stats=False)\n        (2): LeakyReLU(negative_slope=0.2, inplace=True)\n      )\n    )\n    (3): TransposeConvBlock(\n      (layers): Sequential(\n        (0): ConvTranspose2d(64, 32, kernel_size=(2, 2), stride=(2, 2), bias=False)\n        (1): InstanceNorm2d(32, eps=1e-05, momentum=0.1, affine=False, track_running_stats=False)\n        (2): LeakyReLU(negative_slope=0.2, inplace=True)\n      )\n    )\n  )\n  (conv_to_fc): ConvToFC(\n    (conv): Conv2d(64, 1, kernel_size=(512, 1), stride=(1, 1))\n    (relu): ReLU(inplace=True)\n    (fc): Linear(in_features=512, out_features=3, bias=True)\n  )\n)"
     },
     "execution_count": 67,
     "metadata": {},
     "output_type": "execute_result"
    }
   ],
   "source": [
    "model.eval()"
   ],
   "metadata": {
    "collapsed": false,
    "ExecuteTime": {
     "end_time": "2024-06-11T21:48:38.672593Z",
     "start_time": "2024-06-11T21:48:38.662687Z"
    }
   },
   "id": "a1425b2d63b38de7"
  },
  {
   "cell_type": "code",
   "execution_count": 64,
   "outputs": [],
   "source": [
    "# torch.backends.quantized.engine = 'qnnpack'\n",
    "# model_quantized = torch.ao.quantization.quantize_dynamic(\n",
    "#     model,  # the original model\n",
    "#     {torch.nn.ConvTranspose2d, torch.nn.Linear},  # a set of layers to dynamically quantize\n",
    "#     dtype=torch.qint8)"
   ],
   "metadata": {
    "collapsed": false,
    "ExecuteTime": {
     "end_time": "2024-06-11T21:46:26.616356Z",
     "start_time": "2024-06-11T21:46:26.580502Z"
    }
   },
   "id": "68edfa2a47de4db6"
  },
  {
   "cell_type": "code",
   "execution_count": 65,
   "outputs": [
    {
     "name": "stderr",
     "output_type": "stream",
     "text": [
      "  0%|          | 0/1973 [00:00<?, ?it/s][W qlinear_dynamic.cpp:247] Warning: Currently, qnnpack incorrectly ignores reduce_range when it is set to true; this may change in a future release. (function operator())\n",
      "  0%|          | 0/1973 [00:10<?, ?it/s]\n"
     ]
    },
    {
     "ename": "RuntimeError",
     "evalue": "element 0 of tensors does not require grad and does not have a grad_fn",
     "output_type": "error",
     "traceback": [
      "\u001B[0;31m---------------------------------------------------------------------------\u001B[0m",
      "\u001B[0;31mRuntimeError\u001B[0m                              Traceback (most recent call last)",
      "Cell \u001B[0;32mIn[65], line 1\u001B[0m\n\u001B[0;32m----> 1\u001B[0m model_quantized \u001B[38;5;241m=\u001B[39m \u001B[43mtrain\u001B[49m\u001B[43m(\u001B[49m\u001B[43mloaders\u001B[49m\u001B[43m[\u001B[49m\u001B[38;5;124;43m\"\u001B[39;49m\u001B[38;5;124;43mSagittal T1\u001B[39;49m\u001B[38;5;124;43m\"\u001B[39;49m\u001B[43m]\u001B[49m\u001B[43m[\u001B[49m\u001B[38;5;241;43m0\u001B[39;49m\u001B[43m]\u001B[49m\u001B[43m,\u001B[49m\u001B[43m \u001B[49m\u001B[43mloaders\u001B[49m\u001B[43m[\u001B[49m\u001B[38;5;124;43m\"\u001B[39;49m\u001B[38;5;124;43mSagittal T1\u001B[39;49m\u001B[38;5;124;43m\"\u001B[39;49m\u001B[43m]\u001B[49m\u001B[43m[\u001B[49m\u001B[38;5;241;43m1\u001B[39;49m\u001B[43m]\u001B[49m\u001B[43m,\u001B[49m\u001B[43m \u001B[49m\u001B[43mlabel_map\u001B[49m\u001B[43m,\u001B[49m\u001B[43m \u001B[49m\u001B[43mmodel\u001B[49m\u001B[38;5;241;43m=\u001B[39;49m\u001B[43mmodel_quantized\u001B[49m\u001B[43m)\u001B[49m\n",
      "File \u001B[0;32m~/PycharmProjects/pythonProject/rsna-2024/train_unet.py:88\u001B[0m, in \u001B[0;36mtrain\u001B[0;34m(training_dataloader, val_dataloader, label_map, model, epoch_count)\u001B[0m\n\u001B[1;32m     85\u001B[0m optimizer \u001B[38;5;241m=\u001B[39m optim\u001B[38;5;241m.\u001B[39mAdam(model\u001B[38;5;241m.\u001B[39mparameters())\n\u001B[1;32m     86\u001B[0m loss_fn \u001B[38;5;241m=\u001B[39m nn\u001B[38;5;241m.\u001B[39mCrossEntropyLoss()\n\u001B[0;32m---> 88\u001B[0m train_losses, val_losses \u001B[38;5;241m=\u001B[39m \u001B[43m_train_model_with_validation\u001B[49m\u001B[43m(\u001B[49m\u001B[43mmodel\u001B[49m\u001B[43m,\u001B[49m\n\u001B[1;32m     89\u001B[0m \u001B[43m                                                        \u001B[49m\u001B[43moptimizer\u001B[49m\u001B[43m,\u001B[49m\n\u001B[1;32m     90\u001B[0m \u001B[43m                                                        \u001B[49m\u001B[43mloss_fn\u001B[49m\u001B[43m,\u001B[49m\n\u001B[1;32m     91\u001B[0m \u001B[43m                                                        \u001B[49m\u001B[43mtraining_dataloader\u001B[49m\u001B[43m,\u001B[49m\n\u001B[1;32m     92\u001B[0m \u001B[43m                                                        \u001B[49m\u001B[43mval_dataloader\u001B[49m\u001B[43m,\u001B[49m\n\u001B[1;32m     93\u001B[0m \u001B[43m                                                        \u001B[49m\u001B[43mlabel_map\u001B[49m\u001B[43m,\u001B[49m\n\u001B[1;32m     94\u001B[0m \u001B[43m                                                        \u001B[49m\u001B[43mtrain_loader_desc\u001B[49m\u001B[38;5;241;43m=\u001B[39;49m\u001B[38;5;28;43;01mNone\u001B[39;49;00m\u001B[43m,\u001B[49m\n\u001B[1;32m     95\u001B[0m \u001B[43m                                                        \u001B[49m\u001B[43mmodel_desc\u001B[49m\u001B[38;5;241;43m=\u001B[39;49m\u001B[38;5;124;43m\"\u001B[39;49m\u001B[38;5;124;43munet\u001B[39;49m\u001B[38;5;124;43m\"\u001B[39;49m\u001B[43m,\u001B[49m\n\u001B[1;32m     96\u001B[0m \u001B[43m                                                        \u001B[49m\u001B[43mepochs\u001B[49m\u001B[38;5;241;43m=\u001B[39;49m\u001B[43mepoch_count\u001B[49m\u001B[43m)\u001B[49m\n\u001B[1;32m     98\u001B[0m plt\u001B[38;5;241m.\u001B[39mplot(train_losses)\n\u001B[1;32m     99\u001B[0m plt\u001B[38;5;241m.\u001B[39mplot(val_losses)\n",
      "File \u001B[0;32m~/PycharmProjects/pythonProject/rsna-2024/train_unet.py:66\u001B[0m, in \u001B[0;36m_train_model_with_validation\u001B[0;34m(model, optimizer, loss_fn, train_loader, val_loader, label_map, train_loader_desc, model_desc, epochs)\u001B[0m\n\u001B[1;32m     64\u001B[0m     loss \u001B[38;5;241m=\u001B[39m loss_fn(output\u001B[38;5;241m.\u001B[39msqueeze(\u001B[38;5;241m1\u001B[39m,\u001B[38;5;241m2\u001B[39m), labels)\n\u001B[1;32m     65\u001B[0m     epoch_loss \u001B[38;5;241m+\u001B[39m\u001B[38;5;241m=\u001B[39m loss\u001B[38;5;241m.\u001B[39mitem()\n\u001B[0;32m---> 66\u001B[0m     \u001B[43mloss\u001B[49m\u001B[38;5;241;43m.\u001B[39;49m\u001B[43mbackward\u001B[49m\u001B[43m(\u001B[49m\u001B[43m)\u001B[49m\n\u001B[1;32m     67\u001B[0m     optimizer\u001B[38;5;241m.\u001B[39mstep()\n\u001B[1;32m     69\u001B[0m epoch_validation_loss \u001B[38;5;241m=\u001B[39m _model_validation_loss(model, val_loader, loss_fn)\n",
      "File \u001B[0;32m/opt/homebrew/Caskroom/miniconda/base/envs/pythonProject/lib/python3.11/site-packages/torch/_tensor.py:487\u001B[0m, in \u001B[0;36mTensor.backward\u001B[0;34m(self, gradient, retain_graph, create_graph, inputs)\u001B[0m\n\u001B[1;32m    477\u001B[0m \u001B[38;5;28;01mif\u001B[39;00m has_torch_function_unary(\u001B[38;5;28mself\u001B[39m):\n\u001B[1;32m    478\u001B[0m     \u001B[38;5;28;01mreturn\u001B[39;00m handle_torch_function(\n\u001B[1;32m    479\u001B[0m         Tensor\u001B[38;5;241m.\u001B[39mbackward,\n\u001B[1;32m    480\u001B[0m         (\u001B[38;5;28mself\u001B[39m,),\n\u001B[0;32m   (...)\u001B[0m\n\u001B[1;32m    485\u001B[0m         inputs\u001B[38;5;241m=\u001B[39minputs,\n\u001B[1;32m    486\u001B[0m     )\n\u001B[0;32m--> 487\u001B[0m \u001B[43mtorch\u001B[49m\u001B[38;5;241;43m.\u001B[39;49m\u001B[43mautograd\u001B[49m\u001B[38;5;241;43m.\u001B[39;49m\u001B[43mbackward\u001B[49m\u001B[43m(\u001B[49m\n\u001B[1;32m    488\u001B[0m \u001B[43m    \u001B[49m\u001B[38;5;28;43mself\u001B[39;49m\u001B[43m,\u001B[49m\u001B[43m \u001B[49m\u001B[43mgradient\u001B[49m\u001B[43m,\u001B[49m\u001B[43m \u001B[49m\u001B[43mretain_graph\u001B[49m\u001B[43m,\u001B[49m\u001B[43m \u001B[49m\u001B[43mcreate_graph\u001B[49m\u001B[43m,\u001B[49m\u001B[43m \u001B[49m\u001B[43minputs\u001B[49m\u001B[38;5;241;43m=\u001B[39;49m\u001B[43minputs\u001B[49m\n\u001B[1;32m    489\u001B[0m \u001B[43m\u001B[49m\u001B[43m)\u001B[49m\n",
      "File \u001B[0;32m/opt/homebrew/Caskroom/miniconda/base/envs/pythonProject/lib/python3.11/site-packages/torch/autograd/__init__.py:200\u001B[0m, in \u001B[0;36mbackward\u001B[0;34m(tensors, grad_tensors, retain_graph, create_graph, grad_variables, inputs)\u001B[0m\n\u001B[1;32m    195\u001B[0m     retain_graph \u001B[38;5;241m=\u001B[39m create_graph\n\u001B[1;32m    197\u001B[0m \u001B[38;5;66;03m# The reason we repeat same the comment below is that\u001B[39;00m\n\u001B[1;32m    198\u001B[0m \u001B[38;5;66;03m# some Python versions print out the first line of a multi-line function\u001B[39;00m\n\u001B[1;32m    199\u001B[0m \u001B[38;5;66;03m# calls in the traceback and some print out the last line\u001B[39;00m\n\u001B[0;32m--> 200\u001B[0m \u001B[43mVariable\u001B[49m\u001B[38;5;241;43m.\u001B[39;49m\u001B[43m_execution_engine\u001B[49m\u001B[38;5;241;43m.\u001B[39;49m\u001B[43mrun_backward\u001B[49m\u001B[43m(\u001B[49m\u001B[43m  \u001B[49m\u001B[38;5;66;43;03m# Calls into the C++ engine to run the backward pass\u001B[39;49;00m\n\u001B[1;32m    201\u001B[0m \u001B[43m    \u001B[49m\u001B[43mtensors\u001B[49m\u001B[43m,\u001B[49m\u001B[43m \u001B[49m\u001B[43mgrad_tensors_\u001B[49m\u001B[43m,\u001B[49m\u001B[43m \u001B[49m\u001B[43mretain_graph\u001B[49m\u001B[43m,\u001B[49m\u001B[43m \u001B[49m\u001B[43mcreate_graph\u001B[49m\u001B[43m,\u001B[49m\u001B[43m \u001B[49m\u001B[43minputs\u001B[49m\u001B[43m,\u001B[49m\n\u001B[1;32m    202\u001B[0m \u001B[43m    \u001B[49m\u001B[43mallow_unreachable\u001B[49m\u001B[38;5;241;43m=\u001B[39;49m\u001B[38;5;28;43;01mTrue\u001B[39;49;00m\u001B[43m,\u001B[49m\u001B[43m \u001B[49m\u001B[43maccumulate_grad\u001B[49m\u001B[38;5;241;43m=\u001B[39;49m\u001B[38;5;28;43;01mTrue\u001B[39;49;00m\u001B[43m)\u001B[49m\n",
      "\u001B[0;31mRuntimeError\u001B[0m: element 0 of tensors does not require grad and does not have a grad_fn"
     ]
    }
   ],
   "source": [
    "# model_quantized = train(loaders[\"Sagittal T1\"][0], loaders[\"Sagittal T1\"][1], label_map, model=model_quantized)"
   ],
   "metadata": {
    "collapsed": false,
    "ExecuteTime": {
     "end_time": "2024-06-11T21:46:53.968864Z",
     "start_time": "2024-06-11T21:46:43.463057Z"
    }
   },
   "id": "d9a0d67082aaa8ee"
  },
  {
   "cell_type": "code",
   "execution_count": null,
   "outputs": [],
   "source": [],
   "metadata": {
    "collapsed": false
   },
   "id": "e6e0b49cfd857d31"
  }
 ],
 "metadata": {
  "kernelspec": {
   "display_name": "Python 3",
   "language": "python",
   "name": "python3"
  },
  "language_info": {
   "codemirror_mode": {
    "name": "ipython",
    "version": 2
   },
   "file_extension": ".py",
   "mimetype": "text/x-python",
   "name": "python",
   "nbconvert_exporter": "python",
   "pygments_lexer": "ipython2",
   "version": "2.7.6"
  }
 },
 "nbformat": 4,
 "nbformat_minor": 5
}
