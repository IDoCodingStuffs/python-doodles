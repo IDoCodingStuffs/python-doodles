{
 "cells": [
  {
   "cell_type": "code",
   "source": [
    "from tqdm import tqdm\n",
    "import pandas as pd\n",
    "import numpy as np\n",
    "import os\n",
    "import glob\n",
    "import pydicom\n",
    "import matplotlib.pyplot as plt\n",
    "from time import time_ns\n",
    "import sys\n",
    "sys.path.append(os.getcwd())\n",
    "sys.path.append(os.getcwd() + \"/rsna-2024/\")\n",
    "from rsna_dataloader import create_datasets_and_loaders, clean_training_data, retrieve_training_data\n",
    "import torch"
   ],
   "metadata": {
    "collapsed": false,
    "ExecuteTime": {
     "end_time": "2024-06-12T06:43:48.660816Z",
     "start_time": "2024-06-12T06:43:43.102249Z"
    }
   },
   "id": "864c4fd02c824c3c",
   "outputs": [],
   "execution_count": 1
  },
  {
   "cell_type": "code",
   "source": [
    "import torchvision.transforms as transforms\n",
    "\n",
    "transform = transforms.Compose([\n",
    "    transforms.Lambda(lambda x: (x * 255).astype(np.uint8)),  # Convert back to uint8 for PIL\n",
    "    transforms.ToPILImage(),\n",
    "    transforms.Resize((512, 512)),\n",
    "    transforms.Grayscale(num_output_channels=1),\n",
    "    transforms.ToTensor(),\n",
    "])\n"
   ],
   "metadata": {
    "collapsed": false,
    "ExecuteTime": {
     "end_time": "2024-06-12T06:43:48.666572Z",
     "start_time": "2024-06-12T06:43:48.662823Z"
    }
   },
   "id": "85c3c4e8e2003fbf",
   "outputs": [],
   "execution_count": 2
  },
  {
   "cell_type": "code",
   "source": [
    "label_map = {'normal_mild': 0, 'moderate': 1, 'severe': 2}\n",
    "series_desc = ('Sagittal T1', 'Axial T2', 'Sagittal T2/STIR')\n",
    "data = retrieve_training_data(\"C:/Users/Victor/Documents/python-doodles/data/rsna-2024-lumbar-spine-degenerative-classification/\")\n",
    "data = clean_training_data(data, \"C:/Users/Victor/Documents/python-doodles/data/rsna-2024-lumbar-spine-degenerative-classification/\")\n",
    "data = data.dropna()\n",
    "\n",
    "\n",
    "loaders = {e : create_datasets_and_loaders(data, e, transform, batch_size=4) for e in series_desc}\n",
    "loaders "
   ],
   "metadata": {
    "collapsed": false,
    "jupyter": {
     "is_executing": true
    },
    "ExecuteTime": {
     "start_time": "2024-06-12T06:43:48.667578Z"
    }
   },
   "id": "912171899dda8dbd",
   "outputs": [],
   "execution_count": null
  },
  {
   "cell_type": "code",
   "source": [
    "# import importlib\n",
    "# import unet\n",
    "# import train_unet\n",
    "# importlib.reload(unet)\n",
    "# importlib.reload(train_unet)\n",
    "# from train_unet import train\n",
    "# from unet import UNet\n",
    "# models = {e : UNet(1, 3) for e in loaders}"
   ],
   "metadata": {
    "collapsed": false,
    "jupyter": {
     "is_executing": true
    }
   },
   "id": "5fb48ddc79a1fa41",
   "outputs": [],
   "execution_count": null
  },
  {
   "cell_type": "code",
   "source": [
    "def trainable_params(model):\n",
    "    return sum(p.numel() for p in model.parameters() if p.requires_grad)"
   ],
   "metadata": {
    "collapsed": false,
    "jupyter": {
     "is_executing": true
    }
   },
   "id": "3fd1de9c7671c177",
   "outputs": [],
   "execution_count": null
  },
  {
   "cell_type": "code",
   "source": [
    "# train(loaders[e][0], loaders[e][1], label_map)"
   ],
   "metadata": {
    "collapsed": false,
    "jupyter": {
     "is_executing": true
    }
   },
   "id": "f81a0e625edfda15",
   "outputs": [],
   "execution_count": null
  },
  {
   "cell_type": "code",
   "source": [
    "from fastmri.models.unet import Unet"
   ],
   "metadata": {
    "collapsed": false,
    "jupyter": {
     "is_executing": true
    }
   },
   "id": "e689ae52467e249c",
   "outputs": [],
   "execution_count": null
  },
  {
   "cell_type": "code",
   "source": [
    "model = Unet(num_pool_layers=4, drop_prob=0.05, in_chans=1, out_chans=1)\n",
    "print(trainable_params(model))\n",
    "#model.load_weights('/Users/victorsahin/PycharmProjects/pythonProject/models/unet_model_weights.h5')"
   ],
   "metadata": {
    "collapsed": false,
    "jupyter": {
     "is_executing": true
    }
   },
   "id": "a2ac9da48ff54de",
   "outputs": [],
   "execution_count": null
  },
  {
   "cell_type": "code",
   "source": [
    "import torch.nn as nn\n",
    "\n",
    "class ConvToFC(nn.Module):\n",
    "    def __init__(self, in_channels, in_dims, out_dims):\n",
    "        super(ConvToFC, self).__init__()\n",
    "        self.conv = nn.Conv2d(in_channels, 1, kernel_size=(in_dims, 1))\n",
    "        self.relu = nn.ReLU(inplace=True)\n",
    "        self.fc = nn.Linear(in_dims, out_dims)\n",
    "    def forward(self, x):\n",
    "        return self.fc(self.relu(self.conv(x)))\n",
    "\n",
    "class UNetClassifier(Unet):\n",
    "    def __init__(self):\n",
    "        super().__init__(1, 64)\n",
    "        self.conv_to_fc = ConvToFC(64, 512, 3)\n",
    "    \n",
    "    def forward(self, x):\n",
    "        return self.conv_to_fc(super().forward(x))"
   ],
   "metadata": {
    "collapsed": false,
    "jupyter": {
     "is_executing": true
    }
   },
   "id": "a9ddadb332c82e2",
   "outputs": [],
   "execution_count": null
  },
  {
   "metadata": {},
   "cell_type": "markdown",
   "source": "",
   "id": "ca0d4bf9c2f73507"
  },
  {
   "cell_type": "code",
   "source": [
    "models = {e: UNetClassifier().to(\"cuda\") for e in series_desc}\n",
    "models"
   ],
   "metadata": {
    "collapsed": false,
    "jupyter": {
     "is_executing": true
    }
   },
   "id": "9f1ff53198dff0d2",
   "outputs": [],
   "execution_count": null
  },
  {
   "cell_type": "code",
   "source": [
    "from train_unet import train\n",
    "res = {e: train(loaders[e][0], loaders[e][1], label_map, model=models[e], model_desc=\"unet_\" + e.replace(\" \", \"\").replace(\"/\", \"\"), epoch_count=25) for e in series_desc}\n",
    "res"
   ],
   "metadata": {
    "collapsed": false,
    "jupyter": {
     "is_executing": true
    }
   },
   "id": "43dfe24e77f2e41a",
   "outputs": [],
   "execution_count": null
  },
  {
   "cell_type": "code",
   "source": [],
   "metadata": {
    "collapsed": false,
    "jupyter": {
     "is_executing": true
    }
   },
   "id": "e6e0b49cfd857d31",
   "outputs": [],
   "execution_count": null
  }
 ],
 "metadata": {
  "kernelspec": {
   "display_name": "Python 3",
   "language": "python",
   "name": "python3"
  },
  "language_info": {
   "codemirror_mode": {
    "name": "ipython",
    "version": 2
   },
   "file_extension": ".py",
   "mimetype": "text/x-python",
   "name": "python",
   "nbconvert_exporter": "python",
   "pygments_lexer": "ipython2",
   "version": "2.7.6"
  }
 },
 "nbformat": 4,
 "nbformat_minor": 5
}
