{
 "cells": [
  {
   "cell_type": "code",
   "execution_count": 6,
   "outputs": [],
   "source": [
    "from tqdm import tqdm\n",
    "import pandas as pd\n",
    "import numpy as np\n",
    "import os\n",
    "import glob\n",
    "import pydicom\n",
    "import matplotlib.pyplot as plt\n",
    "from time import time_ns\n",
    "import sys\n",
    "sys.path.append(os.getcwd())\n",
    "sys.path.append(os.getcwd() + \"/rsna-2024/\")\n",
    "from rsna_dataloader import create_datasets_and_loaders, clean_training_data, retrieve_training_data\n",
    "import torch"
   ],
   "metadata": {
    "collapsed": false,
    "ExecuteTime": {
     "end_time": "2024-06-11T18:49:47.280281Z",
     "start_time": "2024-06-11T18:49:47.273039Z"
    }
   },
   "id": "864c4fd02c824c3c"
  },
  {
   "cell_type": "code",
   "execution_count": 27,
   "outputs": [],
   "source": [
    "import torchvision.transforms as transforms\n",
    "\n",
    "transform = transforms.Compose([\n",
    "    transforms.Lambda(lambda x: (x * 255).astype(np.uint8)),  # Convert back to uint8 for PIL\n",
    "    transforms.ToPILImage(),\n",
    "    transforms.Resize((512, 512)),\n",
    "    transforms.Grayscale(num_output_channels=1),\n",
    "    transforms.ToTensor(),\n",
    "])\n"
   ],
   "metadata": {
    "collapsed": false,
    "ExecuteTime": {
     "end_time": "2024-06-11T19:02:52.087038Z",
     "start_time": "2024-06-11T19:02:52.084927Z"
    }
   },
   "id": "85c3c4e8e2003fbf"
  },
  {
   "cell_type": "code",
   "execution_count": 28,
   "outputs": [
    {
     "data": {
      "text/plain": "{'Sagittal T1': (<torch.utils.data.dataloader.DataLoader at 0x2a6300f10>,\n  <torch.utils.data.dataloader.DataLoader at 0x2a2d92610>,\n  15779,\n  3945),\n 'Axial T2': (<torch.utils.data.dataloader.DataLoader at 0x2a6184c50>,\n  <torch.utils.data.dataloader.DataLoader at 0x2a619fc50>,\n  15376,\n  3844),\n 'Sagittal T2/STIR': (<torch.utils.data.dataloader.DataLoader at 0x2a5d42350>,\n  <torch.utils.data.dataloader.DataLoader at 0x2a5db52d0>,\n  7798,\n  1950)}"
     },
     "execution_count": 28,
     "metadata": {},
     "output_type": "execute_result"
    }
   ],
   "source": [
    "label_map = {'normal_mild': 0, 'moderate': 1, 'severe': 2}\n",
    "series_desc = ('Sagittal T1', 'Axial T2', 'Sagittal T2/STIR')\n",
    "data = retrieve_training_data(\"/Users/victorsahin/PycharmProjects/pythonProject/data/rsna-2024-lumbar-spine-degenerative-classification/\")\n",
    "data = clean_training_data(data, \"/Users/victorsahin/PycharmProjects/pythonProject/data/rsna-2024-lumbar-spine-degenerative-classification/\")\n",
    "\n",
    "loaders = {e : create_datasets_and_loaders(data, e, transform) for e in series_desc}\n",
    "loaders "
   ],
   "metadata": {
    "collapsed": false,
    "ExecuteTime": {
     "end_time": "2024-06-11T19:02:56.274635Z",
     "start_time": "2024-06-11T19:02:52.987245Z"
    }
   },
   "id": "912171899dda8dbd"
  },
  {
   "cell_type": "code",
   "execution_count": 46,
   "outputs": [],
   "source": [
    "import importlib\n",
    "import unet\n",
    "import train_unet\n",
    "importlib.reload(unet)\n",
    "importlib.reload(train_unet)\n",
    "from train_unet import train\n",
    "from unet import UNet\n",
    "models = {e : UNet(1, 3) for e in loaders}"
   ],
   "metadata": {
    "collapsed": false,
    "ExecuteTime": {
     "end_time": "2024-06-11T19:41:43.251301Z",
     "start_time": "2024-06-11T19:41:42.912210Z"
    }
   },
   "id": "5fb48ddc79a1fa41"
  },
  {
   "cell_type": "code",
   "execution_count": 39,
   "outputs": [
    {
     "name": "stdout",
     "output_type": "stream",
     "text": [
      "Number of parameters: [('Sagittal T1', 31070724), ('Axial T2', 31070724), ('Sagittal T2/STIR', 31070724)]\n"
     ]
    }
   ],
   "source": [
    "def trainable_params(model):\n",
    "    return sum(p.numel() for p in model.parameters() if p.requires_grad)\n",
    "print(f\"Number of parameters: {[(e, trainable_params(models[e])) for e in models]}\")"
   ],
   "metadata": {
    "collapsed": false,
    "ExecuteTime": {
     "end_time": "2024-06-11T19:19:48.448128Z",
     "start_time": "2024-06-11T19:19:48.443032Z"
    }
   },
   "id": "3fd1de9c7671c177"
  },
  {
   "cell_type": "code",
   "execution_count": null,
   "outputs": [],
   "source": [
    "# train(loaders[e][0], loaders[e][1], label_map)"
   ],
   "metadata": {
    "collapsed": false
   },
   "id": "f81a0e625edfda15"
  },
  {
   "cell_type": "code",
   "execution_count": 40,
   "outputs": [],
   "source": [
    "from fastmri.models.unet import Unet"
   ],
   "metadata": {
    "collapsed": false,
    "ExecuteTime": {
     "end_time": "2024-06-11T19:36:18.237598Z",
     "start_time": "2024-06-11T19:36:18.140142Z"
    }
   },
   "id": "e689ae52467e249c"
  },
  {
   "cell_type": "code",
   "execution_count": 42,
   "outputs": [
    {
     "name": "stdout",
     "output_type": "stream",
     "text": [
      "7756097\n"
     ]
    }
   ],
   "source": [
    "model = Unet(num_pool_layers=4, drop_prob=0.05, in_chans=1, out_chans=1)\n",
    "print(trainable_params(model))\n",
    "#model.load_weights('/Users/victorsahin/PycharmProjects/pythonProject/models/unet_model_weights.h5')"
   ],
   "metadata": {
    "collapsed": false,
    "ExecuteTime": {
     "end_time": "2024-06-11T19:38:39.964890Z",
     "start_time": "2024-06-11T19:38:39.930970Z"
    }
   },
   "id": "a2ac9da48ff54de"
  },
  {
   "cell_type": "code",
   "execution_count": 58,
   "outputs": [],
   "source": [
    "import torch.nn as nn\n",
    "\n",
    "class ConvToFC(nn.Module):\n",
    "    def __init__(self, in_channels, in_dims, out_dims):\n",
    "        super(ConvToFC, self).__init__()\n",
    "        self.conv = nn.Conv2d(in_channels, 1, kernel_size=(in_dims, 1))\n",
    "        self.relu = nn.ReLU(inplace=True)\n",
    "        self.fc = nn.Linear(in_dims, out_dims)\n",
    "    def forward(self, x):\n",
    "        return self.fc(self.relu(self.conv(x)))\n",
    "\n",
    "class UNetClassifier(Unet):\n",
    "    def __init__(self):\n",
    "        super().__init__(1, 64)\n",
    "        self.conv_to_fc = ConvToFC(64, 512, 3)\n",
    "    \n",
    "    def forward(self, x):\n",
    "        return self.conv_to_fc(super().forward(x))"
   ],
   "metadata": {
    "collapsed": false,
    "ExecuteTime": {
     "end_time": "2024-06-11T19:49:20.594090Z",
     "start_time": "2024-06-11T19:49:20.589211Z"
    }
   },
   "id": "a9ddadb332c82e2"
  },
  {
   "cell_type": "code",
   "execution_count": 59,
   "outputs": [],
   "source": [
    "model = UNetClassifier()\n",
    "#model = train(loaders[\"Sagittal T1\"][0], loaders[\"Sagittal T1\"][1], label_map, model=model)"
   ],
   "metadata": {
    "collapsed": false,
    "ExecuteTime": {
     "end_time": "2024-06-11T19:49:21.227189Z",
     "start_time": "2024-06-11T19:49:21.189421Z"
    }
   },
   "id": "9f1ff53198dff0d2"
  },
  {
   "cell_type": "code",
   "execution_count": 60,
   "outputs": [
    {
     "data": {
      "text/plain": "7792484"
     },
     "execution_count": 60,
     "metadata": {},
     "output_type": "execute_result"
    }
   ],
   "source": [
    "trainable_params(model)"
   ],
   "metadata": {
    "collapsed": false,
    "ExecuteTime": {
     "end_time": "2024-06-11T19:49:21.634871Z",
     "start_time": "2024-06-11T19:49:21.622560Z"
    }
   },
   "id": "28baf145d16eed26"
  },
  {
   "cell_type": "code",
   "execution_count": null,
   "outputs": [
    {
     "name": "stderr",
     "output_type": "stream",
     "text": [
      "  0%|          | 1/1973 [00:23<12:54:46, 23.57s/it]"
     ]
    }
   ],
   "source": [
    "model = train(loaders[\"Sagittal T1\"][0], loaders[\"Sagittal T1\"][1], label_map, model=model)"
   ],
   "metadata": {
    "collapsed": false,
    "is_executing": true,
    "ExecuteTime": {
     "start_time": "2024-06-11T19:49:22.843579Z"
    }
   },
   "id": "43dfe24e77f2e41a"
  }
 ],
 "metadata": {
  "kernelspec": {
   "display_name": "Python 3",
   "language": "python",
   "name": "python3"
  },
  "language_info": {
   "codemirror_mode": {
    "name": "ipython",
    "version": 2
   },
   "file_extension": ".py",
   "mimetype": "text/x-python",
   "name": "python",
   "nbconvert_exporter": "python",
   "pygments_lexer": "ipython2",
   "version": "2.7.6"
  }
 },
 "nbformat": 4,
 "nbformat_minor": 5
}
