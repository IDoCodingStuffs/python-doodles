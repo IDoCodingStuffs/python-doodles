{
 "cells": [
  {
   "cell_type": "code",
   "execution_count": 1,
   "id": "3729f91969d3d9a7",
   "metadata": {
    "ExecuteTime": {
     "end_time": "2024-08-07T19:11:54.746508Z",
     "start_time": "2024-08-07T19:11:53.529012Z"
    },
    "collapsed": false,
    "jupyter": {
     "outputs_hidden": false
    }
   },
   "outputs": [
    {
     "name": "stdout",
     "output_type": "stream",
     "text": [
      "Jupyter environment detected. Enabling Open3D WebVisualizer.\n",
      "[Open3D INFO] WebRTC GUI backend enabled.\n",
      "[Open3D INFO] WebRTCWindowSystem: HTTP handshake server disabled.\n"
     ]
    }
   ],
   "source": [
    "import open3d as o3d\n",
    "import glob\n",
    "from pydicom import dcmread\n",
    "import os\n",
    "import numpy as np"
   ]
  },
  {
   "cell_type": "code",
   "execution_count": 2,
   "id": "d6b9977ed8a608cc",
   "metadata": {
    "ExecuteTime": {
     "end_time": "2024-08-07T19:12:03.772340Z",
     "start_time": "2024-08-07T19:11:54.747514Z"
    },
    "collapsed": false,
    "jupyter": {
     "outputs_hidden": false
    }
   },
   "outputs": [
    {
     "name": "stderr",
     "output_type": "stream",
     "text": [
      "The behavior of DataFrame concatenation with empty or all-NA entries is deprecated. In a future version, this will no longer exclude empty or all-NA columns when determining the result dtypes. To retain the old behavior, exclude the relevant entries before the concat operation.\n"
     ]
    }
   ],
   "source": [
    "from rsna_dataloader import *\n",
    "\n",
    "DATA_BASEPATH = \"../data/rsna-2024-lumbar-spine-degenerative-classification/\"\n",
    "TRAINING_DATA = retrieve_coordinate_training_data(DATA_BASEPATH)\n",
    "\n",
    "df = TRAINING_DATA.dropna()\n",
    "# This drops any subjects with nans\n",
    "\n",
    "filtered_df = pd.DataFrame(columns=df.columns)\n",
    "for series_desc in CONDITIONS.keys():\n",
    "    subset = df[df['series_description'] == series_desc]\n",
    "    if series_desc == \"Sagittal T2/STIR\":\n",
    "        subset = subset[subset.groupby([\"study_id\"]).transform('size') == 5]\n",
    "    else:\n",
    "        subset = subset[subset.groupby([\"study_id\"]).transform('size') == 10]\n",
    "    filtered_df = pd.concat([filtered_df, subset])\n",
    "\n",
    "filtered_df = filtered_df[filtered_df.groupby([\"study_id\"]).transform('size') == 25]\n",
    "\n",
    "series_descs = {e[0]: e[1] for e in df[[\"series_id\", \"series_description\"]].drop_duplicates().values}"
   ]
  },
  {
   "cell_type": "code",
   "execution_count": 3,
   "id": "initial_id",
   "metadata": {
    "ExecuteTime": {
     "end_time": "2024-08-07T19:12:03.785472Z",
     "start_time": "2024-08-07T19:12:03.773347Z"
    },
    "collapsed": false,
    "jupyter": {
     "outputs_hidden": false
    }
   },
   "outputs": [],
   "source": [
    "def read_study_as_pcd(dir_path, series_types_dict=None, downsampling_factor=None):\n",
    "    pcd_overall = o3d.geometry.PointCloud()\n",
    "\n",
    "    for path in glob.glob(os.path.join(dir_path, \"**/*.dcm\"), recursive=True):\n",
    "        dicom_slice = dcmread(path)\n",
    "\n",
    "        series_id = os.path.basename(os.path.dirname(path))\n",
    "        study_id = os.path.basename(os.path.dirname(os.path.dirname(path)))\n",
    "        if series_types_dict is None or int(series_id) not in series_types_dict:\n",
    "            series_desc = dicom_slice.SeriesDescription\n",
    "        else:\n",
    "            series_desc = series_types_dict[int(series_id)]\n",
    "            series_desc = series_desc.split(\" \")[-1]\n",
    "            series_desc = series_desc.split(\"/\")[0]\n",
    "\n",
    "        img = np.expand_dims(dicom_slice.pixel_array, -1)\n",
    "        x, y, z = np.where(img)\n",
    "\n",
    "        index_voxel = np.vstack((x, y, z))\n",
    "        grid_index_array = index_voxel.T\n",
    "        pcd = o3d.geometry.PointCloud(o3d.utility.Vector3dVector(grid_index_array))\n",
    "\n",
    "        vals = np.expand_dims(img[x, y, z], -1)\n",
    "        if series_desc == \"T1\":\n",
    "            vals = np.pad(vals, ((0, 0), (0, 2)))\n",
    "        elif series_desc in (\"T2\", \"T2/STIR\"):\n",
    "            vals = np.pad(vals, ((0, 0), (1, 1)))\n",
    "        else:\n",
    "            raise ValueError(f\"Unknown series desc: {series_desc}\")\n",
    "\n",
    "        pcd.colors = o3d.utility.Vector3dVector(vals)  # Converted to np.float64\n",
    "\n",
    "        dX, dY = dicom_slice.PixelSpacing\n",
    "        X = np.array(list(dicom_slice.ImageOrientationPatient[:3]) + [0]) * dX\n",
    "        Y = np.array(list(dicom_slice.ImageOrientationPatient[3:]) + [0]) * dY\n",
    "        S = np.array(list(dicom_slice.ImagePositionPatient) + [1])\n",
    "\n",
    "        transform_matrix = np.array([X, Y, np.zeros(len(X)), S]).T\n",
    "        transform_matrix = transform_matrix @ np.matrix(\n",
    "            [[0, 1, 0, 0],\n",
    "             [1, 0, 0, 0],\n",
    "             [0, 0, 1, 0],\n",
    "             [0, 0, 0, 1]]\n",
    "        )\n",
    "\n",
    "        pcd_overall += pcd.transform(transform_matrix)\n",
    "\n",
    "    return pcd_overall"
   ]
  },
  {
   "cell_type": "code",
   "execution_count": 4,
   "id": "edb5e3730aa54d06",
   "metadata": {
    "ExecuteTime": {
     "end_time": "2024-08-07T19:12:40.481331Z",
     "start_time": "2024-08-07T19:12:03.787482Z"
    },
    "collapsed": false,
    "jupyter": {
     "outputs_hidden": false
    }
   },
   "outputs": [
    {
     "data": {
      "text/plain": [
       "PointCloud with 14784328 points."
      ]
     },
     "execution_count": 4,
     "metadata": {},
     "output_type": "execute_result"
    }
   ],
   "source": [
    "read_study_as_pcd(\"../data/rsna-2024-lumbar-spine-degenerative-classification/train_images/4646740/\", series_descs)"
   ]
  },
  {
   "cell_type": "code",
   "execution_count": 5,
   "id": "657e3e531563f03a",
   "metadata": {
    "ExecuteTime": {
     "end_time": "2024-08-07T19:12:40.491842Z",
     "start_time": "2024-08-07T19:12:40.482338Z"
    },
    "collapsed": false,
    "jupyter": {
     "outputs_hidden": false
    }
   },
   "outputs": [],
   "source": [
    "def read_study_as_pcd_2(dir_path, series_types_dict=None, downsampling_factor=None):\n",
    "    pcd_overall = []\n",
    "    vals_overall = []\n",
    "    \n",
    "    for path in glob.glob(os.path.join(dir_path, \"**/*.dcm\"), recursive=True):\n",
    "        dicom_slice = dcmread(path)\n",
    "\n",
    "        series_id = os.path.basename(os.path.dirname(path))\n",
    "        study_id = os.path.basename(os.path.dirname(os.path.dirname(path)))\n",
    "        if series_types_dict is None or int(series_id) not in series_types_dict:\n",
    "            series_desc = dicom_slice.SeriesDescription\n",
    "        else:\n",
    "            series_desc = series_types_dict[int(series_id)]\n",
    "            series_desc = series_desc.split(\" \")[-1]\n",
    "            series_desc = series_desc.split(\"/\")[0]\n",
    "\n",
    "        img = dicom_slice.pixel_array\n",
    "        x, y = np.where(img)\n",
    "\n",
    "        index_voxel = np.vstack((x, y, np.zeros(x.shape), np.full(x.shape, 1)))\n",
    "        grid_index_array = index_voxel.T\n",
    "\n",
    "        vals = np.expand_dims(img[x, y], -1)\n",
    "        if series_desc == \"T1\":\n",
    "            vals = np.pad(vals, ((0, 0), (0, 2)))\n",
    "        elif series_desc in (\"T2\", \"T2/STIR\"):\n",
    "            vals = np.pad(vals, ((0, 0), (1, 1)))\n",
    "        else:\n",
    "            raise ValueError(f\"Unknown series desc: {series_desc}\")\n",
    "\n",
    "        dX, dY = dicom_slice.PixelSpacing\n",
    "        X = np.array(list(dicom_slice.ImageOrientationPatient[:3]) + [0]) * dX\n",
    "        Y = np.array(list(dicom_slice.ImageOrientationPatient[3:]) + [0]) * dY\n",
    "        S = np.array(list(dicom_slice.ImagePositionPatient) + [1])\n",
    "\n",
    "        transform_matrix = np.array([X, Y, np.zeros(len(X)), S]).T\n",
    "        transform_matrix = transform_matrix @ np.matrix(\n",
    "            [[0, 1, 0, 0],\n",
    "             [1, 0, 0, 0],\n",
    "             [0, 0, 1, 0],\n",
    "             [0, 0, 0, 1]]\n",
    "        )\n",
    "        \n",
    "        def apply_transform(v):\n",
    "            return transform_matrix @ v.T\n",
    "        \n",
    "        pcd_overall.append(np.apply_along_axis(apply_transform, 1, grid_index_array))\n",
    "        vals_overall.append(vals)\n",
    "        \n",
    "    return pcd_overall, vals_overall"
   ]
  },
  {
   "cell_type": "code",
   "execution_count": 6,
   "id": "31ab15bc7c7224af",
   "metadata": {
    "ExecuteTime": {
     "end_time": "2024-08-07T19:13:26.835228Z",
     "start_time": "2024-08-07T19:12:40.492856Z"
    },
    "collapsed": false,
    "jupyter": {
     "outputs_hidden": false
    }
   },
   "outputs": [
    {
     "ename": "KeyboardInterrupt",
     "evalue": "",
     "output_type": "error",
     "traceback": [
      "\u001b[1;31m---------------------------------------------------------------------------\u001b[0m",
      "\u001b[1;31mKeyboardInterrupt\u001b[0m                         Traceback (most recent call last)",
      "Cell \u001b[1;32mIn[6], line 1\u001b[0m\n\u001b[1;32m----> 1\u001b[0m \u001b[43mread_study_as_pcd_2\u001b[49m\u001b[43m(\u001b[49m\u001b[38;5;124;43m\"\u001b[39;49m\u001b[38;5;124;43m../data/rsna-2024-lumbar-spine-degenerative-classification/train_images/4646740/\u001b[39;49m\u001b[38;5;124;43m\"\u001b[39;49m\u001b[43m,\u001b[49m\u001b[43m \u001b[49m\u001b[43mseries_descs\u001b[49m\u001b[43m)\u001b[49m\n",
      "Cell \u001b[1;32mIn[5], line 47\u001b[0m, in \u001b[0;36mread_study_as_pcd_2\u001b[1;34m(dir_path, series_types_dict, downsampling_factor)\u001b[0m\n\u001b[0;32m     44\u001b[0m     \u001b[38;5;28;01mdef\u001b[39;00m \u001b[38;5;21mapply_transform\u001b[39m(v):\n\u001b[0;32m     45\u001b[0m         \u001b[38;5;28;01mreturn\u001b[39;00m transform_matrix \u001b[38;5;241m@\u001b[39m v\u001b[38;5;241m.\u001b[39mT\n\u001b[1;32m---> 47\u001b[0m     pcd_overall\u001b[38;5;241m.\u001b[39mappend(\u001b[43mnp\u001b[49m\u001b[38;5;241;43m.\u001b[39;49m\u001b[43mapply_along_axis\u001b[49m\u001b[43m(\u001b[49m\u001b[43mapply_transform\u001b[49m\u001b[43m,\u001b[49m\u001b[43m \u001b[49m\u001b[38;5;241;43m1\u001b[39;49m\u001b[43m,\u001b[49m\u001b[43m \u001b[49m\u001b[43mgrid_index_array\u001b[49m\u001b[43m)\u001b[49m)\n\u001b[0;32m     48\u001b[0m     vals_overall\u001b[38;5;241m.\u001b[39mappend(vals)\n\u001b[0;32m     50\u001b[0m \u001b[38;5;28;01mreturn\u001b[39;00m pcd_overall, vals_overall\n",
      "File \u001b[1;32m~\\anaconda3\\envs\\rsna-2024\\Lib\\site-packages\\numpy\\lib\\shape_base.py:402\u001b[0m, in \u001b[0;36mapply_along_axis\u001b[1;34m(func1d, axis, arr, *args, **kwargs)\u001b[0m\n\u001b[0;32m    400\u001b[0m buff[ind0] \u001b[38;5;241m=\u001b[39m res\n\u001b[0;32m    401\u001b[0m \u001b[38;5;28;01mfor\u001b[39;00m ind \u001b[38;5;129;01min\u001b[39;00m inds:\n\u001b[1;32m--> 402\u001b[0m     buff[ind] \u001b[38;5;241m=\u001b[39m asanyarray(func1d(inarr_view[ind], \u001b[38;5;241m*\u001b[39margs, \u001b[38;5;241m*\u001b[39m\u001b[38;5;241m*\u001b[39mkwargs))\n\u001b[0;32m    404\u001b[0m \u001b[38;5;28;01mif\u001b[39;00m \u001b[38;5;129;01mnot\u001b[39;00m \u001b[38;5;28misinstance\u001b[39m(res, matrix):\n\u001b[0;32m    405\u001b[0m     \u001b[38;5;66;03m# wrap the array, to preserve subclasses\u001b[39;00m\n\u001b[0;32m    406\u001b[0m     buff \u001b[38;5;241m=\u001b[39m res\u001b[38;5;241m.\u001b[39m__array_wrap__(buff)\n",
      "\u001b[1;31mKeyboardInterrupt\u001b[0m: "
     ]
    }
   ],
   "source": [
    "read_study_as_pcd_2(\"../data/rsna-2024-lumbar-spine-degenerative-classification/train_images/4646740/\", series_descs)"
   ]
  },
  {
   "cell_type": "code",
   "execution_count": null,
   "id": "75e96b8aa2cd16e4",
   "metadata": {},
   "outputs": [],
   "source": [
    "def read_study_as_pcd_3(dir_path, series_types_dict=None, downsampling_factor=None):\n",
    "    pcd_overall = o3d.geometry.PointCloud()\n",
    "\n",
    "    for path in glob.glob(os.path.join(dir_path, \"**/*.dcm\"), recursive=True):\n",
    "        dicom_slice = dcmread(path)\n",
    "\n",
    "        series_id = os.path.basename(os.path.dirname(path))\n",
    "        study_id = os.path.basename(os.path.dirname(os.path.dirname(path)))\n",
    "        if series_types_dict is None or int(series_id) not in series_types_dict:\n",
    "            series_desc = dicom_slice.SeriesDescription\n",
    "        else:\n",
    "            series_desc = series_types_dict[int(series_id)]\n",
    "            series_desc = series_desc.split(\" \")[-1]\n",
    "            series_desc = series_desc.split(\"/\")[0]\n",
    "\n",
    "        img = np.expand_dims(dicom_slice.pixel_array, -1)\n",
    "        x, y, z = np.where(img)\n",
    "\n",
    "        index_voxel = np.vstack((x, y, z))[:,::downsampling_factor]\n",
    "        grid_index_array = index_voxel.T\n",
    "        pcd = o3d.geometry.PointCloud(o3d.utility.Vector3dVector(grid_index_array.astype(np.float64)))\n",
    "\n",
    "        vals = np.expand_dims(img[x, y, z][::downsampling_factor], -1)\n",
    "        if series_desc == \"T1\":\n",
    "            vals = np.pad(vals, ((0, 0), (0, 2)))\n",
    "        elif series_desc in (\"T2\", \"T2/STIR\"):\n",
    "            vals = np.pad(vals, ((0, 0), (1, 1)))\n",
    "        else:\n",
    "            raise ValueError(f\"Unknown series desc: {series_desc}\")\n",
    "\n",
    "        pcd.colors = o3d.utility.Vector3dVector(vals.astype(np.float64))\n",
    "\n",
    "        dX, dY = dicom_slice.PixelSpacing\n",
    "        X = np.array(list(dicom_slice.ImageOrientationPatient[:3]) + [0]) * dX\n",
    "        Y = np.array(list(dicom_slice.ImageOrientationPatient[3:]) + [0]) * dY\n",
    "        S = np.array(list(dicom_slice.ImagePositionPatient) + [1])\n",
    "\n",
    "        transform_matrix = np.array([X, Y, np.zeros(len(X)), S]).T\n",
    "        transform_matrix = transform_matrix @ np.matrix(\n",
    "            [[0, 1, 0, 0],\n",
    "             [1, 0, 0, 0],\n",
    "             [0, 0, 1, 0],\n",
    "             [0, 0, 0, 1]]\n",
    "        )\n",
    "\n",
    "        pcd_overall += pcd.transform(transform_matrix)\n",
    "\n",
    "    return pcd_overall"
   ]
  },
  {
   "cell_type": "code",
   "execution_count": null,
   "id": "c0f9ae2455bc787a",
   "metadata": {},
   "outputs": [],
   "source": [
    "read_study_as_pcd_3(\"../data/rsna-2024-lumbar-spine-degenerative-classification/train_images/4646740/\", series_descs, 4)"
   ]
  },
  {
   "cell_type": "code",
   "execution_count": null,
   "id": "4efcb84dadf90c9f",
   "metadata": {},
   "outputs": [],
   "source": [
    "def read_study_as_voxel_grid(dir_path, series_type_dict=None):\n",
    "    pcd_overall = read_study_as_pcd_3(dir_path, series_types_dict=series_type_dict)\n",
    "\n",
    "    path = next(glob.iglob(os.path.join(dir_path, \"**/*.dcm\"), recursive=True))\n",
    "    dicom_slice = dcmread(path)\n",
    "    dX, dY = dicom_slice.PixelSpacing\n",
    "\n",
    "    voxel_grid = o3d.geometry.VoxelGrid().create_from_point_cloud(pcd_overall, dX)\n",
    "\n",
    "    coords = []\n",
    "    vals = []\n",
    "\n",
    "    for voxel in voxel_grid.get_voxels():\n",
    "        coords.append(voxel.grid_index)\n",
    "        vals.append(voxel.color[:2])\n",
    "\n",
    "    coords = np.array(coords)\n",
    "    vals = np.array(vals, dtype=np.float16)\n",
    "\n",
    "    size = np.max(coords, axis=0) + 1\n",
    "    # 1 channel per pulse sequence type, CHWD (I think?)\n",
    "    grid = np.zeros((2, size[0], size[1], size[2]), dtype=np.float16)\n",
    "\n",
    "    grid[0, coords[:, 0], coords[:, 1], coords[:, 2]] = vals[:, 0]\n",
    "    grid[1, coords[:, 0], coords[:, 1], coords[:, 2]] = vals[:, 1]\n",
    "\n",
    "    del pcd_overall\n",
    "    del voxel_grid\n",
    "\n",
    "    return grid"
   ]
  },
  {
   "cell_type": "code",
   "execution_count": null,
   "id": "e81d86c5ea3f4726",
   "metadata": {},
   "outputs": [],
   "source": [
    "grid = read_study_as_voxel_grid(\"../data/rsna-2024-lumbar-spine-degenerative-classification/train_images/4646740/\", series_descs)"
   ]
  },
  {
   "cell_type": "code",
   "execution_count": null,
   "id": "dcbf9c8a8cf1546f",
   "metadata": {},
   "outputs": [],
   "source": [
    "import matplotlib.pyplot as plt\n",
    "\n",
    "plt.imshow(grid[0, 160, :, :], cmap=\"gray\")"
   ]
  },
  {
   "cell_type": "code",
   "execution_count": null,
   "id": "5dcfcb8efbc523ab",
   "metadata": {},
   "outputs": [],
   "source": [
    "grid.shape"
   ]
  },
  {
   "cell_type": "code",
   "execution_count": null,
   "id": "4b72f285e71f9544",
   "metadata": {},
   "outputs": [],
   "source": [
    "import torch.nn.functional as F\n",
    "\n",
    "plt.imshow(F.adaptive_avg_pool3d(torch.HalfTensor(grid), (128, 128, 128))[0, int(160/323*128)], cmap=\"gray\")"
   ]
  },
  {
   "cell_type": "code",
   "execution_count": null,
   "id": "76775ef1365b358",
   "metadata": {},
   "outputs": [],
   "source": [
    "def read_study_as_voxel_grid_2(dir_path, series_type_dict=None, downsampling_factor=None):\n",
    "    pcd_overall = read_study_as_pcd_3(dir_path, series_types_dict=series_type_dict, downsampling_factor=downsampling_factor)\n",
    "\n",
    "    path = next(glob.iglob(os.path.join(dir_path, \"**/*.dcm\"), recursive=True))\n",
    "    dicom_slice = dcmread(path)\n",
    "    dX, dY = dicom_slice.PixelSpacing\n",
    "\n",
    "    voxel_grid = o3d.geometry.VoxelGrid().create_from_point_cloud(pcd_overall, dX)\n",
    "\n",
    "    coords = []\n",
    "    vals = []\n",
    "\n",
    "    for voxel in voxel_grid.get_voxels():\n",
    "        coords.append(voxel.grid_index)\n",
    "        vals.append(voxel.color[:2])\n",
    "\n",
    "    coords = np.array(coords)\n",
    "    vals = np.array(vals, dtype=np.float16)\n",
    "\n",
    "    size = np.max(coords, axis=0) + 1\n",
    "    # 1 channel per pulse sequence type, CHWD (I think?)\n",
    "    grid = np.zeros((2, size[0], size[1], size[2]), dtype=np.float16)\n",
    "\n",
    "    grid[0, coords[:, 0], coords[:, 1], coords[:, 2]] = vals[:, 0]\n",
    "    grid[1, coords[:, 0], coords[:, 1], coords[:, 2]] = vals[:, 1]\n",
    "\n",
    "    del pcd_overall\n",
    "    del voxel_grid\n",
    "\n",
    "    return grid"
   ]
  },
  {
   "cell_type": "code",
   "execution_count": null,
   "id": "16001dc0df0e9c37",
   "metadata": {},
   "outputs": [],
   "source": [
    "grid_2 = read_study_as_voxel_grid_2(\"../data/rsna-2024-lumbar-spine-degenerative-classification/train_images/4646740/\", series_descs, 3)"
   ]
  },
  {
   "cell_type": "code",
   "execution_count": null,
   "id": "a1707d649f9ec23a",
   "metadata": {},
   "outputs": [],
   "source": [
    "plt.imshow(grid_2[0, 160, :, :], cmap=\"gray\")"
   ]
  },
  {
   "cell_type": "code",
   "execution_count": null,
   "id": "896240a429e410fb",
   "metadata": {},
   "outputs": [],
   "source": [
    "plt.imshow(F.adaptive_avg_pool3d(torch.HalfTensor(grid_2), (128, 128, 128))[0, int(160/323*128)], cmap=\"gray\")"
   ]
  },
  {
   "cell_type": "code",
   "execution_count": 14,
   "id": "2c9e08255077578b",
   "metadata": {
    "ExecuteTime": {
     "end_time": "2024-08-07T19:19:19.620276Z",
     "start_time": "2024-08-07T19:19:19.609314Z"
    }
   },
   "outputs": [],
   "source": [
    "def read_study_as_pcd_4(dir_path, series_types_dict=None, downsampling_factor=None):\n",
    "    device = o3d.core.Device(\"CUDA:0\")\n",
    "    dtype = o3d.core.float32\n",
    "    pcd_overall = o3d.geometry.PointCloud()\n",
    "\n",
    "    for path in glob.glob(os.path.join(dir_path, \"**/*.dcm\"), recursive=True):\n",
    "        dicom_slice = dcmread(path)\n",
    "\n",
    "        series_id = os.path.basename(os.path.dirname(path))\n",
    "        study_id = os.path.basename(os.path.dirname(os.path.dirname(path)))\n",
    "        if series_types_dict is None or int(series_id) not in series_types_dict:\n",
    "            series_desc = dicom_slice.SeriesDescription\n",
    "        else:\n",
    "            series_desc = series_types_dict[int(series_id)]\n",
    "            series_desc = series_desc.split(\" \")[-1]\n",
    "            series_desc = series_desc.split(\"/\")[0]\n",
    "\n",
    "        img = np.expand_dims(dicom_slice.pixel_array, -1)\n",
    "        x, y, z = np.where(img)\n",
    "\n",
    "        index_voxel = np.vstack((x, y, z))[:, ::downsampling_factor]\n",
    "        grid_index_array = index_voxel.T\n",
    "        pcd = o3d.t.geometry.PointCloud(device)\n",
    "        pcd.point.positions = o3d.core.Tensor(grid_index_array, dtype, device)\n",
    "\n",
    "        vals = np.expand_dims(img[x, y, z][::downsampling_factor], -1)\n",
    "        if series_desc == \"T1\":\n",
    "            vals = np.pad(vals, ((0, 0), (0, 2)))\n",
    "        elif series_desc in (\"T2\", \"T2/STIR\"):\n",
    "            vals = np.pad(vals, ((0, 0), (1, 1)))\n",
    "        else:\n",
    "            raise ValueError(f\"Unknown series desc: {series_desc}\")\n",
    "\n",
    "        pcd.point.colors = o3d.core.Tensor(vals, dtype, device)\n",
    "\n",
    "        dX, dY = dicom_slice.PixelSpacing\n",
    "        X = np.array(list(dicom_slice.ImageOrientationPatient[:3]) + [0]) * dX\n",
    "        Y = np.array(list(dicom_slice.ImageOrientationPatient[3:]) + [0]) * dY\n",
    "        S = np.array(list(dicom_slice.ImagePositionPatient) + [1])\n",
    "\n",
    "        transform_matrix = np.array([X, Y, np.zeros(len(X)), S]).T\n",
    "        transform_matrix = transform_matrix @ np.matrix(\n",
    "            [[0, 1, 0, 0],\n",
    "             [1, 0, 0, 0],\n",
    "             [0, 0, 1, 0],\n",
    "             [0, 0, 0, 1]]\n",
    "        )\n",
    "\n",
    "        pcd.transform(o3d.core.Tensor(transform_matrix, dtype, device))\n",
    "        pcd_overall += pcd.to_legacy()\n",
    "\n",
    "    return pcd_overall"
   ]
  },
  {
   "cell_type": "code",
   "execution_count": 17,
   "id": "ded730d0195c14d7",
   "metadata": {
    "ExecuteTime": {
     "end_time": "2024-08-07T19:20:03.594507Z",
     "start_time": "2024-08-07T19:20:03.526584Z"
    }
   },
   "outputs": [
    {
     "ename": "RuntimeError",
     "evalue": "[Open3D Error] (class std::shared_ptr<class open3d::core::MemoryManagerDevice> __cdecl open3d::core::MemoryManager::GetMemoryManagerDevice(const class open3d::core::Device &)) D:\\a\\Open3D\\Open3D\\cpp\\open3d\\core\\MemoryManager.cpp:123: Unsupported device \"CUDA:0\". Set BUILD_CUDA_MODULE=ON to compile for CUDA support and BUILD_SYCL_MODULE=ON to compile for SYCL support.\n",
     "output_type": "error",
     "traceback": [
      "\u001b[1;31m---------------------------------------------------------------------------\u001b[0m",
      "\u001b[1;31mRuntimeError\u001b[0m                              Traceback (most recent call last)",
      "Cell \u001b[1;32mIn[17], line 1\u001b[0m\n\u001b[1;32m----> 1\u001b[0m pcd \u001b[38;5;241m=\u001b[39m \u001b[43mread_study_as_pcd_4\u001b[49m\u001b[43m(\u001b[49m\u001b[38;5;124;43m\"\u001b[39;49m\u001b[38;5;124;43m../data/rsna-2024-lumbar-spine-degenerative-classification/train_images/4646740/\u001b[39;49m\u001b[38;5;124;43m\"\u001b[39;49m\u001b[43m,\u001b[49m\u001b[43m \u001b[49m\u001b[43mseries_descs\u001b[49m\u001b[43m)\u001b[49m\n",
      "Cell \u001b[1;32mIn[14], line 24\u001b[0m, in \u001b[0;36mread_study_as_pcd_4\u001b[1;34m(dir_path, series_types_dict, downsampling_factor)\u001b[0m\n\u001b[0;32m     22\u001b[0m grid_index_array \u001b[38;5;241m=\u001b[39m index_voxel\u001b[38;5;241m.\u001b[39mT\n\u001b[0;32m     23\u001b[0m pcd \u001b[38;5;241m=\u001b[39m o3d\u001b[38;5;241m.\u001b[39mt\u001b[38;5;241m.\u001b[39mgeometry\u001b[38;5;241m.\u001b[39mPointCloud(device)\n\u001b[1;32m---> 24\u001b[0m pcd\u001b[38;5;241m.\u001b[39mpoint\u001b[38;5;241m.\u001b[39mpositions \u001b[38;5;241m=\u001b[39m \u001b[43mo3d\u001b[49m\u001b[38;5;241;43m.\u001b[39;49m\u001b[43mcore\u001b[49m\u001b[38;5;241;43m.\u001b[39;49m\u001b[43mTensor\u001b[49m\u001b[43m(\u001b[49m\u001b[43mgrid_index_array\u001b[49m\u001b[43m,\u001b[49m\u001b[43m \u001b[49m\u001b[43mdtype\u001b[49m\u001b[43m,\u001b[49m\u001b[43m \u001b[49m\u001b[43mdevice\u001b[49m\u001b[43m)\u001b[49m\n\u001b[0;32m     26\u001b[0m vals \u001b[38;5;241m=\u001b[39m np\u001b[38;5;241m.\u001b[39mexpand_dims(img[x, y, z][::downsampling_factor], \u001b[38;5;241m-\u001b[39m\u001b[38;5;241m1\u001b[39m)\n\u001b[0;32m     27\u001b[0m \u001b[38;5;28;01mif\u001b[39;00m series_desc \u001b[38;5;241m==\u001b[39m \u001b[38;5;124m\"\u001b[39m\u001b[38;5;124mT1\u001b[39m\u001b[38;5;124m\"\u001b[39m:\n",
      "\u001b[1;31mRuntimeError\u001b[0m: [Open3D Error] (class std::shared_ptr<class open3d::core::MemoryManagerDevice> __cdecl open3d::core::MemoryManager::GetMemoryManagerDevice(const class open3d::core::Device &)) D:\\a\\Open3D\\Open3D\\cpp\\open3d\\core\\MemoryManager.cpp:123: Unsupported device \"CUDA:0\". Set BUILD_CUDA_MODULE=ON to compile for CUDA support and BUILD_SYCL_MODULE=ON to compile for SYCL support.\n"
     ]
    }
   ],
   "source": [
    "pcd = read_study_as_pcd_4(\"../data/rsna-2024-lumbar-spine-degenerative-classification/train_images/4646740/\", series_descs)"
   ]
  },
  {
   "cell_type": "code",
   "execution_count": 18,
   "id": "5273e6303dac0c72",
   "metadata": {
    "ExecuteTime": {
     "end_time": "2024-08-07T19:20:07.025439Z",
     "start_time": "2024-08-07T19:20:07.003528Z"
    }
   },
   "outputs": [
    {
     "ename": "NameError",
     "evalue": "name 'pcd' is not defined",
     "output_type": "error",
     "traceback": [
      "\u001b[1;31m---------------------------------------------------------------------------\u001b[0m",
      "\u001b[1;31mNameError\u001b[0m                                 Traceback (most recent call last)",
      "Cell \u001b[1;32mIn[18], line 1\u001b[0m\n\u001b[1;32m----> 1\u001b[0m \u001b[43mpcd\u001b[49m\n",
      "\u001b[1;31mNameError\u001b[0m: name 'pcd' is not defined"
     ]
    }
   ],
   "source": [
    "print(pcd)"
   ]
  },
  {
   "cell_type": "code",
   "execution_count": null,
   "id": "4d7faab00f52b4c7",
   "metadata": {},
   "outputs": [],
   "source": []
  }
 ],
 "metadata": {
  "kernelspec": {
   "display_name": "Python 3 (ipykernel)",
   "language": "python",
   "name": "python3"
  },
  "language_info": {
   "codemirror_mode": {
    "name": "ipython",
    "version": 3
   },
   "file_extension": ".py",
   "mimetype": "text/x-python",
   "name": "python",
   "nbconvert_exporter": "python",
   "pygments_lexer": "ipython3",
   "version": "3.11.9"
  }
 },
 "nbformat": 4,
 "nbformat_minor": 5
}
