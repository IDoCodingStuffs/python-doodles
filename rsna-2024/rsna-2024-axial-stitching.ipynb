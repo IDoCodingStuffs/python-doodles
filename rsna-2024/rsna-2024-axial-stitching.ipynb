{
 "cells": [
  {
   "cell_type": "code",
   "id": "initial_id",
   "metadata": {
    "collapsed": true,
    "ExecuteTime": {
     "end_time": "2024-08-05T07:28:42.357809Z",
     "start_time": "2024-08-05T07:28:41.256584Z"
    }
   },
   "source": [
    "import pydicom\n",
    "import open3d as o3d\n",
    "import glob\n",
    "import numpy as np\n",
    "import copy"
   ],
   "outputs": [
    {
     "name": "stdout",
     "output_type": "stream",
     "text": [
      "Jupyter environment detected. Enabling Open3D WebVisualizer.\n",
      "[Open3D INFO] WebRTC GUI backend enabled.\n",
      "[Open3D INFO] WebRTCWindowSystem: HTTP handshake server disabled.\n"
     ]
    }
   ],
   "execution_count": 1
  },
  {
   "metadata": {},
   "cell_type": "markdown",
   "source": "# Axial loading example",
   "id": "260f79eeb83158a4"
  },
  {
   "cell_type": "code",
   "source": [
    "paths = glob.glob(\"../data/rsna-2024-lumbar-spine-degenerative-classification/train_images/4003253/2448190387/*.dcm\")"
   ],
   "metadata": {
    "collapsed": false,
    "ExecuteTime": {
     "end_time": "2024-08-05T07:28:42.362705Z",
     "start_time": "2024-08-05T07:28:42.358816Z"
    }
   },
   "id": "ae6ebd43999fe221",
   "outputs": [],
   "execution_count": 2
  },
  {
   "cell_type": "code",
   "source": [
    "pydicom.read_file(paths[0])"
   ],
   "metadata": {
    "collapsed": false,
    "ExecuteTime": {
     "end_time": "2024-08-05T07:28:42.372719Z",
     "start_time": "2024-08-05T07:28:42.363719Z"
    }
   },
   "id": "9e58a8eef05d8c14",
   "outputs": [
    {
     "data": {
      "text/plain": [
       "Dataset.file_meta -------------------------------\n",
       "(0002, 0001) File Meta Information Version       OB: b'\\x00\\x01'\n",
       "(0002, 0002) Media Storage SOP Class UID         UI: Enhanced MR Image Storage\n",
       "(0002, 0003) Media Storage SOP Instance UID      UI: 4003253.1.1\n",
       "(0002, 0010) Transfer Syntax UID                 UI: RLE Lossless\n",
       "(0002, 0012) Implementation Class UID            UI: 1.2.40.0.13.1.1.1\n",
       "(0002, 0013) Implementation Version Name         SH: 'PYDICOM 2.4.2'\n",
       "-------------------------------------------------\n",
       "(0008, 0018) SOP Instance UID                    UI: 4003253.1.1\n",
       "(0008, 0023) Content Date                        DA: '20240503'\n",
       "(0008, 0033) Content Time                        TM: '223716.487580'\n",
       "(0008, 103e) Series Description                  LO: 'T2'\n",
       "(0010, 0020) Patient ID                          LO: '4003253'\n",
       "(0018, 0050) Slice Thickness                     DS: '4.0'\n",
       "(0018, 0088) Spacing Between Slices              DS: '4.4'\n",
       "(0018, 5100) Patient Position                    CS: 'HFS'\n",
       "(0020, 000d) Study Instance UID                  UI: 4003253\n",
       "(0020, 000e) Series Instance UID                 UI: 4003253.2448190387\n",
       "(0020, 0013) Instance Number                     IS: '1'\n",
       "(0020, 0032) Image Position (Patient)            DS: [-95.20284, -25.970026, -375.1405]\n",
       "(0020, 0037) Image Orientation (Patient)         DS: [0.99998105, -1.06647756E-4, -0.00615672, -9.573E-12, 0.99985003, -0.017319575]\n",
       "(0020, 0052) Frame of Reference UID              UI: 1.2.826.0.1.3680043.8.498.13369481010958278569456681660938123674\n",
       "(0020, 1041) Slice Location                      DS: '-376.11313'\n",
       "(0028, 0002) Samples per Pixel                   US: 1\n",
       "(0028, 0004) Photometric Interpretation          CS: 'MONOCHROME2'\n",
       "(0028, 0010) Rows                                US: 320\n",
       "(0028, 0011) Columns                             US: 320\n",
       "(0028, 0030) Pixel Spacing                       DS: [0.625, 0.625]\n",
       "(0028, 0100) Bits Allocated                      US: 16\n",
       "(0028, 0101) Bits Stored                         US: 12\n",
       "(0028, 0102) High Bit                            US: 11\n",
       "(0028, 0103) Pixel Representation                US: 0\n",
       "(0028, 1050) Window Center                       DS: '259.0'\n",
       "(0028, 1051) Window Width                        DS: '586.0'\n",
       "(7fe0, 0010) Pixel Data                          OB: Array of 101196 elements"
      ]
     },
     "execution_count": 3,
     "metadata": {},
     "output_type": "execute_result"
    }
   ],
   "execution_count": 3
  },
  {
   "cell_type": "code",
   "source": [
    "pcds_xyz = []\n",
    "pcds_d = []\n",
    "\n",
    "for path in paths:\n",
    "    slice = pydicom.read_file(path)\n",
    "    img = np.expand_dims(slice.pixel_array, -1)\n",
    "    pcd = o3d.geometry.PointCloud()\n",
    "    x,y,z=np.where(img)\n",
    "    \n",
    "    index_voxel=np.vstack((x,y,z))\n",
    "    grid_index_array=index_voxel.T\n",
    "    pcd.points = o3d.utility.Vector3dVector(grid_index_array)\n",
    "    \n",
    "    vals = np.array([img[x,y,z] for x,y,z in grid_index_array]) \n",
    "    \n",
    "    dX, dY = slice.PixelSpacing\n",
    "    X = np.array(list(slice.ImageOrientationPatient[:3]) + [0]) * dX\n",
    "    Y = np.array(list(slice.ImageOrientationPatient[3:]) + [0]) * dY\n",
    "    S = np.array(list(slice.ImagePositionPatient) + [1])\n",
    "    \n",
    "    transform_matrix = np.array([X, Y, np.zeros(len(X)), S]).T\n",
    "    transformed_pcd = pcd.transform(transform_matrix)\n",
    "    \n",
    "    pcds_xyz.extend(transformed_pcd.points)\n",
    "    pcds_d.extend(vals)"
   ],
   "metadata": {
    "collapsed": false,
    "ExecuteTime": {
     "end_time": "2024-08-05T07:30:54.325156Z",
     "start_time": "2024-08-05T07:30:35.027434Z"
    }
   },
   "id": "f6b9353c057d0aac",
   "outputs": [],
   "execution_count": 5
  },
  {
   "cell_type": "code",
   "source": [
    "pcd_overall = o3d.geometry.PointCloud()\n",
    "pcd_overall.points = o3d.utility.Vector3dVector(pcds_xyz)\n",
    "pcd_overall.colors.extend(o3d.utility.Vector3dVector(np.repeat(np.expand_dims(pcds_d, -1) / 256, 3, -1)))"
   ],
   "metadata": {
    "collapsed": false,
    "ExecuteTime": {
     "end_time": "2024-08-05T07:30:58.838855Z",
     "start_time": "2024-08-05T07:30:54.326163Z"
    }
   },
   "id": "69bef8be309279f0",
   "outputs": [],
   "execution_count": 6
  },
  {
   "cell_type": "code",
   "source": [
    "o3d.visualization.draw_geometries([pcd_overall])"
   ],
   "metadata": {
    "collapsed": false,
    "ExecuteTime": {
     "end_time": "2024-08-05T07:31:04.883104Z",
     "start_time": "2024-08-05T07:30:58.839863Z"
    }
   },
   "id": "916a523bf4da4022",
   "outputs": [],
   "execution_count": 7
  },
  {
   "cell_type": "code",
   "source": [
    "voxel_grid = o3d.geometry.VoxelGrid().create_from_point_cloud(pcd_overall, dX)\n",
    "o3d.visualization.draw_geometries([voxel_grid])"
   ],
   "metadata": {
    "collapsed": false,
    "ExecuteTime": {
     "end_time": "2024-08-05T07:31:25.619209Z",
     "start_time": "2024-08-05T07:31:04.885113Z"
    }
   },
   "id": "f841ca5168e0d3f1",
   "outputs": [],
   "execution_count": 8
  },
  {
   "cell_type": "code",
   "source": [
    "voxels = voxel_grid.get_voxels()"
   ],
   "metadata": {
    "collapsed": false,
    "ExecuteTime": {
     "end_time": "2024-08-05T07:31:29.604903Z",
     "start_time": "2024-08-05T07:31:25.621221Z"
    }
   },
   "id": "73f21daf0211accb",
   "outputs": [],
   "execution_count": 9
  },
  {
   "cell_type": "code",
   "source": [
    "voxels[0]"
   ],
   "metadata": {
    "collapsed": false,
    "ExecuteTime": {
     "end_time": "2024-08-05T07:31:29.614777Z",
     "start_time": "2024-08-05T07:31:29.605910Z"
    }
   },
   "id": "be7c0bfd2eac33dd",
   "outputs": [
    {
     "data": {
      "text/plain": [
       "Voxel with grid_index: (315, 159, 218), color: (0.0117188, 0.0117188, 0.0117188)"
      ]
     },
     "execution_count": 10,
     "metadata": {},
     "output_type": "execute_result"
    }
   ],
   "execution_count": 10
  },
  {
   "cell_type": "code",
   "source": [
    "coords, vals = (np.array([voxel.grid_index for voxel in voxels]), \n",
    "                 np.array([voxel.color[0] for voxel in voxels]))\n"
   ],
   "metadata": {
    "collapsed": false,
    "ExecuteTime": {
     "end_time": "2024-08-05T07:31:51.738767Z",
     "start_time": "2024-08-05T07:31:29.615782Z"
    }
   },
   "id": "947d5e70c4949e90",
   "outputs": [],
   "execution_count": 11
  },
  {
   "metadata": {
    "ExecuteTime": {
     "end_time": "2024-08-05T07:31:58.081730Z",
     "start_time": "2024-08-05T07:31:58.076436Z"
    }
   },
   "cell_type": "code",
   "source": "len(coords), len(vals)",
   "id": "db1fc0c945fefece",
   "outputs": [
    {
     "data": {
      "text/plain": [
       "(4079265, 4079265)"
      ]
     },
     "execution_count": 12,
     "metadata": {},
     "output_type": "execute_result"
    }
   ],
   "execution_count": 12
  },
  {
   "cell_type": "code",
   "execution_count": 14,
   "outputs": [
    {
     "data": {
      "text/plain": "(array([ 75, 160, 213], dtype=int32),\n array([ -52.48106122,   72.96211849, -447.29552278]))"
     },
     "execution_count": 14,
     "metadata": {},
     "output_type": "execute_result"
    }
   ],
   "source": [
    "coords[0], voxel_grid.get_voxel_center_coordinate(coords[0])"
   ],
   "metadata": {
    "collapsed": false,
    "ExecuteTime": {
     "end_time": "2024-08-05T07:18:17.347965Z",
     "start_time": "2024-08-05T07:18:17.344926Z"
    }
   },
   "id": "25207def03fad655"
  },
  {
   "cell_type": "code",
   "source": [
    "size = np.max(coords, axis=0) + 1\n",
    "grid = np.zeros((size[1], size[0], size[2]))\n",
    "\n",
    "size, grid.shape"
   ],
   "metadata": {
    "collapsed": false,
    "ExecuteTime": {
     "end_time": "2024-08-05T07:18:17.475390Z",
     "start_time": "2024-08-05T07:18:17.347537Z"
    }
   },
   "id": "9110e9a6a48d3e9d",
   "outputs": [
    {
     "data": {
      "text/plain": "(array([321, 351, 329], dtype=int32), (351, 321, 329))"
     },
     "execution_count": 15,
     "metadata": {},
     "output_type": "execute_result"
    }
   ],
   "execution_count": 15
  },
  {
   "metadata": {
    "ExecuteTime": {
     "end_time": "2024-08-05T07:18:20.056684Z",
     "start_time": "2024-08-05T07:18:18.628517Z"
    }
   },
   "cell_type": "code",
   "source": [
    "for index, coord in enumerate(coords):\n",
    "    grid[(coord[1], coord[0], coord[2])] = vals[index] "
   ],
   "id": "b607fdf1fd99048f",
   "outputs": [],
   "execution_count": 16
  },
  {
   "cell_type": "code",
   "source": [
    "import matplotlib.pyplot as plt\n",
    "plt.imshow(grid[150,:,:], cmap=\"magma\")\n",
    "plt.show()"
   ],
   "metadata": {
    "collapsed": false,
    "ExecuteTime": {
     "end_time": "2024-08-05T07:19:53.841167Z",
     "start_time": "2024-08-05T07:19:53.770670Z"
    }
   },
   "id": "fec8435816548893",
   "outputs": [
    {
     "data": {
      "text/plain": "<Figure size 640x480 with 1 Axes>",
      "image/png": "[encoded data removed]"
     },
     "metadata": {},
     "output_type": "display_data"
    }
   ],
   "execution_count": 28
  },
  {
   "metadata": {
    "ExecuteTime": {
     "end_time": "2024-08-05T06:23:26.724016Z",
     "start_time": "2024-08-05T06:23:15.627314Z"
    }
   },
   "cell_type": "code",
   "source": [
    "from rsna_dataloader import read_series_as_pcd\n",
    "\n",
    "series = read_series_as_pcd(\"../data/rsna-2024-lumbar-spine-degenerative-classification/train_images/4003253/2448190387/\")"
   ],
   "id": "5dbc629c150dbd4c",
   "outputs": [
    {
     "name": "stdout",
     "output_type": "stream",
     "text": [
      "Jupyter environment detected. Enabling Open3D WebVisualizer.\n",
      "[Open3D INFO] WebRTC GUI backend enabled.\n",
      "[Open3D INFO] WebRTCWindowSystem: HTTP handshake server disabled.\n"
     ]
    }
   ],
   "execution_count": 1
  },
  {
   "metadata": {
    "ExecuteTime": {
     "end_time": "2024-08-05T06:23:33.247897Z",
     "start_time": "2024-08-05T06:23:26.725026Z"
    }
   },
   "cell_type": "code",
   "source": [
    "from train_pointnet_model import PointNetEncoder\n",
    "import numpy as np\n",
    "import torch\n",
    "\n",
    "encoder = PointNetEncoder(channel=4).to(\"cuda\")\n",
    "# with torch.no_grad():\n",
    "ret = encoder(torch.tensor(np.repeat(np.expand_dims(series[::20], 0), 2, 0))\n",
    "              .to(torch.float32)\n",
    "              .permute(0, 2, 1)\n",
    "              .to(\"cuda\"))\n",
    "    \n",
    "print(ret.shape)"
   ],
   "id": "d514408bcd80150b",
   "outputs": [
    {
     "name": "stdout",
     "output_type": "stream",
     "text": [
      "torch.Size([2, 1024])\n"
     ]
    }
   ],
   "execution_count": 2
  },
  {
   "metadata": {
    "ExecuteTime": {
     "end_time": "2024-08-05T06:23:39.995175Z",
     "start_time": "2024-08-05T06:23:38.926787Z"
    }
   },
   "cell_type": "code",
   "source": [
    "import open3d as o3d\n",
    "\n",
    "pcd_downsampled = o3d.geometry.PointCloud()\n",
    "pcd_downsampled.points = o3d.utility.Vector3dVector(series[::20,:3])\n",
    "pcd_downsampled.colors = o3d.utility.Vector3dVector(np.repeat(np.expand_dims(series[::20,-1], -1), 3, -1) / 256)"
   ],
   "id": "c4fc13f4fba932ce",
   "outputs": [],
   "execution_count": 3
  },
  {
   "metadata": {
    "ExecuteTime": {
     "end_time": "2024-08-05T06:24:10.159250Z",
     "start_time": "2024-08-05T06:23:42.467885Z"
    }
   },
   "cell_type": "code",
   "source": "o3d.visualization.draw_geometries([pcd_downsampled])",
   "id": "218c7f7f6cef1d95",
   "outputs": [
    {
     "ename": "KeyboardInterrupt",
     "evalue": "",
     "output_type": "error",
     "traceback": [
      "\u001B[1;31m---------------------------------------------------------------------------\u001B[0m",
      "\u001B[1;31mKeyboardInterrupt\u001B[0m                         Traceback (most recent call last)",
      "Cell \u001B[1;32mIn[4], line 1\u001B[0m\n\u001B[1;32m----> 1\u001B[0m o3d\u001B[38;5;241m.\u001B[39mvisualization\u001B[38;5;241m.\u001B[39mdraw_geometries([pcd_downsampled])\n",
      "File \u001B[1;32m~\\anaconda3\\envs\\rsna-2024\\Lib\\site-packages\\IPython\\core\\displayhook.py:258\u001B[0m, in \u001B[0;36mDisplayHook.__call__\u001B[1;34m(self, result)\u001B[0m\n\u001B[0;32m    255\u001B[0m     sys\u001B[38;5;241m.\u001B[39mstdout\u001B[38;5;241m.\u001B[39mwrite(\u001B[38;5;28mself\u001B[39m\u001B[38;5;241m.\u001B[39mshell\u001B[38;5;241m.\u001B[39mseparate_out2)\n\u001B[0;32m    256\u001B[0m     sys\u001B[38;5;241m.\u001B[39mstdout\u001B[38;5;241m.\u001B[39mflush()\n\u001B[1;32m--> 258\u001B[0m \u001B[38;5;28;01mdef\u001B[39;00m \u001B[38;5;21m__call__\u001B[39m(\u001B[38;5;28mself\u001B[39m, result\u001B[38;5;241m=\u001B[39m\u001B[38;5;28;01mNone\u001B[39;00m):\n\u001B[0;32m    259\u001B[0m \u001B[38;5;250m    \u001B[39m\u001B[38;5;124;03m\"\"\"Printing with history cache management.\u001B[39;00m\n\u001B[0;32m    260\u001B[0m \n\u001B[0;32m    261\u001B[0m \u001B[38;5;124;03m    This is invoked every time the interpreter needs to print, and is\u001B[39;00m\n\u001B[0;32m    262\u001B[0m \u001B[38;5;124;03m    activated by setting the variable sys.displayhook to it.\u001B[39;00m\n\u001B[0;32m    263\u001B[0m \u001B[38;5;124;03m    \"\"\"\u001B[39;00m\n\u001B[0;32m    264\u001B[0m     \u001B[38;5;28mself\u001B[39m\u001B[38;5;241m.\u001B[39mcheck_for_underscore()\n",
      "\u001B[1;31mKeyboardInterrupt\u001B[0m: "
     ]
    }
   ],
   "execution_count": 4
  },
  {
   "metadata": {},
   "cell_type": "code",
   "outputs": [],
   "execution_count": null,
   "source": "",
   "id": "d96be7332ad38b6a"
  }
 ],
 "metadata": {
  "kernelspec": {
   "display_name": "Python 3",
   "language": "python",
   "name": "python3"
  },
  "language_info": {
   "codemirror_mode": {
    "name": "ipython",
    "version": 2
   },
   "file_extension": ".py",
   "mimetype": "text/x-python",
   "name": "python",
   "nbconvert_exporter": "python",
   "pygments_lexer": "ipython2",
   "version": "2.7.6"
  }
 },
 "nbformat": 4,
 "nbformat_minor": 5
}
