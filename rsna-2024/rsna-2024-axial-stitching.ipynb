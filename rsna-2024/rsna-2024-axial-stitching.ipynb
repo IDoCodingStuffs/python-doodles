{
 "cells": [
  {
   "cell_type": "code",
   "execution_count": 1,
   "id": "initial_id",
   "metadata": {
    "collapsed": true,
    "ExecuteTime": {
     "end_time": "2024-08-04T23:26:53.449081Z",
     "start_time": "2024-08-04T23:26:52.726594Z"
    }
   },
   "outputs": [],
   "source": [
    "import pydicom\n",
    "import open3d as o3d\n",
    "import glob\n",
    "import numpy as np\n",
    "import copy"
   ]
  },
  {
   "cell_type": "code",
   "execution_count": 2,
   "outputs": [],
   "source": [
    "paths = glob.glob(\"../data/rsna-2024-lumbar-spine-degenerative-classification/train_images/4003253/2448190387/*.dcm\")"
   ],
   "metadata": {
    "collapsed": false,
    "ExecuteTime": {
     "end_time": "2024-08-04T23:26:53.452789Z",
     "start_time": "2024-08-04T23:26:53.449666Z"
    }
   },
   "id": "ae6ebd43999fe221"
  },
  {
   "cell_type": "code",
   "execution_count": 12,
   "outputs": [
    {
     "data": {
      "text/plain": "Dataset.file_meta -------------------------------\n(0002, 0001) File Meta Information Version       OB: b'\\x00\\x01'\n(0002, 0002) Media Storage SOP Class UID         UI: Enhanced MR Image Storage\n(0002, 0003) Media Storage SOP Instance UID      UI: 4003253.1.16\n(0002, 0010) Transfer Syntax UID                 UI: RLE Lossless\n(0002, 0012) Implementation Class UID            UI: 1.2.40.0.13.1.1.1\n(0002, 0013) Implementation Version Name         SH: 'PYDICOM 2.4.2'\n-------------------------------------------------\n(0008, 0018) SOP Instance UID                    UI: 4003253.1.16\n(0008, 0023) Content Date                        DA: '20240503'\n(0008, 0033) Content Time                        TM: '223717.117369'\n(0008, 103e) Series Description                  LO: 'T2'\n(0010, 0020) Patient ID                          LO: '4003253'\n(0018, 0050) Slice Thickness                     DS: '4.0'\n(0018, 0088) Spacing Between Slices              DS: '4.4'\n(0018, 5100) Patient Position                    CS: 'HFS'\n(0020, 000d) Study Instance UID                  UI: 4003253\n(0020, 000e) Series Instance UID                 UI: 4003253.2448190387\n(0020, 0013) Instance Number                     IS: '16'\n(0020, 0032) Image Position (Patient)            DS: [-95.609245, -27.113092, -441.12933]\n(0020, 0037) Image Orientation (Patient)         DS: [0.99998105, -1.06647756E-4, -0.00615672, -9.573E-12, 0.99985003, -0.017319575]\n(0020, 0052) Frame of Reference UID              UI: 1.2.826.0.1.3680043.8.498.13369481010958278569456681660938123674\n(0020, 1041) Slice Location                      DS: '-442.11313'\n(0028, 0002) Samples per Pixel                   US: 1\n(0028, 0004) Photometric Interpretation          CS: 'MONOCHROME2'\n(0028, 0010) Rows                                US: 320\n(0028, 0011) Columns                             US: 320\n(0028, 0030) Pixel Spacing                       DS: [0.625, 0.625]\n(0028, 0100) Bits Allocated                      US: 16\n(0028, 0101) Bits Stored                         US: 12\n(0028, 0102) High Bit                            US: 11\n(0028, 0103) Pixel Representation                US: 0\n(0028, 1050) Window Center                       DS: '286.0'\n(0028, 1051) Window Width                        DS: '629.0'\n(7fe0, 0010) Pixel Data                          OB: Array of 101090 elements"
     },
     "execution_count": 12,
     "metadata": {},
     "output_type": "execute_result"
    }
   ],
   "source": [
    "pydicom.read_file(paths[0])"
   ],
   "metadata": {
    "collapsed": false,
    "ExecuteTime": {
     "end_time": "2024-08-04T23:32:38.789169Z",
     "start_time": "2024-08-04T23:32:38.780076Z"
    }
   },
   "id": "9e58a8eef05d8c14"
  },
  {
   "cell_type": "code",
   "execution_count": 14,
   "outputs": [],
   "source": [
    "pcds = []\n",
    "\n",
    "for path in paths:\n",
    "    slice = pydicom.read_file(path)\n",
    "    img = np.repeat(np.expand_dims(slice.pixel_array, -1), slice.SliceThickness, -1)\n",
    "    pcd = o3d.geometry.PointCloud()\n",
    "    x,y,z=np.where(img)\n",
    "    \n",
    "    index_voxel=np.vstack((x,y,z))\n",
    "    grid_index_array=index_voxel.T\n",
    "    pcd.points = o3d.utility.Vector3dVector(grid_index_array)\n",
    "    colors = np.array([img[x,y,z] / 256 for x,y,z in grid_index_array]) \n",
    "    colors_rgb = np.stack([colors, colors, colors], axis=1)\n",
    "    pcd.colors = o3d.utility.Vector3dVector(colors_rgb)\n",
    "    \n",
    "    d = slice.PixelSpacing\n",
    "\n",
    "    X = np.array(list(slice.ImageOrientationPatient[:3]) + [0]) * d[0]\n",
    "    Y = np.array(list(slice.ImageOrientationPatient[3:]) + [0]) * d[1]\n",
    "    S = np.array(list(slice.ImagePositionPatient) + [1])\n",
    "    \n",
    "    transform_matrix = np.array([X, Y, np.zeros(len(X)), S]).T\n",
    "    \n",
    "    transformed = pcd.transform(transform_matrix)\n",
    "    pcds.append(copy.deepcopy(transformed))"
   ],
   "metadata": {
    "collapsed": false,
    "ExecuteTime": {
     "end_time": "2024-08-04T23:34:23.289401Z",
     "start_time": "2024-08-04T23:33:52.389886Z"
    }
   },
   "id": "f6b9353c057d0aac"
  },
  {
   "cell_type": "code",
   "execution_count": 15,
   "outputs": [
    {
     "name": "stdout",
     "output_type": "stream",
     "text": [
      "\u001B[1;33m[Open3D WARNING] GLFW Error: Cocoa: Failed to find service port for display\u001B[0;m\n"
     ]
    }
   ],
   "source": [
    "o3d.visualization.draw_geometries(pcds)"
   ],
   "metadata": {
    "collapsed": false,
    "ExecuteTime": {
     "end_time": "2024-08-04T23:34:46.472285Z",
     "start_time": "2024-08-04T23:34:46.470066Z"
    }
   },
   "id": "373b4c336275b845"
  },
  {
   "cell_type": "code",
   "execution_count": 16,
   "outputs": [],
   "source": [
    "pcd_overall = o3d.geometry.PointCloud()\n",
    "for pcd in pcds:\n",
    "    pcd_overall.points.extend(pcd.points)\n",
    "    pcd_overall.colors.extend(pcd.colors)"
   ],
   "metadata": {
    "collapsed": false,
    "ExecuteTime": {
     "end_time": "2024-08-04T23:34:51.220454Z",
     "start_time": "2024-08-04T23:34:50.984399Z"
    }
   },
   "id": "69bef8be309279f0"
  },
  {
   "cell_type": "code",
   "execution_count": 17,
   "outputs": [
    {
     "name": "stdout",
     "output_type": "stream",
     "text": [
      "\u001B[1;33m[Open3D WARNING] GLFW Error: Cocoa: Failed to find service port for display\u001B[0;m\n"
     ]
    }
   ],
   "source": [
    "o3d.visualization.draw_geometries([pcd_overall])"
   ],
   "metadata": {
    "collapsed": false,
    "ExecuteTime": {
     "end_time": "2024-08-04T23:34:56.100998Z",
     "start_time": "2024-08-04T23:34:56.098414Z"
    }
   },
   "id": "916a523bf4da4022"
  },
  {
   "cell_type": "code",
   "execution_count": 18,
   "outputs": [
    {
     "name": "stdout",
     "output_type": "stream",
     "text": [
      "\u001B[1;33m[Open3D WARNING] GLFW Error: Cocoa: Failed to find service port for display\u001B[0;m\n"
     ]
    }
   ],
   "source": [
    "voxel_grid = o3d.geometry.VoxelGrid().create_from_point_cloud(pcd_overall, d[0])\n",
    "o3d.visualization.draw_geometries([voxel_grid])"
   ],
   "metadata": {
    "collapsed": false,
    "ExecuteTime": {
     "end_time": "2024-08-04T23:35:33.129212Z",
     "start_time": "2024-08-04T23:35:03.956476Z"
    }
   },
   "id": "f841ca5168e0d3f1"
  },
  {
   "cell_type": "code",
   "execution_count": 19,
   "outputs": [],
   "source": [
    "voxels = voxel_grid.get_voxels()"
   ],
   "metadata": {
    "collapsed": false,
    "ExecuteTime": {
     "end_time": "2024-08-04T23:36:08.656623Z",
     "start_time": "2024-08-04T23:36:08.654793Z"
    }
   },
   "id": "73f21daf0211accb"
  },
  {
   "cell_type": "code",
   "execution_count": 25,
   "outputs": [
    {
     "data": {
      "text/plain": "Voxel with grid_index: (75, 160, 213), color: (0.125, 0.125, 0.125)"
     },
     "execution_count": 25,
     "metadata": {},
     "output_type": "execute_result"
    }
   ],
   "source": [
    "voxels[0]"
   ],
   "metadata": {
    "collapsed": false,
    "ExecuteTime": {
     "end_time": "2024-08-04T23:38:27.914933Z",
     "start_time": "2024-08-04T23:38:27.911600Z"
    }
   },
   "id": "be7c0bfd2eac33dd"
  },
  {
   "cell_type": "code",
   "execution_count": 27,
   "outputs": [],
   "source": [
    "coords, vals = (np.array([voxel.grid_index for voxel in voxels]), \n",
    "                 np.array([voxel.color[0] for voxel in voxels]))\n"
   ],
   "metadata": {
    "collapsed": false,
    "ExecuteTime": {
     "end_time": "2024-08-04T23:40:34.759960Z",
     "start_time": "2024-08-04T23:40:30.182913Z"
    }
   },
   "id": "947d5e70c4949e90"
  },
  {
   "cell_type": "code",
   "execution_count": 34,
   "outputs": [],
   "source": [
    "size = np.max(coords, axis=0) + 40\n",
    "grid = np.zeros(size)\n",
    "\n",
    "for index, coord in enumerate(coords):\n",
    "    grid[coord] = vals[index] "
   ],
   "metadata": {
    "collapsed": false,
    "ExecuteTime": {
     "end_time": "2024-08-04T23:45:49.697753Z",
     "start_time": "2024-08-04T23:41:58.179065Z"
    }
   },
   "id": "9110e9a6a48d3e9d"
  },
  {
   "cell_type": "code",
   "execution_count": 50,
   "outputs": [
    {
     "data": {
      "text/plain": "<Figure size 640x480 with 1 Axes>",
      "image/png": "[encoded data removed]"
     },
     "metadata": {},
     "output_type": "display_data"
    }
   ],
   "source": [
    "import matplotlib.pyplot as plt\n",
    "plt.imshow(grid[61,:,:], cmap=\"gray\")\n",
    "plt.show()"
   ],
   "metadata": {
    "collapsed": false,
    "ExecuteTime": {
     "end_time": "2024-08-04T23:47:23.847402Z",
     "start_time": "2024-08-04T23:47:23.787243Z"
    }
   },
   "id": "fec8435816548893"
  }
 ],
 "metadata": {
  "kernelspec": {
   "display_name": "Python 3",
   "language": "python",
   "name": "python3"
  },
  "language_info": {
   "codemirror_mode": {
    "name": "ipython",
    "version": 2
   },
   "file_extension": ".py",
   "mimetype": "text/x-python",
   "name": "python",
   "nbconvert_exporter": "python",
   "pygments_lexer": "ipython2",
   "version": "2.7.6"
  }
 },
 "nbformat": 4,
 "nbformat_minor": 5
}
