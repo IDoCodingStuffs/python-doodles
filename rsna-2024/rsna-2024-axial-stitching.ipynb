{
 "cells": [
  {
   "cell_type": "code",
   "execution_count": 48,
   "id": "initial_id",
   "metadata": {
    "collapsed": true,
    "ExecuteTime": {
     "end_time": "2024-08-04T22:23:23.369605Z",
     "start_time": "2024-08-04T22:23:23.366247Z"
    }
   },
   "outputs": [],
   "source": [
    "import pydicom\n",
    "import open3d as o3d\n",
    "import glob\n",
    "import numpy as np\n",
    "import copy"
   ]
  },
  {
   "cell_type": "code",
   "execution_count": 49,
   "outputs": [],
   "source": [
    "paths = glob.glob(\"../data/rsna-2024-lumbar-spine-degenerative-classification/train_images/4003253/2448190387/*.dcm\")"
   ],
   "metadata": {
    "collapsed": false,
    "ExecuteTime": {
     "end_time": "2024-08-04T22:23:23.599854Z",
     "start_time": "2024-08-04T22:23:23.594013Z"
    }
   },
   "id": "ae6ebd43999fe221"
  },
  {
   "cell_type": "code",
   "execution_count": 54,
   "outputs": [],
   "source": [
    "pcds = []\n",
    "\n",
    "for path in paths:\n",
    "    slice = pydicom.read_file(path)\n",
    "    img = np.expand_dims(slice.pixel_array, -1)\n",
    "    pcd = o3d.geometry.PointCloud()\n",
    "    x,y,z=np.where(img)\n",
    "    \n",
    "    index_voxel=np.vstack((x,y,z))\n",
    "    grid_index_array=index_voxel.T\n",
    "    pcd.points = o3d.utility.Vector3dVector(grid_index_array)\n",
    "    colors = np.array([img[x,y,z] / 256 for x,y,z in grid_index_array]) \n",
    "    colors_rgb = np.stack([colors, colors, colors], axis=1)\n",
    "    pcd.colors = o3d.utility.Vector3dVector(colors_rgb)\n",
    "    \n",
    "    d = slice.PixelSpacing\n",
    "\n",
    "    X = np.array(list(slice.ImageOrientationPatient[:3]) + [0]) * d[0]\n",
    "    Y = np.array(list(slice.ImageOrientationPatient[3:]) + [0]) * d[1]\n",
    "    S = np.array(list(slice.ImagePositionPatient) + [1])\n",
    "    \n",
    "    transform_matrix = np.array([X, Y, np.zeros(len(X)), S]).T\n",
    "    \n",
    "    transformed = pcd.transform(transform_matrix)\n",
    "    pcds.append(copy.deepcopy(transformed))"
   ],
   "metadata": {
    "collapsed": false,
    "ExecuteTime": {
     "end_time": "2024-08-04T22:25:41.453222Z",
     "start_time": "2024-08-04T22:25:33.477447Z"
    }
   },
   "id": "f6b9353c057d0aac"
  },
  {
   "cell_type": "code",
   "execution_count": 55,
   "outputs": [
    {
     "name": "stdout",
     "output_type": "stream",
     "text": [
      "\u001B[1;33m[Open3D WARNING] GLFW Error: Cocoa: Failed to find service port for display\u001B[0;m\n"
     ]
    }
   ],
   "source": [
    "o3d.visualization.draw_geometries(pcds)"
   ],
   "metadata": {
    "collapsed": false,
    "ExecuteTime": {
     "end_time": "2024-08-04T22:26:17.040527Z",
     "start_time": "2024-08-04T22:26:17.037927Z"
    }
   },
   "id": "373b4c336275b845"
  }
 ],
 "metadata": {
  "kernelspec": {
   "display_name": "Python 3",
   "language": "python",
   "name": "python3"
  },
  "language_info": {
   "codemirror_mode": {
    "name": "ipython",
    "version": 2
   },
   "file_extension": ".py",
   "mimetype": "text/x-python",
   "name": "python",
   "nbconvert_exporter": "python",
   "pygments_lexer": "ipython2",
   "version": "2.7.6"
  }
 },
 "nbformat": 4,
 "nbformat_minor": 5
}
