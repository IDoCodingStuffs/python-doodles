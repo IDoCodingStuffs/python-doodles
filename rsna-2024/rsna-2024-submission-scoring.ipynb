{
 "cells": [
  {
   "cell_type": "code",
   "execution_count": 162,
   "id": "7e96e1c4",
   "metadata": {
    "execution": {
     "iopub.execute_input": "2024-07-14T02:55:49.877779Z",
     "iopub.status.busy": "2024-07-14T02:55:49.877398Z",
     "iopub.status.idle": "2024-07-14T02:57:16.282649Z",
     "shell.execute_reply": "2024-07-14T02:57:16.281317Z"
    },
    "papermill": {
     "duration": 86.422197,
     "end_time": "2024-07-14T02:57:16.291266",
     "exception": false,
     "start_time": "2024-07-14T02:55:49.869069",
     "status": "completed"
    },
    "tags": [],
    "ExecuteTime": {
     "end_time": "2024-07-16T00:39:35.344190Z",
     "start_time": "2024-07-16T00:39:33.324409Z"
    }
   },
   "outputs": [
    {
     "name": "stdout",
     "output_type": "stream",
     "text": [
      "\r\n",
      "Usage:   \r\n",
      "  /opt/homebrew/Caskroom/miniconda/base/envs/pythonProject/bin/python -m pip install [options] <requirement specifier> [package-index-options] ...\r\n",
      "  /opt/homebrew/Caskroom/miniconda/base/envs/pythonProject/bin/python -m pip install [options] -r <requirements file> [package-index-options] ...\r\n",
      "  /opt/homebrew/Caskroom/miniconda/base/envs/pythonProject/bin/python -m pip install [options] [-e] <vcs project url> ...\r\n",
      "  /opt/homebrew/Caskroom/miniconda/base/envs/pythonProject/bin/python -m pip install [options] [-e] <local project path> ...\r\n",
      "  /opt/homebrew/Caskroom/miniconda/base/envs/pythonProject/bin/python -m pip install [options] <archive url/path> ...\r\n",
      "\r\n",
      "no such option: --quiet/kaggle/input/timm_3d_deps/other/initial/\r\n",
      "Note: you may need to restart the kernel to use updated packages.\n",
      "\u001B[31mERROR: Invalid requirement: '/kaggle/input/timm_3d_deps/other/initial/'\r\n",
      "Hint: It looks like a path. File '/kaggle/input/timm_3d_deps/other/initial/' does not exist.\u001B[0m\u001B[31m\r\n",
      "\u001B[0mNote: you may need to restart the kernel to use updated packages.\n",
      "\u001B[31mERROR: Invalid requirement: '/kaggle/input/timm_3d_deps/other/initial/'\r\n",
      "Hint: It looks like a path. File '/kaggle/input/timm_3d_deps/other/initial/' does not exist.\u001B[0m\u001B[31m\r\n",
      "\u001B[0mNote: you may need to restart the kernel to use updated packages.\n",
      "\u001B[31mERROR: Invalid requirement: '/kaggle/input/timm_3d_deps/other/initial/'\r\n",
      "Hint: It looks like a path. File '/kaggle/input/timm_3d_deps/other/initial/' does not exist.\u001B[0m\u001B[31m\r\n",
      "\u001B[0mNote: you may need to restart the kernel to use updated packages.\n"
     ]
    }
   ],
   "source": [
    "%pip install --quiet/kaggle/input/timm_3d_deps/other/initial/ 3 /pydicom/pydicom/pydicom-2.4.4-py3-none-any.whl\n",
    "%pip install timm_3d --no-index --quiet --find-links= /kaggle/input/timm_3d_deps/other/initial/ 3 /timm_3d/timm_3d/\n",
    "%pip install torchio --no-index --quiet --find-links= /kaggle/input/timm_3d_deps/other/initial/ 3 /torchio/torchio/\n",
    "%pip install itk --no-index --quiet --find-links= /kaggle/input/timm_3d_deps/other/initial/ 3 /itk/itk itk"
   ]
  },
  {
   "cell_type": "code",
   "execution_count": 163,
   "id": "a3422060",
   "metadata": {
    "execution": {
     "iopub.execute_input": "2024-07-14T02:57:16.308379Z",
     "iopub.status.busy": "2024-07-14T02:57:16.307406Z",
     "iopub.status.idle": "2024-07-14T02:57:16.312815Z",
     "shell.execute_reply": "2024-07-14T02:57:16.311818Z"
    },
    "papermill": {
     "duration": 0.016393,
     "end_time": "2024-07-14T02:57:16.315089",
     "exception": false,
     "start_time": "2024-07-14T02:57:16.298696",
     "status": "completed"
    },
    "tags": [],
    "ExecuteTime": {
     "end_time": "2024-07-16T00:39:35.349319Z",
     "start_time": "2024-07-16T00:39:35.348350Z"
    }
   },
   "outputs": [],
   "source": [
    "data_path = \"/kaggle/input/rsna-2024-lumbar-spine-degenerative-classification/\""
   ]
  },
  {
   "cell_type": "code",
   "execution_count": 164,
   "outputs": [
    {
     "name": "stderr",
     "output_type": "stream",
     "text": [
      "The behavior of DataFrame concatenation with empty or all-NA entries is deprecated. In a future version, this will no longer exclude empty or all-NA columns when determining the result dtypes. To retain the old behavior, exclude the relevant entries before the concat operation.\n"
     ]
    }
   ],
   "source": [
    "from rsna_dataloader import *\n",
    "import torchio as tio\n",
    "\n",
    "DATA_BASEPATH = \"../data/rsna-2024-lumbar-spine-degenerative-classification/\"\n",
    "TRAINING_DATA = retrieve_coordinate_training_data(DATA_BASEPATH)\n",
    "\n",
    "transform_3d_val = tio.Compose([\n",
    "    tio.Resize((128, 128, 128), image_interpolation=\"bspline\"),\n",
    "    tio.RescaleIntensity(out_min_max=(0, 1)),\n",
    "])\n",
    "\n",
    "(trainloader, valloader, test_loader,\n",
    " trainset, valset, testset) = create_subject_level_datasets_and_loaders(TRAINING_DATA,\n",
    "                                                                        transform_3d_train=transform_3d_val,\n",
    "                                                                        transform_3d_val=transform_3d_val,\n",
    "                                                                        base_path=os.path.join(\n",
    "                                                                            DATA_BASEPATH,\n",
    "                                                                            \"train_images\"),\n",
    "                                                                        num_workers=0,\n",
    "                                                                        split_factor=0.3,\n",
    "                                                                        batch_size=1,\n",
    "                                                                        )"
   ],
   "metadata": {
    "collapsed": false,
    "ExecuteTime": {
     "end_time": "2024-07-16T00:39:37.551580Z",
     "start_time": "2024-07-16T00:39:35.366440Z"
    }
   },
   "id": "e9ac9fb7e982b463"
  },
  {
   "cell_type": "code",
   "execution_count": 165,
   "outputs": [],
   "source": [
    "TEST_DATA = TRAINING_DATA[TRAINING_DATA[\"study_id\"].isin(testset.subjects[\"study_id\"].values)]"
   ],
   "metadata": {
    "collapsed": false,
    "ExecuteTime": {
     "end_time": "2024-07-16T00:39:37.576709Z",
     "start_time": "2024-07-16T00:39:37.554975Z"
    }
   },
   "id": "6697134fa029e912"
  },
  {
   "cell_type": "code",
   "execution_count": 166,
   "outputs": [
    {
     "data": {
      "text/plain": "                                                 row_id  normal_mild  \\\n1934              169651375_spinal_canal_stenosis_l2_l3            0   \n1947   169651375_right_neural_foraminal_narrowing_l5_s1            0   \n1951         169651375_left_subarticular_stenosis_l4_l5            0   \n1955        169651375_right_subarticular_stenosis_l3_l4            0   \n3263    283265383_left_neural_foraminal_narrowing_l4_l5            0   \n...                                                 ...          ...   \n48533       4279881930_left_subarticular_stenosis_l2_l3            0   \n48534       4279881930_left_subarticular_stenosis_l3_l4            0   \n48535       4279881930_left_subarticular_stenosis_l4_l5            0   \n48539      4279881930_right_subarticular_stenosis_l3_l4            0   \n48540      4279881930_right_subarticular_stenosis_l4_l5            0   \n\n       moderate  severe  sample_weight  \n1934          0       1              3  \n1947          0       1              3  \n1951          0       1              3  \n1955          0       1              3  \n3263          0       1              3  \n...         ...     ...            ...  \n48533         0       1              3  \n48534         0       1              3  \n48535         0       1              3  \n48539         0       1              3  \n48540         0       1              3  \n\n[197 rows x 5 columns]",
      "text/html": "<div>\n<style scoped>\n    .dataframe tbody tr th:only-of-type {\n        vertical-align: middle;\n    }\n\n    .dataframe tbody tr th {\n        vertical-align: top;\n    }\n\n    .dataframe thead th {\n        text-align: right;\n    }\n</style>\n<table border=\"1\" class=\"dataframe\">\n  <thead>\n    <tr style=\"text-align: right;\">\n      <th></th>\n      <th>row_id</th>\n      <th>normal_mild</th>\n      <th>moderate</th>\n      <th>severe</th>\n      <th>sample_weight</th>\n    </tr>\n  </thead>\n  <tbody>\n    <tr>\n      <th>1934</th>\n      <td>169651375_spinal_canal_stenosis_l2_l3</td>\n      <td>0</td>\n      <td>0</td>\n      <td>1</td>\n      <td>3</td>\n    </tr>\n    <tr>\n      <th>1947</th>\n      <td>169651375_right_neural_foraminal_narrowing_l5_s1</td>\n      <td>0</td>\n      <td>0</td>\n      <td>1</td>\n      <td>3</td>\n    </tr>\n    <tr>\n      <th>1951</th>\n      <td>169651375_left_subarticular_stenosis_l4_l5</td>\n      <td>0</td>\n      <td>0</td>\n      <td>1</td>\n      <td>3</td>\n    </tr>\n    <tr>\n      <th>1955</th>\n      <td>169651375_right_subarticular_stenosis_l3_l4</td>\n      <td>0</td>\n      <td>0</td>\n      <td>1</td>\n      <td>3</td>\n    </tr>\n    <tr>\n      <th>3263</th>\n      <td>283265383_left_neural_foraminal_narrowing_l4_l5</td>\n      <td>0</td>\n      <td>0</td>\n      <td>1</td>\n      <td>3</td>\n    </tr>\n    <tr>\n      <th>...</th>\n      <td>...</td>\n      <td>...</td>\n      <td>...</td>\n      <td>...</td>\n      <td>...</td>\n    </tr>\n    <tr>\n      <th>48533</th>\n      <td>4279881930_left_subarticular_stenosis_l2_l3</td>\n      <td>0</td>\n      <td>0</td>\n      <td>1</td>\n      <td>3</td>\n    </tr>\n    <tr>\n      <th>48534</th>\n      <td>4279881930_left_subarticular_stenosis_l3_l4</td>\n      <td>0</td>\n      <td>0</td>\n      <td>1</td>\n      <td>3</td>\n    </tr>\n    <tr>\n      <th>48535</th>\n      <td>4279881930_left_subarticular_stenosis_l4_l5</td>\n      <td>0</td>\n      <td>0</td>\n      <td>1</td>\n      <td>3</td>\n    </tr>\n    <tr>\n      <th>48539</th>\n      <td>4279881930_right_subarticular_stenosis_l3_l4</td>\n      <td>0</td>\n      <td>0</td>\n      <td>1</td>\n      <td>3</td>\n    </tr>\n    <tr>\n      <th>48540</th>\n      <td>4279881930_right_subarticular_stenosis_l4_l5</td>\n      <td>0</td>\n      <td>0</td>\n      <td>1</td>\n      <td>3</td>\n    </tr>\n  </tbody>\n</table>\n<p>197 rows × 5 columns</p>\n</div>"
     },
     "execution_count": 166,
     "metadata": {},
     "output_type": "execute_result"
    }
   ],
   "source": [
    "def convert_train_data_to_solution(train_df):\n",
    "    ret = train_df.loc[:,[\"row_id\", \"severity\"]]\n",
    "    ret[\"normal_mild\"] = 0\n",
    "    ret[\"moderate\"] = 0\n",
    "    ret[\"severe\"] = 0\n",
    "    ret[\"sample_weight\"] = 1\n",
    "    \n",
    "    for index, row in ret.iterrows():\n",
    "        ret.loc[index, row[\"severity\"]] = 1\n",
    "        if row[\"severity\"] == \"normal_mild\":\n",
    "            ret.loc[index, \"sample_weight\"] = 1\n",
    "        elif row[\"severity\"] == \"moderate\":\n",
    "            ret.loc[index, \"sample_weight\"] = 2\n",
    "        elif row[\"severity\"] == \"severe\":\n",
    "            ret.loc[index, \"sample_weight\"] = 3\n",
    "        else:\n",
    "            print(row[\"severity\"])\n",
    "\n",
    "            \n",
    "    return ret[[\"row_id\", \"normal_mild\", \"moderate\", \"severe\", \"sample_weight\"]]\n",
    "\n",
    "\n",
    "test_solution = convert_train_data_to_solution(TEST_DATA)\n",
    "test_solution[test_solution[\"severe\"] == 1]"
   ],
   "metadata": {
    "collapsed": false,
    "ExecuteTime": {
     "end_time": "2024-07-16T00:39:37.921893Z",
     "start_time": "2024-07-16T00:39:37.579555Z"
    }
   },
   "id": "651aedcf688b7e97"
  },
  {
   "cell_type": "code",
   "execution_count": 167,
   "id": "d266af16",
   "metadata": {
    "execution": {
     "iopub.execute_input": "2024-07-14T02:57:17.269612Z",
     "iopub.status.busy": "2024-07-14T02:57:17.268783Z",
     "iopub.status.idle": "2024-07-14T02:57:17.275718Z",
     "shell.execute_reply": "2024-07-14T02:57:17.274380Z"
    },
    "papermill": {
     "duration": 0.018323,
     "end_time": "2024-07-14T02:57:17.277995",
     "exception": false,
     "start_time": "2024-07-14T02:57:17.259672",
     "status": "completed"
    },
    "tags": [],
    "ExecuteTime": {
     "end_time": "2024-07-16T00:39:37.928034Z",
     "start_time": "2024-07-16T00:39:37.922518Z"
    }
   },
   "outputs": [],
   "source": [
    "import os\n",
    "\n",
    "\n",
    "def retrieve_image_paths(base_path, study_id, series_id):\n",
    "    series_dir = os.path.join(base_path, str(study_id), str(series_id))\n",
    "    images = os.listdir(series_dir)\n",
    "    image_paths = [os.path.join(series_dir, img) for img in images]\n",
    "    return image_paths"
   ]
  },
  {
   "cell_type": "code",
   "execution_count": 168,
   "id": "3e75c1ca",
   "metadata": {
    "execution": {
     "iopub.execute_input": "2024-07-14T02:57:17.294659Z",
     "iopub.status.busy": "2024-07-14T02:57:17.294223Z",
     "iopub.status.idle": "2024-07-14T02:57:24.345234Z",
     "shell.execute_reply": "2024-07-14T02:57:24.344172Z"
    },
    "papermill": {
     "duration": 7.06268,
     "end_time": "2024-07-14T02:57:24.348203",
     "exception": false,
     "start_time": "2024-07-14T02:57:17.285523",
     "status": "completed"
    },
    "tags": [],
    "ExecuteTime": {
     "end_time": "2024-07-16T00:39:37.937550Z",
     "start_time": "2024-07-16T00:39:37.931789Z"
    }
   },
   "outputs": [],
   "source": [
    "import numpy as np\n",
    "from torch.utils.data import Dataset, DataLoader\n",
    "import torchio as tio\n",
    "import albumentations\n",
    "import cv2\n",
    "import pydicom\n",
    "import itk\n",
    "\n",
    "CONDITIONS = {\n",
    "    \"Sagittal T2/STIR\": [\"Spinal Canal Stenosis\"],\n",
    "    \"Axial T2\": [\"Left Subarticular Stenosis\", \"Right Subarticular Stenosis\"],\n",
    "    \"Sagittal T1\": [\"Left Neural Foraminal Narrowing\", \"Right Neural Foraminal Narrowing\"],\n",
    "}\n",
    "\n",
    "\n",
    "def read_series_as_volume(dirName, verbose=False):\n",
    "    PixelType = itk.ctype(\"signed short\")\n",
    "    Dimension = 3\n",
    "\n",
    "    ImageType = itk.Image[PixelType, Dimension]\n",
    "\n",
    "    namesGenerator = itk.GDCMSeriesFileNames.New()\n",
    "    namesGenerator.SetUseSeriesDetails(True)\n",
    "    namesGenerator.AddSeriesRestriction(\"0008|0021\")\n",
    "    namesGenerator.SetGlobalWarningDisplay(False)\n",
    "    namesGenerator.SetDirectory(dirName)\n",
    "\n",
    "    seriesUID = namesGenerator.GetSeriesUIDs()\n",
    "\n",
    "    if verbose:\n",
    "        if len(seriesUID) < 1:\n",
    "            print(\"No DICOMs in: \" + dirName)\n",
    "\n",
    "        print(\"The directory: \" + dirName)\n",
    "        print(\"Contains the following DICOM Series: \")\n",
    "        for uid in seriesUID:\n",
    "            print(uid)\n",
    "\n",
    "    reader = None\n",
    "    dicomIO = None\n",
    "    for i in range(10):\n",
    "        for uid in seriesUID:\n",
    "            seriesIdentifier = uid\n",
    "            if verbose:\n",
    "                print(\"Reading: \" + seriesIdentifier)\n",
    "            fileNames = namesGenerator.GetFileNames(seriesIdentifier)\n",
    "\n",
    "            reader = itk.ImageSeriesReader[ImageType].New()\n",
    "            dicomIO = itk.GDCMImageIO.New()\n",
    "            reader.SetImageIO(dicomIO)\n",
    "            reader.SetFileNames(fileNames)\n",
    "            reader.ForceOrthogonalDirectionOff()\n",
    "        if reader is not None:\n",
    "            break\n",
    "\n",
    "    if reader is None or dicomIO is None:\n",
    "        raise FileNotFoundError(f\"Empty path? {os.path.abspath(dirName)}\")\n",
    "    reader.Update()\n",
    "    data = itk.GetArrayFromImage(reader.GetOutput())\n",
    "\n",
    "    del namesGenerator\n",
    "    del dicomIO\n",
    "    del reader\n",
    "\n",
    "    return data\n",
    "\n",
    "\n",
    "class PatientLevelTestset(Dataset):\n",
    "    def __init__(self,\n",
    "                 base_path: str,\n",
    "                 dataframe: pd.DataFrame,\n",
    "                 transform_3d=None):\n",
    "        self.base_path = base_path\n",
    "\n",
    "        self.dataframe = (dataframe[['study_id', \"series_id\", \"series_description\"]]\n",
    "                          .drop_duplicates())\n",
    "\n",
    "        self.subjects = self.dataframe[['study_id']].drop_duplicates().reset_index(drop=True)\n",
    "\n",
    "        self.transform_3d = transform_3d\n",
    "\n",
    "    def __len__(self):\n",
    "        return len(self.subjects)\n",
    "\n",
    "    def __getitem__(self, index):\n",
    "        curr = self.subjects.iloc[index]\n",
    "        images_basepath = os.path.join(self.base_path, str(curr[\"study_id\"]))\n",
    "        images = []\n",
    "\n",
    "        for series_desc in CONDITIONS.keys():\n",
    "            # !TODO: Multiple matching series\n",
    "            series = self.dataframe.loc[\n",
    "                (self.dataframe[\"study_id\"] == curr[\"study_id\"]) &\n",
    "                (self.dataframe[\"series_description\"] == series_desc)].sort_values(\"series_id\")['series_id'].iloc[0]\n",
    "\n",
    "            series_path = os.path.join(images_basepath, str(series))\n",
    "            series_images = read_series_as_volume(series_path)\n",
    "\n",
    "            if self.transform_3d is not None:\n",
    "                series_images = self.transform_3d(np.expand_dims(series_images, 0))  #.data\n",
    "\n",
    "            images.append(torch.Tensor(series_images).squeeze(0))\n",
    "\n",
    "        return torch.stack(images), curr[\"study_id\"]"
   ]
  },
  {
   "cell_type": "code",
   "execution_count": 169,
   "id": "b6d4e1e2",
   "metadata": {
    "execution": {
     "iopub.execute_input": "2024-07-14T02:57:24.364879Z",
     "iopub.status.busy": "2024-07-14T02:57:24.364274Z",
     "iopub.status.idle": "2024-07-14T02:57:24.370349Z",
     "shell.execute_reply": "2024-07-14T02:57:24.369321Z"
    },
    "papermill": {
     "duration": 0.017043,
     "end_time": "2024-07-14T02:57:24.372857",
     "exception": false,
     "start_time": "2024-07-14T02:57:24.355814",
     "status": "completed"
    },
    "tags": [],
    "ExecuteTime": {
     "end_time": "2024-07-16T00:39:37.937736Z",
     "start_time": "2024-07-16T00:39:37.934873Z"
    }
   },
   "outputs": [],
   "source": [
    "transform_3d = tio.Compose([\n",
    "    tio.Resize((128, 128, 128), image_interpolation=\"bspline\"),\n",
    "    tio.RescaleIntensity(out_min_max=(0, 1)),\n",
    "])\n"
   ]
  },
  {
   "cell_type": "code",
   "execution_count": 170,
   "id": "c1ab6084",
   "metadata": {
    "execution": {
     "iopub.execute_input": "2024-07-14T02:57:24.389957Z",
     "iopub.status.busy": "2024-07-14T02:57:24.388948Z",
     "iopub.status.idle": "2024-07-14T02:57:24.395679Z",
     "shell.execute_reply": "2024-07-14T02:57:24.394617Z"
    },
    "papermill": {
     "duration": 0.01775,
     "end_time": "2024-07-14T02:57:24.398158",
     "exception": false,
     "start_time": "2024-07-14T02:57:24.380408",
     "status": "completed"
    },
    "tags": [],
    "ExecuteTime": {
     "end_time": "2024-07-16T00:39:37.940314Z",
     "start_time": "2024-07-16T00:39:37.937980Z"
    }
   },
   "outputs": [],
   "source": [
    "def create_subject_level_testset_and_loader(df: pd.DataFrame,\n",
    "                                            transform_3d,\n",
    "                                            base_path: str,\n",
    "                                            batch_size=1,\n",
    "                                            num_workers=0):\n",
    "    testset = PatientLevelTestset(base_path, df, transform_3d=transform_3d)\n",
    "    test_loader = DataLoader(testset, batch_size=batch_size, shuffle=False, num_workers=num_workers)\n",
    "\n",
    "    return testset, test_loader"
   ]
  },
  {
   "cell_type": "code",
   "execution_count": 171,
   "id": "537b93b1",
   "metadata": {
    "execution": {
     "iopub.execute_input": "2024-07-14T02:57:24.414785Z",
     "iopub.status.busy": "2024-07-14T02:57:24.414339Z",
     "iopub.status.idle": "2024-07-14T02:57:24.434238Z",
     "shell.execute_reply": "2024-07-14T02:57:24.433003Z"
    },
    "papermill": {
     "duration": 0.031391,
     "end_time": "2024-07-14T02:57:24.437093",
     "exception": false,
     "start_time": "2024-07-14T02:57:24.405702",
     "status": "completed"
    },
    "tags": [],
    "ExecuteTime": {
     "end_time": "2024-07-16T00:39:37.964504Z",
     "start_time": "2024-07-16T00:39:37.941513Z"
    }
   },
   "outputs": [],
   "source": [
    "import os\n",
    "\n",
    "dataset, dataloader = create_subject_level_testset_and_loader(TEST_DATA, transform_3d,\n",
    "                                                              os.path.join(DATA_BASEPATH, \"train_images\"))"
   ]
  },
  {
   "cell_type": "code",
   "execution_count": 172,
   "id": "86b235b6",
   "metadata": {
    "execution": {
     "iopub.execute_input": "2024-07-14T02:57:24.454261Z",
     "iopub.status.busy": "2024-07-14T02:57:24.453596Z",
     "iopub.status.idle": "2024-07-14T02:57:24.521674Z",
     "shell.execute_reply": "2024-07-14T02:57:24.520545Z"
    },
    "papermill": {
     "duration": 0.07944,
     "end_time": "2024-07-14T02:57:24.524068",
     "exception": false,
     "start_time": "2024-07-14T02:57:24.444628",
     "status": "completed"
    },
    "tags": [],
    "ExecuteTime": {
     "end_time": "2024-07-16T00:39:37.991647Z",
     "start_time": "2024-07-16T00:39:37.950395Z"
    }
   },
   "outputs": [],
   "source": [
    "import torch\n",
    "\n",
    "device = torch.device(\"cuda\") if torch.cuda.is_available() else \"cpu\""
   ]
  },
  {
   "cell_type": "code",
   "execution_count": 173,
   "id": "a5a4217d",
   "metadata": {
    "execution": {
     "iopub.execute_input": "2024-07-14T02:57:24.541361Z",
     "iopub.status.busy": "2024-07-14T02:57:24.540336Z",
     "iopub.status.idle": "2024-07-14T02:57:27.765557Z",
     "shell.execute_reply": "2024-07-14T02:57:27.764607Z"
    },
    "papermill": {
     "duration": 3.236629,
     "end_time": "2024-07-14T02:57:27.768268",
     "exception": false,
     "start_time": "2024-07-14T02:57:24.531639",
     "status": "completed"
    },
    "tags": [],
    "ExecuteTime": {
     "end_time": "2024-07-16T00:39:37.996605Z",
     "start_time": "2024-07-16T00:39:37.955028Z"
    }
   },
   "outputs": [],
   "source": [
    "import torch.nn as nn\n",
    "import timm_3d\n",
    "\n",
    "\n",
    "class CNN_Model_3D(nn.Module):\n",
    "    def __init__(self, backbone=\"efficientnet_lite0\", in_chans=3, out_classes=75, pretrained=True):\n",
    "        super(CNN_Model_3D, self).__init__()\n",
    "        self.out_classes = out_classes\n",
    "\n",
    "        self.encoder = timm_3d.create_model(\n",
    "            backbone,\n",
    "            num_classes=out_classes,\n",
    "            features_only=False,\n",
    "            drop_rate=0,\n",
    "            drop_path_rate=0,\n",
    "            pretrained=pretrained,\n",
    "            in_chans=in_chans,\n",
    "        ).to(device)\n",
    "\n",
    "    def forward(self, x):\n",
    "        # return self.encoder(x).reshape((-1, self.out_classes, 3))\n",
    "        return self.encoder(x)\n"
   ]
  },
  {
   "cell_type": "code",
   "execution_count": 174,
   "id": "003ebb15",
   "metadata": {
    "execution": {
     "iopub.execute_input": "2024-07-14T02:57:27.786070Z",
     "iopub.status.busy": "2024-07-14T02:57:27.785649Z",
     "iopub.status.idle": "2024-07-14T02:57:29.097389Z",
     "shell.execute_reply": "2024-07-14T02:57:29.096228Z"
    },
    "papermill": {
     "duration": 1.324165,
     "end_time": "2024-07-14T02:57:29.099979",
     "exception": false,
     "start_time": "2024-07-14T02:57:27.775814",
     "status": "completed"
    },
    "tags": [],
    "ExecuteTime": {
     "end_time": "2024-07-16T00:39:38.048264Z",
     "start_time": "2024-07-16T00:39:37.958556Z"
    }
   },
   "outputs": [],
   "source": [
    "model = torch.load(\n",
    "    \"/Users/victorsahin/Downloads/efficientnet_b4_128_3d_comp_oversampling_7.pt\", map_location=torch.device('cpu')).to(\n",
    "    device)"
   ]
  },
  {
   "cell_type": "code",
   "execution_count": 175,
   "id": "17ac90c4",
   "metadata": {
    "execution": {
     "iopub.execute_input": "2024-07-14T02:57:29.117449Z",
     "iopub.status.busy": "2024-07-14T02:57:29.116463Z",
     "iopub.status.idle": "2024-07-14T02:57:29.126507Z",
     "shell.execute_reply": "2024-07-14T02:57:29.125528Z"
    },
    "papermill": {
     "duration": 0.021371,
     "end_time": "2024-07-14T02:57:29.128991",
     "exception": false,
     "start_time": "2024-07-14T02:57:29.107620",
     "status": "completed"
    },
    "tags": [],
    "ExecuteTime": {
     "end_time": "2024-07-16T00:39:38.059146Z",
     "start_time": "2024-07-16T00:39:38.053894Z"
    }
   },
   "outputs": [
    {
     "data": {
      "text/plain": "['left_neural_foraminal_narrowing',\n 'left_subarticular_stenosis',\n 'right_neural_foraminal_narrowing',\n 'right_subarticular_stenosis',\n 'spinal_canal_stenosis']"
     },
     "execution_count": 175,
     "metadata": {},
     "output_type": "execute_result"
    }
   ],
   "source": [
    "CONDITIONS = {\n",
    "    \"Sagittal T2/STIR\": [\"spinal_canal_stenosis\"],\n",
    "    \"Axial T2\": [\"left_subarticular_stenosis\", \"right_subarticular_stenosis\"],\n",
    "    \"Sagittal T1\": [\"left_neural_foraminal_narrowing\", \"right_neural_foraminal_narrowing\"],\n",
    "}\n",
    "\n",
    "ALL_CONDITIONS = sorted([\"spinal_canal_stenosis\", \"left_subarticular_stenosis\", \"right_subarticular_stenosis\",\n",
    "                         \"left_neural_foraminal_narrowing\", \"right_neural_foraminal_narrowing\"])\n",
    "LEVELS = [\"l1_l2\", \"l2_l3\", \"l3_l4\", \"l4_l5\", \"l5_s1\"]\n",
    "\n",
    "results_df = pd.DataFrame({\"row_id\": [], \"normal_mild\": [], \"moderate\": [], \"severe\": []})\n",
    "\n",
    "ALL_CONDITIONS"
   ]
  },
  {
   "cell_type": "code",
   "execution_count": 176,
   "id": "81c45b3f",
   "metadata": {
    "execution": {
     "iopub.execute_input": "2024-07-14T02:57:29.146436Z",
     "iopub.status.busy": "2024-07-14T02:57:29.145366Z",
     "iopub.status.idle": "2024-07-14T02:57:29.183168Z",
     "shell.execute_reply": "2024-07-14T02:57:29.182040Z"
    },
    "papermill": {
     "duration": 0.049311,
     "end_time": "2024-07-14T02:57:29.185912",
     "exception": false,
     "start_time": "2024-07-14T02:57:29.136601",
     "status": "completed"
    },
    "tags": [],
    "ExecuteTime": {
     "end_time": "2024-07-16T00:40:14.035490Z",
     "start_time": "2024-07-16T00:39:38.063068Z"
    }
   },
   "outputs": [],
   "source": [
    "# Pre-populate results df\n",
    "import glob\n",
    "import os\n",
    "\n",
    "study_ids = TEST_DATA[\"study_id\"].values\n",
    "# study_ids = glob.glob(\"/kaggle/input/rsna-2024-lumbar-spine-degenerative-classification/test_images/*\")\n",
    "# study_ids = [os.path.basename(e) for e in study_ids]\n",
    "\n",
    "results_df = pd.DataFrame({\"row_id\": [], \"normal_mild\": [], \"moderate\": [], \"severe\": []})\n",
    "for study_id in study_ids:\n",
    "    for condition in ALL_CONDITIONS:\n",
    "        for level in LEVELS:\n",
    "            row_id = f\"{study_id}_{condition}_{level}\"\n",
    "            results_df = results_df._append(\n",
    "                {\"row_id\": row_id, \"normal_mild\": 1 / 3, \"moderate\": 1 / 3, \"severe\": 1 / 3}, ignore_index=True)"
   ]
  },
  {
   "cell_type": "code",
   "execution_count": 177,
   "outputs": [],
   "source": [
    "import numpy as np\n",
    "import pandas as pd\n",
    "import pandas.api.types\n",
    "import sklearn.metrics\n",
    "\n",
    "\n",
    "class ParticipantVisibleError(Exception):\n",
    "    pass\n",
    "\n",
    "\n",
    "def get_condition(full_location: str) -> str:\n",
    "    # Given an input like spinal_canal_stenosis_l1_l2 extracts 'spinal'\n",
    "    for injury_condition in ['spinal', 'foraminal', 'subarticular']:\n",
    "        if injury_condition in full_location:\n",
    "            return injury_condition\n",
    "    raise ValueError(f'condition not found in {full_location}')\n",
    "\n",
    "\n",
    "def score(\n",
    "        solution: pd.DataFrame,\n",
    "        submission: pd.DataFrame,\n",
    "        row_id_column_name: str,\n",
    "        any_severe_scalar: float\n",
    "    ) -> float:\n",
    "    '''\n",
    "    Pseudocode:\n",
    "    1. Calculate the sample weighted log loss for each medical condition:\n",
    "    2. Derive a new any_severe label.\n",
    "    3. Calculate the sample weighted log loss for the new any_severe label.\n",
    "    4. Return the average of all of the label group log losses as the final score, normalized for the number of columns in each group.\n",
    "       This mitigates the impact of spinal stenosis having only half as many columns as the other two conditions.\n",
    "    '''\n",
    "\n",
    "    target_levels = ['normal_mild', 'moderate', 'severe']\n",
    "\n",
    "    # Run basic QC checks on the inputs\n",
    "    if not pandas.api.types.is_numeric_dtype(submission[target_levels].values):\n",
    "        raise ParticipantVisibleError('All submission values must be numeric')\n",
    "\n",
    "    if not np.isfinite(submission[target_levels].values).all():\n",
    "        raise ParticipantVisibleError('All submission values must be finite')\n",
    "\n",
    "    if solution[target_levels].min().min() < 0:\n",
    "        raise ParticipantVisibleError('All labels must be at least zero')\n",
    "    if submission[target_levels].min().min() < 0:\n",
    "        raise ParticipantVisibleError('All predictions must be at least zero')\n",
    "\n",
    "    solution['study_id'] = solution['row_id'].apply(lambda x: x.split('_')[0])\n",
    "    solution['location'] = solution['row_id'].apply(lambda x: '_'.join(x.split('_')[1:]))\n",
    "    solution['condition'] = solution['row_id'].apply(get_condition)\n",
    "\n",
    "    # del solution[row_id_column_name]\n",
    "    # del submission[row_id_column_name]\n",
    "    # assert sorted(submission.columns) == sorted(target_levels)\n",
    "    \n",
    "    submission = submission.sort_values(by=\"row_id\")\n",
    "    solution = solution.sort_values(by=\"row_id\")\n",
    "\n",
    "    submission['study_id'] = solution['study_id']\n",
    "    submission['location'] = solution['location']\n",
    "    submission['condition'] = solution['condition']\n",
    "\n",
    "    condition_losses = []\n",
    "    condition_weights = []\n",
    "    for condition in ['spinal', 'foraminal', 'subarticular']:\n",
    "        condition_indices = solution.loc[solution['condition'] == condition].index.values\n",
    "        condition_loss = sklearn.metrics.log_loss(\n",
    "            y_true=solution.loc[condition_indices, target_levels].values,\n",
    "            y_pred=submission.loc[condition_indices, target_levels].values,\n",
    "            sample_weight=solution.loc[condition_indices, 'sample_weight'].values\n",
    "        )\n",
    "        condition_losses.append(condition_loss)\n",
    "        condition_weights.append(1)\n",
    "\n",
    "    any_severe_spinal_labels = pd.Series(solution.loc[solution['condition'] == 'spinal'].groupby('study_id')['severe'].max())\n",
    "    any_severe_spinal_weights = pd.Series(solution.loc[solution['condition'] == 'spinal'].groupby('study_id')['sample_weight'].max())\n",
    "    any_severe_spinal_predictions = pd.Series(submission.loc[submission['condition'] == 'spinal'].groupby('study_id')['severe'].max())\n",
    "    any_severe_spinal_loss = sklearn.metrics.log_loss(\n",
    "        y_true=any_severe_spinal_labels,\n",
    "        y_pred=any_severe_spinal_predictions,\n",
    "        sample_weight=any_severe_spinal_weights\n",
    "    )\n",
    "    condition_losses.append(any_severe_spinal_loss)\n",
    "    condition_weights.append(any_severe_scalar)\n",
    "    return np.average(condition_losses, weights=condition_weights)"
   ],
   "metadata": {
    "collapsed": false,
    "ExecuteTime": {
     "end_time": "2024-07-16T00:40:14.042056Z",
     "start_time": "2024-07-16T00:40:14.035593Z"
    }
   },
   "id": "accd6fa2b74decad"
  },
  {
   "cell_type": "code",
   "execution_count": 178,
   "outputs": [
    {
     "data": {
      "text/plain": "0.9770528950624475"
     },
     "execution_count": 178,
     "metadata": {},
     "output_type": "execute_result"
    }
   ],
   "source": [
    "results_df = results_df.drop_duplicates(subset=[\"row_id\"]).reset_index(drop=True)\n",
    "test_solution = test_solution.drop_duplicates(subset=[\"row_id\"]).reset_index(drop=True)\n",
    "\n",
    "score(test_solution, results_df, \"row_id\", 1.0)"
   ],
   "metadata": {
    "collapsed": false,
    "ExecuteTime": {
     "end_time": "2024-07-16T00:40:14.074103Z",
     "start_time": "2024-07-16T00:40:14.049877Z"
    }
   },
   "id": "8e805bf4901d740c"
  },
  {
   "cell_type": "code",
   "execution_count": 179,
   "outputs": [],
   "source": [
    "softmax = nn.Softmax(dim=2)"
   ],
   "metadata": {
    "collapsed": false,
    "ExecuteTime": {
     "end_time": "2024-07-16T00:40:14.079457Z",
     "start_time": "2024-07-16T00:40:14.075369Z"
    }
   },
   "id": "5f599cdd"
  },
  {
   "cell_type": "code",
   "execution_count": 180,
   "outputs": [
    {
     "data": {
      "text/plain": "                                               row_id  normal_mild  moderate  \\\n0     107698245_left_neural_foraminal_narrowing_l1_l2     0.333333  0.333333   \n1     107698245_left_neural_foraminal_narrowing_l2_l3     0.333333  0.333333   \n2     107698245_left_neural_foraminal_narrowing_l3_l4     0.333333  0.333333   \n3     107698245_left_neural_foraminal_narrowing_l4_l5     0.333333  0.333333   \n4     107698245_left_neural_foraminal_narrowing_l5_s1     0.333333  0.333333   \n...                                               ...          ...       ...   \n3345           4279881930_spinal_canal_stenosis_l1_l2     0.333333  0.333333   \n3346           4279881930_spinal_canal_stenosis_l2_l3     0.333333  0.333333   \n3347           4279881930_spinal_canal_stenosis_l3_l4     0.333333  0.333333   \n3348           4279881930_spinal_canal_stenosis_l4_l5     0.333333  0.333333   \n3349           4279881930_spinal_canal_stenosis_l5_s1     0.333333  0.333333   \n\n        severe  \n0     0.333333  \n1     0.333333  \n2     0.333333  \n3     0.333333  \n4     0.333333  \n...        ...  \n3345  0.333333  \n3346  0.333333  \n3347  0.333333  \n3348  0.333333  \n3349  0.333333  \n\n[3350 rows x 4 columns]",
      "text/html": "<div>\n<style scoped>\n    .dataframe tbody tr th:only-of-type {\n        vertical-align: middle;\n    }\n\n    .dataframe tbody tr th {\n        vertical-align: top;\n    }\n\n    .dataframe thead th {\n        text-align: right;\n    }\n</style>\n<table border=\"1\" class=\"dataframe\">\n  <thead>\n    <tr style=\"text-align: right;\">\n      <th></th>\n      <th>row_id</th>\n      <th>normal_mild</th>\n      <th>moderate</th>\n      <th>severe</th>\n    </tr>\n  </thead>\n  <tbody>\n    <tr>\n      <th>0</th>\n      <td>107698245_left_neural_foraminal_narrowing_l1_l2</td>\n      <td>0.333333</td>\n      <td>0.333333</td>\n      <td>0.333333</td>\n    </tr>\n    <tr>\n      <th>1</th>\n      <td>107698245_left_neural_foraminal_narrowing_l2_l3</td>\n      <td>0.333333</td>\n      <td>0.333333</td>\n      <td>0.333333</td>\n    </tr>\n    <tr>\n      <th>2</th>\n      <td>107698245_left_neural_foraminal_narrowing_l3_l4</td>\n      <td>0.333333</td>\n      <td>0.333333</td>\n      <td>0.333333</td>\n    </tr>\n    <tr>\n      <th>3</th>\n      <td>107698245_left_neural_foraminal_narrowing_l4_l5</td>\n      <td>0.333333</td>\n      <td>0.333333</td>\n      <td>0.333333</td>\n    </tr>\n    <tr>\n      <th>4</th>\n      <td>107698245_left_neural_foraminal_narrowing_l5_s1</td>\n      <td>0.333333</td>\n      <td>0.333333</td>\n      <td>0.333333</td>\n    </tr>\n    <tr>\n      <th>...</th>\n      <td>...</td>\n      <td>...</td>\n      <td>...</td>\n      <td>...</td>\n    </tr>\n    <tr>\n      <th>3345</th>\n      <td>4279881930_spinal_canal_stenosis_l1_l2</td>\n      <td>0.333333</td>\n      <td>0.333333</td>\n      <td>0.333333</td>\n    </tr>\n    <tr>\n      <th>3346</th>\n      <td>4279881930_spinal_canal_stenosis_l2_l3</td>\n      <td>0.333333</td>\n      <td>0.333333</td>\n      <td>0.333333</td>\n    </tr>\n    <tr>\n      <th>3347</th>\n      <td>4279881930_spinal_canal_stenosis_l3_l4</td>\n      <td>0.333333</td>\n      <td>0.333333</td>\n      <td>0.333333</td>\n    </tr>\n    <tr>\n      <th>3348</th>\n      <td>4279881930_spinal_canal_stenosis_l4_l5</td>\n      <td>0.333333</td>\n      <td>0.333333</td>\n      <td>0.333333</td>\n    </tr>\n    <tr>\n      <th>3349</th>\n      <td>4279881930_spinal_canal_stenosis_l5_s1</td>\n      <td>0.333333</td>\n      <td>0.333333</td>\n      <td>0.333333</td>\n    </tr>\n  </tbody>\n</table>\n<p>3350 rows × 4 columns</p>\n</div>"
     },
     "execution_count": 180,
     "metadata": {},
     "output_type": "execute_result"
    }
   ],
   "source": [
    "results_df"
   ],
   "metadata": {
    "collapsed": false,
    "ExecuteTime": {
     "end_time": "2024-07-16T00:40:14.083462Z",
     "start_time": "2024-07-16T00:40:14.078154Z"
    }
   },
   "id": "17a1216e"
  },
  {
   "cell_type": "code",
   "execution_count": 181,
   "outputs": [
    {
     "name": "stderr",
     "output_type": "stream",
     "text": [
      "134it [06:05,  2.73s/it]\n"
     ]
    }
   ],
   "source": [
    "from tqdm import tqdm\n",
    "\n",
    "with torch.no_grad():\n",
    "    model.eval()\n",
    "\n",
    "    for item_index, item in tqdm(enumerate(testset)):\n",
    "        images, _  = item\n",
    "        output = model(images.unsqueeze(0).to(device))\n",
    "        output = output.reshape((-1, 25, 3))\n",
    "        output = softmax(output)\n",
    "        output = output.detach().cpu().numpy()[0]\n",
    "        study_id = testset.subjects[\"study_id\"].values[item_index]\n",
    "        for index, level in enumerate(output):\n",
    "            row_id = f\"{str(study_id)}_{ALL_CONDITIONS[index // 5]}_{LEVELS[index % 5]}\"\n",
    "            results_df.loc[results_df.row_id == row_id, 'normal_mild'] = level[0]\n",
    "            results_df.loc[results_df.row_id == row_id, 'moderate'] = level[1]\n",
    "            results_df.loc[results_df.row_id == row_id, 'severe'] = level[2]"
   ],
   "metadata": {
    "collapsed": false,
    "ExecuteTime": {
     "end_time": "2024-07-16T00:46:19.832484Z",
     "start_time": "2024-07-16T00:40:14.083360Z"
    }
   },
   "id": "b86c78e3"
  },
  {
   "cell_type": "code",
   "execution_count": 182,
   "outputs": [
    {
     "name": "stderr",
     "output_type": "stream",
     "text": [
      "The y_pred values do not sum to one. Make sure to pass probabilities.\n",
      "The y_pred values do not sum to one. Make sure to pass probabilities.\n",
      "The y_pred values do not sum to one. Make sure to pass probabilities.\n"
     ]
    },
    {
     "data": {
      "text/plain": "8.388581940809484"
     },
     "execution_count": 182,
     "metadata": {},
     "output_type": "execute_result"
    }
   ],
   "source": [
    "score(test_solution, results_df, \"row_id\", 1.0)"
   ],
   "metadata": {
    "collapsed": false,
    "ExecuteTime": {
     "end_time": "2024-07-16T00:46:19.851342Z",
     "start_time": "2024-07-16T00:46:19.832156Z"
    }
   },
   "id": "74c7a95873fb5260"
  },
  {
   "cell_type": "code",
   "execution_count": 185,
   "outputs": [
    {
     "name": "stderr",
     "output_type": "stream",
     "text": [
      "134it [06:07,  2.74s/it]\n"
     ]
    }
   ],
   "source": [
    "with torch.no_grad():\n",
    "    model.eval()\n",
    "\n",
    "    for item_index, item in tqdm(enumerate(testset)):\n",
    "        images, _ = item\n",
    "        output = model(images.unsqueeze(0).to(device))\n",
    "        output = output.reshape((-1, 25, 3))\n",
    "        output = softmax(output * (1 / np.array([1, 2, 4])))\n",
    "        output = output.detach().cpu().numpy()[0]\n",
    "        study_id = testset.subjects[\"study_id\"].values[item_index]\n",
    "        for index, level in enumerate(output):\n",
    "            row_id = f\"{str(study_id)}_{ALL_CONDITIONS[index // 5]}_{LEVELS[index % 5]}\"\n",
    "            results_df.loc[results_df.row_id == row_id, 'normal_mild'] = level[0]\n",
    "            results_df.loc[results_df.row_id == row_id, 'moderate'] = level[1]\n",
    "            results_df.loc[results_df.row_id == row_id, 'severe'] = level[2]\n"
   ],
   "metadata": {
    "collapsed": false,
    "ExecuteTime": {
     "end_time": "2024-07-16T00:57:14.932611Z",
     "start_time": "2024-07-16T00:51:07.651354Z"
    }
   },
   "id": "39e1ac40"
  },
  {
   "cell_type": "code",
   "execution_count": 186,
   "outputs": [
    {
     "data": {
      "text/plain": "7.846171254651535"
     },
     "execution_count": 186,
     "metadata": {},
     "output_type": "execute_result"
    }
   ],
   "source": [
    "score(test_solution, results_df, \"row_id\", 1.0)"
   ],
   "metadata": {
    "collapsed": false,
    "ExecuteTime": {
     "end_time": "2024-07-16T00:57:21.805588Z",
     "start_time": "2024-07-16T00:57:21.779227Z"
    }
   },
   "id": "b45795bedcec3278"
  },
  {
   "cell_type": "code",
   "execution_count": null,
   "outputs": [],
   "source": [],
   "metadata": {
    "collapsed": false
   },
   "id": "8e969ebb960f01a4"
  }
 ],
 "metadata": {
  "kaggle": {
   "accelerator": "gpu",
   "dataSources": [
    {
     "databundleVersionId": 8561470,
     "sourceId": 71549,
     "sourceType": "competition"
    },
    {
     "modelInstanceId": 64271,
     "sourceId": 77199,
     "sourceType": "modelInstanceVersion"
    },
    {
     "modelInstanceId": 64905,
     "sourceId": 77213,
     "sourceType": "modelInstanceVersion"
    }
   ],
   "isGpuEnabled": true,
   "isInternetEnabled": false,
   "language": "python",
   "sourceType": "notebook"
  },
  "kernelspec": {
   "display_name": "Python 3",
   "language": "python",
   "name": "python3"
  },
  "language_info": {
   "codemirror_mode": {
    "name": "ipython",
    "version": 3
   },
   "file_extension": ".py",
   "mimetype": "text/x-python",
   "name": "python",
   "nbconvert_exporter": "python",
   "pygments_lexer": "ipython3",
   "version": "3.10.13"
  },
  "papermill": {
   "default_parameters": {},
   "duration": 125.382344,
   "end_time": "2024-07-14T02:57:52.077559",
   "environment_variables": {},
   "exception": null,
   "input_path": "__notebook__.ipynb",
   "output_path": "__notebook__.ipynb",
   "parameters": {},
   "start_time": "2024-07-14T02:55:46.695215",
   "version": "2.5.0"
  }
 },
 "nbformat": 4,
 "nbformat_minor": 5
}
