{
 "metadata": {
  "kernelspec": {
   "language": "python",
   "display_name": "Python 3",
   "name": "python3"
  },
  "language_info": {
   "name": "python",
   "version": "3.10.13",
   "mimetype": "text/x-python",
   "codemirror_mode": {
    "name": "ipython",
    "version": 3
   },
   "pygments_lexer": "ipython3",
   "nbconvert_exporter": "python",
   "file_extension": ".py"
  },
  "kaggle": {
   "accelerator": "gpu",
   "dataSources": [
    {
     "sourceId": 71549,
     "databundleVersionId": 8561470,
     "sourceType": "competition"
    },
    {
     "sourceId": 4958,
     "sourceType": "datasetVersion",
     "datasetId": 2847
    }
   ],
   "dockerImageVersionId": 30733,
   "isInternetEnabled": false,
   "language": "python",
   "sourceType": "notebook",
   "isGpuEnabled": true
  }
 },
 "nbformat_minor": 4,
 "nbformat": 4,
 "cells": [
  {
   "cell_type": "markdown",
   "source": [
    "# RSNA 2024 Lumbar Spine Degenerative Classification"
   ],
   "metadata": {}
  },
  {
   "cell_type": "markdown",
   "source": [
    "## Starter Notebook for Pytorch and Deep learning techniques\n",
    "\n",
    "Using ResNET"
   ],
   "metadata": {}
  },
  {
   "cell_type": "markdown",
   "source": [
    "What does this notebook contains?\n",
    "\n",
    "* Data organized in an understandable and easy to use way\n",
    "* A pretrained ResNET for inference\n",
    "\n",
    "I have tried creating a notebook where you can just plug your deep learning models and everything else is sorted. "
   ],
   "metadata": {}
  },
  {
   "cell_type": "code",
   "source": [
    "import numpy as np\n",
    "import pandas as pd"
   ],
   "metadata": {
    "execution": {
     "iopub.status.busy": "2024-06-06T13:03:46.909305Z",
     "iopub.execute_input": "2024-06-06T13:03:46.909943Z",
     "iopub.status.idle": "2024-06-06T13:03:52.461859Z",
     "shell.execute_reply.started": "2024-06-06T13:03:46.90991Z",
     "shell.execute_reply": "2024-06-06T13:03:52.461038Z"
    },
    "trusted": true,
    "ExecuteTime": {
     "end_time": "2024-06-17T03:03:16.020474Z",
     "start_time": "2024-06-17T03:03:15.388024Z"
    }
   },
   "outputs": [],
   "execution_count": 1
  },
  {
   "cell_type": "code",
   "source": [
    "# read data\n",
    "#train_path = '/kaggle/input/rsna-2024-lumbar-spine-degenerative-classification/'\n",
    "train_path = '../data/rsna-2024-lumbar-spine-degenerative-classification/'\n",
    "\n",
    "train  = pd.read_csv(train_path + 'train.csv')\n",
    "label = pd.read_csv(train_path + 'train_label_coordinates.csv')\n",
    "train_desc  = pd.read_csv(train_path + 'train_series_descriptions.csv')\n",
    "test_desc   = pd.read_csv(train_path + 'test_series_descriptions.csv')\n",
    "sub         = pd.read_csv(train_path + 'sample_submission.csv')"
   ],
   "metadata": {
    "execution": {
     "iopub.status.busy": "2024-06-06T13:03:52.463487Z",
     "iopub.execute_input": "2024-06-06T13:03:52.463923Z",
     "iopub.status.idle": "2024-06-06T13:03:52.643276Z",
     "shell.execute_reply.started": "2024-06-06T13:03:52.463897Z",
     "shell.execute_reply": "2024-06-06T13:03:52.642472Z"
    },
    "trusted": true,
    "ExecuteTime": {
     "end_time": "2024-06-17T03:03:16.095891Z",
     "start_time": "2024-06-17T03:03:16.023482Z"
    }
   },
   "outputs": [],
   "execution_count": 2
  },
  {
   "cell_type": "code",
   "source": [
    "test_desc.head(5)"
   ],
   "metadata": {
    "execution": {
     "iopub.status.busy": "2024-06-06T13:03:52.647966Z",
     "iopub.execute_input": "2024-06-06T13:03:52.648231Z",
     "iopub.status.idle": "2024-06-06T13:03:52.666529Z",
     "shell.execute_reply.started": "2024-06-06T13:03:52.648207Z",
     "shell.execute_reply": "2024-06-06T13:03:52.665689Z"
    },
    "trusted": true,
    "ExecuteTime": {
     "end_time": "2024-06-17T03:03:16.113230Z",
     "start_time": "2024-06-17T03:03:16.097899Z"
    }
   },
   "outputs": [
    {
     "data": {
      "text/plain": [
       "   study_id   series_id series_description\n",
       "0  44036939  2828203845        Sagittal T1\n",
       "1  44036939  3481971518           Axial T2\n",
       "2  44036939  3844393089   Sagittal T2/STIR"
      ],
      "text/html": [
       "<div>\n",
       "<style scoped>\n",
       "    .dataframe tbody tr th:only-of-type {\n",
       "        vertical-align: middle;\n",
       "    }\n",
       "\n",
       "    .dataframe tbody tr th {\n",
       "        vertical-align: top;\n",
       "    }\n",
       "\n",
       "    .dataframe thead th {\n",
       "        text-align: right;\n",
       "    }\n",
       "</style>\n",
       "<table border=\"1\" class=\"dataframe\">\n",
       "  <thead>\n",
       "    <tr style=\"text-align: right;\">\n",
       "      <th></th>\n",
       "      <th>study_id</th>\n",
       "      <th>series_id</th>\n",
       "      <th>series_description</th>\n",
       "    </tr>\n",
       "  </thead>\n",
       "  <tbody>\n",
       "    <tr>\n",
       "      <th>0</th>\n",
       "      <td>44036939</td>\n",
       "      <td>2828203845</td>\n",
       "      <td>Sagittal T1</td>\n",
       "    </tr>\n",
       "    <tr>\n",
       "      <th>1</th>\n",
       "      <td>44036939</td>\n",
       "      <td>3481971518</td>\n",
       "      <td>Axial T2</td>\n",
       "    </tr>\n",
       "    <tr>\n",
       "      <th>2</th>\n",
       "      <td>44036939</td>\n",
       "      <td>3844393089</td>\n",
       "      <td>Sagittal T2/STIR</td>\n",
       "    </tr>\n",
       "  </tbody>\n",
       "</table>\n",
       "</div>"
      ]
     },
     "execution_count": 3,
     "metadata": {},
     "output_type": "execute_result"
    }
   ],
   "execution_count": 3
  },
  {
   "cell_type": "code",
   "source": [
    "train.head(5)"
   ],
   "metadata": {
    "execution": {
     "iopub.status.busy": "2024-06-06T13:03:52.667768Z",
     "iopub.execute_input": "2024-06-06T13:03:52.668221Z",
     "iopub.status.idle": "2024-06-06T13:03:52.693381Z",
     "shell.execute_reply.started": "2024-06-06T13:03:52.668188Z",
     "shell.execute_reply": "2024-06-06T13:03:52.692499Z"
    },
    "trusted": true,
    "ExecuteTime": {
     "end_time": "2024-06-17T03:03:16.131092Z",
     "start_time": "2024-06-17T03:03:16.115237Z"
    }
   },
   "outputs": [
    {
     "data": {
      "text/plain": [
       "   study_id spinal_canal_stenosis_l1_l2 spinal_canal_stenosis_l2_l3  \\\n",
       "0   4003253                 Normal/Mild                 Normal/Mild   \n",
       "1   4646740                 Normal/Mild                 Normal/Mild   \n",
       "2   7143189                 Normal/Mild                 Normal/Mild   \n",
       "3   8785691                 Normal/Mild                 Normal/Mild   \n",
       "4  10728036                 Normal/Mild                 Normal/Mild   \n",
       "\n",
       "  spinal_canal_stenosis_l3_l4 spinal_canal_stenosis_l4_l5  \\\n",
       "0                 Normal/Mild                 Normal/Mild   \n",
       "1                    Moderate                      Severe   \n",
       "2                 Normal/Mild                 Normal/Mild   \n",
       "3                 Normal/Mild                 Normal/Mild   \n",
       "4                 Normal/Mild                 Normal/Mild   \n",
       "\n",
       "  spinal_canal_stenosis_l5_s1 left_neural_foraminal_narrowing_l1_l2  \\\n",
       "0                 Normal/Mild                           Normal/Mild   \n",
       "1                 Normal/Mild                           Normal/Mild   \n",
       "2                 Normal/Mild                           Normal/Mild   \n",
       "3                 Normal/Mild                           Normal/Mild   \n",
       "4                 Normal/Mild                           Normal/Mild   \n",
       "\n",
       "  left_neural_foraminal_narrowing_l2_l3 left_neural_foraminal_narrowing_l3_l4  \\\n",
       "0                           Normal/Mild                           Normal/Mild   \n",
       "1                           Normal/Mild                           Normal/Mild   \n",
       "2                           Normal/Mild                           Normal/Mild   \n",
       "3                           Normal/Mild                           Normal/Mild   \n",
       "4                           Normal/Mild                           Normal/Mild   \n",
       "\n",
       "  left_neural_foraminal_narrowing_l4_l5  ... left_subarticular_stenosis_l1_l2  \\\n",
       "0                              Moderate  ...                      Normal/Mild   \n",
       "1                              Moderate  ...                      Normal/Mild   \n",
       "2                           Normal/Mild  ...                      Normal/Mild   \n",
       "3                              Moderate  ...                      Normal/Mild   \n",
       "4                           Normal/Mild  ...                      Normal/Mild   \n",
       "\n",
       "  left_subarticular_stenosis_l2_l3 left_subarticular_stenosis_l3_l4  \\\n",
       "0                      Normal/Mild                      Normal/Mild   \n",
       "1                      Normal/Mild                      Normal/Mild   \n",
       "2                      Normal/Mild                      Normal/Mild   \n",
       "3                      Normal/Mild                      Normal/Mild   \n",
       "4                      Normal/Mild                      Normal/Mild   \n",
       "\n",
       "  left_subarticular_stenosis_l4_l5 left_subarticular_stenosis_l5_s1  \\\n",
       "0                         Moderate                      Normal/Mild   \n",
       "1                           Severe                      Normal/Mild   \n",
       "2                      Normal/Mild                      Normal/Mild   \n",
       "3                      Normal/Mild                      Normal/Mild   \n",
       "4                      Normal/Mild                      Normal/Mild   \n",
       "\n",
       "  right_subarticular_stenosis_l1_l2 right_subarticular_stenosis_l2_l3  \\\n",
       "0                       Normal/Mild                       Normal/Mild   \n",
       "1                       Normal/Mild                          Moderate   \n",
       "2                       Normal/Mild                       Normal/Mild   \n",
       "3                       Normal/Mild                       Normal/Mild   \n",
       "4                       Normal/Mild                       Normal/Mild   \n",
       "\n",
       "  right_subarticular_stenosis_l3_l4 right_subarticular_stenosis_l4_l5  \\\n",
       "0                       Normal/Mild                       Normal/Mild   \n",
       "1                          Moderate                          Moderate   \n",
       "2                       Normal/Mild                       Normal/Mild   \n",
       "3                       Normal/Mild                       Normal/Mild   \n",
       "4                       Normal/Mild                          Moderate   \n",
       "\n",
       "  right_subarticular_stenosis_l5_s1  \n",
       "0                       Normal/Mild  \n",
       "1                       Normal/Mild  \n",
       "2                       Normal/Mild  \n",
       "3                       Normal/Mild  \n",
       "4                       Normal/Mild  \n",
       "\n",
       "[5 rows x 26 columns]"
      ],
      "text/html": [
       "<div>\n",
       "<style scoped>\n",
       "    .dataframe tbody tr th:only-of-type {\n",
       "        vertical-align: middle;\n",
       "    }\n",
       "\n",
       "    .dataframe tbody tr th {\n",
       "        vertical-align: top;\n",
       "    }\n",
       "\n",
       "    .dataframe thead th {\n",
       "        text-align: right;\n",
       "    }\n",
       "</style>\n",
       "<table border=\"1\" class=\"dataframe\">\n",
       "  <thead>\n",
       "    <tr style=\"text-align: right;\">\n",
       "      <th></th>\n",
       "      <th>study_id</th>\n",
       "      <th>spinal_canal_stenosis_l1_l2</th>\n",
       "      <th>spinal_canal_stenosis_l2_l3</th>\n",
       "      <th>spinal_canal_stenosis_l3_l4</th>\n",
       "      <th>spinal_canal_stenosis_l4_l5</th>\n",
       "      <th>spinal_canal_stenosis_l5_s1</th>\n",
       "      <th>left_neural_foraminal_narrowing_l1_l2</th>\n",
       "      <th>left_neural_foraminal_narrowing_l2_l3</th>\n",
       "      <th>left_neural_foraminal_narrowing_l3_l4</th>\n",
       "      <th>left_neural_foraminal_narrowing_l4_l5</th>\n",
       "      <th>...</th>\n",
       "      <th>left_subarticular_stenosis_l1_l2</th>\n",
       "      <th>left_subarticular_stenosis_l2_l3</th>\n",
       "      <th>left_subarticular_stenosis_l3_l4</th>\n",
       "      <th>left_subarticular_stenosis_l4_l5</th>\n",
       "      <th>left_subarticular_stenosis_l5_s1</th>\n",
       "      <th>right_subarticular_stenosis_l1_l2</th>\n",
       "      <th>right_subarticular_stenosis_l2_l3</th>\n",
       "      <th>right_subarticular_stenosis_l3_l4</th>\n",
       "      <th>right_subarticular_stenosis_l4_l5</th>\n",
       "      <th>right_subarticular_stenosis_l5_s1</th>\n",
       "    </tr>\n",
       "  </thead>\n",
       "  <tbody>\n",
       "    <tr>\n",
       "      <th>0</th>\n",
       "      <td>4003253</td>\n",
       "      <td>Normal/Mild</td>\n",
       "      <td>Normal/Mild</td>\n",
       "      <td>Normal/Mild</td>\n",
       "      <td>Normal/Mild</td>\n",
       "      <td>Normal/Mild</td>\n",
       "      <td>Normal/Mild</td>\n",
       "      <td>Normal/Mild</td>\n",
       "      <td>Normal/Mild</td>\n",
       "      <td>Moderate</td>\n",
       "      <td>...</td>\n",
       "      <td>Normal/Mild</td>\n",
       "      <td>Normal/Mild</td>\n",
       "      <td>Normal/Mild</td>\n",
       "      <td>Moderate</td>\n",
       "      <td>Normal/Mild</td>\n",
       "      <td>Normal/Mild</td>\n",
       "      <td>Normal/Mild</td>\n",
       "      <td>Normal/Mild</td>\n",
       "      <td>Normal/Mild</td>\n",
       "      <td>Normal/Mild</td>\n",
       "    </tr>\n",
       "    <tr>\n",
       "      <th>1</th>\n",
       "      <td>4646740</td>\n",
       "      <td>Normal/Mild</td>\n",
       "      <td>Normal/Mild</td>\n",
       "      <td>Moderate</td>\n",
       "      <td>Severe</td>\n",
       "      <td>Normal/Mild</td>\n",
       "      <td>Normal/Mild</td>\n",
       "      <td>Normal/Mild</td>\n",
       "      <td>Normal/Mild</td>\n",
       "      <td>Moderate</td>\n",
       "      <td>...</td>\n",
       "      <td>Normal/Mild</td>\n",
       "      <td>Normal/Mild</td>\n",
       "      <td>Normal/Mild</td>\n",
       "      <td>Severe</td>\n",
       "      <td>Normal/Mild</td>\n",
       "      <td>Normal/Mild</td>\n",
       "      <td>Moderate</td>\n",
       "      <td>Moderate</td>\n",
       "      <td>Moderate</td>\n",
       "      <td>Normal/Mild</td>\n",
       "    </tr>\n",
       "    <tr>\n",
       "      <th>2</th>\n",
       "      <td>7143189</td>\n",
       "      <td>Normal/Mild</td>\n",
       "      <td>Normal/Mild</td>\n",
       "      <td>Normal/Mild</td>\n",
       "      <td>Normal/Mild</td>\n",
       "      <td>Normal/Mild</td>\n",
       "      <td>Normal/Mild</td>\n",
       "      <td>Normal/Mild</td>\n",
       "      <td>Normal/Mild</td>\n",
       "      <td>Normal/Mild</td>\n",
       "      <td>...</td>\n",
       "      <td>Normal/Mild</td>\n",
       "      <td>Normal/Mild</td>\n",
       "      <td>Normal/Mild</td>\n",
       "      <td>Normal/Mild</td>\n",
       "      <td>Normal/Mild</td>\n",
       "      <td>Normal/Mild</td>\n",
       "      <td>Normal/Mild</td>\n",
       "      <td>Normal/Mild</td>\n",
       "      <td>Normal/Mild</td>\n",
       "      <td>Normal/Mild</td>\n",
       "    </tr>\n",
       "    <tr>\n",
       "      <th>3</th>\n",
       "      <td>8785691</td>\n",
       "      <td>Normal/Mild</td>\n",
       "      <td>Normal/Mild</td>\n",
       "      <td>Normal/Mild</td>\n",
       "      <td>Normal/Mild</td>\n",
       "      <td>Normal/Mild</td>\n",
       "      <td>Normal/Mild</td>\n",
       "      <td>Normal/Mild</td>\n",
       "      <td>Normal/Mild</td>\n",
       "      <td>Moderate</td>\n",
       "      <td>...</td>\n",
       "      <td>Normal/Mild</td>\n",
       "      <td>Normal/Mild</td>\n",
       "      <td>Normal/Mild</td>\n",
       "      <td>Normal/Mild</td>\n",
       "      <td>Normal/Mild</td>\n",
       "      <td>Normal/Mild</td>\n",
       "      <td>Normal/Mild</td>\n",
       "      <td>Normal/Mild</td>\n",
       "      <td>Normal/Mild</td>\n",
       "      <td>Normal/Mild</td>\n",
       "    </tr>\n",
       "    <tr>\n",
       "      <th>4</th>\n",
       "      <td>10728036</td>\n",
       "      <td>Normal/Mild</td>\n",
       "      <td>Normal/Mild</td>\n",
       "      <td>Normal/Mild</td>\n",
       "      <td>Normal/Mild</td>\n",
       "      <td>Normal/Mild</td>\n",
       "      <td>Normal/Mild</td>\n",
       "      <td>Normal/Mild</td>\n",
       "      <td>Normal/Mild</td>\n",
       "      <td>Normal/Mild</td>\n",
       "      <td>...</td>\n",
       "      <td>Normal/Mild</td>\n",
       "      <td>Normal/Mild</td>\n",
       "      <td>Normal/Mild</td>\n",
       "      <td>Normal/Mild</td>\n",
       "      <td>Normal/Mild</td>\n",
       "      <td>Normal/Mild</td>\n",
       "      <td>Normal/Mild</td>\n",
       "      <td>Normal/Mild</td>\n",
       "      <td>Moderate</td>\n",
       "      <td>Normal/Mild</td>\n",
       "    </tr>\n",
       "  </tbody>\n",
       "</table>\n",
       "<p>5 rows × 26 columns</p>\n",
       "</div>"
      ]
     },
     "execution_count": 4,
     "metadata": {},
     "output_type": "execute_result"
    }
   ],
   "execution_count": 4
  },
  {
   "cell_type": "code",
   "source": [
    "train_desc.head(5)"
   ],
   "metadata": {
    "execution": {
     "iopub.status.busy": "2024-06-06T13:03:52.694563Z",
     "iopub.execute_input": "2024-06-06T13:03:52.694895Z",
     "iopub.status.idle": "2024-06-06T13:03:52.705286Z",
     "shell.execute_reply.started": "2024-06-06T13:03:52.694865Z",
     "shell.execute_reply": "2024-06-06T13:03:52.704317Z"
    },
    "trusted": true,
    "ExecuteTime": {
     "end_time": "2024-06-17T03:03:16.140501Z",
     "start_time": "2024-06-17T03:03:16.133103Z"
    }
   },
   "outputs": [
    {
     "data": {
      "text/plain": [
       "   study_id   series_id series_description\n",
       "0   4003253   702807833   Sagittal T2/STIR\n",
       "1   4003253  1054713880        Sagittal T1\n",
       "2   4003253  2448190387           Axial T2\n",
       "3   4646740  3201256954           Axial T2\n",
       "4   4646740  3486248476        Sagittal T1"
      ],
      "text/html": [
       "<div>\n",
       "<style scoped>\n",
       "    .dataframe tbody tr th:only-of-type {\n",
       "        vertical-align: middle;\n",
       "    }\n",
       "\n",
       "    .dataframe tbody tr th {\n",
       "        vertical-align: top;\n",
       "    }\n",
       "\n",
       "    .dataframe thead th {\n",
       "        text-align: right;\n",
       "    }\n",
       "</style>\n",
       "<table border=\"1\" class=\"dataframe\">\n",
       "  <thead>\n",
       "    <tr style=\"text-align: right;\">\n",
       "      <th></th>\n",
       "      <th>study_id</th>\n",
       "      <th>series_id</th>\n",
       "      <th>series_description</th>\n",
       "    </tr>\n",
       "  </thead>\n",
       "  <tbody>\n",
       "    <tr>\n",
       "      <th>0</th>\n",
       "      <td>4003253</td>\n",
       "      <td>702807833</td>\n",
       "      <td>Sagittal T2/STIR</td>\n",
       "    </tr>\n",
       "    <tr>\n",
       "      <th>1</th>\n",
       "      <td>4003253</td>\n",
       "      <td>1054713880</td>\n",
       "      <td>Sagittal T1</td>\n",
       "    </tr>\n",
       "    <tr>\n",
       "      <th>2</th>\n",
       "      <td>4003253</td>\n",
       "      <td>2448190387</td>\n",
       "      <td>Axial T2</td>\n",
       "    </tr>\n",
       "    <tr>\n",
       "      <th>3</th>\n",
       "      <td>4646740</td>\n",
       "      <td>3201256954</td>\n",
       "      <td>Axial T2</td>\n",
       "    </tr>\n",
       "    <tr>\n",
       "      <th>4</th>\n",
       "      <td>4646740</td>\n",
       "      <td>3486248476</td>\n",
       "      <td>Sagittal T1</td>\n",
       "    </tr>\n",
       "  </tbody>\n",
       "</table>\n",
       "</div>"
      ]
     },
     "execution_count": 5,
     "metadata": {},
     "output_type": "execute_result"
    }
   ],
   "execution_count": 5
  },
  {
   "cell_type": "code",
   "source": [
    "# Function to generate image paths based on directory structure\n",
    "def generate_image_paths(df, data_dir):\n",
    "    image_paths = []\n",
    "    for study_id, series_id in zip(df['study_id'], df['series_id']):\n",
    "        study_dir = os.path.join(data_dir, str(study_id))\n",
    "        series_dir = os.path.join(study_dir, str(series_id))\n",
    "        images = os.listdir(series_dir)\n",
    "        image_paths.extend([os.path.join(series_dir, img) for img in images])\n",
    "    return image_paths\n",
    "\n",
    "# Generate image paths for train and test data\n",
    "train_image_paths = generate_image_paths(train_desc, f'{train_path}/train_images')\n",
    "test_image_paths = generate_image_paths(test_desc, f'{train_path}/test_images')"
   ],
   "metadata": {
    "execution": {
     "iopub.status.busy": "2024-06-06T13:03:52.706228Z",
     "iopub.execute_input": "2024-06-06T13:03:52.70649Z",
     "iopub.status.idle": "2024-06-06T13:05:06.438292Z",
     "shell.execute_reply.started": "2024-06-06T13:03:52.706469Z",
     "shell.execute_reply": "2024-06-06T13:05:06.437523Z"
    },
    "trusted": true,
    "ExecuteTime": {
     "end_time": "2024-06-17T03:03:16.855193Z",
     "start_time": "2024-06-17T03:03:16.143517Z"
    }
   },
   "outputs": [
    {
     "ename": "NameError",
     "evalue": "name 'os' is not defined",
     "output_type": "error",
     "traceback": [
      "\u001B[1;31m---------------------------------------------------------------------------\u001B[0m",
      "\u001B[1;31mNameError\u001B[0m                                 Traceback (most recent call last)",
      "Cell \u001B[1;32mIn[6], line 12\u001B[0m\n\u001B[0;32m      9\u001B[0m     \u001B[38;5;28;01mreturn\u001B[39;00m image_paths\n\u001B[0;32m     11\u001B[0m \u001B[38;5;66;03m# Generate image paths for train and test data\u001B[39;00m\n\u001B[1;32m---> 12\u001B[0m train_image_paths \u001B[38;5;241m=\u001B[39m generate_image_paths(train_desc, \u001B[38;5;124mf\u001B[39m\u001B[38;5;124m'\u001B[39m\u001B[38;5;132;01m{\u001B[39;00mtrain_path\u001B[38;5;132;01m}\u001B[39;00m\u001B[38;5;124m/train_images\u001B[39m\u001B[38;5;124m'\u001B[39m)\n\u001B[0;32m     13\u001B[0m test_image_paths \u001B[38;5;241m=\u001B[39m generate_image_paths(test_desc, \u001B[38;5;124mf\u001B[39m\u001B[38;5;124m'\u001B[39m\u001B[38;5;132;01m{\u001B[39;00mtrain_path\u001B[38;5;132;01m}\u001B[39;00m\u001B[38;5;124m/test_images\u001B[39m\u001B[38;5;124m'\u001B[39m)\n",
      "Cell \u001B[1;32mIn[6], line 5\u001B[0m, in \u001B[0;36mgenerate_image_paths\u001B[1;34m(df, data_dir)\u001B[0m\n\u001B[0;32m      3\u001B[0m image_paths \u001B[38;5;241m=\u001B[39m []\n\u001B[0;32m      4\u001B[0m \u001B[38;5;28;01mfor\u001B[39;00m study_id, series_id \u001B[38;5;129;01min\u001B[39;00m \u001B[38;5;28mzip\u001B[39m(df[\u001B[38;5;124m'\u001B[39m\u001B[38;5;124mstudy_id\u001B[39m\u001B[38;5;124m'\u001B[39m], df[\u001B[38;5;124m'\u001B[39m\u001B[38;5;124mseries_id\u001B[39m\u001B[38;5;124m'\u001B[39m]):\n\u001B[1;32m----> 5\u001B[0m     study_dir \u001B[38;5;241m=\u001B[39m os\u001B[38;5;241m.\u001B[39mpath\u001B[38;5;241m.\u001B[39mjoin(data_dir, \u001B[38;5;28mstr\u001B[39m(study_id))\n\u001B[0;32m      6\u001B[0m     series_dir \u001B[38;5;241m=\u001B[39m os\u001B[38;5;241m.\u001B[39mpath\u001B[38;5;241m.\u001B[39mjoin(study_dir, \u001B[38;5;28mstr\u001B[39m(series_id))\n\u001B[0;32m      7\u001B[0m     images \u001B[38;5;241m=\u001B[39m os\u001B[38;5;241m.\u001B[39mlistdir(series_dir)\n",
      "\u001B[1;31mNameError\u001B[0m: name 'os' is not defined"
     ]
    }
   ],
   "execution_count": 6
  },
  {
   "cell_type": "code",
   "source": [
    "len(train_desc)"
   ],
   "metadata": {
    "execution": {
     "iopub.status.busy": "2024-06-06T13:05:06.439341Z",
     "iopub.execute_input": "2024-06-06T13:05:06.439623Z",
     "iopub.status.idle": "2024-06-06T13:05:06.445416Z",
     "shell.execute_reply.started": "2024-06-06T13:05:06.439599Z",
     "shell.execute_reply": "2024-06-06T13:05:06.444511Z"
    },
    "trusted": true
   },
   "outputs": [],
   "execution_count": null
  },
  {
   "cell_type": "code",
   "source": [
    "len(train_image_paths)"
   ],
   "metadata": {
    "execution": {
     "iopub.status.busy": "2024-06-06T13:05:06.446876Z",
     "iopub.execute_input": "2024-06-06T13:05:06.447153Z",
     "iopub.status.idle": "2024-06-06T13:05:06.457632Z",
     "shell.execute_reply.started": "2024-06-06T13:05:06.447123Z",
     "shell.execute_reply": "2024-06-06T13:05:06.456722Z"
    },
    "trusted": true
   },
   "outputs": [],
   "execution_count": null
  },
  {
   "cell_type": "code",
   "source": [
    "import pydicom\n",
    "import matplotlib.pyplot as plt\n",
    "\n",
    "# Function to open and display DICOM images\n",
    "def display_dicom_images(image_paths):\n",
    "    plt.figure(figsize=(15, 5))  # Adjust figure size if needed\n",
    "    for i, path in enumerate(image_paths[:3]):\n",
    "        ds = pydicom.dcmread(path)\n",
    "        plt.subplot(1, 3, i+1)\n",
    "        plt.imshow(ds.pixel_array, cmap=plt.cm.bone)\n",
    "        plt.title(f\"Image {i+1}\")\n",
    "        plt.axis('off')\n",
    "    plt.show()\n",
    "\n",
    "# Display the first three DICOM images\n",
    "display_dicom_images(train_image_paths)"
   ],
   "metadata": {
    "execution": {
     "iopub.status.busy": "2024-06-06T13:05:06.462176Z",
     "iopub.execute_input": "2024-06-06T13:05:06.462446Z",
     "iopub.status.idle": "2024-06-06T13:05:07.132024Z",
     "shell.execute_reply.started": "2024-06-06T13:05:06.462424Z",
     "shell.execute_reply": "2024-06-06T13:05:07.131107Z"
    },
    "trusted": true
   },
   "outputs": [],
   "execution_count": null
  },
  {
   "cell_type": "code",
   "source": [
    "import os\n",
    "import pydicom\n",
    "import matplotlib.pyplot as plt\n",
    "import pandas as pd\n",
    "\n",
    "# Function to open and display DICOM images along with coordinates\n",
    "def display_dicom_with_coordinates(image_paths, label_df):\n",
    "    fig, axs = plt.subplots(1, len(image_paths), figsize=(18, 6))\n",
    "    \n",
    "    for idx, path in enumerate(image_paths):  # Display images\n",
    "        study_id = int(path.replace(\"\\\\\", \"/\").split('/')[-3])\n",
    "        series_id = int(path.replace(\"\\\\\", \"/\").split('/')[-2])\n",
    "        \n",
    "        # Filter label coordinates for the current study and series\n",
    "        filtered_labels = label_df[(label_df['study_id'] == study_id) & (label_df['series_id'] == series_id)]\n",
    "        \n",
    "        # Read DICOM image\n",
    "        ds = pydicom.dcmread(path)\n",
    "        \n",
    "        # Plot DICOM image\n",
    "        axs[idx].imshow(ds.pixel_array, cmap='gray')\n",
    "        axs[idx].set_title(f\"Study ID: {study_id}, Series ID: {series_id}\")\n",
    "        axs[idx].axis('off')\n",
    "        \n",
    "        # Plot coordinates\n",
    "        for _, row in filtered_labels.iterrows():\n",
    "            axs[idx].plot(row['x'], row['y'], 'ro', markersize=5)\n",
    "        \n",
    "    plt.tight_layout()\n",
    "    plt.show()\n",
    "\n",
    "# Load DICOM files from a folder\n",
    "def load_dicom_files(path_to_folder):\n",
    "    files = [os.path.join(path_to_folder, f) for f in os.listdir(path_to_folder) if f.endswith('.dcm')]\n",
    "    files.sort(key=lambda x: int(os.path.splitext(os.path.basename(x))[0].split('-')[-1]))\n",
    "    return files\n",
    "\n",
    "# Display DICOM images with coordinates\n",
    "study_id = \"100206310\"\n",
    "study_folder = f\"{train_path}/train_images/{study_id}\"\n",
    "\n",
    "image_paths = []\n",
    "for series_folder in os.listdir(study_folder):\n",
    "    series_folder_path = os.path.join(study_folder, series_folder)\n",
    "    dicom_files = load_dicom_files(series_folder_path)\n",
    "    if dicom_files:\n",
    "        image_paths.append(dicom_files[0])  # Add the first image from each series\n",
    "\n",
    "display_dicom_with_coordinates(image_paths, label)"
   ],
   "metadata": {
    "execution": {
     "iopub.status.busy": "2024-06-06T13:05:07.133425Z",
     "iopub.execute_input": "2024-06-06T13:05:07.133791Z",
     "iopub.status.idle": "2024-06-06T13:05:08.027714Z",
     "shell.execute_reply.started": "2024-06-06T13:05:07.133758Z",
     "shell.execute_reply": "2024-06-06T13:05:08.026865Z"
    },
    "trusted": true
   },
   "outputs": [],
   "execution_count": null
  },
  {
   "cell_type": "markdown",
   "source": [
    "## Data Preprocessing"
   ],
   "metadata": {}
  },
  {
   "cell_type": "code",
   "source": [
    "# Define function to reshape a single row of the DataFrame\n",
    "def reshape_row(row):\n",
    "    data = {'study_id': [], 'condition': [], 'level': [], 'severity': []}\n",
    "    \n",
    "    for column, value in row.items():\n",
    "        if column not in ['study_id', 'series_id', 'instance_number', 'x', 'y', 'series_description']:\n",
    "            parts = column.split('_')\n",
    "            condition = ' '.join([word.capitalize() for word in parts[:-2]])\n",
    "            level = parts[-2].capitalize() + '/' + parts[-1].capitalize()\n",
    "            data['study_id'].append(row['study_id'])\n",
    "            data['condition'].append(condition)\n",
    "            data['level'].append(level)\n",
    "            data['severity'].append(value)\n",
    "    \n",
    "    return pd.DataFrame(data)\n",
    "\n",
    "# Reshape the DataFrame for all rows\n",
    "new_train_df = pd.concat([reshape_row(row) for _, row in train.iterrows()], ignore_index=True)\n",
    "\n",
    "# Display the first few rows of the reshaped dataframe\n",
    "new_train_df.head(20)\n"
   ],
   "metadata": {
    "execution": {
     "iopub.status.busy": "2024-06-06T13:05:08.028762Z",
     "iopub.execute_input": "2024-06-06T13:05:08.029084Z",
     "iopub.status.idle": "2024-06-06T13:05:09.467435Z",
     "shell.execute_reply.started": "2024-06-06T13:05:08.029057Z",
     "shell.execute_reply": "2024-06-06T13:05:09.466543Z"
    },
    "trusted": true
   },
   "outputs": [],
   "execution_count": null
  },
  {
   "cell_type": "code",
   "source": [
    "# Print columns in a neat way\n",
    "print(\"\\nColumns in new_train_df:\")\n",
    "print(\",\".join(new_train_df.columns))\n",
    "\n",
    "print(\"\\nColumns in label:\")\n",
    "print(\",\".join(label.columns))\n",
    "\n",
    "print(\"\\nColumns in test_desc:\")\n",
    "print(\",\".join(test_desc.columns))\n",
    "\n",
    "print(\"\\nColumns in sub:\")\n",
    "print(\",\".join(sub.columns))"
   ],
   "metadata": {
    "execution": {
     "iopub.status.busy": "2024-06-06T13:05:09.468687Z",
     "iopub.execute_input": "2024-06-06T13:05:09.468967Z",
     "iopub.status.idle": "2024-06-06T13:05:09.474896Z",
     "shell.execute_reply.started": "2024-06-06T13:05:09.468943Z",
     "shell.execute_reply": "2024-06-06T13:05:09.474068Z"
    },
    "trusted": true
   },
   "outputs": [],
   "execution_count": null
  },
  {
   "cell_type": "code",
   "source": [
    "# Merge the dataframes on the common columns\n",
    "merged_df = pd.merge(new_train_df, label, on=['study_id', 'condition', 'level'], how='inner')\n",
    "# Merge the dataframes on the common column 'series_id'\n",
    "final_merged_df = pd.merge(merged_df, train_desc, on='series_id', how='inner')"
   ],
   "metadata": {
    "execution": {
     "iopub.status.busy": "2024-06-06T13:05:09.475936Z",
     "iopub.execute_input": "2024-06-06T13:05:09.476245Z",
     "iopub.status.idle": "2024-06-06T13:05:09.55017Z",
     "shell.execute_reply.started": "2024-06-06T13:05:09.476174Z",
     "shell.execute_reply": "2024-06-06T13:05:09.549446Z"
    },
    "trusted": true
   },
   "outputs": [],
   "execution_count": null
  },
  {
   "cell_type": "code",
   "source": [
    "# Merge the dataframes on the common column 'series_id'\n",
    "final_merged_df = pd.merge(merged_df, train_desc, on=['series_id','study_id'], how='inner')\n",
    "# Display the first few rows of the final merged dataframe\n",
    "final_merged_df.head(5)"
   ],
   "metadata": {
    "execution": {
     "iopub.status.busy": "2024-06-06T13:05:09.551279Z",
     "iopub.execute_input": "2024-06-06T13:05:09.551587Z",
     "iopub.status.idle": "2024-06-06T13:05:09.5799Z",
     "shell.execute_reply.started": "2024-06-06T13:05:09.551561Z",
     "shell.execute_reply": "2024-06-06T13:05:09.578444Z"
    },
    "trusted": true
   },
   "outputs": [],
   "execution_count": null
  },
  {
   "cell_type": "code",
   "source": [
    "final_merged_df[final_merged_df['study_id'] == 100206310].sort_values(['x','y'],ascending = True)"
   ],
   "metadata": {
    "execution": {
     "iopub.status.busy": "2024-06-06T13:05:09.580937Z",
     "iopub.execute_input": "2024-06-06T13:05:09.581447Z",
     "iopub.status.idle": "2024-06-06T13:05:09.603595Z",
     "shell.execute_reply.started": "2024-06-06T13:05:09.581417Z",
     "shell.execute_reply": "2024-06-06T13:05:09.602783Z"
    },
    "trusted": true
   },
   "outputs": [],
   "execution_count": null
  },
  {
   "cell_type": "code",
   "source": "final_merged_df[final_merged_df['series_id'] == 1012284084].sort_values(\"instance_number\")",
   "metadata": {
    "execution": {
     "iopub.status.busy": "2024-06-06T13:05:09.604699Z",
     "iopub.execute_input": "2024-06-06T13:05:09.604949Z",
     "iopub.status.idle": "2024-06-06T13:05:09.622068Z",
     "shell.execute_reply.started": "2024-06-06T13:05:09.604927Z",
     "shell.execute_reply": "2024-06-06T13:05:09.621054Z"
    },
    "trusted": true
   },
   "outputs": [],
   "execution_count": null
  },
  {
   "cell_type": "markdown",
   "source": [
    "Now, we can see what the data represents\n",
    "\n",
    "Series ID 1012284084 contains 60 images, and how each image maps to each level and condition"
   ],
   "metadata": {}
  },
  {
   "cell_type": "code",
   "source": [
    "# Filter the dataframe for the given study_id and sort by instance_number\n",
    "filtered_df = final_merged_df[final_merged_df['study_id'] == 1013589491].sort_values(\"instance_number\")\n",
    "\n",
    "# Display the resulting dataframe\n",
    "filtered_df"
   ],
   "metadata": {
    "execution": {
     "iopub.status.busy": "2024-06-06T13:05:09.623412Z",
     "iopub.execute_input": "2024-06-06T13:05:09.624097Z",
     "iopub.status.idle": "2024-06-06T13:05:09.642791Z",
     "shell.execute_reply.started": "2024-06-06T13:05:09.624066Z",
     "shell.execute_reply": "2024-06-06T13:05:09.641835Z"
    },
    "trusted": true
   },
   "outputs": [],
   "execution_count": null
  },
  {
   "cell_type": "code",
   "source": [
    "# Sort final_merged_df by study_id, series_id, and series_description\n",
    "sorted_final_merged_df = final_merged_df[final_merged_df['study_id'] == 1013589491].sort_values(by=['series_id', 'series_description', 'instance_number'])\n",
    "sorted_final_merged_df"
   ],
   "metadata": {
    "execution": {
     "iopub.status.busy": "2024-06-06T13:05:09.64394Z",
     "iopub.execute_input": "2024-06-06T13:05:09.644204Z",
     "iopub.status.idle": "2024-06-06T13:05:09.66877Z",
     "shell.execute_reply.started": "2024-06-06T13:05:09.644183Z",
     "shell.execute_reply": "2024-06-06T13:05:09.667941Z"
    },
    "trusted": true
   },
   "outputs": [],
   "execution_count": null
  },
  {
   "cell_type": "markdown",
   "source": [
    "We see that, <br>\n",
    "Saggital T1 images map to Neural Foraminal Narrowing <br>\n",
    "Axial T2 images map to Subarticular Stenosis <br>\n",
    "Saggital T2/STIR map to Canal Stenosis <br>"
   ],
   "metadata": {}
  },
  {
   "cell_type": "code",
   "source": [
    "import pandas as pd\n",
    "\n",
    "# Create the row_id column\n",
    "final_merged_df['row_id'] = (\n",
    "    final_merged_df['study_id'].astype(str) + '_' +\n",
    "    final_merged_df['condition'].str.lower().str.replace(' ', '_') + '_' +\n",
    "    final_merged_df['level'].str.lower().str.replace('/', '_')\n",
    ")\n",
    "\n",
    "# Create the image_path column\n",
    "final_merged_df['image_path'] = (\n",
    "    f'{train_path}/train_images/' + \n",
    "    final_merged_df['study_id'].astype(str) + '/' +\n",
    "    final_merged_df['series_id'].astype(str) + '/' +\n",
    "    final_merged_df['instance_number'].astype(str) + '.dcm'\n",
    ")\n",
    "\n",
    "# Note: Check image path, since there's 1 instance id, for 1 image, but there's many more images other than the ones labelled in the instance ID. \n",
    "\n",
    "# Display the updated dataframe\n",
    "final_merged_df.head(5)"
   ],
   "metadata": {
    "execution": {
     "iopub.status.busy": "2024-06-06T13:05:09.669918Z",
     "iopub.execute_input": "2024-06-06T13:05:09.670254Z",
     "iopub.status.idle": "2024-06-06T13:05:09.909621Z",
     "shell.execute_reply.started": "2024-06-06T13:05:09.670222Z",
     "shell.execute_reply": "2024-06-06T13:05:09.908909Z"
    },
    "trusted": true
   },
   "outputs": [],
   "execution_count": null
  },
  {
   "cell_type": "code",
   "source": [
    "final_merged_df[final_merged_df[\"severity\"] == \"Normal/Mild\"].value_counts().sum()"
   ],
   "metadata": {
    "execution": {
     "iopub.status.busy": "2024-06-06T13:05:09.910638Z",
     "iopub.execute_input": "2024-06-06T13:05:09.910947Z",
     "iopub.status.idle": "2024-06-06T13:05:10.061044Z",
     "shell.execute_reply.started": "2024-06-06T13:05:09.910924Z",
     "shell.execute_reply": "2024-06-06T13:05:10.060197Z"
    },
    "trusted": true
   },
   "outputs": [],
   "execution_count": null
  },
  {
   "cell_type": "code",
   "source": [
    "final_merged_df[final_merged_df[\"severity\"] == \"Moderate\"].value_counts().sum()"
   ],
   "metadata": {
    "execution": {
     "iopub.status.busy": "2024-06-06T13:05:10.062163Z",
     "iopub.execute_input": "2024-06-06T13:05:10.062417Z",
     "iopub.status.idle": "2024-06-06T13:05:10.111117Z",
     "shell.execute_reply.started": "2024-06-06T13:05:10.062396Z",
     "shell.execute_reply": "2024-06-06T13:05:10.110279Z"
    },
    "trusted": true
   },
   "outputs": [],
   "execution_count": null
  },
  {
   "cell_type": "code",
   "source": [
    "# Define the base path for test images\n",
    "base_path = f'{train_path}/test_images/'\n",
    "\n",
    "# Function to get image paths for a series\n",
    "def get_image_paths(row):\n",
    "    series_path = os.path.join(base_path, str(row['study_id']), str(row['series_id']))\n",
    "    if os.path.exists(series_path):\n",
    "        return [os.path.join(series_path, f) for f in os.listdir(series_path) if os.path.isfile(os.path.join(series_path, f))]\n",
    "    return []\n",
    "\n",
    "# Mapping of series_description to conditions\n",
    "condition_mapping = {\n",
    "    'Sagittal T1': {'left': 'left_neural_foraminal_narrowing', 'right': 'right_neural_foraminal_narrowing'},\n",
    "    'Axial T2': {'left': 'left_subarticular_stenosis', 'right': 'right_subarticular_stenosis'},\n",
    "    'Sagittal T2/STIR': 'spinal_canal_stenosis'\n",
    "}\n",
    "\n",
    "# Create a list to store the expanded rows\n",
    "expanded_rows = []\n",
    "\n",
    "# Expand the dataframe by adding new rows for each file path\n",
    "for index, row in test_desc.iterrows():\n",
    "    image_paths = get_image_paths(row)\n",
    "    conditions = condition_mapping.get(row['series_description'], {})\n",
    "    if isinstance(conditions, str):  # Single condition\n",
    "        conditions = {'left': conditions, 'right': conditions}\n",
    "    for side, condition in conditions.items():\n",
    "        for image_path in image_paths:\n",
    "            expanded_rows.append({\n",
    "                'study_id': row['study_id'],\n",
    "                'series_id': row['series_id'],\n",
    "                'series_description': row['series_description'],\n",
    "                'image_path': image_path,\n",
    "                'condition': condition,\n",
    "                'row_id': f\"{row['study_id']}_{condition}\"\n",
    "            })\n",
    "\n",
    "# Create a new dataframe from the expanded rows\n",
    "expanded_test_desc = pd.DataFrame(expanded_rows)\n",
    "\n",
    "# Display the resulting dataframe\n",
    "expanded_test_desc.head(5)"
   ],
   "metadata": {
    "execution": {
     "iopub.status.busy": "2024-06-06T13:05:10.112226Z",
     "iopub.execute_input": "2024-06-06T13:05:10.112614Z",
     "iopub.status.idle": "2024-06-06T13:05:10.232966Z",
     "shell.execute_reply.started": "2024-06-06T13:05:10.112531Z",
     "shell.execute_reply": "2024-06-06T13:05:10.232084Z"
    },
    "trusted": true
   },
   "outputs": [],
   "execution_count": null
  },
  {
   "cell_type": "code",
   "source": [
    "# change severity column labels\n",
    "#Normal/Mild': 'normal_mild', 'Moderate': 'moderate', 'Severe': 'severe'}\n",
    "final_merged_df['severity'] = final_merged_df['severity'].map({'Normal/Mild': 'normal_mild', 'Moderate': 'moderate', 'Severe': 'severe'})"
   ],
   "metadata": {
    "execution": {
     "iopub.status.busy": "2024-06-06T13:05:10.234169Z",
     "iopub.execute_input": "2024-06-06T13:05:10.234536Z",
     "iopub.status.idle": "2024-06-06T13:05:10.246608Z",
     "shell.execute_reply.started": "2024-06-06T13:05:10.234498Z",
     "shell.execute_reply": "2024-06-06T13:05:10.245479Z"
    },
    "trusted": true
   },
   "outputs": [],
   "execution_count": null
  },
  {
   "cell_type": "code",
   "source": [
    "test_data = expanded_test_desc\n",
    "train_data = final_merged_df"
   ],
   "metadata": {
    "execution": {
     "iopub.status.busy": "2024-06-06T13:05:10.247818Z",
     "iopub.execute_input": "2024-06-06T13:05:10.24812Z",
     "iopub.status.idle": "2024-06-06T13:05:10.25513Z",
     "shell.execute_reply.started": "2024-06-06T13:05:10.248098Z",
     "shell.execute_reply": "2024-06-06T13:05:10.254312Z"
    },
    "trusted": true
   },
   "outputs": [],
   "execution_count": null
  },
  {
   "metadata": {},
   "cell_type": "code",
   "source": "len(train_data)",
   "outputs": [],
   "execution_count": null
  },
  {
   "cell_type": "code",
   "source": [
    "import os\n",
    "\n",
    "# Define a function to check if a path exists\n",
    "def check_exists(path):\n",
    "    return os.path.exists(path)\n",
    "\n",
    "# Define a function to check if a study ID directory exists\n",
    "def check_study_id(row):\n",
    "    study_id = row['study_id']\n",
    "    path = f'{train_path}/train_images/{study_id}'\n",
    "    return check_exists(path)\n",
    "\n",
    "# Define a function to check if a series ID directory exists\n",
    "def check_series_id(row):\n",
    "    study_id = row['study_id']\n",
    "    series_id = row['series_id']\n",
    "    path = f'{train_path}/train_images/{study_id}/{series_id}'\n",
    "    return check_exists(path)\n",
    "\n",
    "# Define a function to check if an image file exists\n",
    "def check_image_exists(row):\n",
    "    image_path = row['image_path']\n",
    "    return check_exists(image_path)\n",
    "\n",
    "# Apply the functions to the train_data dataframe\n",
    "train_data['study_id_exists'] = train_data.apply(check_study_id, axis=1)\n",
    "train_data['series_id_exists'] = train_data.apply(check_series_id, axis=1)\n",
    "train_data['image_exists'] = train_data.apply(check_image_exists, axis=1)\n",
    "\n",
    "# Filter train_data\n",
    "train_data = train_data[(train_data['study_id_exists']) & (train_data['series_id_exists']) & (train_data['image_exists'])]"
   ],
   "metadata": {
    "execution": {
     "iopub.status.busy": "2024-06-06T13:05:10.256032Z",
     "iopub.execute_input": "2024-06-06T13:05:10.256349Z",
     "iopub.status.idle": "2024-06-06T13:05:45.905122Z",
     "shell.execute_reply.started": "2024-06-06T13:05:10.256327Z",
     "shell.execute_reply": "2024-06-06T13:05:45.904154Z"
    },
    "trusted": true
   },
   "outputs": [],
   "execution_count": null
  },
  {
   "metadata": {},
   "cell_type": "code",
   "source": "len(train_data)",
   "outputs": [],
   "execution_count": null
  },
  {
   "cell_type": "code",
   "source": [
    "train_data.head(3)"
   ],
   "metadata": {
    "execution": {
     "iopub.status.busy": "2024-06-06T13:05:45.906199Z",
     "iopub.execute_input": "2024-06-06T13:05:45.906467Z",
     "iopub.status.idle": "2024-06-06T13:05:45.921513Z",
     "shell.execute_reply.started": "2024-06-06T13:05:45.906445Z",
     "shell.execute_reply": "2024-06-06T13:05:45.920464Z"
    },
    "trusted": true
   },
   "outputs": [],
   "execution_count": null
  },
  {
   "cell_type": "code",
   "source": [
    "def load_dicom(path):\n",
    "    dicom = pydicom.read_file(path)\n",
    "    data = dicom.pixel_array\n",
    "    data = data - np.min(data)\n",
    "    if np.max(data) != 0:\n",
    "        data = data / np.max(data)\n",
    "    data = (data * 255).astype(np.uint8)\n",
    "    return data"
   ],
   "metadata": {
    "execution": {
     "iopub.status.busy": "2024-06-06T13:05:45.928027Z",
     "iopub.execute_input": "2024-06-06T13:05:45.928379Z",
     "iopub.status.idle": "2024-06-06T13:05:45.936519Z",
     "shell.execute_reply.started": "2024-06-06T13:05:45.928354Z",
     "shell.execute_reply": "2024-06-06T13:05:45.935689Z"
    },
    "trusted": true
   },
   "outputs": [],
   "execution_count": null
  },
  {
   "cell_type": "code",
   "source": [
    "# Load images randomly\n",
    "import random\n",
    "images = []\n",
    "row_ids = []\n",
    "selected_indices = random.sample(range(len(train_data)), 2)\n",
    "for i in selected_indices:\n",
    "    image = load_dicom(train_data['image_path'][i])\n",
    "    images.append(image)\n",
    "    row_ids.append(train_data['row_id'][i])\n",
    "\n",
    "# Plot images\n",
    "fig, ax = plt.subplots(1, 2, figsize=(8, 4))\n",
    "for i in range(2):\n",
    "    ax[i].imshow(images[i], cmap='gray')\n",
    "    ax[i].set_title(f'Row ID: {row_ids[i]}', fontsize=8)\n",
    "    ax[i].axis('off')\n",
    "plt.tight_layout()\n",
    "plt.show()"
   ],
   "metadata": {
    "execution": {
     "iopub.status.busy": "2024-06-06T13:05:45.937593Z",
     "iopub.execute_input": "2024-06-06T13:05:45.938269Z",
     "iopub.status.idle": "2024-06-06T13:05:46.396935Z",
     "shell.execute_reply.started": "2024-06-06T13:05:45.938237Z",
     "shell.execute_reply": "2024-06-06T13:05:46.394321Z"
    },
    "trusted": true
   },
   "outputs": [],
   "execution_count": null
  }
 ]
}
