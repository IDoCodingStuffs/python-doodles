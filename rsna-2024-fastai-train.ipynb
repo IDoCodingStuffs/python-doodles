{
 "cells": [
  {
   "cell_type": "code",
   "execution_count": 1,
   "id": "initial_id",
   "metadata": {
    "collapsed": true,
    "ExecuteTime": {
     "end_time": "2024-06-05T22:11:04.946035Z",
     "start_time": "2024-06-05T22:11:01.206658Z"
    }
   },
   "outputs": [],
   "source": [
    "from fastMONAI.vision_all import *\n",
    "from monai.networks.nets import UNet\n",
    "from monai.apps import download_and_extract\n",
    "from huggingface_hub import snapshot_download"
   ]
  },
  {
   "cell_type": "code",
   "execution_count": 2,
   "outputs": [],
   "source": [
    "# Create a custom loss function using Tversky Focal Loss\n",
    "loss_func = CustomLoss(loss_func=TverskyFocalLoss(to_onehot_y=True, include_background=True, softmax=True))\n",
    "\n",
    "# Create a UNet model with the specified parameters\n",
    "model = UNet(spatial_dims=3, in_channels=1, out_channels=2, channels=(16, 32, 64, 128, 256), strides=(2, 2, 2, 2), num_res_units=2).model"
   ],
   "metadata": {
    "collapsed": false,
    "ExecuteTime": {
     "end_time": "2024-06-05T22:11:12.229814Z",
     "start_time": "2024-06-05T22:11:12.200652Z"
    }
   },
   "id": "e9ef31235e941a7f"
  },
  {
   "cell_type": "code",
   "execution_count": 3,
   "outputs": [
    {
     "name": "stderr",
     "output_type": "stream",
     "text": [
      "Downloading...\n",
      "From: https://drive.google.com/uc?id=1K1J2wmWxYUPY0NbylcV4Otv88EqCL4Ys\n",
      "To: /var/folders/t6/1sf85j5s5pbgsfpgxrk8t3m00000gn/T/tmpjvf560bp/spine_example_data.zip\n",
      "100%|██████████| 2.52M/2.52M [00:00<00:00, 48.4MB/s]"
     ]
    },
    {
     "name": "stdout",
     "output_type": "stream",
     "text": [
      "2024-06-05 15:11:49,628 - INFO - Downloaded: spine_example_data.zip\n",
      "2024-06-05 15:11:49,628 - INFO - Expected md5 is None, skip md5 check for file spine_example_data.zip.\n",
      "2024-06-05 15:11:49,629 - INFO - Non-empty folder exists in data/spine_example_data, skipped extracting.\n"
     ]
    },
    {
     "name": "stderr",
     "output_type": "stream",
     "text": [
      "\n"
     ]
    }
   ],
   "source": [
    "DATA_DIR = Path('./data')\n",
    "STUDY_DIR = download_example_spine_data(path=DATA_DIR)"
   ],
   "metadata": {
    "collapsed": false,
    "ExecuteTime": {
     "end_time": "2024-06-05T22:11:49.635597Z",
     "start_time": "2024-06-05T22:11:32.267149Z"
    }
   },
   "id": "ee73601ed09f3844"
  },
  {
   "cell_type": "code",
   "execution_count": 25,
   "outputs": [
    {
     "data": {
      "text/plain": "                          t2_img_path  \\\n0  data/spine_example_data/img.nii.gz   \n\n                               t2_mask_path  subject_id  is_val  \n0  data/spine_example_data/pred_mask.nii.gz          -1   False  ",
      "text/html": "<div>\n<style scoped>\n    .dataframe tbody tr th:only-of-type {\n        vertical-align: middle;\n    }\n\n    .dataframe tbody tr th {\n        vertical-align: top;\n    }\n\n    .dataframe thead th {\n        text-align: right;\n    }\n</style>\n<table border=\"1\" class=\"dataframe\">\n  <thead>\n    <tr style=\"text-align: right;\">\n      <th></th>\n      <th>t2_img_path</th>\n      <th>t2_mask_path</th>\n      <th>subject_id</th>\n      <th>is_val</th>\n    </tr>\n  </thead>\n  <tbody>\n    <tr>\n      <th>0</th>\n      <td>data/spine_example_data/img.nii.gz</td>\n      <td>data/spine_example_data/pred_mask.nii.gz</td>\n      <td>-1</td>\n      <td>False</td>\n    </tr>\n  </tbody>\n</table>\n</div>"
     },
     "execution_count": 25,
     "metadata": {},
     "output_type": "execute_result"
    }
   ],
   "source": [
    "# Create a dictionary containing the example data\n",
    "example_data = {'t2_img_path':str(STUDY_DIR/'img.nii.gz'), 't2_mask_path':str(STUDY_DIR/'pred_mask.nii.gz'), 'subject_id':-1, 'is_val':False}\n",
    "\n",
    "# Create a DataFrame from the example data dictionary (remove [] if data > 1) \n",
    "df = pd.DataFrame([example_data])\n",
    "df"
   ],
   "metadata": {
    "collapsed": false,
    "ExecuteTime": {
     "end_time": "2024-06-05T22:19:04.408752Z",
     "start_time": "2024-06-05T22:19:04.403591Z"
    }
   },
   "id": "5dabfb813369fc8a"
  },
  {
   "cell_type": "code",
   "execution_count": 5,
   "outputs": [],
   "source": [
    "# Set the data directory to the specified path relative to the working directory\n",
    "#TRAIN_DATA_DIR = DATA_DIR/'ADD_PATH'"
   ],
   "metadata": {
    "collapsed": false,
    "ExecuteTime": {
     "end_time": "2024-06-05T22:13:56.219589Z",
     "start_time": "2024-06-05T22:13:56.215148Z"
    }
   },
   "id": "ce29bcea8e16ba2b"
  },
  {
   "cell_type": "code",
   "execution_count": 6,
   "outputs": [],
   "source": [
    "# Set the fold number\n",
    "#fold = 0\n",
    "\n",
    "# Read the data from the specified CSV file\n",
    "#df = pd.read_csv(TRAIN_DATA_DIR/'ADD_CSV_FILENAME')\n",
    "\n",
    "# Set the 'is_val' column to True for rows in the specified fold\n",
    "#df.loc[df.fold == fold, 'is_val'] = True"
   ],
   "metadata": {
    "collapsed": false,
    "ExecuteTime": {
     "end_time": "2024-06-05T22:13:56.374332Z",
     "start_time": "2024-06-05T22:13:56.368726Z"
    }
   },
   "id": "9130599431a69328"
  },
  {
   "cell_type": "code",
   "execution_count": 26,
   "outputs": [
    {
     "data": {
      "text/plain": "<fastMONAI.dataset_info.MedDataset at 0x2cabb5550>"
     },
     "execution_count": 26,
     "metadata": {},
     "output_type": "execute_result"
    }
   ],
   "source": [
    "med_dataset = MedDataset(img_list=df.t2_img_path.tolist(), reorder=True, max_workers=12)\n",
    "med_dataset"
   ],
   "metadata": {
    "collapsed": false,
    "ExecuteTime": {
     "end_time": "2024-06-05T22:19:38.578819Z",
     "start_time": "2024-06-05T22:19:38.542246Z"
    }
   },
   "id": "77b638d3ca06c242"
  },
  {
   "cell_type": "code",
   "execution_count": 27,
   "outputs": [
    {
     "data": {
      "text/plain": "   dim_0  dim_1  dim_2  voxel_0  voxel_1  voxel_2 orientation  \\\n0     16    400    400      4.4     0.78     0.78        RAS+   \n\n                         example_path  total  \n0  data/spine_example_data/img.nii.gz      1  ",
      "text/html": "<div>\n<style scoped>\n    .dataframe tbody tr th:only-of-type {\n        vertical-align: middle;\n    }\n\n    .dataframe tbody tr th {\n        vertical-align: top;\n    }\n\n    .dataframe thead th {\n        text-align: right;\n    }\n</style>\n<table border=\"1\" class=\"dataframe\">\n  <thead>\n    <tr style=\"text-align: right;\">\n      <th></th>\n      <th>dim_0</th>\n      <th>dim_1</th>\n      <th>dim_2</th>\n      <th>voxel_0</th>\n      <th>voxel_1</th>\n      <th>voxel_2</th>\n      <th>orientation</th>\n      <th>example_path</th>\n      <th>total</th>\n    </tr>\n  </thead>\n  <tbody>\n    <tr>\n      <th>0</th>\n      <td>16</td>\n      <td>400</td>\n      <td>400</td>\n      <td>4.4</td>\n      <td>0.78</td>\n      <td>0.78</td>\n      <td>RAS+</td>\n      <td>data/spine_example_data/img.nii.gz</td>\n      <td>1</td>\n    </tr>\n  </tbody>\n</table>\n</div>"
     },
     "execution_count": 27,
     "metadata": {},
     "output_type": "execute_result"
    }
   ],
   "source": [
    "data_info_df = med_dataset.summary()\n",
    "data_info_df"
   ],
   "metadata": {
    "collapsed": false,
    "ExecuteTime": {
     "end_time": "2024-06-05T22:19:50.431213Z",
     "start_time": "2024-06-05T22:19:50.422225Z"
    }
   },
   "id": "110ba37d82bcfd36"
  },
  {
   "cell_type": "code",
   "execution_count": 28,
   "outputs": [
    {
     "data": {
      "text/plain": "([4.4, 0.78, 0.78], True)"
     },
     "execution_count": 28,
     "metadata": {},
     "output_type": "execute_result"
    }
   ],
   "source": [
    "# Get the suggested resampling and reordering values from the dataset\n",
    "resample, reorder = med_dataset.suggestion()\n",
    "resample, reorder"
   ],
   "metadata": {
    "collapsed": false,
    "ExecuteTime": {
     "end_time": "2024-06-05T22:19:56.569695Z",
     "start_time": "2024-06-05T22:19:56.567198Z"
    }
   },
   "id": "e4a03f63812d5331"
  },
  {
   "cell_type": "code",
   "execution_count": 29,
   "outputs": [
    {
     "data": {
      "text/plain": "[16.0, 400.0, 400.0]"
     },
     "execution_count": 29,
     "metadata": {},
     "output_type": "execute_result"
    }
   ],
   "source": [
    "# Get the largest image size from the dataset, using the specified resampling values\n",
    "img_size = med_dataset.get_largest_img_size(resample=resample)\n",
    "img_size"
   ],
   "metadata": {
    "collapsed": false,
    "ExecuteTime": {
     "end_time": "2024-06-05T22:19:58.753969Z",
     "start_time": "2024-06-05T22:19:58.746668Z"
    }
   },
   "id": "f06d2470f4d4f48b"
  },
  {
   "cell_type": "code",
   "execution_count": 30,
   "outputs": [],
   "source": [
    "size = [16,400,400]\n",
    "bs = 4"
   ],
   "metadata": {
    "collapsed": false,
    "ExecuteTime": {
     "end_time": "2024-06-05T22:20:01.094746Z",
     "start_time": "2024-06-05T22:20:01.087257Z"
    }
   },
   "id": "d1246f09cec17554"
  },
  {
   "cell_type": "code",
   "execution_count": 31,
   "outputs": [],
   "source": [
    "# Create a list of transformations to apply to the images, with a probability of 0.5 for each transformation being applied\n",
    "item_tfms = [ZNormalization(), PadOrCrop(size), \n",
    "             RandomGamma(log_gamma=(-0.2,0.2), p=0.5), RandomAffine(scales=(0.9, 1.1), degrees=5, p=0.5), \n",
    "             RandomElasticDeformation(num_control_points=5, max_displacement=5.5, p=0.5)]"
   ],
   "metadata": {
    "collapsed": false,
    "ExecuteTime": {
     "end_time": "2024-06-05T22:20:02.895771Z",
     "start_time": "2024-06-05T22:20:02.887311Z"
    }
   },
   "id": "2e2d7ae3e6bd5f36"
  },
  {
   "cell_type": "code",
   "execution_count": 32,
   "outputs": [],
   "source": [
    "# Create a MedDataBlock with the specified blocks, splitter, and item transformations\n",
    "dblock = MedDataBlock(blocks=(ImageBlock(cls=MedImage), MedMaskBlock), \n",
    "                      splitter=ColSplitter('is_val'),\n",
    "                      get_x=ColReader('t2_img_path'),\n",
    "                      get_y=ColReader('t2_mask_path'),\n",
    "                      item_tfms=item_tfms,\n",
    "                      reorder=reorder,\n",
    "                      resample=resample) "
   ],
   "metadata": {
    "collapsed": false,
    "ExecuteTime": {
     "end_time": "2024-06-05T22:20:04.124301Z",
     "start_time": "2024-06-05T22:20:04.116773Z"
    }
   },
   "id": "7352080d0e630552"
  },
  {
   "cell_type": "code",
   "execution_count": 35,
   "outputs": [],
   "source": [
    "dls = dblock.dataloaders(df, bs=bs)"
   ],
   "metadata": {
    "collapsed": false,
    "ExecuteTime": {
     "end_time": "2024-06-05T22:20:19.206733Z",
     "start_time": "2024-06-05T22:20:19.118050Z"
    }
   },
   "id": "da2fa9d6eaca710f"
  },
  {
   "cell_type": "code",
   "execution_count": 36,
   "outputs": [
    {
     "data": {
      "text/plain": "(1, 0)"
     },
     "execution_count": 36,
     "metadata": {},
     "output_type": "execute_result"
    }
   ],
   "source": [
    "# training and validation\n",
    "len(dls.train_ds.items), len(dls.valid_ds.items)"
   ],
   "metadata": {
    "collapsed": false,
    "ExecuteTime": {
     "end_time": "2024-06-05T22:20:22.550552Z",
     "start_time": "2024-06-05T22:20:22.542193Z"
    }
   },
   "id": "81a13ad7a0012627"
  },
  {
   "cell_type": "code",
   "execution_count": 37,
   "outputs": [
    {
     "ename": "ValueError",
     "evalue": "This DataLoader does not contain any batches",
     "output_type": "error",
     "traceback": [
      "\u001B[0;31m---------------------------------------------------------------------------\u001B[0m",
      "\u001B[0;31mValueError\u001B[0m                                Traceback (most recent call last)",
      "Cell \u001B[0;32mIn[37], line 1\u001B[0m\n\u001B[0;32m----> 1\u001B[0m \u001B[43mdls\u001B[49m\u001B[38;5;241;43m.\u001B[39;49m\u001B[43mshow_batch\u001B[49m\u001B[43m(\u001B[49m\u001B[43munique\u001B[49m\u001B[38;5;241;43m=\u001B[39;49m\u001B[38;5;28;43;01mTrue\u001B[39;49;00m\u001B[43m,\u001B[49m\u001B[43m \u001B[49m\u001B[43mmax_n\u001B[49m\u001B[38;5;241;43m=\u001B[39;49m\u001B[38;5;241;43m1\u001B[39;49m\u001B[43m,\u001B[49m\u001B[43m \u001B[49m\u001B[43mfigsize\u001B[49m\u001B[38;5;241;43m=\u001B[39;49m\u001B[43m(\u001B[49m\u001B[38;5;241;43m5\u001B[39;49m\u001B[43m,\u001B[49m\u001B[43m \u001B[49m\u001B[38;5;241;43m5\u001B[39;49m\u001B[43m)\u001B[49m\u001B[43m)\u001B[49m \n",
      "File \u001B[0;32m/opt/homebrew/Caskroom/miniconda/base/envs/pythonProject/lib/python3.11/site-packages/fastai/data/core.py:149\u001B[0m, in \u001B[0;36mTfmdDL.show_batch\u001B[0;34m(self, b, max_n, ctxs, show, unique, **kwargs)\u001B[0m\n\u001B[1;32m    147\u001B[0m     old_get_idxs \u001B[38;5;241m=\u001B[39m \u001B[38;5;28mself\u001B[39m\u001B[38;5;241m.\u001B[39mget_idxs\n\u001B[1;32m    148\u001B[0m     \u001B[38;5;28mself\u001B[39m\u001B[38;5;241m.\u001B[39mget_idxs \u001B[38;5;241m=\u001B[39m \u001B[38;5;28;01mlambda\u001B[39;00m: Inf\u001B[38;5;241m.\u001B[39mzeros\n\u001B[0;32m--> 149\u001B[0m \u001B[38;5;28;01mif\u001B[39;00m b \u001B[38;5;129;01mis\u001B[39;00m \u001B[38;5;28;01mNone\u001B[39;00m: b \u001B[38;5;241m=\u001B[39m \u001B[38;5;28;43mself\u001B[39;49m\u001B[38;5;241;43m.\u001B[39;49m\u001B[43mone_batch\u001B[49m\u001B[43m(\u001B[49m\u001B[43m)\u001B[49m\n\u001B[1;32m    150\u001B[0m \u001B[38;5;28;01mif\u001B[39;00m \u001B[38;5;129;01mnot\u001B[39;00m show: \u001B[38;5;28;01mreturn\u001B[39;00m \u001B[38;5;28mself\u001B[39m\u001B[38;5;241m.\u001B[39m_pre_show_batch(b, max_n\u001B[38;5;241m=\u001B[39mmax_n)\n\u001B[1;32m    151\u001B[0m show_batch(\u001B[38;5;241m*\u001B[39m\u001B[38;5;28mself\u001B[39m\u001B[38;5;241m.\u001B[39m_pre_show_batch(b, max_n\u001B[38;5;241m=\u001B[39mmax_n), ctxs\u001B[38;5;241m=\u001B[39mctxs, max_n\u001B[38;5;241m=\u001B[39mmax_n, \u001B[38;5;241m*\u001B[39m\u001B[38;5;241m*\u001B[39mkwargs)\n",
      "File \u001B[0;32m/opt/homebrew/Caskroom/miniconda/base/envs/pythonProject/lib/python3.11/site-packages/fastai/data/load.py:171\u001B[0m, in \u001B[0;36mDataLoader.one_batch\u001B[0;34m(self)\u001B[0m\n\u001B[1;32m    170\u001B[0m \u001B[38;5;28;01mdef\u001B[39;00m \u001B[38;5;21mone_batch\u001B[39m(\u001B[38;5;28mself\u001B[39m):\n\u001B[0;32m--> 171\u001B[0m     \u001B[38;5;28;01mif\u001B[39;00m \u001B[38;5;28mself\u001B[39m\u001B[38;5;241m.\u001B[39mn \u001B[38;5;129;01mis\u001B[39;00m \u001B[38;5;129;01mnot\u001B[39;00m \u001B[38;5;28;01mNone\u001B[39;00m \u001B[38;5;129;01mand\u001B[39;00m \u001B[38;5;28mlen\u001B[39m(\u001B[38;5;28mself\u001B[39m)\u001B[38;5;241m==\u001B[39m\u001B[38;5;241m0\u001B[39m: \u001B[38;5;28;01mraise\u001B[39;00m \u001B[38;5;167;01mValueError\u001B[39;00m(\u001B[38;5;124mf\u001B[39m\u001B[38;5;124m'\u001B[39m\u001B[38;5;124mThis DataLoader does not contain any batches\u001B[39m\u001B[38;5;124m'\u001B[39m)\n\u001B[1;32m    172\u001B[0m     \u001B[38;5;28;01mwith\u001B[39;00m \u001B[38;5;28mself\u001B[39m\u001B[38;5;241m.\u001B[39mfake_l\u001B[38;5;241m.\u001B[39mno_multiproc(): res \u001B[38;5;241m=\u001B[39m first(\u001B[38;5;28mself\u001B[39m)\n\u001B[1;32m    173\u001B[0m     \u001B[38;5;28;01mif\u001B[39;00m \u001B[38;5;28mhasattr\u001B[39m(\u001B[38;5;28mself\u001B[39m, \u001B[38;5;124m'\u001B[39m\u001B[38;5;124mit\u001B[39m\u001B[38;5;124m'\u001B[39m): \u001B[38;5;28mdelattr\u001B[39m(\u001B[38;5;28mself\u001B[39m, \u001B[38;5;124m'\u001B[39m\u001B[38;5;124mit\u001B[39m\u001B[38;5;124m'\u001B[39m)\n",
      "\u001B[0;31mValueError\u001B[0m: This DataLoader does not contain any batches"
     ]
    }
   ],
   "source": [
    "dls.show_batch(unique=True, max_n=1, figsize=(5, 5)) "
   ],
   "metadata": {
    "collapsed": false,
    "ExecuteTime": {
     "end_time": "2024-06-05T22:20:28.077889Z",
     "start_time": "2024-06-05T22:20:28.066574Z"
    }
   },
   "id": "c9731bf9163fc34f"
  },
  {
   "cell_type": "code",
   "execution_count": 38,
   "outputs": [],
   "source": [
    "learn = Learner(dls, model, loss_func=loss_func, opt_func=ranger, metrics=[multi_dice_score])"
   ],
   "metadata": {
    "collapsed": false,
    "ExecuteTime": {
     "end_time": "2024-06-05T22:20:30.821573Z",
     "start_time": "2024-06-05T22:20:30.819628Z"
    }
   },
   "id": "267c05e9db116834"
  },
  {
   "cell_type": "code",
   "execution_count": 39,
   "outputs": [
    {
     "ename": "ZeroDivisionError",
     "evalue": "integer division or modulo by zero",
     "output_type": "error",
     "traceback": [
      "\u001B[0;31m---------------------------------------------------------------------------\u001B[0m",
      "\u001B[0;31mZeroDivisionError\u001B[0m                         Traceback (most recent call last)",
      "Cell \u001B[0;32mIn[39], line 1\u001B[0m\n\u001B[0;32m----> 1\u001B[0m lr\u001B[38;5;241m=\u001B[39m\u001B[43mlearn\u001B[49m\u001B[38;5;241;43m.\u001B[39;49m\u001B[43mlr_find\u001B[49m\u001B[43m(\u001B[49m\u001B[43m)\u001B[49m\n\u001B[1;32m      2\u001B[0m lr \n",
      "File \u001B[0;32m/opt/homebrew/Caskroom/miniconda/base/envs/pythonProject/lib/python3.11/site-packages/fastai/callback/schedule.py:291\u001B[0m, in \u001B[0;36mlr_find\u001B[0;34m(self, start_lr, end_lr, num_it, stop_div, show_plot, suggest_funcs)\u001B[0m\n\u001B[1;32m    288\u001B[0m \u001B[38;5;129m@patch\u001B[39m\n\u001B[1;32m    289\u001B[0m \u001B[38;5;28;01mdef\u001B[39;00m \u001B[38;5;21mlr_find\u001B[39m(\u001B[38;5;28mself\u001B[39m:Learner, start_lr\u001B[38;5;241m=\u001B[39m\u001B[38;5;241m1e-7\u001B[39m, end_lr\u001B[38;5;241m=\u001B[39m\u001B[38;5;241m10\u001B[39m, num_it\u001B[38;5;241m=\u001B[39m\u001B[38;5;241m100\u001B[39m, stop_div\u001B[38;5;241m=\u001B[39m\u001B[38;5;28;01mTrue\u001B[39;00m, show_plot\u001B[38;5;241m=\u001B[39m\u001B[38;5;28;01mTrue\u001B[39;00m, suggest_funcs\u001B[38;5;241m=\u001B[39m(SuggestionMethod\u001B[38;5;241m.\u001B[39mValley)):\n\u001B[1;32m    290\u001B[0m     \u001B[38;5;124m\"\u001B[39m\u001B[38;5;124mLaunch a mock training to find a good learning rate and return suggestions based on `suggest_funcs` as a named tuple\u001B[39m\u001B[38;5;124m\"\u001B[39m\n\u001B[0;32m--> 291\u001B[0m     n_epoch \u001B[38;5;241m=\u001B[39m \u001B[43mnum_it\u001B[49m\u001B[38;5;241;43m/\u001B[39;49m\u001B[38;5;241;43m/\u001B[39;49m\u001B[38;5;28;43mlen\u001B[39;49m\u001B[43m(\u001B[49m\u001B[38;5;28;43mself\u001B[39;49m\u001B[38;5;241;43m.\u001B[39;49m\u001B[43mdls\u001B[49m\u001B[38;5;241;43m.\u001B[39;49m\u001B[43mtrain\u001B[49m\u001B[43m)\u001B[49m \u001B[38;5;241m+\u001B[39m \u001B[38;5;241m1\u001B[39m\n\u001B[1;32m    292\u001B[0m     cb\u001B[38;5;241m=\u001B[39mLRFinder(start_lr\u001B[38;5;241m=\u001B[39mstart_lr, end_lr\u001B[38;5;241m=\u001B[39mend_lr, num_it\u001B[38;5;241m=\u001B[39mnum_it, stop_div\u001B[38;5;241m=\u001B[39mstop_div)\n\u001B[1;32m    293\u001B[0m     \u001B[38;5;28;01mwith\u001B[39;00m \u001B[38;5;28mself\u001B[39m\u001B[38;5;241m.\u001B[39mno_logging(): \u001B[38;5;28mself\u001B[39m\u001B[38;5;241m.\u001B[39mfit(n_epoch, cbs\u001B[38;5;241m=\u001B[39mcb)\n",
      "\u001B[0;31mZeroDivisionError\u001B[0m: integer division or modulo by zero"
     ]
    }
   ],
   "source": [
    "lr=learn.lr_find()\n",
    "lr "
   ],
   "metadata": {
    "collapsed": false,
    "ExecuteTime": {
     "end_time": "2024-06-05T22:20:31.217756Z",
     "start_time": "2024-06-05T22:20:31.215300Z"
    }
   },
   "id": "10bf15c9b217fdac"
  },
  {
   "cell_type": "code",
   "execution_count": null,
   "outputs": [],
   "source": [],
   "metadata": {
    "collapsed": false
   },
   "id": "43b9285699eaca36"
  }
 ],
 "metadata": {
  "kernelspec": {
   "display_name": "Python 3",
   "language": "python",
   "name": "python3"
  },
  "language_info": {
   "codemirror_mode": {
    "name": "ipython",
    "version": 2
   },
   "file_extension": ".py",
   "mimetype": "text/x-python",
   "name": "python",
   "nbconvert_exporter": "python",
   "pygments_lexer": "ipython2",
   "version": "2.7.6"
  }
 },
 "nbformat": 4,
 "nbformat_minor": 5
}
