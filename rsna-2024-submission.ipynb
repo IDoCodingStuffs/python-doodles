{
 "cells": [
  {
   "cell_type": "code",
   "execution_count": 3,
   "outputs": [],
   "source": [
    "from tqdm import tqdm\n",
    "import pandas as pd\n",
    "import numpy as np\n",
    "import os\n",
    "import glob\n",
    "import pydicom\n",
    "import matplotlib.pyplot as plt\n",
    "from time import time_ns\n"
   ],
   "metadata": {
    "collapsed": false,
    "ExecuteTime": {
     "end_time": "2024-06-06T23:44:34.945075Z",
     "start_time": "2024-06-06T23:44:34.086901Z"
    }
   },
   "id": "864c4fd02c824c3c"
  },
  {
   "cell_type": "code",
   "execution_count": null,
   "outputs": [],
   "source": [
    "#model = train()"
   ],
   "metadata": {
    "collapsed": false
   },
   "id": "912171899dda8dbd"
  },
  {
   "cell_type": "code",
   "execution_count": 4,
   "outputs": [],
   "source": [
    "import torch\n",
    "model = torch.load(\"models/my_unet_model_.pt\")"
   ],
   "metadata": {
    "collapsed": false,
    "ExecuteTime": {
     "end_time": "2024-06-06T23:44:37.962160Z",
     "start_time": "2024-06-06T23:44:36.842092Z"
    }
   },
   "id": "5fb48ddc79a1fa41"
  },
  {
   "cell_type": "code",
   "execution_count": 5,
   "outputs": [],
   "source": [
    "def load_test_dataset():\n",
    "    train_images = os.listdir(f'{data_location}/test_images')\n",
    "    train_images = list(filter(lambda x: x.find('.DS') == -1, train_images))\n",
    "    train_images = [(x, f'{data_location}/test_images/{x}') for x in\n",
    "                    train_images]\n",
    "\n",
    "    image_metadata_set = {p[0]: {'folder_path': p[1],\n",
    "                                 'SeriesInstanceUIDs': []\n",
    "                                 }\n",
    "                          for p in train_images}\n",
    "\n",
    "    for m in image_metadata_set:\n",
    "        image_metadata_set[m]['SeriesInstanceUIDs'] = list(\n",
    "            filter(lambda x: x.find('.DS') == -1,\n",
    "                   os.listdir(image_metadata_set[m]['folder_path'])\n",
    "                   )\n",
    "        )\n",
    "\n",
    "    df_meta_f = pd.read_csv(f'{data_location}//test_series_descriptions.csv')\n",
    "\n",
    "    for k in tqdm(image_metadata_set):\n",
    "        for s in image_metadata_set[k]['SeriesInstanceUIDs']:\n",
    "            if 'SeriesDescriptions' not in image_metadata_set[k]:\n",
    "                image_metadata_set[k]['SeriesDescriptions'] = []\n",
    "            try:\n",
    "                image_metadata_set[k]['SeriesDescriptions'].append(\n",
    "                    df_meta_f[(df_meta_f['study_id'] == int(k)) &\n",
    "                              (df_meta_f['series_id'] == int(s))]['series_description'].iloc[0])\n",
    "            except:\n",
    "                print(\"Failed on\", s, k)\n",
    "\n",
    "    return image_metadata_set"
   ],
   "metadata": {
    "collapsed": false,
    "ExecuteTime": {
     "end_time": "2024-06-06T23:44:37.962386Z",
     "start_time": "2024-06-06T23:44:37.956711Z"
    }
   },
   "id": "ac2b6040a87605ff"
  },
  {
   "cell_type": "code",
   "execution_count": 6,
   "outputs": [
    {
     "name": "stderr",
     "output_type": "stream",
     "text": [
      "100%|██████████| 1/1 [00:00<00:00, 296.73it/s]\n"
     ]
    }
   ],
   "source": [
    "data_location = \"data/rsna-2024-lumbar-spine-degenerative-classification\"\n",
    "test_images = load_test_dataset()"
   ],
   "metadata": {
    "collapsed": false,
    "ExecuteTime": {
     "end_time": "2024-06-06T23:44:39.536609Z",
     "start_time": "2024-06-06T23:44:39.507964Z"
    }
   },
   "id": "30546631b3ebf582"
  },
  {
   "cell_type": "code",
   "execution_count": 7,
   "outputs": [],
   "source": [
    "def get_test_imagesets_for_patient(sample_patient, image_metadata_set):\n",
    "    # !TODO: Index by some patient id\n",
    "    ptobj = image_metadata_set[sample_patient]\n",
    "\n",
    "    im_list_dcm = {}\n",
    "    for idx, i in enumerate(ptobj['SeriesInstanceUIDs']):\n",
    "        im_list_dcm[i] = {'images': [], 'description': ptobj['SeriesDescriptions'][idx]}\n",
    "        images = glob.glob(f\"{ptobj['folder_path']}/{ptobj['SeriesInstanceUIDs'][idx]}/*.dcm\")\n",
    "        for j in sorted(images, key=lambda x: int(x.split('/')[-1].replace('.dcm', ''))):\n",
    "            im_list_dcm[i]['images'].append({\n",
    "                'SOPInstanceUID': j.split('/')[-1].replace('.dcm', ''),\n",
    "                'dicom': pydicom.dcmread(j)})\n",
    "\n",
    "    return {e['description']: [x['dicom'].pixel_array for x in e['images']] for e in im_list_dcm.values()}\n"
   ],
   "metadata": {
    "collapsed": false,
    "ExecuteTime": {
     "end_time": "2024-06-06T23:44:40.631440Z",
     "start_time": "2024-06-06T23:44:40.621830Z"
    }
   },
   "id": "aeac397c5f4307a4"
  },
  {
   "cell_type": "code",
   "execution_count": 8,
   "outputs": [],
   "source": [
    "def yield_images(image_metadata_set, subjects):\n",
    "    image_set = []\n",
    "    corresponding_subject = []\n",
    "    for subject in subjects:\n",
    "        test_imageset = get_test_imagesets_for_patient(subject, image_metadata_set)\n",
    "        image_set += [np.array(e, dtype=np.int32) for e in test_imageset[\"Axial T2\"]]\n",
    "        image_set += [np.array(e, dtype=np.int32) for e in test_imageset[\"Sagittal T2/STIR\"]]\n",
    "        image_set += [np.array(e, dtype=np.int32) for e in test_imageset[\"Sagittal T1\"]]\n",
    "        corresponding_subject.append(subject)\n",
    "        corresponding_subject.append(subject)\n",
    "        corresponding_subject.append(subject)\n",
    "\n",
    "    return image_set, corresponding_subject\n"
   ],
   "metadata": {
    "collapsed": false,
    "ExecuteTime": {
     "end_time": "2024-06-06T23:44:41.378007Z",
     "start_time": "2024-06-06T23:44:41.375397Z"
    }
   },
   "id": "7fe77b8c51f0dcc0"
  },
  {
   "cell_type": "code",
   "execution_count": 9,
   "outputs": [],
   "source": [
    "subjects = list(test_images.keys())\n",
    "test_images, corresponding_subjects = yield_images(test_images, subjects)"
   ],
   "metadata": {
    "collapsed": false,
    "ExecuteTime": {
     "end_time": "2024-06-06T23:44:42.828327Z",
     "start_time": "2024-06-06T23:44:42.299694Z"
    }
   },
   "id": "d30b75c340179de7"
  },
  {
   "cell_type": "code",
   "execution_count": 10,
   "outputs": [
    {
     "data": {
      "text/plain": "UNet(\n  (inc): DoubleConv(\n    (double_conv): Sequential(\n      (0): Conv2d(1, 64, kernel_size=(3, 3), stride=(1, 1), padding=(1, 1), bias=False)\n      (1): BatchNorm2d(64, eps=1e-05, momentum=0.1, affine=True, track_running_stats=True)\n      (2): ReLU(inplace=True)\n      (3): Conv2d(64, 64, kernel_size=(3, 3), stride=(1, 1), padding=(1, 1), bias=False)\n      (4): BatchNorm2d(64, eps=1e-05, momentum=0.1, affine=True, track_running_stats=True)\n      (5): ReLU(inplace=True)\n    )\n  )\n  (down1): Down(\n    (maxpool_conv): Sequential(\n      (0): MaxPool2d(kernel_size=2, stride=2, padding=0, dilation=1, ceil_mode=False)\n      (1): DoubleConv(\n        (double_conv): Sequential(\n          (0): Conv2d(64, 128, kernel_size=(3, 3), stride=(1, 1), padding=(1, 1), bias=False)\n          (1): BatchNorm2d(128, eps=1e-05, momentum=0.1, affine=True, track_running_stats=True)\n          (2): ReLU(inplace=True)\n          (3): Conv2d(128, 128, kernel_size=(3, 3), stride=(1, 1), padding=(1, 1), bias=False)\n          (4): BatchNorm2d(128, eps=1e-05, momentum=0.1, affine=True, track_running_stats=True)\n          (5): ReLU(inplace=True)\n        )\n      )\n    )\n  )\n  (down2): Down(\n    (maxpool_conv): Sequential(\n      (0): MaxPool2d(kernel_size=2, stride=2, padding=0, dilation=1, ceil_mode=False)\n      (1): DoubleConv(\n        (double_conv): Sequential(\n          (0): Conv2d(128, 256, kernel_size=(3, 3), stride=(1, 1), padding=(1, 1), bias=False)\n          (1): BatchNorm2d(256, eps=1e-05, momentum=0.1, affine=True, track_running_stats=True)\n          (2): ReLU(inplace=True)\n          (3): Conv2d(256, 256, kernel_size=(3, 3), stride=(1, 1), padding=(1, 1), bias=False)\n          (4): BatchNorm2d(256, eps=1e-05, momentum=0.1, affine=True, track_running_stats=True)\n          (5): ReLU(inplace=True)\n        )\n      )\n    )\n  )\n  (down3): Down(\n    (maxpool_conv): Sequential(\n      (0): MaxPool2d(kernel_size=2, stride=2, padding=0, dilation=1, ceil_mode=False)\n      (1): DoubleConv(\n        (double_conv): Sequential(\n          (0): Conv2d(256, 512, kernel_size=(3, 3), stride=(1, 1), padding=(1, 1), bias=False)\n          (1): BatchNorm2d(512, eps=1e-05, momentum=0.1, affine=True, track_running_stats=True)\n          (2): ReLU(inplace=True)\n          (3): Conv2d(512, 512, kernel_size=(3, 3), stride=(1, 1), padding=(1, 1), bias=False)\n          (4): BatchNorm2d(512, eps=1e-05, momentum=0.1, affine=True, track_running_stats=True)\n          (5): ReLU(inplace=True)\n        )\n      )\n    )\n  )\n  (down4): Down(\n    (maxpool_conv): Sequential(\n      (0): MaxPool2d(kernel_size=2, stride=2, padding=0, dilation=1, ceil_mode=False)\n      (1): DoubleConv(\n        (double_conv): Sequential(\n          (0): Conv2d(512, 1024, kernel_size=(3, 3), stride=(1, 1), padding=(1, 1), bias=False)\n          (1): BatchNorm2d(1024, eps=1e-05, momentum=0.1, affine=True, track_running_stats=True)\n          (2): ReLU(inplace=True)\n          (3): Conv2d(1024, 1024, kernel_size=(3, 3), stride=(1, 1), padding=(1, 1), bias=False)\n          (4): BatchNorm2d(1024, eps=1e-05, momentum=0.1, affine=True, track_running_stats=True)\n          (5): ReLU(inplace=True)\n        )\n      )\n    )\n  )\n  (up1): Up(\n    (up): ConvTranspose2d(1024, 512, kernel_size=(2, 2), stride=(2, 2))\n    (conv): DoubleConv(\n      (double_conv): Sequential(\n        (0): Conv2d(1024, 512, kernel_size=(3, 3), stride=(1, 1), padding=(1, 1), bias=False)\n        (1): BatchNorm2d(512, eps=1e-05, momentum=0.1, affine=True, track_running_stats=True)\n        (2): ReLU(inplace=True)\n        (3): Conv2d(512, 512, kernel_size=(3, 3), stride=(1, 1), padding=(1, 1), bias=False)\n        (4): BatchNorm2d(512, eps=1e-05, momentum=0.1, affine=True, track_running_stats=True)\n        (5): ReLU(inplace=True)\n      )\n    )\n  )\n  (up2): Up(\n    (up): ConvTranspose2d(512, 256, kernel_size=(2, 2), stride=(2, 2))\n    (conv): DoubleConv(\n      (double_conv): Sequential(\n        (0): Conv2d(512, 256, kernel_size=(3, 3), stride=(1, 1), padding=(1, 1), bias=False)\n        (1): BatchNorm2d(256, eps=1e-05, momentum=0.1, affine=True, track_running_stats=True)\n        (2): ReLU(inplace=True)\n        (3): Conv2d(256, 256, kernel_size=(3, 3), stride=(1, 1), padding=(1, 1), bias=False)\n        (4): BatchNorm2d(256, eps=1e-05, momentum=0.1, affine=True, track_running_stats=True)\n        (5): ReLU(inplace=True)\n      )\n    )\n  )\n  (up3): Up(\n    (up): ConvTranspose2d(256, 128, kernel_size=(2, 2), stride=(2, 2))\n    (conv): DoubleConv(\n      (double_conv): Sequential(\n        (0): Conv2d(256, 128, kernel_size=(3, 3), stride=(1, 1), padding=(1, 1), bias=False)\n        (1): BatchNorm2d(128, eps=1e-05, momentum=0.1, affine=True, track_running_stats=True)\n        (2): ReLU(inplace=True)\n        (3): Conv2d(128, 128, kernel_size=(3, 3), stride=(1, 1), padding=(1, 1), bias=False)\n        (4): BatchNorm2d(128, eps=1e-05, momentum=0.1, affine=True, track_running_stats=True)\n        (5): ReLU(inplace=True)\n      )\n    )\n  )\n  (up4): Up(\n    (up): ConvTranspose2d(128, 64, kernel_size=(2, 2), stride=(2, 2))\n    (conv): DoubleConv(\n      (double_conv): Sequential(\n        (0): Conv2d(128, 64, kernel_size=(3, 3), stride=(1, 1), padding=(1, 1), bias=False)\n        (1): BatchNorm2d(64, eps=1e-05, momentum=0.1, affine=True, track_running_stats=True)\n        (2): ReLU(inplace=True)\n        (3): Conv2d(64, 64, kernel_size=(3, 3), stride=(1, 1), padding=(1, 1), bias=False)\n        (4): BatchNorm2d(64, eps=1e-05, momentum=0.1, affine=True, track_running_stats=True)\n        (5): ReLU(inplace=True)\n      )\n    )\n  )\n  (outc): ConvToFC(\n    (conv): Conv2d(64, 1, kernel_size=(512, 1), stride=(1, 1))\n    (relu): ReLU(inplace=True)\n    (fc): Linear(in_features=512, out_features=25, bias=True)\n  )\n)"
     },
     "execution_count": 10,
     "metadata": {},
     "output_type": "execute_result"
    }
   ],
   "source": [
    "model.eval()"
   ],
   "metadata": {
    "collapsed": false,
    "ExecuteTime": {
     "end_time": "2024-06-06T23:44:43.583779Z",
     "start_time": "2024-06-06T23:44:43.581424Z"
    }
   },
   "id": "ceca569f14f9796c"
  },
  {
   "cell_type": "code",
   "execution_count": 11,
   "outputs": [],
   "source": [
    "import torchvision.transforms as transforms\n",
    "\n",
    "tf = transforms.Compose([\n",
    "    transforms.ToPILImage(),\n",
    "    transforms.Resize((512, 512)),\n",
    "    transforms.ToTensor()\n",
    "])\n"
   ],
   "metadata": {
    "collapsed": false,
    "ExecuteTime": {
     "end_time": "2024-06-06T23:44:44.907164Z",
     "start_time": "2024-06-06T23:44:44.809684Z"
    }
   },
   "id": "4c020fc4e1620c66"
  },
  {
   "cell_type": "code",
   "execution_count": 12,
   "outputs": [],
   "source": [
    "tfd_input = torch.stack([tf(e).float() for e in test_images])"
   ],
   "metadata": {
    "collapsed": false,
    "ExecuteTime": {
     "end_time": "2024-06-06T23:44:46.380945Z",
     "start_time": "2024-06-06T23:44:46.194071Z"
    }
   },
   "id": "c3a33a46b7ce3d9b"
  },
  {
   "cell_type": "code",
   "execution_count": null,
   "outputs": [],
   "source": [
    "out = model(tfd_input)"
   ],
   "metadata": {
    "collapsed": false,
    "is_executing": true,
    "ExecuteTime": {
     "start_time": "2024-06-06T23:45:05.327110Z"
    }
   },
   "id": "945edc68f377d7c6"
  },
  {
   "cell_type": "code",
   "execution_count": 1,
   "outputs": [
    {
     "ename": "NameError",
     "evalue": "name 'pd' is not defined",
     "output_type": "error",
     "traceback": [
      "\u001B[0;31m---------------------------------------------------------------------------\u001B[0m",
      "\u001B[0;31mNameError\u001B[0m                                 Traceback (most recent call last)",
      "Cell \u001B[0;32mIn[1], line 1\u001B[0m\n\u001B[0;32m----> 1\u001B[0m sample_submission \u001B[38;5;241m=\u001B[39m \u001B[43mpd\u001B[49m\u001B[38;5;241m.\u001B[39mread_csv(\u001B[38;5;124mf\u001B[39m\u001B[38;5;124m\"\u001B[39m\u001B[38;5;132;01m{\u001B[39;00mdata_location\u001B[38;5;132;01m}\u001B[39;00m\u001B[38;5;124m/sample_submission.csv\u001B[39m\u001B[38;5;124m\"\u001B[39m)\n",
      "\u001B[0;31mNameError\u001B[0m: name 'pd' is not defined"
     ]
    }
   ],
   "source": [
    "sample_submission = pd.read_csv(f\"{data_location}/sample_submission.csv\")"
   ],
   "metadata": {
    "collapsed": false,
    "ExecuteTime": {
     "end_time": "2024-06-07T00:16:23.814378Z",
     "start_time": "2024-06-07T00:16:23.687643Z"
    }
   },
   "id": "2f2b47e5b49ae936"
  },
  {
   "cell_type": "code",
   "execution_count": null,
   "outputs": [],
   "source": [],
   "metadata": {
    "collapsed": false
   },
   "id": "27d6eb95f37013fa"
  }
 ],
 "metadata": {
  "kernelspec": {
   "display_name": "Python 3",
   "language": "python",
   "name": "python3"
  },
  "language_info": {
   "codemirror_mode": {
    "name": "ipython",
    "version": 2
   },
   "file_extension": ".py",
   "mimetype": "text/x-python",
   "name": "python",
   "nbconvert_exporter": "python",
   "pygments_lexer": "ipython2",
   "version": "2.7.6"
  }
 },
 "nbformat": 4,
 "nbformat_minor": 5
}
