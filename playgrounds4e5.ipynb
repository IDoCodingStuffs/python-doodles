{
 "cells": [
  {
   "cell_type": "code",
   "execution_count": 43,
   "id": "093ada0f",
   "metadata": {},
   "outputs": [],
   "source": [
    "import pandas as pd\n",
    "import numpy as np\n",
    "from sklearn.model_selection import train_test_split\n",
    "from sklearn.linear_model import Ridge, Lasso, RidgeCV \n",
    "from sklearn.svm import LinearSVR\n",
    "from sklearn.ensemble import RandomForestRegressor, StackingRegressor\n",
    "import matplotlib.pyplot as plt"
   ]
  },
  {
   "cell_type": "code",
   "execution_count": 44,
   "id": "9e48ffcb",
   "metadata": {},
   "outputs": [
    {
     "data": {
      "text/html": [
       "<div>\n",
       "<style scoped>\n",
       "    .dataframe tbody tr th:only-of-type {\n",
       "        vertical-align: middle;\n",
       "    }\n",
       "\n",
       "    .dataframe tbody tr th {\n",
       "        vertical-align: top;\n",
       "    }\n",
       "\n",
       "    .dataframe thead th {\n",
       "        text-align: right;\n",
       "    }\n",
       "</style>\n",
       "<table border=\"1\" class=\"dataframe\">\n",
       "  <thead>\n",
       "    <tr style=\"text-align: right;\">\n",
       "      <th></th>\n",
       "      <th>id</th>\n",
       "      <th>FloodProbability</th>\n",
       "    </tr>\n",
       "  </thead>\n",
       "  <tbody>\n",
       "    <tr>\n",
       "      <th>0</th>\n",
       "      <td>1117957</td>\n",
       "      <td>0.5</td>\n",
       "    </tr>\n",
       "    <tr>\n",
       "      <th>1</th>\n",
       "      <td>1117958</td>\n",
       "      <td>0.5</td>\n",
       "    </tr>\n",
       "    <tr>\n",
       "      <th>2</th>\n",
       "      <td>1117959</td>\n",
       "      <td>0.5</td>\n",
       "    </tr>\n",
       "    <tr>\n",
       "      <th>3</th>\n",
       "      <td>1117960</td>\n",
       "      <td>0.5</td>\n",
       "    </tr>\n",
       "    <tr>\n",
       "      <th>4</th>\n",
       "      <td>1117961</td>\n",
       "      <td>0.5</td>\n",
       "    </tr>\n",
       "    <tr>\n",
       "      <th>...</th>\n",
       "      <td>...</td>\n",
       "      <td>...</td>\n",
       "    </tr>\n",
       "    <tr>\n",
       "      <th>745300</th>\n",
       "      <td>1863257</td>\n",
       "      <td>0.5</td>\n",
       "    </tr>\n",
       "    <tr>\n",
       "      <th>745301</th>\n",
       "      <td>1863258</td>\n",
       "      <td>0.5</td>\n",
       "    </tr>\n",
       "    <tr>\n",
       "      <th>745302</th>\n",
       "      <td>1863259</td>\n",
       "      <td>0.5</td>\n",
       "    </tr>\n",
       "    <tr>\n",
       "      <th>745303</th>\n",
       "      <td>1863260</td>\n",
       "      <td>0.5</td>\n",
       "    </tr>\n",
       "    <tr>\n",
       "      <th>745304</th>\n",
       "      <td>1863261</td>\n",
       "      <td>0.5</td>\n",
       "    </tr>\n",
       "  </tbody>\n",
       "</table>\n",
       "<p>745305 rows × 2 columns</p>\n",
       "</div>"
      ],
      "text/plain": [
       "             id  FloodProbability\n",
       "0       1117957               0.5\n",
       "1       1117958               0.5\n",
       "2       1117959               0.5\n",
       "3       1117960               0.5\n",
       "4       1117961               0.5\n",
       "...         ...               ...\n",
       "745300  1863257               0.5\n",
       "745301  1863258               0.5\n",
       "745302  1863259               0.5\n",
       "745303  1863260               0.5\n",
       "745304  1863261               0.5\n",
       "\n",
       "[745305 rows x 2 columns]"
      ]
     },
     "execution_count": 44,
     "metadata": {},
     "output_type": "execute_result"
    }
   ],
   "source": [
    "pd.read_csv(\"datasets/playground-series-s4e5/sample_submission.csv\")"
   ]
  },
  {
   "cell_type": "code",
   "execution_count": 89,
   "id": "a6cf68ee",
   "metadata": {},
   "outputs": [],
   "source": [
    "def submit_for_model(submission_data, model):\n",
    "    #submission_data = pd.read_csv(\"datasets/playground-series-s4e5/test.csv\")\n",
    "    #submission_data[\"sum_features_in_range\"] = submission_data[feature_cols].sum(axis=1).isin(np.arange(72, 76))\n",
    "    pred = model.predict(submission_data)\n",
    "    submission = pd.DataFrame({'id': submission_data.id, 'FloodProbability': pred})\n",
    "    submission.to_csv(\"submission.csv\", index=False)"
   ]
  },
  {
   "cell_type": "code",
   "execution_count": 46,
   "id": "5d446cdd",
   "metadata": {},
   "outputs": [],
   "source": [
    "train = pd.read_csv(\"datasets/playground-series-s4e5/train.csv\")"
   ]
  },
  {
   "cell_type": "code",
   "execution_count": 47,
   "id": "c1adac0b",
   "metadata": {},
   "outputs": [
    {
     "data": {
      "text/plain": [
       "Index(['id', 'MonsoonIntensity', 'TopographyDrainage', 'RiverManagement',\n",
       "       'Deforestation', 'Urbanization', 'ClimateChange', 'DamsQuality',\n",
       "       'Siltation', 'AgriculturalPractices', 'Encroachments',\n",
       "       'IneffectiveDisasterPreparedness', 'DrainageSystems',\n",
       "       'CoastalVulnerability', 'Landslides', 'Watersheds',\n",
       "       'DeterioratingInfrastructure', 'PopulationScore', 'WetlandLoss',\n",
       "       'InadequatePlanning', 'PoliticalFactors', 'FloodProbability'],\n",
       "      dtype='object')"
      ]
     },
     "execution_count": 47,
     "metadata": {},
     "output_type": "execute_result"
    }
   ],
   "source": [
    "train.columns"
   ]
  },
  {
   "cell_type": "markdown",
   "id": "a443b718",
   "metadata": {},
   "source": [
    "## First, check the data"
   ]
  },
  {
   "cell_type": "code",
   "execution_count": 48,
   "id": "65ee265c",
   "metadata": {},
   "outputs": [
    {
     "data": {
      "text/plain": [
       "id                                 0\n",
       "MonsoonIntensity                   0\n",
       "TopographyDrainage                 0\n",
       "RiverManagement                    0\n",
       "Deforestation                      0\n",
       "Urbanization                       0\n",
       "ClimateChange                      0\n",
       "DamsQuality                        0\n",
       "Siltation                          0\n",
       "AgriculturalPractices              0\n",
       "Encroachments                      0\n",
       "IneffectiveDisasterPreparedness    0\n",
       "DrainageSystems                    0\n",
       "CoastalVulnerability               0\n",
       "Landslides                         0\n",
       "Watersheds                         0\n",
       "DeterioratingInfrastructure        0\n",
       "PopulationScore                    0\n",
       "WetlandLoss                        0\n",
       "InadequatePlanning                 0\n",
       "PoliticalFactors                   0\n",
       "FloodProbability                   0\n",
       "dtype: int64"
      ]
     },
     "execution_count": 48,
     "metadata": {},
     "output_type": "execute_result"
    }
   ],
   "source": [
    "train.isnull().sum()"
   ]
  },
  {
   "cell_type": "markdown",
   "id": "4fa47362",
   "metadata": {},
   "source": [
    "## Next, feature engineering"
   ]
  },
  {
   "cell_type": "code",
   "execution_count": 137,
   "id": "35a530d3",
   "metadata": {},
   "outputs": [],
   "source": [
    "feature_cols = ['MonsoonIntensity', 'TopographyDrainage', 'RiverManagement',\n",
    "       'Deforestation', 'Urbanization', 'ClimateChange', 'DamsQuality',\n",
    "       'Siltation', 'AgriculturalPractices', 'Encroachments',\n",
    "       'IneffectiveDisasterPreparedness', 'DrainageSystems',\n",
    "       'CoastalVulnerability', 'Landslides', 'Watersheds',\n",
    "       'DeterioratingInfrastructure', 'PopulationScore', 'WetlandLoss',\n",
    "       'InadequatePlanning', 'PoliticalFactors']\n",
    "X = train[feature_cols]\n",
    "y = train[\"FloodProbability\"]"
   ]
  },
  {
   "cell_type": "markdown",
   "id": "0ccba010",
   "metadata": {},
   "source": [
    "### Let's do some exploratory analysis"
   ]
  },
  {
   "cell_type": "code",
   "execution_count": 108,
   "id": "85d51def",
   "metadata": {},
   "outputs": [
    {
     "data": {
      "text/plain": [
       "count    1.117957e+06\n",
       "mean     9.878823e+01\n",
       "std      8.307287e+00\n",
       "min      6.300000e+01\n",
       "25%      9.400000e+01\n",
       "50%      9.800000e+01\n",
       "75%      1.040000e+02\n",
       "max      1.440000e+02\n",
       "dtype: float64"
      ]
     },
     "execution_count": 108,
     "metadata": {},
     "output_type": "execute_result"
    }
   ],
   "source": [
    "features_sum = X.sum(axis=1)\n",
    "features_sum.describe()"
   ]
  },
  {
   "cell_type": "code",
   "execution_count": 109,
   "id": "e1059f9b",
   "metadata": {},
   "outputs": [
    {
     "data": {
      "image/png": "[encoded data removed]",
      "text/plain": [
       "<Figure size 640x480 with 1 Axes>"
      ]
     },
     "metadata": {},
     "output_type": "display_data"
    }
   ],
   "source": [
    "plt.scatter(features_sum, y)\n",
    "plt.show()"
   ]
  },
  {
   "cell_type": "code",
   "execution_count": 110,
   "id": "81a43014",
   "metadata": {},
   "outputs": [],
   "source": [
    "corr = pd.DataFrame({\"sums\" : features_sum, \"probs\": y})\n",
    "corr_means = corr.groupby(\"sums\").mean()\n",
    "corr_min = corr.groupby(\"sums\").min()\n",
    "corr_max = corr.groupby(\"sums\").max()"
   ]
  },
  {
   "cell_type": "code",
   "execution_count": 111,
   "id": "7d357395",
   "metadata": {},
   "outputs": [
    {
     "data": {
      "image/png": "[encoded data removed]",
      "text/plain": [
       "<Figure size 640x480 with 1 Axes>"
      ]
     },
     "metadata": {},
     "output_type": "display_data"
    }
   ],
   "source": [
    "plt.plot(corr_means)\n",
    "plt.plot(corr_min)\n",
    "plt.plot(corr_max)\n",
    "plt.show()"
   ]
  },
  {
   "cell_type": "markdown",
   "id": "bfd443c8",
   "metadata": {},
   "source": [
    "## Then, train-test split"
   ]
  },
  {
   "cell_type": "code",
   "execution_count": 112,
   "id": "efc8e830",
   "metadata": {},
   "outputs": [],
   "source": [
    "X_train, X_test, y_train, y_test = train_test_split(X, y, test_size = 0.3)"
   ]
  },
  {
   "cell_type": "markdown",
   "id": "7c24553d",
   "metadata": {},
   "source": [
    "## After that, model engineering"
   ]
  },
  {
   "cell_type": "code",
   "execution_count": 113,
   "id": "cb969f87",
   "metadata": {},
   "outputs": [],
   "source": [
    "model = Ridge()"
   ]
  },
  {
   "cell_type": "markdown",
   "id": "17829159",
   "metadata": {},
   "source": [
    "## Then training and validation"
   ]
  },
  {
   "cell_type": "code",
   "execution_count": 114,
   "id": "949506db",
   "metadata": {},
   "outputs": [
    {
     "data": {
      "text/html": [
       "<style>#sk-container-id-8 {color: black;background-color: white;}#sk-container-id-8 pre{padding: 0;}#sk-container-id-8 div.sk-toggleable {background-color: white;}#sk-container-id-8 label.sk-toggleable__label {cursor: pointer;display: block;width: 100%;margin-bottom: 0;padding: 0.3em;box-sizing: border-box;text-align: center;}#sk-container-id-8 label.sk-toggleable__label-arrow:before {content: \"▸\";float: left;margin-right: 0.25em;color: #696969;}#sk-container-id-8 label.sk-toggleable__label-arrow:hover:before {color: black;}#sk-container-id-8 div.sk-estimator:hover label.sk-toggleable__label-arrow:before {color: black;}#sk-container-id-8 div.sk-toggleable__content {max-height: 0;max-width: 0;overflow: hidden;text-align: left;background-color: #f0f8ff;}#sk-container-id-8 div.sk-toggleable__content pre {margin: 0.2em;color: black;border-radius: 0.25em;background-color: #f0f8ff;}#sk-container-id-8 input.sk-toggleable__control:checked~div.sk-toggleable__content {max-height: 200px;max-width: 100%;overflow: auto;}#sk-container-id-8 input.sk-toggleable__control:checked~label.sk-toggleable__label-arrow:before {content: \"▾\";}#sk-container-id-8 div.sk-estimator input.sk-toggleable__control:checked~label.sk-toggleable__label {background-color: #d4ebff;}#sk-container-id-8 div.sk-label input.sk-toggleable__control:checked~label.sk-toggleable__label {background-color: #d4ebff;}#sk-container-id-8 input.sk-hidden--visually {border: 0;clip: rect(1px 1px 1px 1px);clip: rect(1px, 1px, 1px, 1px);height: 1px;margin: -1px;overflow: hidden;padding: 0;position: absolute;width: 1px;}#sk-container-id-8 div.sk-estimator {font-family: monospace;background-color: #f0f8ff;border: 1px dotted black;border-radius: 0.25em;box-sizing: border-box;margin-bottom: 0.5em;}#sk-container-id-8 div.sk-estimator:hover {background-color: #d4ebff;}#sk-container-id-8 div.sk-parallel-item::after {content: \"\";width: 100%;border-bottom: 1px solid gray;flex-grow: 1;}#sk-container-id-8 div.sk-label:hover label.sk-toggleable__label {background-color: #d4ebff;}#sk-container-id-8 div.sk-serial::before {content: \"\";position: absolute;border-left: 1px solid gray;box-sizing: border-box;top: 0;bottom: 0;left: 50%;z-index: 0;}#sk-container-id-8 div.sk-serial {display: flex;flex-direction: column;align-items: center;background-color: white;padding-right: 0.2em;padding-left: 0.2em;position: relative;}#sk-container-id-8 div.sk-item {position: relative;z-index: 1;}#sk-container-id-8 div.sk-parallel {display: flex;align-items: stretch;justify-content: center;background-color: white;position: relative;}#sk-container-id-8 div.sk-item::before, #sk-container-id-8 div.sk-parallel-item::before {content: \"\";position: absolute;border-left: 1px solid gray;box-sizing: border-box;top: 0;bottom: 0;left: 50%;z-index: -1;}#sk-container-id-8 div.sk-parallel-item {display: flex;flex-direction: column;z-index: 1;position: relative;background-color: white;}#sk-container-id-8 div.sk-parallel-item:first-child::after {align-self: flex-end;width: 50%;}#sk-container-id-8 div.sk-parallel-item:last-child::after {align-self: flex-start;width: 50%;}#sk-container-id-8 div.sk-parallel-item:only-child::after {width: 0;}#sk-container-id-8 div.sk-dashed-wrapped {border: 1px dashed gray;margin: 0 0.4em 0.5em 0.4em;box-sizing: border-box;padding-bottom: 0.4em;background-color: white;}#sk-container-id-8 div.sk-label label {font-family: monospace;font-weight: bold;display: inline-block;line-height: 1.2em;}#sk-container-id-8 div.sk-label-container {text-align: center;}#sk-container-id-8 div.sk-container {/* jupyter's `normalize.less` sets `[hidden] { display: none; }` but bootstrap.min.css set `[hidden] { display: none !important; }` so we also need the `!important` here to be able to override the default hidden behavior on the sphinx rendered scikit-learn.org. See: https://github.com/scikit-learn/scikit-learn/issues/21755 */display: inline-block !important;position: relative;}#sk-container-id-8 div.sk-text-repr-fallback {display: none;}</style><div id=\"sk-container-id-8\" class=\"sk-top-container\"><div class=\"sk-text-repr-fallback\"><pre>Ridge()</pre><b>In a Jupyter environment, please rerun this cell to show the HTML representation or trust the notebook. <br />On GitHub, the HTML representation is unable to render, please try loading this page with nbviewer.org.</b></div><div class=\"sk-container\" hidden><div class=\"sk-item\"><div class=\"sk-estimator sk-toggleable\"><input class=\"sk-toggleable__control sk-hidden--visually\" id=\"sk-estimator-id-8\" type=\"checkbox\" checked><label for=\"sk-estimator-id-8\" class=\"sk-toggleable__label sk-toggleable__label-arrow\">Ridge</label><div class=\"sk-toggleable__content\"><pre>Ridge()</pre></div></div></div></div></div>"
      ],
      "text/plain": [
       "Ridge()"
      ]
     },
     "execution_count": 114,
     "metadata": {},
     "output_type": "execute_result"
    }
   ],
   "source": [
    "model.fit(X_train, y_train)"
   ]
  },
  {
   "cell_type": "code",
   "execution_count": 115,
   "id": "fdef8a0a",
   "metadata": {},
   "outputs": [
    {
     "data": {
      "text/plain": [
       "0.8456537265849814"
      ]
     },
     "execution_count": 115,
     "metadata": {},
     "output_type": "execute_result"
    }
   ],
   "source": [
    "model.score(X_test, y_test)"
   ]
  },
  {
   "cell_type": "code",
   "execution_count": 116,
   "id": "141c37c6",
   "metadata": {},
   "outputs": [
    {
     "ename": "TypeError",
     "evalue": "submit_for_model() missing 1 required positional argument: 'model'",
     "output_type": "error",
     "traceback": [
      "\u001B[0;31m---------------------------------------------------------------------------\u001B[0m",
      "\u001B[0;31mTypeError\u001B[0m                                 Traceback (most recent call last)",
      "Cell \u001B[0;32mIn[116], line 1\u001B[0m\n\u001B[0;32m----> 1\u001B[0m \u001B[43msubmit_for_model\u001B[49m\u001B[43m(\u001B[49m\u001B[43mmodel\u001B[49m\u001B[43m)\u001B[49m\n",
      "\u001B[0;31mTypeError\u001B[0m: submit_for_model() missing 1 required positional argument: 'model'"
     ]
    }
   ],
   "source": [
    "submit_for_model(model)"
   ]
  },
  {
   "cell_type": "markdown",
   "id": "267793c3",
   "metadata": {},
   "source": [
    "## Try different model"
   ]
  },
  {
   "cell_type": "code",
   "execution_count": 120,
   "id": "c1b9f87d",
   "metadata": {},
   "outputs": [],
   "source": [
    "from sklearn.tree import DecisionTreeRegressor, ExtraTreeRegressor\n",
    "from catboost import CatBoostRegressor"
   ]
  },
  {
   "cell_type": "code",
   "execution_count": 121,
   "id": "d49f6272",
   "metadata": {},
   "outputs": [
    {
     "data": {
      "text/plain": [
       "0.8461456702023054"
      ]
     },
     "execution_count": 121,
     "metadata": {},
     "output_type": "execute_result"
    }
   ],
   "source": [
    "model = CatBoostRegressor(verbose=False, allow_writing_files=False)\n",
    "model.fit(X_train, y_train)\n",
    "model.score(X_test, y_test)"
   ]
  },
  {
   "cell_type": "code",
   "execution_count": 122,
   "id": "43c2f5d3",
   "metadata": {},
   "outputs": [
    {
     "ename": "TypeError",
     "evalue": "submit_for_model() missing 1 required positional argument: 'model'",
     "output_type": "error",
     "traceback": [
      "\u001B[0;31m---------------------------------------------------------------------------\u001B[0m",
      "\u001B[0;31mTypeError\u001B[0m                                 Traceback (most recent call last)",
      "Cell \u001B[0;32mIn[122], line 1\u001B[0m\n\u001B[0;32m----> 1\u001B[0m \u001B[43msubmit_for_model\u001B[49m\u001B[43m(\u001B[49m\u001B[43mmodel\u001B[49m\u001B[43m)\u001B[49m\n",
      "\u001B[0;31mTypeError\u001B[0m: submit_for_model() missing 1 required positional argument: 'model'"
     ]
    }
   ],
   "source": [
    "submit_for_model(model)"
   ]
  },
  {
   "cell_type": "markdown",
   "id": "a9c8348f",
   "metadata": {},
   "source": [
    "## Try some more features"
   ]
  },
  {
   "cell_type": "code",
   "execution_count": 126,
   "id": "8e301b05",
   "metadata": {},
   "outputs": [],
   "source": [
    "def data_transform(data):\n",
    "    data['fsum'] = data[feature_cols].sum(axis=1)\n",
    "    data['min'] = data[feature_cols].min(axis=1)\n",
    "    data['mean'] = 0.1 * data [feature_cols].mean(axis=1)\n",
    "    data['median'] = 0.1 * data[feature_cols].median(axis=1)\n",
    "    data['max'] = data[feature_cols].max(axis=1)\n",
    "    data['std'] = data[feature_cols].std(axis=1)\n",
    "    data['q1'] = data[feature_cols].quantile(0.25,axis=1)\n",
    "    data['q3'] = data[feature_cols].quantile(0.75,axis=1)\n",
    "    data['iqr'] = data['q3'] - data['q1']\n",
    "    data[\"sum_features_in_range\"] = data[feature_cols].sum(axis=1).isin(np.arange(72, 76))\n",
    "    data['range_features'] = data['max'] - data['min']\n",
    "    data['variance_features'] = data[feature_cols].var(axis=1)\n",
    "    data['skewness_features'] = data[feature_cols].skew(axis=1)\n",
    "    data['kurtosis_features'] = data[feature_cols].kurtosis(axis=1)\n",
    "    \n",
    "    return data"
   ]
  },
  {
   "cell_type": "code",
   "execution_count": 138,
   "id": "c1461e46",
   "metadata": {},
   "outputs": [
    {
     "name": "stderr",
     "output_type": "stream",
     "text": [
      "/var/folders/t6/1sf85j5s5pbgsfpgxrk8t3m00000gn/T/ipykernel_88303/4192651606.py:2: SettingWithCopyWarning: \n",
      "A value is trying to be set on a copy of a slice from a DataFrame.\n",
      "Try using .loc[row_indexer,col_indexer] = value instead\n",
      "\n",
      "See the caveats in the documentation: https://pandas.pydata.org/pandas-docs/stable/user_guide/indexing.html#returning-a-view-versus-a-copy\n",
      "  data['fsum'] = data[feature_cols].sum(axis=1)\n"
     ]
    }
   ],
   "source": [
    "X = data_transform(X)"
   ]
  },
  {
   "cell_type": "code",
   "execution_count": 130,
   "id": "5bde66be",
   "metadata": {},
   "outputs": [],
   "source": [
    "X_train, X_test, y_train, y_test = train_test_split(X, y, test_size = 0.3)"
   ]
  },
  {
   "cell_type": "code",
   "execution_count": 131,
   "id": "0f77a63f",
   "metadata": {},
   "outputs": [
    {
     "data": {
      "text/plain": [
       "0.8700485390833796"
      ]
     },
     "execution_count": 131,
     "metadata": {},
     "output_type": "execute_result"
    }
   ],
   "source": [
    "model = CatBoostRegressor(verbose=False, allow_writing_files=False)\n",
    "model.fit(X_train, y_train)\n",
    "model.score(X_test, y_test)"
   ]
  },
  {
   "cell_type": "code",
   "execution_count": 101,
   "id": "57bf022e",
   "metadata": {},
   "outputs": [
    {
     "data": {
      "text/plain": [
       "[('q1', 0.057575928985641976),\n",
       " ('AgriculturalPractices', 0.06284734409085407),\n",
       " ('ClimateChange', 0.06794894194792084),\n",
       " ('PopulationScore', 0.06814063811587669),\n",
       " ('range_features', 0.06951819213033114),\n",
       " ('CoastalVulnerability', 0.07264697899145503),\n",
       " ('q3', 0.07361523558053501),\n",
       " ('PoliticalFactors', 0.07427758562345259),\n",
       " ('WetlandLoss', 0.0747141546450918),\n",
       " ('min', 0.0755899416922587),\n",
       " ('Urbanization', 0.07659574101726255),\n",
       " ('Deforestation', 0.07805270067761026),\n",
       " ('DrainageSystems', 0.0807244742270824),\n",
       " ('DeterioratingInfrastructure', 0.08199637750049923),\n",
       " ('median', 0.08329920130652134),\n",
       " ('RiverManagement', 0.08382104480120607),\n",
       " ('DamsQuality', 0.08463866422156933),\n",
       " ('Landslides', 0.08538333362813007),\n",
       " ('Watersheds', 0.08545943859260675),\n",
       " ('TopographyDrainage', 0.09251321867875172),\n",
       " ('Encroachments', 0.09565746153879628),\n",
       " ('IneffectiveDisasterPreparedness', 0.09692234035331372),\n",
       " ('iqr', 0.10034842005003775),\n",
       " ('InadequatePlanning', 0.10097410481739073),\n",
       " ('Siltation', 0.10427743838902767),\n",
       " ('MonsoonIntensity', 0.14202123463235328),\n",
       " ('kurtosis_features', 0.18155217007981064),\n",
       " ('variance_features', 0.2053475304497288),\n",
       " ('skewness_features', 0.2071673214932994),\n",
       " ('std', 0.32411331663946513),\n",
       " ('sum_features_in_range', 0.39261894670754205),\n",
       " ('max', 0.7760665643451662),\n",
       " ('fsum', 46.86568711432398),\n",
       " ('mean', 48.87788689972546)]"
      ]
     },
     "execution_count": 101,
     "metadata": {},
     "output_type": "execute_result"
    }
   ],
   "source": [
    "importances = [(name, importance) for name, importance in zip(X.columns, model.feature_importances_)]\n",
    "importances = sorted(importances, key=lambda x: x[1])\n",
    "importances"
   ]
  },
  {
   "cell_type": "code",
   "execution_count": 132,
   "id": "352203f5",
   "metadata": {},
   "outputs": [],
   "source": [
    "submission_data = pd.read_csv(\"datasets/playground-series-s4e5/test.csv\")\n",
    "submit_for_model(data_transform(submission_data), model)"
   ]
  },
  {
   "cell_type": "code",
   "execution_count": 133,
   "id": "e1110e4c",
   "metadata": {},
   "outputs": [
    {
     "data": {
      "text/html": [
       "<div>\n",
       "<style scoped>\n",
       "    .dataframe tbody tr th:only-of-type {\n",
       "        vertical-align: middle;\n",
       "    }\n",
       "\n",
       "    .dataframe tbody tr th {\n",
       "        vertical-align: top;\n",
       "    }\n",
       "\n",
       "    .dataframe thead th {\n",
       "        text-align: right;\n",
       "    }\n",
       "</style>\n",
       "<table border=\"1\" class=\"dataframe\">\n",
       "  <thead>\n",
       "    <tr style=\"text-align: right;\">\n",
       "      <th></th>\n",
       "      <th>id</th>\n",
       "      <th>MonsoonIntensity</th>\n",
       "      <th>TopographyDrainage</th>\n",
       "      <th>RiverManagement</th>\n",
       "      <th>Deforestation</th>\n",
       "      <th>Urbanization</th>\n",
       "      <th>ClimateChange</th>\n",
       "      <th>DamsQuality</th>\n",
       "      <th>Siltation</th>\n",
       "      <th>AgriculturalPractices</th>\n",
       "      <th>...</th>\n",
       "      <th>max</th>\n",
       "      <th>std</th>\n",
       "      <th>q1</th>\n",
       "      <th>q3</th>\n",
       "      <th>iqr</th>\n",
       "      <th>sum_features_in_range</th>\n",
       "      <th>range_features</th>\n",
       "      <th>variance_features</th>\n",
       "      <th>skewness_features</th>\n",
       "      <th>kurtosis_features</th>\n",
       "    </tr>\n",
       "  </thead>\n",
       "  <tbody>\n",
       "    <tr>\n",
       "      <th>0</th>\n",
       "      <td>1117957</td>\n",
       "      <td>4</td>\n",
       "      <td>6</td>\n",
       "      <td>3</td>\n",
       "      <td>5</td>\n",
       "      <td>6</td>\n",
       "      <td>7</td>\n",
       "      <td>8</td>\n",
       "      <td>7</td>\n",
       "      <td>8</td>\n",
       "      <td>...</td>\n",
       "      <td>8</td>\n",
       "      <td>1.605091</td>\n",
       "      <td>4.00</td>\n",
       "      <td>7.00</td>\n",
       "      <td>3.00</td>\n",
       "      <td>False</td>\n",
       "      <td>5</td>\n",
       "      <td>2.576316</td>\n",
       "      <td>0.069366</td>\n",
       "      <td>-1.041033</td>\n",
       "    </tr>\n",
       "    <tr>\n",
       "      <th>1</th>\n",
       "      <td>1117958</td>\n",
       "      <td>4</td>\n",
       "      <td>4</td>\n",
       "      <td>2</td>\n",
       "      <td>9</td>\n",
       "      <td>5</td>\n",
       "      <td>5</td>\n",
       "      <td>4</td>\n",
       "      <td>7</td>\n",
       "      <td>5</td>\n",
       "      <td>...</td>\n",
       "      <td>9</td>\n",
       "      <td>1.905670</td>\n",
       "      <td>4.00</td>\n",
       "      <td>5.00</td>\n",
       "      <td>1.00</td>\n",
       "      <td>False</td>\n",
       "      <td>8</td>\n",
       "      <td>3.631579</td>\n",
       "      <td>0.507005</td>\n",
       "      <td>0.630540</td>\n",
       "    </tr>\n",
       "    <tr>\n",
       "      <th>2</th>\n",
       "      <td>1117959</td>\n",
       "      <td>1</td>\n",
       "      <td>3</td>\n",
       "      <td>6</td>\n",
       "      <td>5</td>\n",
       "      <td>7</td>\n",
       "      <td>2</td>\n",
       "      <td>4</td>\n",
       "      <td>6</td>\n",
       "      <td>4</td>\n",
       "      <td>...</td>\n",
       "      <td>9</td>\n",
       "      <td>2.259483</td>\n",
       "      <td>2.75</td>\n",
       "      <td>6.00</td>\n",
       "      <td>3.25</td>\n",
       "      <td>False</td>\n",
       "      <td>8</td>\n",
       "      <td>5.105263</td>\n",
       "      <td>0.304178</td>\n",
       "      <td>-0.836166</td>\n",
       "    </tr>\n",
       "    <tr>\n",
       "      <th>3</th>\n",
       "      <td>1117960</td>\n",
       "      <td>2</td>\n",
       "      <td>4</td>\n",
       "      <td>4</td>\n",
       "      <td>6</td>\n",
       "      <td>4</td>\n",
       "      <td>5</td>\n",
       "      <td>4</td>\n",
       "      <td>3</td>\n",
       "      <td>4</td>\n",
       "      <td>...</td>\n",
       "      <td>8</td>\n",
       "      <td>1.602629</td>\n",
       "      <td>4.00</td>\n",
       "      <td>6.00</td>\n",
       "      <td>2.00</td>\n",
       "      <td>False</td>\n",
       "      <td>6</td>\n",
       "      <td>2.568421</td>\n",
       "      <td>0.480767</td>\n",
       "      <td>-0.135914</td>\n",
       "    </tr>\n",
       "    <tr>\n",
       "      <th>4</th>\n",
       "      <td>1117961</td>\n",
       "      <td>6</td>\n",
       "      <td>3</td>\n",
       "      <td>2</td>\n",
       "      <td>4</td>\n",
       "      <td>6</td>\n",
       "      <td>4</td>\n",
       "      <td>5</td>\n",
       "      <td>5</td>\n",
       "      <td>3</td>\n",
       "      <td>...</td>\n",
       "      <td>8</td>\n",
       "      <td>1.602629</td>\n",
       "      <td>3.75</td>\n",
       "      <td>6.00</td>\n",
       "      <td>2.25</td>\n",
       "      <td>False</td>\n",
       "      <td>6</td>\n",
       "      <td>2.568421</td>\n",
       "      <td>0.225040</td>\n",
       "      <td>-0.319886</td>\n",
       "    </tr>\n",
       "    <tr>\n",
       "      <th>...</th>\n",
       "      <td>...</td>\n",
       "      <td>...</td>\n",
       "      <td>...</td>\n",
       "      <td>...</td>\n",
       "      <td>...</td>\n",
       "      <td>...</td>\n",
       "      <td>...</td>\n",
       "      <td>...</td>\n",
       "      <td>...</td>\n",
       "      <td>...</td>\n",
       "      <td>...</td>\n",
       "      <td>...</td>\n",
       "      <td>...</td>\n",
       "      <td>...</td>\n",
       "      <td>...</td>\n",
       "      <td>...</td>\n",
       "      <td>...</td>\n",
       "      <td>...</td>\n",
       "      <td>...</td>\n",
       "      <td>...</td>\n",
       "      <td>...</td>\n",
       "    </tr>\n",
       "    <tr>\n",
       "      <th>745300</th>\n",
       "      <td>1863257</td>\n",
       "      <td>5</td>\n",
       "      <td>4</td>\n",
       "      <td>8</td>\n",
       "      <td>3</td>\n",
       "      <td>5</td>\n",
       "      <td>4</td>\n",
       "      <td>4</td>\n",
       "      <td>5</td>\n",
       "      <td>5</td>\n",
       "      <td>...</td>\n",
       "      <td>8</td>\n",
       "      <td>1.454575</td>\n",
       "      <td>4.00</td>\n",
       "      <td>5.25</td>\n",
       "      <td>1.25</td>\n",
       "      <td>False</td>\n",
       "      <td>7</td>\n",
       "      <td>2.115789</td>\n",
       "      <td>-0.328351</td>\n",
       "      <td>1.873119</td>\n",
       "    </tr>\n",
       "    <tr>\n",
       "      <th>745301</th>\n",
       "      <td>1863258</td>\n",
       "      <td>4</td>\n",
       "      <td>4</td>\n",
       "      <td>2</td>\n",
       "      <td>12</td>\n",
       "      <td>4</td>\n",
       "      <td>3</td>\n",
       "      <td>4</td>\n",
       "      <td>3</td>\n",
       "      <td>5</td>\n",
       "      <td>...</td>\n",
       "      <td>12</td>\n",
       "      <td>2.089447</td>\n",
       "      <td>3.00</td>\n",
       "      <td>5.00</td>\n",
       "      <td>2.00</td>\n",
       "      <td>False</td>\n",
       "      <td>10</td>\n",
       "      <td>4.365789</td>\n",
       "      <td>2.674538</td>\n",
       "      <td>9.159246</td>\n",
       "    </tr>\n",
       "    <tr>\n",
       "      <th>745302</th>\n",
       "      <td>1863259</td>\n",
       "      <td>5</td>\n",
       "      <td>7</td>\n",
       "      <td>9</td>\n",
       "      <td>5</td>\n",
       "      <td>5</td>\n",
       "      <td>6</td>\n",
       "      <td>7</td>\n",
       "      <td>5</td>\n",
       "      <td>5</td>\n",
       "      <td>...</td>\n",
       "      <td>11</td>\n",
       "      <td>2.339591</td>\n",
       "      <td>5.00</td>\n",
       "      <td>7.00</td>\n",
       "      <td>2.00</td>\n",
       "      <td>False</td>\n",
       "      <td>8</td>\n",
       "      <td>5.473684</td>\n",
       "      <td>1.041164</td>\n",
       "      <td>0.357118</td>\n",
       "    </tr>\n",
       "    <tr>\n",
       "      <th>745303</th>\n",
       "      <td>1863260</td>\n",
       "      <td>4</td>\n",
       "      <td>7</td>\n",
       "      <td>6</td>\n",
       "      <td>3</td>\n",
       "      <td>5</td>\n",
       "      <td>2</td>\n",
       "      <td>3</td>\n",
       "      <td>8</td>\n",
       "      <td>6</td>\n",
       "      <td>...</td>\n",
       "      <td>8</td>\n",
       "      <td>1.954078</td>\n",
       "      <td>3.75</td>\n",
       "      <td>7.00</td>\n",
       "      <td>3.25</td>\n",
       "      <td>False</td>\n",
       "      <td>6</td>\n",
       "      <td>3.818421</td>\n",
       "      <td>-0.360800</td>\n",
       "      <td>-0.973613</td>\n",
       "    </tr>\n",
       "    <tr>\n",
       "      <th>745304</th>\n",
       "      <td>1863261</td>\n",
       "      <td>4</td>\n",
       "      <td>2</td>\n",
       "      <td>5</td>\n",
       "      <td>3</td>\n",
       "      <td>8</td>\n",
       "      <td>4</td>\n",
       "      <td>5</td>\n",
       "      <td>3</td>\n",
       "      <td>5</td>\n",
       "      <td>...</td>\n",
       "      <td>10</td>\n",
       "      <td>2.294157</td>\n",
       "      <td>3.00</td>\n",
       "      <td>6.00</td>\n",
       "      <td>3.00</td>\n",
       "      <td>False</td>\n",
       "      <td>8</td>\n",
       "      <td>5.263158</td>\n",
       "      <td>0.755542</td>\n",
       "      <td>-0.211608</td>\n",
       "    </tr>\n",
       "  </tbody>\n",
       "</table>\n",
       "<p>745305 rows × 35 columns</p>\n",
       "</div>"
      ],
      "text/plain": [
       "             id  MonsoonIntensity  TopographyDrainage  RiverManagement   \n",
       "0       1117957                 4                   6                3  \\\n",
       "1       1117958                 4                   4                2   \n",
       "2       1117959                 1                   3                6   \n",
       "3       1117960                 2                   4                4   \n",
       "4       1117961                 6                   3                2   \n",
       "...         ...               ...                 ...              ...   \n",
       "745300  1863257                 5                   4                8   \n",
       "745301  1863258                 4                   4                2   \n",
       "745302  1863259                 5                   7                9   \n",
       "745303  1863260                 4                   7                6   \n",
       "745304  1863261                 4                   2                5   \n",
       "\n",
       "        Deforestation  Urbanization  ClimateChange  DamsQuality  Siltation   \n",
       "0                   5             6              7            8          7  \\\n",
       "1                   9             5              5            4          7   \n",
       "2                   5             7              2            4          6   \n",
       "3                   6             4              5            4          3   \n",
       "4                   4             6              4            5          5   \n",
       "...               ...           ...            ...          ...        ...   \n",
       "745300              3             5              4            4          5   \n",
       "745301             12             4              3            4          3   \n",
       "745302              5             5              6            7          5   \n",
       "745303              3             5              2            3          8   \n",
       "745304              3             8              4            5          3   \n",
       "\n",
       "        AgriculturalPractices  ...  max       std    q1    q3   iqr   \n",
       "0                           8  ...    8  1.605091  4.00  7.00  3.00  \\\n",
       "1                           5  ...    9  1.905670  4.00  5.00  1.00   \n",
       "2                           4  ...    9  2.259483  2.75  6.00  3.25   \n",
       "3                           4  ...    8  1.602629  4.00  6.00  2.00   \n",
       "4                           3  ...    8  1.602629  3.75  6.00  2.25   \n",
       "...                       ...  ...  ...       ...   ...   ...   ...   \n",
       "745300                      5  ...    8  1.454575  4.00  5.25  1.25   \n",
       "745301                      5  ...   12  2.089447  3.00  5.00  2.00   \n",
       "745302                      5  ...   11  2.339591  5.00  7.00  2.00   \n",
       "745303                      6  ...    8  1.954078  3.75  7.00  3.25   \n",
       "745304                      5  ...   10  2.294157  3.00  6.00  3.00   \n",
       "\n",
       "        sum_features_in_range  range_features  variance_features   \n",
       "0                       False               5           2.576316  \\\n",
       "1                       False               8           3.631579   \n",
       "2                       False               8           5.105263   \n",
       "3                       False               6           2.568421   \n",
       "4                       False               6           2.568421   \n",
       "...                       ...             ...                ...   \n",
       "745300                  False               7           2.115789   \n",
       "745301                  False              10           4.365789   \n",
       "745302                  False               8           5.473684   \n",
       "745303                  False               6           3.818421   \n",
       "745304                  False               8           5.263158   \n",
       "\n",
       "        skewness_features  kurtosis_features  \n",
       "0                0.069366          -1.041033  \n",
       "1                0.507005           0.630540  \n",
       "2                0.304178          -0.836166  \n",
       "3                0.480767          -0.135914  \n",
       "4                0.225040          -0.319886  \n",
       "...                   ...                ...  \n",
       "745300          -0.328351           1.873119  \n",
       "745301           2.674538           9.159246  \n",
       "745302           1.041164           0.357118  \n",
       "745303          -0.360800          -0.973613  \n",
       "745304           0.755542          -0.211608  \n",
       "\n",
       "[745305 rows x 35 columns]"
      ]
     },
     "execution_count": 133,
     "metadata": {},
     "output_type": "execute_result"
    }
   ],
   "source": [
    "submission_data"
   ]
  },
  {
   "cell_type": "markdown",
   "id": "83a974e5",
   "metadata": {},
   "source": [
    "## Introduce additional data"
   ]
  },
  {
   "cell_type": "code",
   "execution_count": 139,
   "id": "10a758e6",
   "metadata": {},
   "outputs": [],
   "source": [
    "additional = pd.read_csv(\"datasets/playground-series-s4e5/flood.csv\")\n",
    "additional_X = additional[feature_cols]\n",
    "additional_y = additional[\"FloodProbability\"]"
   ]
  },
  {
   "cell_type": "code",
   "execution_count": 140,
   "id": "3d726b87",
   "metadata": {},
   "outputs": [],
   "source": [
    "additional_X = data_transform(additional_X)\n",
    "X = pd.concat((X, additional_X))\n",
    "y = pd.concat((y, additional_y))"
   ]
  },
  {
   "cell_type": "code",
   "execution_count": 142,
   "id": "0616395e",
   "metadata": {},
   "outputs": [],
   "source": [
    "X_train, X_test, y_train, y_test = train_test_split(X, y, test_size = 0.3)"
   ]
  },
  {
   "cell_type": "code",
   "execution_count": 143,
   "id": "a3f8b9f6",
   "metadata": {},
   "outputs": [
    {
     "data": {
      "text/plain": [
       "0.8706213392823796"
      ]
     },
     "execution_count": 143,
     "metadata": {},
     "output_type": "execute_result"
    }
   ],
   "source": [
    "model = CatBoostRegressor(verbose=False, allow_writing_files=False)\n",
    "model.fit(X_train, y_train)\n",
    "model.score(X_test, y_test)"
   ]
  },
  {
   "cell_type": "code",
   "execution_count": 144,
   "id": "53cc5efc",
   "metadata": {},
   "outputs": [],
   "source": [
    "submit_for_model(data_transform(submission_data), model)"
   ]
  },
  {
   "cell_type": "code",
   "execution_count": null,
   "id": "9ee84783",
   "metadata": {},
   "outputs": [],
   "source": []
  }
 ],
 "metadata": {
  "kernelspec": {
   "display_name": "Python 3 (ipykernel)",
   "language": "python",
   "name": "python3"
  },
  "language_info": {
   "codemirror_mode": {
    "name": "ipython",
    "version": 3
   },
   "file_extension": ".py",
   "mimetype": "text/x-python",
   "name": "python",
   "nbconvert_exporter": "python",
   "pygments_lexer": "ipython3",
   "version": "3.10.10"
  }
 },
 "nbformat": 4,
 "nbformat_minor": 5
}
